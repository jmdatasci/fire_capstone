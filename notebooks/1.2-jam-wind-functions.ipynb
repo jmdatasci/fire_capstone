{
 "cells": [
  {
   "cell_type": "raw",
   "metadata": {},
   "source": [
    "# Main script to calculate wind direction relationship from fire to patient\n",
    "\n",
    "Modules: N/A <br>\n",
    "Author: Jordan Meyer <br>\n",
    "Email: jordan.meyer@berkeley.edu <br>\n",
    "Date created: Feb 18, 2023 <br>\n",
    "\n",
    "**Citations (data sources)**\n",
    "\n",
    "``How to compute wind speed and direction:``\n",
    "\n",
    "6. https://stackoverflow.com/questions/21484558/how-to-calculate-wind-direction-from-u-and-v-wind-components-in-r\n",
    "7. https://github.com/blaylockbk/Ute_WRF/blob/master/functions/wind_calcs.py\n",
    "\n",
    "``Wind speed and direction intuition:``\n",
    "\n",
    "8. http://colaweb.gmu.edu/dev/clim301/lectures/wind/wind-uv\n",
    "9. https://www.earthdatascience.org/courses/use-data-open-source-python/intro-vector-data-python/spatial-data-vector-shapefiles/intro-to-coordinate-reference-systems-python/\n",
    "\n",
    "``To create maps of this wind data:``\n",
    "\n",
    "and also used to provide intuition for winddir and windspeed\n",
    "\n",
    "10. https://disc.gsfc.nasa.gov/information/howto?title=How%20to%20calculate%20and%20plot%20wind%20speed%20using%20MERRA-2%20wind%20component%20data%20using%20Python\n",
    "\n",
    "\n",
    "**Citations (persons)**\n",
    "1. Cornelia Ilin \n",
    "\n",
    "**Preferred environment**\n",
    "1. Code written in Jupyter Notebooks"
   ]
  },
  {
   "cell_type": "markdown",
   "metadata": {},
   "source": [
    "### Step 1: Import packages"
   ]
  },
  {
   "cell_type": "code",
   "execution_count": 21,
   "metadata": {
    "tags": []
   },
   "outputs": [],
   "source": [
    "import pandas as pd\n",
    "import numpy as np\n",
    "import netCDF4 as ncdf\n",
    "import os\n",
    "from datetime import date, timedelta\n",
    "from math import pi\n",
    "import fiona\n",
    "\n",
    "import matplotlib.pyplot as plt\n",
    "import cartopy.crs as ccrs\n",
    "from cartopy.mpl.gridliner import LONGITUDE_FORMATTER, LATITUDE_FORMATTER\n",
    "import matplotlib.ticker as mticker\n",
    "from mpl_toolkits.axes_grid1.axes_divider import make_axes_locatable\n",
    "\n",
    "# geography\n",
    "import geopandas as gpd\n",
    "import osmnx as ox\n",
    "import shapely\n",
    "from shapely.geometry import Point\n",
    "import contextily as ctx \n",
    "\n",
    "#Moved from sklearn.neighbors to sklearn.metrics following their package change\n",
    "import sklearn.metrics\n",
    "dist = sklearn.metrics.DistanceMetric.get_metric(\n",
    "    'haversine'\n",
    ")\n",
    "\n",
    "# ignore warnings\n",
    "import warnings\n",
    "warnings.filterwarnings(\n",
    "    'ignore'\n",
    ")\n"
   ]
  },
  {
   "cell_type": "markdown",
   "metadata": {},
   "source": [
    "### Step 2: Define working directories"
   ]
  },
  {
   "cell_type": "code",
   "execution_count": 2,
   "metadata": {
    "tags": []
   },
   "outputs": [],
   "source": [
    "#Local directories on my machine (not gdrive)\n",
    "in_dir_zip_shapes = '../data/raw/wind/tl_2010_06_zcta510/'\n",
    "in_dir = '../data/processed/'\n",
    "in_health = '../data/raw/health/'\n",
    "out_dir = '../data/processed/'"
   ]
  },
  {
   "cell_type": "code",
   "execution_count": 22,
   "metadata": {
    "tags": []
   },
   "outputs": [],
   "source": [
    "# #Local directories on windows machine (not gdrive)\n",
    "# in_dir_zip_shapes = 'tl_2010_06_zcta510\\\\'\n",
    "# in_dir = 'wind\\\\ca only\\\\'\n",
    "# in_health = 'health\\\\'\n",
    "# out_dir = 'wind\\\\clean\\\\'"
   ]
  },
  {
   "cell_type": "markdown",
   "metadata": {},
   "source": [
    "### Step 3: Read data"
   ]
  },
  {
   "cell_type": "markdown",
   "metadata": {},
   "source": [
    "``wind``"
   ]
  },
  {
   "cell_type": "code",
   "execution_count": 4,
   "metadata": {
    "tags": []
   },
   "outputs": [
    {
     "data": {
      "text/html": [
       "<div>\n",
       "<style scoped>\n",
       "    .dataframe tbody tr th:only-of-type {\n",
       "        vertical-align: middle;\n",
       "    }\n",
       "\n",
       "    .dataframe tbody tr th {\n",
       "        vertical-align: top;\n",
       "    }\n",
       "\n",
       "    .dataframe thead th {\n",
       "        text-align: right;\n",
       "    }\n",
       "</style>\n",
       "<table border=\"1\" class=\"dataframe\">\n",
       "  <thead>\n",
       "    <tr style=\"text-align: right;\">\n",
       "      <th></th>\n",
       "      <th>Unnamed: 0</th>\n",
       "      <th>lat</th>\n",
       "      <th>lon</th>\n",
       "      <th>ZCTA10</th>\n",
       "      <th>u</th>\n",
       "      <th>v</th>\n",
       "      <th>wdir</th>\n",
       "      <th>wspd</th>\n",
       "      <th>year_month</th>\n",
       "      <th>year</th>\n",
       "      <th>month</th>\n",
       "    </tr>\n",
       "  </thead>\n",
       "  <tbody>\n",
       "    <tr>\n",
       "      <th>0</th>\n",
       "      <td>0</td>\n",
       "      <td>37.465</td>\n",
       "      <td>-117.936</td>\n",
       "      <td>89010</td>\n",
       "      <td>0.992558</td>\n",
       "      <td>0.124684</td>\n",
       "      <td>7.159901</td>\n",
       "      <td>1.000358</td>\n",
       "      <td>200601</td>\n",
       "      <td>2006</td>\n",
       "      <td>1</td>\n",
       "    </tr>\n",
       "    <tr>\n",
       "      <th>1</th>\n",
       "      <td>1</td>\n",
       "      <td>35.396</td>\n",
       "      <td>-116.322</td>\n",
       "      <td>89019</td>\n",
       "      <td>0.088867</td>\n",
       "      <td>-0.147450</td>\n",
       "      <td>301.077087</td>\n",
       "      <td>0.172160</td>\n",
       "      <td>200601</td>\n",
       "      <td>2006</td>\n",
       "      <td>1</td>\n",
       "    </tr>\n",
       "    <tr>\n",
       "      <th>2</th>\n",
       "      <td>2</td>\n",
       "      <td>36.161</td>\n",
       "      <td>-116.139</td>\n",
       "      <td>89060</td>\n",
       "      <td>-0.319009</td>\n",
       "      <td>-0.046086</td>\n",
       "      <td>188.220367</td>\n",
       "      <td>0.322321</td>\n",
       "      <td>200601</td>\n",
       "      <td>2006</td>\n",
       "      <td>1</td>\n",
       "    </tr>\n",
       "    <tr>\n",
       "      <th>3</th>\n",
       "      <td>3</td>\n",
       "      <td>35.957</td>\n",
       "      <td>-115.897</td>\n",
       "      <td>89061</td>\n",
       "      <td>-0.106072</td>\n",
       "      <td>-0.459862</td>\n",
       "      <td>257.011322</td>\n",
       "      <td>0.471937</td>\n",
       "      <td>200601</td>\n",
       "      <td>2006</td>\n",
       "      <td>1</td>\n",
       "    </tr>\n",
       "    <tr>\n",
       "      <th>4</th>\n",
       "      <td>4</td>\n",
       "      <td>39.520</td>\n",
       "      <td>-120.032</td>\n",
       "      <td>89439</td>\n",
       "      <td>0.707161</td>\n",
       "      <td>0.798291</td>\n",
       "      <td>48.464073</td>\n",
       "      <td>1.066463</td>\n",
       "      <td>200601</td>\n",
       "      <td>2006</td>\n",
       "      <td>1</td>\n",
       "    </tr>\n",
       "  </tbody>\n",
       "</table>\n",
       "</div>"
      ],
      "text/plain": [
       "   Unnamed: 0     lat      lon  ZCTA10         u         v        wdir  \\\n",
       "0           0  37.465 -117.936   89010  0.992558  0.124684    7.159901   \n",
       "1           1  35.396 -116.322   89019  0.088867 -0.147450  301.077087   \n",
       "2           2  36.161 -116.139   89060 -0.319009 -0.046086  188.220367   \n",
       "3           3  35.957 -115.897   89061 -0.106072 -0.459862  257.011322   \n",
       "4           4  39.520 -120.032   89439  0.707161  0.798291   48.464073   \n",
       "\n",
       "       wspd  year_month  year  month  \n",
       "0  1.000358      200601  2006      1  \n",
       "1  0.172160      200601  2006      1  \n",
       "2  0.322321      200601  2006      1  \n",
       "3  0.471937      200601  2006      1  \n",
       "4  1.066463      200601  2006      1  "
      ]
     },
     "execution_count": 4,
     "metadata": {},
     "output_type": "execute_result"
    }
   ],
   "source": [
    "df = pd.read_csv(in_dir + \"all_years_wind_data.csv\",index_col=0)\n",
    "\n",
    "df.head()"
   ]
  },
  {
   "cell_type": "code",
   "execution_count": 13,
   "metadata": {
    "tags": []
   },
   "outputs": [],
   "source": [
    "test_df = gdf[['lat','lon','u','v','wdir','wspd','geometry']].head(10)"
   ]
  },
  {
   "cell_type": "code",
   "execution_count": 14,
   "metadata": {
    "tags": []
   },
   "outputs": [
    {
     "data": {
      "text/html": [
       "<div>\n",
       "<style scoped>\n",
       "    .dataframe tbody tr th:only-of-type {\n",
       "        vertical-align: middle;\n",
       "    }\n",
       "\n",
       "    .dataframe tbody tr th {\n",
       "        vertical-align: top;\n",
       "    }\n",
       "\n",
       "    .dataframe thead th {\n",
       "        text-align: right;\n",
       "    }\n",
       "</style>\n",
       "<table border=\"1\" class=\"dataframe\">\n",
       "  <thead>\n",
       "    <tr style=\"text-align: right;\">\n",
       "      <th></th>\n",
       "      <th>lat</th>\n",
       "      <th>lon</th>\n",
       "      <th>u</th>\n",
       "      <th>v</th>\n",
       "      <th>wdir</th>\n",
       "      <th>wspd</th>\n",
       "      <th>geometry</th>\n",
       "    </tr>\n",
       "  </thead>\n",
       "  <tbody>\n",
       "    <tr>\n",
       "      <th>0</th>\n",
       "      <td>37.465</td>\n",
       "      <td>-117.936</td>\n",
       "      <td>0.992558</td>\n",
       "      <td>0.124684</td>\n",
       "      <td>7.159901</td>\n",
       "      <td>1.000358</td>\n",
       "      <td>POINT (-13128575.466 4504121.513)</td>\n",
       "    </tr>\n",
       "    <tr>\n",
       "      <th>1</th>\n",
       "      <td>35.396</td>\n",
       "      <td>-116.322</td>\n",
       "      <td>0.088867</td>\n",
       "      <td>-0.147450</td>\n",
       "      <td>301.077087</td>\n",
       "      <td>0.172160</td>\n",
       "      <td>POINT (-12948905.808 4217827.033)</td>\n",
       "    </tr>\n",
       "    <tr>\n",
       "      <th>2</th>\n",
       "      <td>36.161</td>\n",
       "      <td>-116.139</td>\n",
       "      <td>-0.319009</td>\n",
       "      <td>-0.046086</td>\n",
       "      <td>188.220367</td>\n",
       "      <td>0.322321</td>\n",
       "      <td>POINT (-12928534.341 4322797.398)</td>\n",
       "    </tr>\n",
       "    <tr>\n",
       "      <th>3</th>\n",
       "      <td>35.957</td>\n",
       "      <td>-115.897</td>\n",
       "      <td>-0.106072</td>\n",
       "      <td>-0.459862</td>\n",
       "      <td>257.011322</td>\n",
       "      <td>0.471937</td>\n",
       "      <td>POINT (-12901595.024 4294706.250)</td>\n",
       "    </tr>\n",
       "    <tr>\n",
       "      <th>4</th>\n",
       "      <td>39.520</td>\n",
       "      <td>-120.032</td>\n",
       "      <td>0.707161</td>\n",
       "      <td>0.798291</td>\n",
       "      <td>48.464073</td>\n",
       "      <td>1.066463</td>\n",
       "      <td>POINT (-13361901.119 4796433.202)</td>\n",
       "    </tr>\n",
       "    <tr>\n",
       "      <th>5</th>\n",
       "      <td>33.959</td>\n",
       "      <td>-118.247</td>\n",
       "      <td>-0.667049</td>\n",
       "      <td>-1.111095</td>\n",
       "      <td>239.021393</td>\n",
       "      <td>1.295950</td>\n",
       "      <td>POINT (-13163195.828 4023298.056)</td>\n",
       "    </tr>\n",
       "    <tr>\n",
       "      <th>6</th>\n",
       "      <td>33.937</td>\n",
       "      <td>-118.229</td>\n",
       "      <td>-0.667049</td>\n",
       "      <td>-1.111095</td>\n",
       "      <td>239.021393</td>\n",
       "      <td>1.295950</td>\n",
       "      <td>POINT (-13161192.077 4020345.799)</td>\n",
       "    </tr>\n",
       "    <tr>\n",
       "      <th>7</th>\n",
       "      <td>33.938</td>\n",
       "      <td>-118.281</td>\n",
       "      <td>-0.667049</td>\n",
       "      <td>-1.111095</td>\n",
       "      <td>239.021393</td>\n",
       "      <td>1.295950</td>\n",
       "      <td>POINT (-13166980.691 4020479.976)</td>\n",
       "    </tr>\n",
       "    <tr>\n",
       "      <th>8</th>\n",
       "      <td>34.069</td>\n",
       "      <td>-118.338</td>\n",
       "      <td>-0.667049</td>\n",
       "      <td>-1.111095</td>\n",
       "      <td>239.021393</td>\n",
       "      <td>1.295950</td>\n",
       "      <td>POINT (-13173325.901 4038070.808)</td>\n",
       "    </tr>\n",
       "    <tr>\n",
       "      <th>9</th>\n",
       "      <td>34.055</td>\n",
       "      <td>-118.328</td>\n",
       "      <td>-0.667049</td>\n",
       "      <td>-1.111095</td>\n",
       "      <td>239.021393</td>\n",
       "      <td>1.295950</td>\n",
       "      <td>POINT (-13172212.707 4036189.575)</td>\n",
       "    </tr>\n",
       "  </tbody>\n",
       "</table>\n",
       "</div>"
      ],
      "text/plain": [
       "      lat      lon         u         v        wdir      wspd  \\\n",
       "0  37.465 -117.936  0.992558  0.124684    7.159901  1.000358   \n",
       "1  35.396 -116.322  0.088867 -0.147450  301.077087  0.172160   \n",
       "2  36.161 -116.139 -0.319009 -0.046086  188.220367  0.322321   \n",
       "3  35.957 -115.897 -0.106072 -0.459862  257.011322  0.471937   \n",
       "4  39.520 -120.032  0.707161  0.798291   48.464073  1.066463   \n",
       "5  33.959 -118.247 -0.667049 -1.111095  239.021393  1.295950   \n",
       "6  33.937 -118.229 -0.667049 -1.111095  239.021393  1.295950   \n",
       "7  33.938 -118.281 -0.667049 -1.111095  239.021393  1.295950   \n",
       "8  34.069 -118.338 -0.667049 -1.111095  239.021393  1.295950   \n",
       "9  34.055 -118.328 -0.667049 -1.111095  239.021393  1.295950   \n",
       "\n",
       "                            geometry  \n",
       "0  POINT (-13128575.466 4504121.513)  \n",
       "1  POINT (-12948905.808 4217827.033)  \n",
       "2  POINT (-12928534.341 4322797.398)  \n",
       "3  POINT (-12901595.024 4294706.250)  \n",
       "4  POINT (-13361901.119 4796433.202)  \n",
       "5  POINT (-13163195.828 4023298.056)  \n",
       "6  POINT (-13161192.077 4020345.799)  \n",
       "7  POINT (-13166980.691 4020479.976)  \n",
       "8  POINT (-13173325.901 4038070.808)  \n",
       "9  POINT (-13172212.707 4036189.575)  "
      ]
     },
     "execution_count": 14,
     "metadata": {},
     "output_type": "execute_result"
    }
   ],
   "source": [
    "test_df"
   ]
  },
  {
   "cell_type": "markdown",
   "metadata": {},
   "source": [
    "#### Haversine"
   ]
  },
  {
   "cell_type": "code",
   "execution_count": 12,
   "metadata": {
    "tags": []
   },
   "outputs": [],
   "source": [
    "# Radius of earth in km\n",
    "r = 6378.100"
   ]
  },
  {
   "cell_type": "code",
   "execution_count": 31,
   "metadata": {
    "tags": []
   },
   "outputs": [
    {
     "data": {
      "text/plain": [
       "334.4335870463861"
      ]
     },
     "execution_count": 31,
     "metadata": {},
     "output_type": "execute_result"
    }
   ],
   "source": [
    "def hav_dist(a,b):\n",
    "    \"\"\"\n",
    "    Calculate the Haversine distance between two points of lat lon\n",
    "    \"\"\"\n",
    "    \n",
    "    pa_lat = a['lat']\n",
    "    pa_lon = a['lon']\n",
    "    pb_lat = b['lat']\n",
    "    pb_lon = b['lon']\n",
    "\n",
    "    s_lat = np.sin((np.deg2rad(pb_lat - pa_lat))/2)**2 \n",
    "    s_lon = np.sin((np.deg2rad(pb_lon - pa_lon))/2)**2\n",
    "    c_lat = np.cos(np.deg2rad(pb_lat)) * np.cos(np.deg2rad(pa_lat)) \n",
    "    tot = s_lat+s_lon*c_lat\n",
    "    dist = 2*r*np.arcsin(np.sqrt(tot)) * 0.621371\n",
    "    \n",
    "    return dist\n",
    "\n",
    "hav_dist(test_df.iloc[4,:],test_df.iloc[3,:]) "
   ]
  },
  {
   "cell_type": "code",
   "execution_count": 42,
   "metadata": {
    "tags": []
   },
   "outputs": [
    {
     "data": {
      "text/plain": [
       "156.8467318755927"
      ]
     },
     "execution_count": 42,
     "metadata": {},
     "output_type": "execute_result"
    }
   ],
   "source": [
    "def bearing(a,b):\n",
    "    \"\"\"\n",
    "    Calculate the bearing from point b to point a\n",
    "    \"\"\"\n",
    "    \n",
    "    pa_lat = a['lat']\n",
    "    pa_lon = a['lon']\n",
    "    pb_lat = b['lat']\n",
    "    pb_lon = b['lon']\n",
    "    \n",
    "    if pb_lon > pa_lon:\n",
    "        d_X = -np.cos(pa_lat) * np.sin(pa_lon - pb_lon)\n",
    "    else:\n",
    "        d_X = np.cos(pa_lat) * np.sin(pa_lon - pb_lon)\n",
    "\n",
    "    if pb_lat >pb_lon:\n",
    "        d_Y = -np.cos(pb_lat) * np.sin(pa_lat) - np.sin(pb_lat) * np.cos(pa_lat) * np.cos(pa_lon - pb_lon)\n",
    "    else:\n",
    "        d_Y = np.cos(pb_lat) * np.sin(pa_lat) - np.sin(pb_lat) * np.cos(pa_lat) * np.cos(pa_lon - pb_lon)\n",
    "\n",
    "    B_ba = np.arctan2(d_X,d_Y)*(180/np.pi)%360\n",
    "    return B_ba\n",
    "    \n",
    "bearing(test_df.iloc[3,:],test_df.iloc[4,:])"
   ]
  },
  {
   "cell_type": "code",
   "execution_count": 44,
   "metadata": {
    "tags": []
   },
   "outputs": [
    {
     "data": {
      "text/plain": [
       "41.53592367546234"
      ]
     },
     "execution_count": 44,
     "metadata": {},
     "output_type": "execute_result"
    }
   ],
   "source": [
    "def wind_direction(u,v):\n",
    "    \"\"\"\n",
    "    Calculate direction of wind in degrees as bearing angle from true North\n",
    "    \"\"\"\n",
    "    \n",
    "    wind_dir =  np.arctan2(u,v)*(180/np.pi)%360\n",
    "    return wind_dir\n",
    "\n",
    "wind_direction(test_df.iloc[4,:]['u'],test_df.iloc[4,:]['v'])"
   ]
  },
  {
   "cell_type": "code",
   "execution_count": 47,
   "metadata": {
    "tags": []
   },
   "outputs": [
    {
     "data": {
      "text/plain": [
       "0.6796921994440823"
      ]
     },
     "execution_count": 47,
     "metadata": {},
     "output_type": "execute_result"
    }
   ],
   "source": [
    "def interaction(bearing, wdir_ba):\n",
    "    \"\"\"\n",
    "    Calculate interaction term of wind and bearing based on difference of angles.\n",
    "    \"\"\"\n",
    "    \n",
    "    angle_diff = np.max([bearing,wdir_ba]) - np.min([bearing,wdir_ba])\n",
    "    if angle_diff >180:\n",
    "        upwind_effect = (angle_diff)/360\n",
    "    else:\n",
    "        upwind_effect = 1-(angle_diff)/360\n",
    "    return upwind_effect\n",
    "\n",
    "interaction(bearing(test_df.iloc[3,:],test_df.iloc[4,:]), wind_direction(test_df.iloc[4,:]['u'],test_df.iloc[4,:]['v']))"
   ]
  },
  {
   "cell_type": "code",
   "execution_count": null,
   "metadata": {},
   "outputs": [],
   "source": []
  },
  {
   "cell_type": "code",
   "execution_count": null,
   "metadata": {},
   "outputs": [],
   "source": []
  },
  {
   "cell_type": "code",
   "execution_count": null,
   "metadata": {},
   "outputs": [],
   "source": []
  },
  {
   "cell_type": "code",
   "execution_count": null,
   "metadata": {},
   "outputs": [],
   "source": []
  },
  {
   "cell_type": "code",
   "execution_count": null,
   "metadata": {},
   "outputs": [],
   "source": []
  },
  {
   "cell_type": "code",
   "execution_count": null,
   "metadata": {},
   "outputs": [],
   "source": []
  },
  {
   "cell_type": "code",
   "execution_count": null,
   "metadata": {},
   "outputs": [],
   "source": []
  },
  {
   "cell_type": "code",
   "execution_count": null,
   "metadata": {},
   "outputs": [],
   "source": []
  },
  {
   "cell_type": "code",
   "execution_count": null,
   "metadata": {},
   "outputs": [],
   "source": []
  },
  {
   "cell_type": "code",
   "execution_count": null,
   "metadata": {},
   "outputs": [],
   "source": []
  },
  {
   "cell_type": "code",
   "execution_count": null,
   "metadata": {},
   "outputs": [],
   "source": []
  },
  {
   "cell_type": "code",
   "execution_count": null,
   "metadata": {},
   "outputs": [],
   "source": []
  },
  {
   "cell_type": "code",
   "execution_count": null,
   "metadata": {},
   "outputs": [],
   "source": []
  }
 ],
 "metadata": {
  "kernelspec": {
   "display_name": "Python 3 (ipykernel)",
   "language": "python",
   "name": "python3"
  },
  "language_info": {
   "codemirror_mode": {
    "name": "ipython",
    "version": 3
   },
   "file_extension": ".py",
   "mimetype": "text/x-python",
   "name": "python",
   "nbconvert_exporter": "python",
   "pygments_lexer": "ipython3",
   "version": "3.11.0"
  }
 },
 "nbformat": 4,
 "nbformat_minor": 4
}
