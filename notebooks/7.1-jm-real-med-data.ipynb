{
 "cells": [
  {
   "cell_type": "markdown",
   "id": "47c12b92",
   "metadata": {
    "id": "47c12b92"
   },
   "source": [
    "# Import Aggregated IV Dataframe and join Medical Data"
   ]
  },
  {
   "cell_type": "code",
   "execution_count": 2,
   "id": "de920d02",
   "metadata": {
    "colab": {
     "base_uri": "https://localhost:8080/",
     "height": 383
    },
    "id": "de920d02",
    "outputId": "a61621a4-7097-44c7-9f2e-d7955e6bce2c",
    "tags": []
   },
   "outputs": [],
   "source": [
    "# import relevant tools\n",
    "import os\n",
    "from datetime import datetime\n",
    "\n",
    "import numpy as np\n",
    "import pandas as pd\n",
    "from faker import Faker\n",
    "\n",
    "fake = Faker()"
   ]
  },
  {
   "cell_type": "markdown",
   "id": "2aacf68f",
   "metadata": {
    "id": "2aacf68f"
   },
   "source": [
    "# Import fire and PM2.5 data"
   ]
  },
  {
   "cell_type": "code",
   "execution_count": 3,
   "id": "mdXNH3_xq15M",
   "metadata": {
    "id": "mdXNH3_xq15M",
    "tags": []
   },
   "outputs": [
    {
     "name": "stdout",
     "output_type": "stream",
     "text": [
      "/Users/jordan/Documents/GitHub/fire_capstone\n",
      "/Users/jordan/Documents/GitHub/fire_capstone/notebooks\n"
     ]
    }
   ],
   "source": [
    "import sys\n",
    "\n",
    "IN_COLAB = \"google.colab\" in sys.modules\n",
    "\n",
    "if IN_COLAB:\n",
    "!pip install geopandas --quiet\n",
    "    from google.colab import drive\n",
    "\n",
    "    drive.mount(\"/content/drive\")\n",
    "    in_dir = (\n",
    "        in_instrument\n",
    "    ) = \"/content/drive/MyDrive/capstone_fire/notebooks/instrument_2/\"\n",
    "    import drive.MyDrive.capstone_fire.modules.deep_ols as deep_ols\n",
    "else:\n",
    "    in_dir = in_instrument = \"../data/instrument_2/\"\n",
    "%cd '..'\n",
    "    import modules.deep_ols as deep_ols\n",
    "    %cd 'notebooks'"
   ]
  },
  {
   "cell_type": "code",
   "execution_count": 44,
   "id": "a9978c64",
   "metadata": {
    "id": "a9978c64",
    "tags": []
   },
   "outputs": [],
   "source": [
    "# read in data that contains fire and pm25\n",
    "fd = pd.read_csv(in_instrument + \"finalish_df_6.csv\")\n",
    "suicide_df = pd.read_csv(in_instrument + \"Suicide.csv\")\n",
    "neurotic_df = pd.read_csv(in_instrument + \"Neurotic Disorders.csv\")\n",
    "psychoses_df = pd.read_csv(in_instrument + \"Affective Psychoses.csv\")"
   ]
  },
  {
   "cell_type": "code",
   "execution_count": 49,
   "id": "dacd5698",
   "metadata": {
    "id": "dacd5698",
    "outputId": "0054ab84-8cf2-4a09-bb62-107ffd2d32f6",
    "tags": []
   },
   "outputs": [],
   "source": [
    "def prep_med(df):\n",
    "    df[\"ZCTA\"] = df[\"patzip_year_month\"].map(lambda x: x[:5])\n",
    "    df[\"year\"] = df[\"patzip_year_month\"].map(lambda x: x[6:10])\n",
    "    df[\"month\"] = df[\"patzip_year_month\"].map(\n",
    "        lambda x: \"0\" + str(x[-1]) if int(x[-2:]) < 10 else x[-2:]\n",
    "    )\n",
    "    df[\"year_month\"] = df.apply(lambda x: str(x[\"year\"]) + str(x[\"month\"]), axis=1)\n",
    "    df = df.rename(columns={\"number_of_visits\": str(df.columns[2]).lower()})\n",
    "    df = df.drop(list(df.columns[:3]) + [\"year\", \"month\"], axis=1)\n",
    "    return df  # [['number_of_visits','year','month','year_month']]\n",
    "\n",
    "\n",
    "sf = prep_med(suicide_df)\n",
    "nf = prep_med(neurotic_df)\n",
    "pf = prep_med(psychoses_df)\n",
    "\n",
    "fd.ZCTA = fd.ZCTA.astype(str)\n",
    "fd.year_month = fd.year_month.astype(str)\n",
    "\n",
    "fd1 = fd.merge(sf, on=[\"ZCTA\", \"year_month\"], how='left')\n",
    "fd2 = fd1.merge(nf, on=[\"ZCTA\", \"year_month\"], how='left')\n",
    "df = fd2.merge(pf, on=[\"ZCTA\", \"year_month\"], how='left')\n",
    "df = df.drop_duplicates()"
   ]
  },
  {
   "cell_type": "code",
   "execution_count": 50,
   "id": "62cbc322",
   "metadata": {
    "id": "62cbc322",
    "tags": []
   },
   "outputs": [],
   "source": [
    "df.to_csv(in_instrument + \"final_df_3.csv\")"
   ]
  },
  {
   "cell_type": "code",
   "execution_count": null,
   "id": "ca59ea3e-30cf-4472-900b-b974cb0c3ff3",
   "metadata": {},
   "outputs": [],
   "source": []
  }
 ],
 "metadata": {
  "colab": {
   "provenance": []
  },
  "kernelspec": {
   "display_name": "Python 3 (ipykernel)",
   "language": "python",
   "name": "python3"
  },
  "language_info": {
   "codemirror_mode": {
    "name": "ipython",
    "version": 3
   },
   "file_extension": ".py",
   "mimetype": "text/x-python",
   "name": "python",
   "nbconvert_exporter": "python",
   "pygments_lexer": "ipython3",
   "version": "3.10.9"
  }
 },
 "nbformat": 4,
 "nbformat_minor": 5
}
