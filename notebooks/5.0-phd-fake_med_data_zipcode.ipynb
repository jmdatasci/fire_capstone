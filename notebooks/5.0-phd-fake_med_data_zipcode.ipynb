{
 "cells": [
  {
   "cell_type": "markdown",
   "id": "47c12b92",
   "metadata": {},
   "source": [
    "# Import fire and pm2.5 data and generate fake medical data"
   ]
  },
  {
   "cell_type": "code",
   "execution_count": 1,
   "id": "de920d02",
   "metadata": {},
   "outputs": [],
   "source": [
    "#import relevant tools\n",
    "import numpy as np\n",
    "import pandas as pd\n",
    "from faker import Faker\n",
    "import os\n",
    "from datetime import datetime\n",
    "fake=Faker()\n",
    "#!pip install Faker"
   ]
  },
  {
   "cell_type": "markdown",
   "id": "2aacf68f",
   "metadata": {},
   "source": [
    "# Import fire and PM2.5 data"
   ]
  },
  {
   "cell_type": "code",
   "execution_count": 2,
   "id": "a9978c64",
   "metadata": {},
   "outputs": [],
   "source": [
    "#read in data that contains fire and pm25 \n",
    "fd=pd.read_csv('instrument2.csv') "
   ]
  },
  {
   "cell_type": "code",
   "execution_count": 3,
   "id": "d3d01e8e",
   "metadata": {},
   "outputs": [
    {
     "data": {
      "text/plain": [
       "['.ipynb_checkpoints',\n",
       " 'Fake Data.ipynb',\n",
       " 'fake_med_data.ipynb',\n",
       " 'fake_med_data_03072023.ipynb',\n",
       " 'fake_med_data_03072023_zipcode.ipynb',\n",
       " 'fires_clean_with_zipcodes.csv',\n",
       " 'instrument2.csv']"
      ]
     },
     "execution_count": 3,
     "metadata": {},
     "output_type": "execute_result"
    }
   ],
   "source": [
    "#list all files in directory\n",
    "os.listdir('.')\n"
   ]
  },
  {
   "cell_type": "code",
   "execution_count": 4,
   "id": "dacd5698",
   "metadata": {},
   "outputs": [
    {
     "data": {
      "text/html": [
       "<div>\n",
       "<style scoped>\n",
       "    .dataframe tbody tr th:only-of-type {\n",
       "        vertical-align: middle;\n",
       "    }\n",
       "\n",
       "    .dataframe tbody tr th {\n",
       "        vertical-align: top;\n",
       "    }\n",
       "\n",
       "    .dataframe thead th {\n",
       "        text-align: right;\n",
       "    }\n",
       "</style>\n",
       "<table border=\"1\" class=\"dataframe\">\n",
       "  <thead>\n",
       "    <tr style=\"text-align: right;\">\n",
       "      <th></th>\n",
       "      <th>Unnamed: 0</th>\n",
       "      <th>lat</th>\n",
       "      <th>lon</th>\n",
       "      <th>ZCTA</th>\n",
       "      <th>u</th>\n",
       "      <th>v</th>\n",
       "      <th>wdir</th>\n",
       "      <th>wspd</th>\n",
       "      <th>year_month</th>\n",
       "      <th>GIS_ACRES</th>\n",
       "      <th>DURATION</th>\n",
       "      <th>FIRE_AREA_KM2</th>\n",
       "      <th>pm25</th>\n",
       "      <th>treatment</th>\n",
       "    </tr>\n",
       "  </thead>\n",
       "  <tbody>\n",
       "    <tr>\n",
       "      <th>0</th>\n",
       "      <td>0</td>\n",
       "      <td>37.465</td>\n",
       "      <td>-117.936</td>\n",
       "      <td>89010</td>\n",
       "      <td>0.504258</td>\n",
       "      <td>-0.719008</td>\n",
       "      <td>305.042938</td>\n",
       "      <td>0.878208</td>\n",
       "      <td>199101</td>\n",
       "      <td>NaN</td>\n",
       "      <td>NaN</td>\n",
       "      <td>NaN</td>\n",
       "      <td>12.450976</td>\n",
       "      <td>False</td>\n",
       "    </tr>\n",
       "    <tr>\n",
       "      <th>1</th>\n",
       "      <td>1</td>\n",
       "      <td>35.396</td>\n",
       "      <td>-116.322</td>\n",
       "      <td>89019</td>\n",
       "      <td>-0.172753</td>\n",
       "      <td>-0.946940</td>\n",
       "      <td>259.661102</td>\n",
       "      <td>0.962568</td>\n",
       "      <td>199101</td>\n",
       "      <td>NaN</td>\n",
       "      <td>NaN</td>\n",
       "      <td>NaN</td>\n",
       "      <td>10.846541</td>\n",
       "      <td>False</td>\n",
       "    </tr>\n",
       "    <tr>\n",
       "      <th>2</th>\n",
       "      <td>2</td>\n",
       "      <td>36.161</td>\n",
       "      <td>-116.139</td>\n",
       "      <td>89060</td>\n",
       "      <td>-0.435964</td>\n",
       "      <td>-0.812957</td>\n",
       "      <td>241.796738</td>\n",
       "      <td>0.922477</td>\n",
       "      <td>199101</td>\n",
       "      <td>NaN</td>\n",
       "      <td>NaN</td>\n",
       "      <td>NaN</td>\n",
       "      <td>12.385000</td>\n",
       "      <td>False</td>\n",
       "    </tr>\n",
       "    <tr>\n",
       "      <th>3</th>\n",
       "      <td>3</td>\n",
       "      <td>35.957</td>\n",
       "      <td>-115.897</td>\n",
       "      <td>89061</td>\n",
       "      <td>-0.560538</td>\n",
       "      <td>-1.176384</td>\n",
       "      <td>244.522552</td>\n",
       "      <td>1.303105</td>\n",
       "      <td>199101</td>\n",
       "      <td>NaN</td>\n",
       "      <td>NaN</td>\n",
       "      <td>NaN</td>\n",
       "      <td>10.150000</td>\n",
       "      <td>False</td>\n",
       "    </tr>\n",
       "    <tr>\n",
       "      <th>4</th>\n",
       "      <td>4</td>\n",
       "      <td>39.520</td>\n",
       "      <td>-120.032</td>\n",
       "      <td>89439</td>\n",
       "      <td>0.042253</td>\n",
       "      <td>0.205661</td>\n",
       "      <td>78.390099</td>\n",
       "      <td>0.209957</td>\n",
       "      <td>199101</td>\n",
       "      <td>NaN</td>\n",
       "      <td>NaN</td>\n",
       "      <td>NaN</td>\n",
       "      <td>8.389565</td>\n",
       "      <td>False</td>\n",
       "    </tr>\n",
       "  </tbody>\n",
       "</table>\n",
       "</div>"
      ],
      "text/plain": [
       "   Unnamed: 0     lat      lon   ZCTA         u         v        wdir  \\\n",
       "0           0  37.465 -117.936  89010  0.504258 -0.719008  305.042938   \n",
       "1           1  35.396 -116.322  89019 -0.172753 -0.946940  259.661102   \n",
       "2           2  36.161 -116.139  89060 -0.435964 -0.812957  241.796738   \n",
       "3           3  35.957 -115.897  89061 -0.560538 -1.176384  244.522552   \n",
       "4           4  39.520 -120.032  89439  0.042253  0.205661   78.390099   \n",
       "\n",
       "       wspd  year_month  GIS_ACRES DURATION  FIRE_AREA_KM2       pm25  \\\n",
       "0  0.878208      199101        NaN      NaN            NaN  12.450976   \n",
       "1  0.962568      199101        NaN      NaN            NaN  10.846541   \n",
       "2  0.922477      199101        NaN      NaN            NaN  12.385000   \n",
       "3  1.303105      199101        NaN      NaN            NaN  10.150000   \n",
       "4  0.209957      199101        NaN      NaN            NaN   8.389565   \n",
       "\n",
       "   treatment  \n",
       "0      False  \n",
       "1      False  \n",
       "2      False  \n",
       "3      False  \n",
       "4      False  "
      ]
     },
     "execution_count": 4,
     "metadata": {},
     "output_type": "execute_result"
    }
   ],
   "source": [
    "#Take a look at the data\n",
    "fd.head()\n"
   ]
  },
  {
   "cell_type": "code",
   "execution_count": 5,
   "id": "767d52d8",
   "metadata": {},
   "outputs": [],
   "source": [
    "#select columns from the original data\n",
    "fd1=fd[[\"ZCTA\",\"year_month\",\"pm25\",\"treatment\",\"DURATION\",\"GIS_ACRES\"]]"
   ]
  },
  {
   "cell_type": "code",
   "execution_count": 6,
   "id": "aae0986e",
   "metadata": {},
   "outputs": [
    {
     "data": {
      "text/html": [
       "<div>\n",
       "<style scoped>\n",
       "    .dataframe tbody tr th:only-of-type {\n",
       "        vertical-align: middle;\n",
       "    }\n",
       "\n",
       "    .dataframe tbody tr th {\n",
       "        vertical-align: top;\n",
       "    }\n",
       "\n",
       "    .dataframe thead th {\n",
       "        text-align: right;\n",
       "    }\n",
       "</style>\n",
       "<table border=\"1\" class=\"dataframe\">\n",
       "  <thead>\n",
       "    <tr style=\"text-align: right;\">\n",
       "      <th></th>\n",
       "      <th>ZCTA</th>\n",
       "      <th>year_month</th>\n",
       "      <th>pm25</th>\n",
       "      <th>treatment</th>\n",
       "      <th>DURATION</th>\n",
       "      <th>GIS_ACRES</th>\n",
       "    </tr>\n",
       "  </thead>\n",
       "  <tbody>\n",
       "    <tr>\n",
       "      <th>0</th>\n",
       "      <td>89010</td>\n",
       "      <td>199101</td>\n",
       "      <td>12.450976</td>\n",
       "      <td>False</td>\n",
       "      <td>NaN</td>\n",
       "      <td>NaN</td>\n",
       "    </tr>\n",
       "    <tr>\n",
       "      <th>1</th>\n",
       "      <td>89019</td>\n",
       "      <td>199101</td>\n",
       "      <td>10.846541</td>\n",
       "      <td>False</td>\n",
       "      <td>NaN</td>\n",
       "      <td>NaN</td>\n",
       "    </tr>\n",
       "    <tr>\n",
       "      <th>2</th>\n",
       "      <td>89060</td>\n",
       "      <td>199101</td>\n",
       "      <td>12.385000</td>\n",
       "      <td>False</td>\n",
       "      <td>NaN</td>\n",
       "      <td>NaN</td>\n",
       "    </tr>\n",
       "    <tr>\n",
       "      <th>3</th>\n",
       "      <td>89061</td>\n",
       "      <td>199101</td>\n",
       "      <td>10.150000</td>\n",
       "      <td>False</td>\n",
       "      <td>NaN</td>\n",
       "      <td>NaN</td>\n",
       "    </tr>\n",
       "    <tr>\n",
       "      <th>4</th>\n",
       "      <td>89439</td>\n",
       "      <td>199101</td>\n",
       "      <td>8.389565</td>\n",
       "      <td>False</td>\n",
       "      <td>NaN</td>\n",
       "      <td>NaN</td>\n",
       "    </tr>\n",
       "  </tbody>\n",
       "</table>\n",
       "</div>"
      ],
      "text/plain": [
       "    ZCTA  year_month       pm25  treatment DURATION  GIS_ACRES\n",
       "0  89010      199101  12.450976      False      NaN        NaN\n",
       "1  89019      199101  10.846541      False      NaN        NaN\n",
       "2  89060      199101  12.385000      False      NaN        NaN\n",
       "3  89061      199101  10.150000      False      NaN        NaN\n",
       "4  89439      199101   8.389565      False      NaN        NaN"
      ]
     },
     "execution_count": 6,
     "metadata": {},
     "output_type": "execute_result"
    }
   ],
   "source": [
    "#Peek at data\n",
    "fd1.head()"
   ]
  },
  {
   "cell_type": "code",
   "execution_count": 7,
   "id": "59c99b49",
   "metadata": {},
   "outputs": [
    {
     "name": "stdout",
     "output_type": "stream",
     "text": [
      "628507\n",
      "(628507, 6)\n"
     ]
    }
   ],
   "source": [
    "#check for null zipcodes\n",
    "print(fd1[\"ZCTA\"].notnull().sum())\n",
    "print(fd1.shape)"
   ]
  },
  {
   "cell_type": "code",
   "execution_count": 10,
   "id": "8db11d66",
   "metadata": {},
   "outputs": [],
   "source": [
    "zipcodes=fd1[\"ZCTA\"]"
   ]
  },
  {
   "cell_type": "markdown",
   "id": "8ba886b5",
   "metadata": {},
   "source": [
    "# Creation of fake medical data\n",
    "Call function by setting num = # of pa tients. \n",
    "This number(num) for california should be about 30,000,000(about 1.1M patients per year)"
   ]
  },
  {
   "cell_type": "code",
   "execution_count": 13,
   "id": "d418d205",
   "metadata": {},
   "outputs": [],
   "source": [
    "\n",
    "#create information on individual patients\n",
    "#define a function to create fake medical conditions for individuals within each county\n",
    "def make_patients(num):\n",
    "    #list of diseases to randomly assign to patients\n",
    "    disease=[\"PTSD\",\"Depression\",\"Anxiety\"]\n",
    "    race=[\"White\", \"Black/African American\", \"American Indian/Alaska Native\",\"Asian\",\"Native Hawaiian/Other Pacific Islander\"]\n",
    "    gender=[\"M\",\"F\"]\n",
    "    \n",
    "    \n",
    "    fake_patients=[{'Patient Name':fake.name(),\n",
    "                  'Visit_date':fake.date_between(start_date=datetime(1991,1,1),end_date=datetime(2020,12,1)),  \n",
    "                  'Gender':np.random.choice(gender,p=[0.5,0.5]),\n",
    "                  'Race':np.random.choice(race,p=[0.2,0.2,0.2,0.2,0.2]),\n",
    "                  'Zipcode':np.random.choice(zipcodes),\n",
    "                  'Patient_disease':np.random.choice(disease,p=[0.3,0.3,0.4])} for x in range(num)]\n",
    "\n",
    "    \n",
    "    return fake_patients\n",
    "\n"
   ]
  },
  {
   "cell_type": "code",
   "execution_count": 14,
   "id": "c260e3bd",
   "metadata": {},
   "outputs": [
    {
     "data": {
      "text/html": [
       "<div>\n",
       "<style scoped>\n",
       "    .dataframe tbody tr th:only-of-type {\n",
       "        vertical-align: middle;\n",
       "    }\n",
       "\n",
       "    .dataframe tbody tr th {\n",
       "        vertical-align: top;\n",
       "    }\n",
       "\n",
       "    .dataframe thead th {\n",
       "        text-align: right;\n",
       "    }\n",
       "</style>\n",
       "<table border=\"1\" class=\"dataframe\">\n",
       "  <thead>\n",
       "    <tr style=\"text-align: right;\">\n",
       "      <th></th>\n",
       "      <th>Patient Name</th>\n",
       "      <th>Visit_date</th>\n",
       "      <th>Gender</th>\n",
       "      <th>Race</th>\n",
       "      <th>Zipcode</th>\n",
       "      <th>Patient_disease</th>\n",
       "    </tr>\n",
       "  </thead>\n",
       "  <tbody>\n",
       "    <tr>\n",
       "      <th>0</th>\n",
       "      <td>Justin Gay</td>\n",
       "      <td>1995-03-19</td>\n",
       "      <td>F</td>\n",
       "      <td>American Indian/Alaska Native</td>\n",
       "      <td>92282</td>\n",
       "      <td>PTSD</td>\n",
       "    </tr>\n",
       "    <tr>\n",
       "      <th>1</th>\n",
       "      <td>Amy Herrera</td>\n",
       "      <td>2019-10-26</td>\n",
       "      <td>F</td>\n",
       "      <td>Native Hawaiian/Other Pacific Islander</td>\n",
       "      <td>95246</td>\n",
       "      <td>Anxiety</td>\n",
       "    </tr>\n",
       "    <tr>\n",
       "      <th>2</th>\n",
       "      <td>Amy Wilson</td>\n",
       "      <td>2016-07-28</td>\n",
       "      <td>M</td>\n",
       "      <td>Asian</td>\n",
       "      <td>95008</td>\n",
       "      <td>Depression</td>\n",
       "    </tr>\n",
       "    <tr>\n",
       "      <th>3</th>\n",
       "      <td>Logan Lopez</td>\n",
       "      <td>2000-05-06</td>\n",
       "      <td>F</td>\n",
       "      <td>White</td>\n",
       "      <td>90003</td>\n",
       "      <td>PTSD</td>\n",
       "    </tr>\n",
       "    <tr>\n",
       "      <th>4</th>\n",
       "      <td>Timothy Little</td>\n",
       "      <td>1991-03-25</td>\n",
       "      <td>M</td>\n",
       "      <td>American Indian/Alaska Native</td>\n",
       "      <td>95501</td>\n",
       "      <td>Depression</td>\n",
       "    </tr>\n",
       "    <tr>\n",
       "      <th>...</th>\n",
       "      <td>...</td>\n",
       "      <td>...</td>\n",
       "      <td>...</td>\n",
       "      <td>...</td>\n",
       "      <td>...</td>\n",
       "      <td>...</td>\n",
       "    </tr>\n",
       "    <tr>\n",
       "      <th>995</th>\n",
       "      <td>Stephanie Atkins</td>\n",
       "      <td>2009-07-04</td>\n",
       "      <td>M</td>\n",
       "      <td>American Indian/Alaska Native</td>\n",
       "      <td>93638</td>\n",
       "      <td>PTSD</td>\n",
       "    </tr>\n",
       "    <tr>\n",
       "      <th>996</th>\n",
       "      <td>Ronald Watts</td>\n",
       "      <td>2004-08-05</td>\n",
       "      <td>F</td>\n",
       "      <td>Asian</td>\n",
       "      <td>90089</td>\n",
       "      <td>Anxiety</td>\n",
       "    </tr>\n",
       "    <tr>\n",
       "      <th>997</th>\n",
       "      <td>Miss Paula Oconnor</td>\n",
       "      <td>1998-12-26</td>\n",
       "      <td>M</td>\n",
       "      <td>Asian</td>\n",
       "      <td>93614</td>\n",
       "      <td>PTSD</td>\n",
       "    </tr>\n",
       "    <tr>\n",
       "      <th>998</th>\n",
       "      <td>Hannah Grant</td>\n",
       "      <td>1997-02-10</td>\n",
       "      <td>F</td>\n",
       "      <td>American Indian/Alaska Native</td>\n",
       "      <td>95636</td>\n",
       "      <td>PTSD</td>\n",
       "    </tr>\n",
       "    <tr>\n",
       "      <th>999</th>\n",
       "      <td>Brenda Lopez</td>\n",
       "      <td>2017-08-03</td>\n",
       "      <td>M</td>\n",
       "      <td>Asian</td>\n",
       "      <td>94158</td>\n",
       "      <td>Anxiety</td>\n",
       "    </tr>\n",
       "  </tbody>\n",
       "</table>\n",
       "<p>1000 rows × 6 columns</p>\n",
       "</div>"
      ],
      "text/plain": [
       "           Patient Name  Visit_date Gender  \\\n",
       "0            Justin Gay  1995-03-19      F   \n",
       "1           Amy Herrera  2019-10-26      F   \n",
       "2            Amy Wilson  2016-07-28      M   \n",
       "3           Logan Lopez  2000-05-06      F   \n",
       "4        Timothy Little  1991-03-25      M   \n",
       "..                  ...         ...    ...   \n",
       "995    Stephanie Atkins  2009-07-04      M   \n",
       "996        Ronald Watts  2004-08-05      F   \n",
       "997  Miss Paula Oconnor  1998-12-26      M   \n",
       "998        Hannah Grant  1997-02-10      F   \n",
       "999        Brenda Lopez  2017-08-03      M   \n",
       "\n",
       "                                       Race  Zipcode Patient_disease  \n",
       "0             American Indian/Alaska Native    92282            PTSD  \n",
       "1    Native Hawaiian/Other Pacific Islander    95246         Anxiety  \n",
       "2                                     Asian    95008      Depression  \n",
       "3                                     White    90003            PTSD  \n",
       "4             American Indian/Alaska Native    95501      Depression  \n",
       "..                                      ...      ...             ...  \n",
       "995           American Indian/Alaska Native    93638            PTSD  \n",
       "996                                   Asian    90089         Anxiety  \n",
       "997                                   Asian    93614            PTSD  \n",
       "998           American Indian/Alaska Native    95636            PTSD  \n",
       "999                                   Asian    94158         Anxiety  \n",
       "\n",
       "[1000 rows x 6 columns]"
      ]
     },
     "execution_count": 14,
     "metadata": {},
     "output_type": "execute_result"
    }
   ],
   "source": [
    "#call the function with the number of patients\n",
    "patient_df=pd.DataFrame(make_patients(1000))\n",
    "patient_df"
   ]
  },
  {
   "cell_type": "code",
   "execution_count": null,
   "id": "f473b6cb",
   "metadata": {},
   "outputs": [],
   "source": [
    "patient_df[\"Visit_date1\"]=patient_df[\"Visit_date\"].astype(\"string\")"
   ]
  },
  {
   "cell_type": "code",
   "execution_count": null,
   "id": "81ee08c3",
   "metadata": {},
   "outputs": [],
   "source": [
    "patient_df.head()"
   ]
  },
  {
   "cell_type": "code",
   "execution_count": null,
   "id": "365a1e92",
   "metadata": {},
   "outputs": [],
   "source": [
    "patient_df[\"Visit_date_ym\"]=patient_df[\"Visit_date1\"].str[0:7]"
   ]
  },
  {
   "cell_type": "code",
   "execution_count": null,
   "id": "cae1be7a",
   "metadata": {},
   "outputs": [],
   "source": [
    "patient_df.head()"
   ]
  },
  {
   "cell_type": "code",
   "execution_count": null,
   "id": "c273c37c",
   "metadata": {},
   "outputs": [],
   "source": [
    "#This is the dataset with the individual patient level information\n",
    "patient_df[\"visit_year_month\"]=patient_df[\"Visit_date_ym\"].str.replace('-','')"
   ]
  },
  {
   "cell_type": "code",
   "execution_count": null,
   "id": "e91860cd",
   "metadata": {},
   "outputs": [],
   "source": [
    "patient_df.head()"
   ]
  },
  {
   "cell_type": "code",
   "execution_count": null,
   "id": "13458f40",
   "metadata": {},
   "outputs": [],
   "source": [
    "#select only relevant fields  to join with fire and pm2.5 data\n",
    "patient_df1=patient_df[[\"Patient Name\",\"Gender\",\"Race\",\"Zipcode\",\"Patient_disease\",\"visit_year_month\"]]"
   ]
  },
  {
   "cell_type": "markdown",
   "id": "f5ba6291",
   "metadata": {},
   "source": [
    "Aggregate individual patient level data to the zipcode level by month"
   ]
  },
  {
   "cell_type": "code",
   "execution_count": null,
   "id": "febdd08f",
   "metadata": {},
   "outputs": [],
   "source": [
    "#summarize the data at the zipcode level\n",
    "#columns are: zipcode, month, count of patient diagnosis\n",
    "patient_data_zipcode=patient_df.groupby(['Zipcode','visit_year_month','Patient_disease']).size().reset_index(name='total_cases')"
   ]
  },
  {
   "cell_type": "code",
   "execution_count": null,
   "id": "cdf21a9a",
   "metadata": {},
   "outputs": [],
   "source": [
    "patient_data_zipcode.head()"
   ]
  },
  {
   "cell_type": "code",
   "execution_count": null,
   "id": "cbb5ba8d",
   "metadata": {},
   "outputs": [],
   "source": [
    "patient_data_zipcode.tail()"
   ]
  },
  {
   "cell_type": "code",
   "execution_count": null,
   "id": "43bd9803",
   "metadata": {},
   "outputs": [],
   "source": [
    "patient_data_zipcode.shape"
   ]
  },
  {
   "cell_type": "markdown",
   "id": "3dc48951",
   "metadata": {},
   "source": [
    "# Join fire & PM2.5 data to patient medical data"
   ]
  },
  {
   "cell_type": "code",
   "execution_count": null,
   "id": "5083ade0",
   "metadata": {},
   "outputs": [],
   "source": [
    "fd1.head()"
   ]
  },
  {
   "cell_type": "code",
   "execution_count": null,
   "id": "b70595bb",
   "metadata": {},
   "outputs": [],
   "source": [
    "#convert year_month to string from original int\n",
    "fd1=fd1.astype({'year_month':'string'})"
   ]
  },
  {
   "cell_type": "code",
   "execution_count": null,
   "id": "111ab7e9",
   "metadata": {},
   "outputs": [],
   "source": [
    "#join patient and fire/pm25 datasets\n",
    "#this is zipcode level data\n",
    "#This is a left join(fire/pm25 is the left dataset and patient zipcode level data is the right dataset)\n",
    "# The join fields are: zipcode and year_month\n",
    "df=fd1.merge(patient_data_zipcode,how='left', left_on=['ZCTA','year_month'],right_on=['Zipcode','visit_year_month'] )"
   ]
  },
  {
   "cell_type": "code",
   "execution_count": null,
   "id": "a0a50e30",
   "metadata": {},
   "outputs": [],
   "source": [
    "fd1.dtypes"
   ]
  },
  {
   "cell_type": "code",
   "execution_count": null,
   "id": "9b4089bb",
   "metadata": {},
   "outputs": [],
   "source": [
    "patient_data_zipcode.dtypes"
   ]
  },
  {
   "cell_type": "code",
   "execution_count": null,
   "id": "cc9e4afa",
   "metadata": {},
   "outputs": [],
   "source": [
    "df.head()"
   ]
  },
  {
   "cell_type": "code",
   "execution_count": null,
   "id": "62cbc322",
   "metadata": {},
   "outputs": [],
   "source": []
  }
 ],
 "metadata": {
  "kernelspec": {
   "display_name": "Python 3 (ipykernel)",
   "language": "python",
   "name": "python3"
  },
  "language_info": {
   "codemirror_mode": {
    "name": "ipython",
    "version": 3
   },
   "file_extension": ".py",
   "mimetype": "text/x-python",
   "name": "python",
   "nbconvert_exporter": "python",
   "pygments_lexer": "ipython3",
   "version": "3.9.13"
  }
 },
 "nbformat": 4,
 "nbformat_minor": 5
}
