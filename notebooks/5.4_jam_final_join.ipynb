{
 "cells": [
  {
   "cell_type": "markdown",
   "metadata": {
    "id": "tYHK1hQukkQQ"
   },
   "source": [
    "# Main script to Join Data on Instrument 2 Fire Location\n",
    "\n",
    "Modules: N/A <br>\n",
    "Author: Jordan Meyer <br>\n",
    "Email: jordan.meyer@berkeley.edu <br>\n",
    "Date created: Feb 18, 2023 <br>\n",
    "\n",
    "**Citations (data sources)**\n",
    "\n",
    "\n",
    "**Citations (persons)**\n",
    "1. Cornelia Ilin \n",
    "\n",
    "**Preferred environment**\n",
    "1. Code written in Jupyter Notebooks"
   ]
  },
  {
   "cell_type": "code",
   "execution_count": 1,
   "metadata": {
    "colab": {
     "base_uri": "https://localhost:8080/",
     "height": 433
    },
    "id": "ITYeHWgmkkQV",
    "outputId": "869bd441-4ada-411f-89af-96627d34254a",
    "tags": []
   },
   "outputs": [
    {
     "name": "stdout",
     "output_type": "stream",
     "text": [
      "/Users/jordan/Documents/GitHub/fire_capstone\n",
      "/Users/jordan/Documents/GitHub/fire_capstone/notebooks\n"
     ]
    }
   ],
   "source": [
    "import sys\n",
    "\n",
    "IN_COLAB = \"google.colab\" in sys.modules\n",
    "\n",
    "if IN_COLAB:\n",
    "    !pip install geopandas --quiet\n",
    "    from google.colab import drive\n",
    "\n",
    "    drive.mount(\"/content/drive\")\n",
    "    in_dir = (\n",
    "        in_instrument\n",
    "    ) = \"/content/drive/MyDrive/capstone_fire/notebooks/instrument_2/\"\n",
    "    import drive.MyDrive.capstone_fire.modules.deep_ols as deep_ols\n",
    "else:\n",
    "    in_dir = in_instrument = \"../data/instrument_2/\"\n",
    "    %cd '..'\n",
    "    import modules.deep_ols as deep_ols\n",
    "    %cd 'notebooks'"
   ]
  },
  {
   "cell_type": "code",
   "execution_count": 2,
   "metadata": {
    "id": "lOIoWI_-kkQT",
    "tags": []
   },
   "outputs": [],
   "source": [
    "import calendar\n",
    "import os\n",
    "from datetime import date, timedelta\n",
    "\n",
    "# geography\n",
    "import geopandas as gpd\n",
    "import matplotlib.pyplot as plt\n",
    "import matplotlib.ticker as mticker\n",
    "import numpy as np\n",
    "import pandas as pd\n",
    "import shapely\n",
    "\n",
    "# Moved from sklearn.neighbors to sklearn.metrics following their package change\n",
    "import sklearn.metrics\n",
    "from shapely.geometry import Point\n",
    "\n",
    "# import cartopy.crs as ccrs\n",
    "# import contextily as ctx\n",
    "# import fiona\n",
    "# import netCDF4 as ncdf\n",
    "# import osmnx as ox\n",
    "# from cartopy.mpl.gridliner import LATITUDE_FORMATTER, LONGITUDE_FORMATTER\n",
    "# from mpl_toolkits.axes_grid1.axes_divider import make_axes_locatable\n",
    "\n",
    "\n",
    "dist = sklearn.metrics.DistanceMetric.get_metric(\"haversine\")\n",
    "\n",
    "# ignore warnings\n",
    "import warnings\n",
    "\n",
    "from tqdm.notebook import tqdm, trange\n",
    "\n",
    "warnings.filterwarnings(\"ignore\")"
   ]
  },
  {
   "cell_type": "markdown",
   "metadata": {
    "id": "eHQGjYwpN8T1"
   },
   "source": [
    "# START HERE FOR AGGREGATION"
   ]
  },
  {
   "cell_type": "markdown",
   "metadata": {
    "id": "J-qNagZzLCD0"
   },
   "source": [
    "## Aggregation of the dataframe for OLS"
   ]
  },
  {
   "cell_type": "code",
   "execution_count": 3,
   "metadata": {
    "colab": {
     "base_uri": "https://localhost:8080/",
     "height": 659
    },
    "id": "U-l5DD6kN8Pb",
    "outputId": "fd9111ac-1dbd-49a8-9a41-1eef80e549f5",
    "tags": []
   },
   "outputs": [
    {
     "data": {
      "text/html": [
       "<div>\n",
       "<style scoped>\n",
       "    .dataframe tbody tr th:only-of-type {\n",
       "        vertical-align: middle;\n",
       "    }\n",
       "\n",
       "    .dataframe tbody tr th {\n",
       "        vertical-align: top;\n",
       "    }\n",
       "\n",
       "    .dataframe thead th {\n",
       "        text-align: right;\n",
       "    }\n",
       "</style>\n",
       "<table border=\"1\" class=\"dataframe\">\n",
       "  <thead>\n",
       "    <tr style=\"text-align: right;\">\n",
       "      <th></th>\n",
       "      <th>ZCTA</th>\n",
       "      <th>year_month</th>\n",
       "      <th>ins_1_no_bin_raw</th>\n",
       "      <th>ins_2_add_acres_raw</th>\n",
       "      <th>ins_3_norms</th>\n",
       "      <th>ins_4_add_acres_norms</th>\n",
       "      <th>ins_5_norm_bins_acres</th>\n",
       "      <th>ins_6_bins_raw</th>\n",
       "      <th>zip_pm25</th>\n",
       "      <th>zip_elevation</th>\n",
       "      <th>elevation_difference</th>\n",
       "      <th>zip_wspd</th>\n",
       "    </tr>\n",
       "  </thead>\n",
       "  <tbody>\n",
       "    <tr>\n",
       "      <th>0</th>\n",
       "      <td>89010</td>\n",
       "      <td>199101</td>\n",
       "      <td>0.017147</td>\n",
       "      <td>2.996985</td>\n",
       "      <td>2.193307</td>\n",
       "      <td>2.237374e-03</td>\n",
       "      <td>2.237374e-03</td>\n",
       "      <td>24.261588</td>\n",
       "      <td>12.450976</td>\n",
       "      <td>4784.0</td>\n",
       "      <td>-3523.444444</td>\n",
       "      <td>0.878208</td>\n",
       "    </tr>\n",
       "    <tr>\n",
       "      <th>1</th>\n",
       "      <td>89010</td>\n",
       "      <td>199102</td>\n",
       "      <td>0.004105</td>\n",
       "      <td>2.134088</td>\n",
       "      <td>0.522705</td>\n",
       "      <td>1.519277e-03</td>\n",
       "      <td>1.519277e-03</td>\n",
       "      <td>16.875655</td>\n",
       "      <td>11.255854</td>\n",
       "      <td>4784.0</td>\n",
       "      <td>-3412.000000</td>\n",
       "      <td>0.283772</td>\n",
       "    </tr>\n",
       "    <tr>\n",
       "      <th>2</th>\n",
       "      <td>89010</td>\n",
       "      <td>199104</td>\n",
       "      <td>0.041240</td>\n",
       "      <td>7.240880</td>\n",
       "      <td>3.803710</td>\n",
       "      <td>4.474625e-03</td>\n",
       "      <td>4.474625e-03</td>\n",
       "      <td>51.209927</td>\n",
       "      <td>7.899268</td>\n",
       "      <td>4784.0</td>\n",
       "      <td>-3777.333333</td>\n",
       "      <td>1.547416</td>\n",
       "    </tr>\n",
       "    <tr>\n",
       "      <th>3</th>\n",
       "      <td>89010</td>\n",
       "      <td>199106</td>\n",
       "      <td>0.002230</td>\n",
       "      <td>0.048681</td>\n",
       "      <td>0.002707</td>\n",
       "      <td>3.951177e-07</td>\n",
       "      <td>3.951177e-07</td>\n",
       "      <td>0.096979</td>\n",
       "      <td>8.160244</td>\n",
       "      <td>4784.0</td>\n",
       "      <td>-3290.000000</td>\n",
       "      <td>0.893248</td>\n",
       "    </tr>\n",
       "    <tr>\n",
       "      <th>4</th>\n",
       "      <td>89010</td>\n",
       "      <td>199107</td>\n",
       "      <td>0.010883</td>\n",
       "      <td>0.936064</td>\n",
       "      <td>1.136627</td>\n",
       "      <td>5.962933e-04</td>\n",
       "      <td>5.962933e-04</td>\n",
       "      <td>6.661194</td>\n",
       "      <td>9.101220</td>\n",
       "      <td>4784.0</td>\n",
       "      <td>-3369.000000</td>\n",
       "      <td>0.817715</td>\n",
       "    </tr>\n",
       "    <tr>\n",
       "      <th>...</th>\n",
       "      <td>...</td>\n",
       "      <td>...</td>\n",
       "      <td>...</td>\n",
       "      <td>...</td>\n",
       "      <td>...</td>\n",
       "      <td>...</td>\n",
       "      <td>...</td>\n",
       "      <td>...</td>\n",
       "      <td>...</td>\n",
       "      <td>...</td>\n",
       "      <td>...</td>\n",
       "      <td>...</td>\n",
       "    </tr>\n",
       "    <tr>\n",
       "      <th>212285</th>\n",
       "      <td>97635</td>\n",
       "      <td>201608</td>\n",
       "      <td>0.126739</td>\n",
       "      <td>608.902926</td>\n",
       "      <td>11.801323</td>\n",
       "      <td>2.240041e-01</td>\n",
       "      <td>2.240041e-01</td>\n",
       "      <td>2586.061987</td>\n",
       "      <td>3.558125</td>\n",
       "      <td>7370.0</td>\n",
       "      <td>-6782.840909</td>\n",
       "      <td>0.782387</td>\n",
       "    </tr>\n",
       "    <tr>\n",
       "      <th>212286</th>\n",
       "      <td>97635</td>\n",
       "      <td>201609</td>\n",
       "      <td>0.095820</td>\n",
       "      <td>488.387292</td>\n",
       "      <td>9.758271</td>\n",
       "      <td>1.940952e-01</td>\n",
       "      <td>1.940952e-01</td>\n",
       "      <td>2186.942079</td>\n",
       "      <td>1.619554</td>\n",
       "      <td>7370.0</td>\n",
       "      <td>-6757.846154</td>\n",
       "      <td>0.464931</td>\n",
       "    </tr>\n",
       "    <tr>\n",
       "      <th>212287</th>\n",
       "      <td>97635</td>\n",
       "      <td>201610</td>\n",
       "      <td>0.053249</td>\n",
       "      <td>188.397190</td>\n",
       "      <td>6.272099</td>\n",
       "      <td>6.879567e-02</td>\n",
       "      <td>6.879567e-02</td>\n",
       "      <td>836.545477</td>\n",
       "      <td>2.673929</td>\n",
       "      <td>7370.0</td>\n",
       "      <td>-6184.090909</td>\n",
       "      <td>2.635240</td>\n",
       "    </tr>\n",
       "    <tr>\n",
       "      <th>212288</th>\n",
       "      <td>97635</td>\n",
       "      <td>201611</td>\n",
       "      <td>0.010921</td>\n",
       "      <td>10.890098</td>\n",
       "      <td>1.231006</td>\n",
       "      <td>9.119611e-03</td>\n",
       "      <td>9.119611e-03</td>\n",
       "      <td>96.892259</td>\n",
       "      <td>3.386071</td>\n",
       "      <td>7370.0</td>\n",
       "      <td>-6325.900000</td>\n",
       "      <td>1.906592</td>\n",
       "    </tr>\n",
       "    <tr>\n",
       "      <th>212289</th>\n",
       "      <td>97635</td>\n",
       "      <td>201612</td>\n",
       "      <td>0.007149</td>\n",
       "      <td>0.688827</td>\n",
       "      <td>0.827731</td>\n",
       "      <td>2.046632e-04</td>\n",
       "      <td>2.046632e-04</td>\n",
       "      <td>2.970011</td>\n",
       "      <td>4.153661</td>\n",
       "      <td>7370.0</td>\n",
       "      <td>-6595.250000</td>\n",
       "      <td>1.244065</td>\n",
       "    </tr>\n",
       "  </tbody>\n",
       "</table>\n",
       "<p>212290 rows × 12 columns</p>\n",
       "</div>"
      ],
      "text/plain": [
       "         ZCTA  year_month  ins_1_no_bin_raw  ins_2_add_acres_raw  ins_3_norms  \\\n",
       "0       89010      199101          0.017147             2.996985     2.193307   \n",
       "1       89010      199102          0.004105             2.134088     0.522705   \n",
       "2       89010      199104          0.041240             7.240880     3.803710   \n",
       "3       89010      199106          0.002230             0.048681     0.002707   \n",
       "4       89010      199107          0.010883             0.936064     1.136627   \n",
       "...       ...         ...               ...                  ...          ...   \n",
       "212285  97635      201608          0.126739           608.902926    11.801323   \n",
       "212286  97635      201609          0.095820           488.387292     9.758271   \n",
       "212287  97635      201610          0.053249           188.397190     6.272099   \n",
       "212288  97635      201611          0.010921            10.890098     1.231006   \n",
       "212289  97635      201612          0.007149             0.688827     0.827731   \n",
       "\n",
       "        ins_4_add_acres_norms  ins_5_norm_bins_acres  ins_6_bins_raw  \\\n",
       "0                2.237374e-03           2.237374e-03       24.261588   \n",
       "1                1.519277e-03           1.519277e-03       16.875655   \n",
       "2                4.474625e-03           4.474625e-03       51.209927   \n",
       "3                3.951177e-07           3.951177e-07        0.096979   \n",
       "4                5.962933e-04           5.962933e-04        6.661194   \n",
       "...                       ...                    ...             ...   \n",
       "212285           2.240041e-01           2.240041e-01     2586.061987   \n",
       "212286           1.940952e-01           1.940952e-01     2186.942079   \n",
       "212287           6.879567e-02           6.879567e-02      836.545477   \n",
       "212288           9.119611e-03           9.119611e-03       96.892259   \n",
       "212289           2.046632e-04           2.046632e-04        2.970011   \n",
       "\n",
       "         zip_pm25  zip_elevation  elevation_difference  zip_wspd  \n",
       "0       12.450976         4784.0          -3523.444444  0.878208  \n",
       "1       11.255854         4784.0          -3412.000000  0.283772  \n",
       "2        7.899268         4784.0          -3777.333333  1.547416  \n",
       "3        8.160244         4784.0          -3290.000000  0.893248  \n",
       "4        9.101220         4784.0          -3369.000000  0.817715  \n",
       "...           ...            ...                   ...       ...  \n",
       "212285   3.558125         7370.0          -6782.840909  0.782387  \n",
       "212286   1.619554         7370.0          -6757.846154  0.464931  \n",
       "212287   2.673929         7370.0          -6184.090909  2.635240  \n",
       "212288   3.386071         7370.0          -6325.900000  1.906592  \n",
       "212289   4.153661         7370.0          -6595.250000  1.244065  \n",
       "\n",
       "[212290 rows x 12 columns]"
      ]
     },
     "execution_count": 3,
     "metadata": {},
     "output_type": "execute_result"
    }
   ],
   "source": [
    "instrument_df = pd.read_csv(in_instrument + \"aggregated_draft_2.csv\",)\n",
    "instrument_df"
   ]
  },
  {
   "cell_type": "code",
   "execution_count": 4,
   "metadata": {
    "tags": []
   },
   "outputs": [],
   "source": [
    "demographics_df = pd.read_csv(in_instrument+'demographics.csv')"
   ]
  },
  {
   "cell_type": "code",
   "execution_count": 5,
   "metadata": {
    "id": "Xzc_-l_TLCD0",
    "tags": []
   },
   "outputs": [],
   "source": [
    "demographics_df['year']=demographics_df['year'].map(lambda x: str(x)[-4:])\n",
    "demographics_df = demographics_df.rename(columns={'zip_code':'ZCTA'})"
   ]
  },
  {
   "cell_type": "code",
   "execution_count": 6,
   "metadata": {
    "tags": []
   },
   "outputs": [],
   "source": [
    "temp = instrument_df.reset_index()\n",
    "instrument_df['year'] = temp['year_month'].apply(lambda x:str(x)[:4])"
   ]
  },
  {
   "cell_type": "code",
   "execution_count": 7,
   "metadata": {
    "tags": []
   },
   "outputs": [],
   "source": [
    "final_df = instrument_df.merge(demographics_df, on=['year','ZCTA'], how='left')"
   ]
  },
  {
   "cell_type": "code",
   "execution_count": 8,
   "metadata": {
    "tags": []
   },
   "outputs": [],
   "source": [
    "final_df.to_csv(in_instrument + 'finalish_df_2.csv')"
   ]
  },
  {
   "cell_type": "code",
   "execution_count": 20,
   "metadata": {
    "tags": []
   },
   "outputs": [
    {
     "data": {
      "text/plain": [
       "1778"
      ]
     },
     "execution_count": 20,
     "metadata": {},
     "output_type": "execute_result"
    }
   ],
   "source": []
  },
  {
   "cell_type": "code",
   "execution_count": null,
   "metadata": {},
   "outputs": [],
   "source": []
  },
  {
   "cell_type": "code",
   "execution_count": null,
   "metadata": {},
   "outputs": [],
   "source": []
  },
  {
   "cell_type": "code",
   "execution_count": null,
   "metadata": {},
   "outputs": [],
   "source": []
  },
  {
   "cell_type": "code",
   "execution_count": null,
   "metadata": {
    "id": "U0IUftHZLCD0"
   },
   "outputs": [],
   "source": []
  }
 ],
 "metadata": {
  "colab": {
   "provenance": []
  },
  "kernelspec": {
   "display_name": "Python 3 (ipykernel)",
   "language": "python",
   "name": "python3"
  },
  "language_info": {
   "codemirror_mode": {
    "name": "ipython",
    "version": 3
   },
   "file_extension": ".py",
   "mimetype": "text/x-python",
   "name": "python",
   "nbconvert_exporter": "python",
   "pygments_lexer": "ipython3",
   "version": "3.10.9"
  }
 },
 "nbformat": 4,
 "nbformat_minor": 4
}
