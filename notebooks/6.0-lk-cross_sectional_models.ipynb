{
 "cells": [
  {
   "cell_type": "code",
   "execution_count": 24,
   "id": "fa339cd4",
   "metadata": {},
   "outputs": [],
   "source": [
    "import pandas as pd\n",
    "from sklearn.model_selection import train_test_split\n",
    "import statsmodels.api as sm\n",
    "from statsmodels.tools.tools import add_constant\n",
    "from sklearn.metrics import mean_squared_error\n",
    "\n",
    "import numpy as np\n",
    "import seaborn as sns\n",
    "from statsmodels.tools.tools import maybe_unwrap_results\n",
    "from statsmodels.graphics.gofplots import ProbPlot\n",
    "from statsmodels.stats.outliers_influence import variance_inflation_factor\n",
    "import matplotlib.pyplot as plt"
   ]
  },
  {
   "cell_type": "markdown",
   "id": "1f2ad9bf",
   "metadata": {},
   "source": [
    "### 1. Import raw data"
   ]
  },
  {
   "cell_type": "markdown",
   "id": "838ac0af",
   "metadata": {},
   "source": [
    "The raw data we import here assumes that the patient data has already been joined with other variables and aggregated at zipcode-timeperiod level. Each observation describes ER visits for a specific zip code, over a period of time. \n",
    "\n",
    "Dummy data below assumes \"period of time\" = 12 months. We should probably try looking at 6M and 12M periods."
   ]
  },
  {
   "cell_type": "code",
   "execution_count": 2,
   "id": "04044cb3",
   "metadata": {},
   "outputs": [],
   "source": [
    "#1a. Define columns \n",
    "\n",
    "#TBD: do we want to filter for age.\n",
    "#TBD: unrelated side note - should we have taken elevation into account\n",
    "\n",
    "columns = [\n",
    "    ### time and place descriptors (potentially also background variables)\n",
    "    'period_start', #TBD: to decide what lookback period makes the most sense. 6M? 1Y?\n",
    "    'period_end', \n",
    "    'zip_code',\n",
    "    \n",
    "    ### response variables (TBD: to confirm that we would only want to count unique visits)\n",
    "    'num_visits_total_mental', \n",
    "    'num_visits_depression',\n",
    "    'num_visits_ptsd', #TBD:...non-exhaustive. make sure we include all relevant codes.\n",
    "    \n",
    "    ### explanatory variables (we'll probably only use one or two of these)\n",
    "    'downwind', #this is the treatment field in the instrument file\n",
    "    'months_downwind_from_fire',  #would have to be ordinal variable. Or could be downwind_1, downwind_2,downwind_n.. where n is the month in the period\n",
    "    'avg_pm25_exposure',\n",
    "    'months_over_pm25_threshold', #TBD: what is the \"unsafe\" threshold?\n",
    "    'avg_dist_to_nearest_fire', #I don't think we have this data, just listing here first in case.would have to be ordinal variable\n",
    "    \n",
    "    ### fire-related background variables\n",
    "    'avg_temperature', #might need to \n",
    "    'days_of_rain', #I don't think we have this data, just listing here first in case.\n",
    "    \n",
    "    ### zip code-related background variables\n",
    "    #TBD: should we be defining demographics more granularly? (e.g. pct_male_asian_child) \n",
    "    #     to consult subject matter experts or EDA of patient data.\n",
    "    'zip_code_population', \n",
    "    'zip_code_avg_elevation',\n",
    "    'zip_code_median_income', #TBD: can debate if we want to use average or median income. Use EDA to decide\n",
    "    'pct_ethnic_group_1', #we'll have many of these - one for each ethnic group\n",
    "    'pct_age_group_1', #we'll have many of these - one for each age group\n",
    "    'pct_male', \n",
    "    'pct_female',    \n",
    "]"
   ]
  },
  {
   "cell_type": "code",
   "execution_count": 3,
   "id": "6f1281a7",
   "metadata": {},
   "outputs": [],
   "source": [
    "#1b. Generate dummy values\n",
    "\n",
    "period_start                   = ['1991-01'] *10 + ['1992-01']*10\n",
    "period_end                     = ['1992-01'] *10 + ['1993-01']*10\n",
    "zip_code                       = [12345] * 5 + [67890] * 5 + [12345] * 5 + [67890] * 5 \n",
    "num_visits_total_mental        = [10] * 20\n",
    "num_visits_depression          = [3] * 20\n",
    "num_visits_ptsd                = [7] * 20\n",
    "downwind                       = [1] * 5  + [0] * 5 + [0] * 5 + [1] * 5 \n",
    "months_downwind_from_fire      = [12] * 5 + [0] * 5 + [0] * 5 + [6] * 5 \n",
    "avg_pm25_exposure              = [123.5] * 5 + [34.4] * 5 + [40.1] * 5 + [99.3] * 5 \n",
    "months_over_pm25_threshold     = [8] * 5 + [1] * 5 + [2] * 5 + [5] * 5 \n",
    "avg_dist_to_nearest_fire       = [1.0] * 5 + [2.0] * 5 + [2.0] * 5 + [0.0] * 5 \n",
    "avg_temperature                = [30] * 5 + [22] * 5 + [25] * 5 + [40] * 5 \n",
    "days_of_rain                   = [0] * 5 + [0] * 5 + [0] * 5 + [20] * 5 \n",
    "zip_code_population            = [500] * 5 + [800] * 5 + [500] * 5 + [800] * 5 \n",
    "zip_code_avg_elevation         = [30.0] * 5 + [10.0] * 5 + [30.0] * 5 + [10.0] * 5 \n",
    "zip_code_median_income_K       = [58.4] * 5 + [50.3] * 5 + [56.3] * 5 + [52.3] * 5 \n",
    "pct_ethnic_group_1             = [0.12] * 5 + [0.40] * 5 + [0.12] * 5 + [0.41] * 5 \n",
    "pct_age_group_1                = [0.32] * 5 + [0.30] * 5 + [0.42] * 5 + [0.31] * 5 \n",
    "pct_male                       = [0.32] * 5 + [0.30] * 5 + [0.42] * 5 + [0.31] * 5 \n",
    "pct_female                     = [0.60] * 5 + [0.58] * 5 + [0.44] * 5 + [0.63] * 5 \n",
    "\n",
    "values = [period_start,period_end,zip_code,num_visits_total_mental,num_visits_depression,num_visits_ptsd,\n",
    "          downwind,months_downwind_from_fire,avg_pm25_exposure,months_over_pm25_threshold,avg_dist_to_nearest_fire,\n",
    "          avg_temperature,days_of_rain,zip_code_population,zip_code_avg_elevation,zip_code_median_income_K,\n",
    "          pct_ethnic_group_1,pct_age_group_1,pct_male,pct_female]"
   ]
  },
  {
   "cell_type": "code",
   "execution_count": 4,
   "id": "3c0e1e34",
   "metadata": {},
   "outputs": [
    {
     "name": "stdout",
     "output_type": "stream",
     "text": [
      "(20, 20)\n"
     ]
    },
    {
     "data": {
      "text/html": [
       "<div>\n",
       "<style scoped>\n",
       "    .dataframe tbody tr th:only-of-type {\n",
       "        vertical-align: middle;\n",
       "    }\n",
       "\n",
       "    .dataframe tbody tr th {\n",
       "        vertical-align: top;\n",
       "    }\n",
       "\n",
       "    .dataframe thead th {\n",
       "        text-align: right;\n",
       "    }\n",
       "</style>\n",
       "<table border=\"1\" class=\"dataframe\">\n",
       "  <thead>\n",
       "    <tr style=\"text-align: right;\">\n",
       "      <th></th>\n",
       "      <th>period_start</th>\n",
       "      <th>period_end</th>\n",
       "      <th>zip_code</th>\n",
       "      <th>num_visits_total_mental</th>\n",
       "      <th>num_visits_depression</th>\n",
       "      <th>num_visits_ptsd</th>\n",
       "      <th>downwind</th>\n",
       "      <th>months_downwind_from_fire</th>\n",
       "      <th>avg_pm25_exposure</th>\n",
       "      <th>months_over_pm25_threshold</th>\n",
       "      <th>avg_dist_to_nearest_fire</th>\n",
       "      <th>avg_temperature</th>\n",
       "      <th>days_of_rain</th>\n",
       "      <th>zip_code_population</th>\n",
       "      <th>zip_code_avg_elevation</th>\n",
       "      <th>zip_code_median_income</th>\n",
       "      <th>pct_ethnic_group_1</th>\n",
       "      <th>pct_age_group_1</th>\n",
       "      <th>pct_male</th>\n",
       "      <th>pct_female</th>\n",
       "    </tr>\n",
       "  </thead>\n",
       "  <tbody>\n",
       "    <tr>\n",
       "      <th>0</th>\n",
       "      <td>1991-01</td>\n",
       "      <td>1992-01</td>\n",
       "      <td>12345</td>\n",
       "      <td>10</td>\n",
       "      <td>3</td>\n",
       "      <td>7</td>\n",
       "      <td>1</td>\n",
       "      <td>12</td>\n",
       "      <td>123.5</td>\n",
       "      <td>8</td>\n",
       "      <td>1.0</td>\n",
       "      <td>30</td>\n",
       "      <td>0</td>\n",
       "      <td>500</td>\n",
       "      <td>30.0</td>\n",
       "      <td>58.4</td>\n",
       "      <td>0.12</td>\n",
       "      <td>0.32</td>\n",
       "      <td>0.32</td>\n",
       "      <td>0.6</td>\n",
       "    </tr>\n",
       "    <tr>\n",
       "      <th>1</th>\n",
       "      <td>1991-01</td>\n",
       "      <td>1992-01</td>\n",
       "      <td>12345</td>\n",
       "      <td>10</td>\n",
       "      <td>3</td>\n",
       "      <td>7</td>\n",
       "      <td>1</td>\n",
       "      <td>12</td>\n",
       "      <td>123.5</td>\n",
       "      <td>8</td>\n",
       "      <td>1.0</td>\n",
       "      <td>30</td>\n",
       "      <td>0</td>\n",
       "      <td>500</td>\n",
       "      <td>30.0</td>\n",
       "      <td>58.4</td>\n",
       "      <td>0.12</td>\n",
       "      <td>0.32</td>\n",
       "      <td>0.32</td>\n",
       "      <td>0.6</td>\n",
       "    </tr>\n",
       "    <tr>\n",
       "      <th>2</th>\n",
       "      <td>1991-01</td>\n",
       "      <td>1992-01</td>\n",
       "      <td>12345</td>\n",
       "      <td>10</td>\n",
       "      <td>3</td>\n",
       "      <td>7</td>\n",
       "      <td>1</td>\n",
       "      <td>12</td>\n",
       "      <td>123.5</td>\n",
       "      <td>8</td>\n",
       "      <td>1.0</td>\n",
       "      <td>30</td>\n",
       "      <td>0</td>\n",
       "      <td>500</td>\n",
       "      <td>30.0</td>\n",
       "      <td>58.4</td>\n",
       "      <td>0.12</td>\n",
       "      <td>0.32</td>\n",
       "      <td>0.32</td>\n",
       "      <td>0.6</td>\n",
       "    </tr>\n",
       "  </tbody>\n",
       "</table>\n",
       "</div>"
      ],
      "text/plain": [
       "  period_start period_end  zip_code  num_visits_total_mental  \\\n",
       "0      1991-01    1992-01     12345                       10   \n",
       "1      1991-01    1992-01     12345                       10   \n",
       "2      1991-01    1992-01     12345                       10   \n",
       "\n",
       "   num_visits_depression  num_visits_ptsd  downwind  \\\n",
       "0                      3                7         1   \n",
       "1                      3                7         1   \n",
       "2                      3                7         1   \n",
       "\n",
       "   months_downwind_from_fire  avg_pm25_exposure  months_over_pm25_threshold  \\\n",
       "0                         12              123.5                           8   \n",
       "1                         12              123.5                           8   \n",
       "2                         12              123.5                           8   \n",
       "\n",
       "   avg_dist_to_nearest_fire  avg_temperature  days_of_rain  \\\n",
       "0                       1.0               30             0   \n",
       "1                       1.0               30             0   \n",
       "2                       1.0               30             0   \n",
       "\n",
       "   zip_code_population  zip_code_avg_elevation  zip_code_median_income  \\\n",
       "0                  500                    30.0                    58.4   \n",
       "1                  500                    30.0                    58.4   \n",
       "2                  500                    30.0                    58.4   \n",
       "\n",
       "   pct_ethnic_group_1  pct_age_group_1  pct_male  pct_female  \n",
       "0                0.12             0.32      0.32         0.6  \n",
       "1                0.12             0.32      0.32         0.6  \n",
       "2                0.12             0.32      0.32         0.6  "
      ]
     },
     "metadata": {},
     "output_type": "display_data"
    }
   ],
   "source": [
    "#1c. Create dataframe\n",
    "raw = pd.DataFrame(dict(zip(columns,values)))\n",
    "print(raw.shape)\n",
    "display(raw.head(3))"
   ]
  },
  {
   "cell_type": "markdown",
   "id": "c1dd524b",
   "metadata": {},
   "source": [
    "### 2. Feature engineering"
   ]
  },
  {
   "cell_type": "code",
   "execution_count": 5,
   "id": "39d77b2d",
   "metadata": {},
   "outputs": [],
   "source": [
    "#2a. Engineer y variable\n",
    "numerator_variable = 'num_visits_total_mental' #tbd\n",
    "denominator_variable = 'zip_code_population'\n",
    "raw['pct_'+numerator_variable[11:]] = raw.apply(lambda x: x[numerator_variable]/x[denominator_variable],axis=1)\n",
    "y = raw['pct_'+numerator_variable[11:]].tolist()\n",
    "\n",
    "#2b. One-hot encode categorical variables\n",
    "\n",
    "#2c. Perform encoding of ordinal variables (?)\n",
    "##note to self: to revise treatment of ordinal variables"
   ]
  },
  {
   "cell_type": "code",
   "execution_count": 11,
   "id": "935e0a5b",
   "metadata": {},
   "outputs": [],
   "source": [
    "#2d. Engineer x variables\n",
    "variables_to_select= ['downwind', \n",
    "                      'avg_pm25_exposure',\n",
    "                      'months_over_pm25_threshold', \n",
    "                      'avg_temperature']\n",
    "                      \n",
    "background_variables = ['zip_code_population', \n",
    "                        'zip_code_avg_elevation',\n",
    "                        'zip_code_median_income', \n",
    "                        'pct_ethnic_group_1', \n",
    "                        'pct_age_group_1', \n",
    "                        'pct_male', \n",
    "                        'pct_female']\n",
    "\n",
    "X = raw[variables_to_select + background_variables].copy()"
   ]
  },
  {
   "cell_type": "code",
   "execution_count": 7,
   "id": "8266152b",
   "metadata": {},
   "outputs": [],
   "source": [
    "def generate_dataset(y_var, x_var=variables_to_select, bg_var = background_variables,df=raw):\n",
    "    denominator_variable = 'zip_code_population'\n",
    "    df['pct_'+numerator_variable[11:]] = df.apply(lambda x: x[numerator_variable]/x[denominator_variable],axis=1)\n",
    "    y = df['pct_'+numerator_variable[11:]].tolist()\n",
    "    X = df[variables_to_select+background_variables]\n",
    "    #remember to shuffle if there's no time series component\n",
    "    return X, y"
   ]
  },
  {
   "cell_type": "markdown",
   "id": "d83ae76c",
   "metadata": {},
   "source": [
    "### 3. Model architectures"
   ]
  },
  {
   "cell_type": "markdown",
   "id": "a9039ad1",
   "metadata": {},
   "source": [
    "**Model specifications to test**\n",
    "1. Look at total_mental vs specific subcodes\n",
    "2. Look at different measures of exposure\n",
    "\n",
    "**Models**\n",
    "1. OLS\n",
    "2. Elasticnet\n",
    "3. Tree-based models"
   ]
  },
  {
   "cell_type": "code",
   "execution_count": 15,
   "id": "d87757bc",
   "metadata": {},
   "outputs": [
    {
     "name": "stdout",
     "output_type": "stream",
     "text": [
      "                            OLS Regression Results                            \n",
      "==============================================================================\n",
      "Dep. Variable:                      y   R-squared:                       1.000\n",
      "Model:                            OLS   Adj. R-squared:                  1.000\n",
      "Method:                 Least Squares   F-statistic:                 1.415e+30\n",
      "Date:                Thu, 09 Mar 2023   Prob (F-statistic):          1.49e-177\n",
      "Time:                        08:46:52   Log-Likelihood:                 611.11\n",
      "No. Observations:                  16   AIC:                            -1214.\n",
      "Df Residuals:                      12   BIC:                            -1211.\n",
      "Df Model:                           3                                         \n",
      "Covariance Type:            nonrobust                                         \n",
      "==============================================================================================\n",
      "                                 coef    std err          t      P>|t|      [0.025      0.975]\n",
      "----------------------------------------------------------------------------------------------\n",
      "const                       3.985e-06   1.45e-21   2.75e+15      0.000    3.98e-06    3.98e-06\n",
      "downwind                   -4.235e-06      7e-21  -6.05e+14      0.000   -4.23e-06   -4.23e-06\n",
      "avg_pm25_exposure            -6.4e-06   9.39e-20  -6.82e+13      0.000    -6.4e-06    -6.4e-06\n",
      "months_over_pm25_threshold  5.328e-06   2.86e-20   1.86e+14      0.000    5.33e-06    5.33e-06\n",
      "avg_temperature            -6.341e-06   4.77e-19  -1.33e+13      0.000   -6.34e-06   -6.34e-06\n",
      "zip_code_population        -3.202e-06   1.39e-20  -2.31e+14      0.000    -3.2e-06    -3.2e-06\n",
      "zip_code_avg_elevation         0.0003   9.21e-20   2.74e+15      0.000       0.000       0.000\n",
      "zip_code_median_income         0.0003   9.25e-20   2.77e+15      0.000       0.000       0.000\n",
      "pct_ethnic_group_1         -1.465e-06   6.41e-22  -2.28e+15      0.000   -1.46e-06   -1.46e-06\n",
      "pct_age_group_1             2.009e-06   3.16e-21   6.36e+14      0.000    2.01e-06    2.01e-06\n",
      "pct_male                    2.009e-06   3.16e-21   6.36e+14      0.000    2.01e-06    2.01e-06\n",
      "pct_female                  1.031e-06   2.73e-21   3.78e+14      0.000    1.03e-06    1.03e-06\n",
      "==============================================================================\n",
      "Omnibus:                       10.998   Durbin-Watson:                   0.231\n",
      "Prob(Omnibus):                  0.004   Jarque-Bera (JB):                1.938\n",
      "Skew:                          -0.006   Prob(JB):                        0.380\n",
      "Kurtosis:                       1.295   Cond. No.                     1.89e+53\n",
      "==============================================================================\n",
      "\n",
      "Notes:\n",
      "[1] Standard Errors assume that the covariance matrix of the errors is correctly specified.\n",
      "[2] The smallest eigenvalue is 2.15e-100. This might indicate that there are\n",
      "strong multicollinearity problems or that the design matrix is singular.\n"
     ]
    },
    {
     "name": "stderr",
     "output_type": "stream",
     "text": [
      "C:\\Users\\lawis\\anaconda3\\lib\\site-packages\\scipy\\stats\\stats.py:1603: UserWarning: kurtosistest only valid for n>=20 ... continuing anyway, n=16\n",
      "  warnings.warn(\"kurtosistest only valid for n>=20 ... continuing \"\n"
     ]
    }
   ],
   "source": [
    "#TBD: use cross validation\n",
    "# create simple train_test_split. \n",
    "X_train, X_test, y_train, y_test = train_test_split(X,y,test_size=0.2, random_state=2023,shuffle=True)\n",
    "\n",
    "#fit model\n",
    "lr_model = sm.OLS(y_train,add_constant(X_train),missing='raise').fit() # or fit_regularized\n",
    "\n",
    "print(lr_model.summary())"
   ]
  },
  {
   "cell_type": "code",
   "execution_count": 22,
   "id": "68b0a06f",
   "metadata": {},
   "outputs": [
    {
     "name": "stdout",
     "output_type": "stream",
     "text": [
      "Train MSE:  3.912045199536573e-35\n",
      "Test MSE:  2.783570622747177e-35\n"
     ]
    }
   ],
   "source": [
    "train_mse = mean_squared_error(y_train,lr_model.predict(add_constant(X_train))) \n",
    "test_mse  = mean_squared_error(y_test,lr_model.predict(add_constant(X_test)))\n",
    "print('Train MSE: ', train_mse); print('Test MSE: ', test_mse)"
   ]
  },
  {
   "cell_type": "code",
   "execution_count": 27,
   "id": "9516c845",
   "metadata": {},
   "outputs": [],
   "source": [
    "#get variables for model diagnostic \n",
    "results = maybe_unwrap_results(lr_model)\n",
    "y_true = results.model.endog\n",
    "y_predict = results.fittedvalues\n",
    "xvar = results.model.exog\n",
    "xvar_names = results.model.exog_names\n",
    "residual = np.array(results.resid)\n",
    "influence = results.get_influence()\n",
    "residual_norm = influence.resid_studentized_internal\n",
    "leverage = influence.hat_matrix_diag\n",
    "cooks_distance = influence.cooks_distance[0]\n",
    "nparams = len(results.params)"
   ]
  },
  {
   "cell_type": "code",
   "execution_count": 41,
   "id": "41d0c908",
   "metadata": {
    "scrolled": true
   },
   "outputs": [
    {
     "data": {
      "image/png": "[encoded data removed]",
      "text/plain": [
       "<Figure size 360x216 with 1 Axes>"
      ]
     },
     "metadata": {
      "needs_background": "light"
     },
     "output_type": "display_data"
    }
   ],
   "source": [
    "#residual plot\n",
    "fig, ax = plt.subplots(figsize=(5,3))\n",
    "\n",
    "sns.residplot(x=y_predict, y=residual, lowess=True,scatter_kws={'alpha': 0.5},\n",
    "              line_kws={'color': 'red', 'lw': 1, 'alpha': 0.8}, ax=ax)\n",
    "\n",
    "# annotations\n",
    "residual_abs = np.abs(residual)\n",
    "abs_resid = np.flip(np.sort(residual_abs))\n",
    "abs_resid_top_3 = abs_resid[:3]\n",
    "for i, _ in enumerate(abs_resid_top_3):\n",
    "    ax.annotate(i, xy=(y_predict[i], residual[i]), color='C3')\n",
    "\n",
    "ax.set_title('Residuals vs Fitted', fontweight=\"bold\")\n",
    "ax.set_xlabel('Fitted values')\n",
    "ax.set_ylabel('Residuals')\n",
    "\n",
    "\n",
    "plt.show()"
   ]
  },
  {
   "cell_type": "code",
   "execution_count": 43,
   "id": "607faa26",
   "metadata": {},
   "outputs": [
    {
     "data": {
      "image/png": "[encoded data removed]",
      "text/plain": [
       "<Figure size 360x216 with 1 Axes>"
      ]
     },
     "metadata": {
      "needs_background": "light"
     },
     "output_type": "display_data"
    }
   ],
   "source": [
    "fig, ax = plt.subplots(figsize=(5,3))\n",
    "\n",
    "QQ = ProbPlot(residual_norm)\n",
    "QQ.qqplot(line='45', alpha=0.5, lw=1, ax=ax)\n",
    "\n",
    "        # annotations\n",
    "abs_norm_resid = np.flip(np.argsort(np.abs(residual_norm)), 0)\n",
    "abs_norm_resid_top_3 = abs_norm_resid[:3]\n",
    "for r, i in enumerate(abs_norm_resid_top_3):\n",
    "    ax.annotate(i,xy=(np.flip(QQ.theoretical_quantiles, 0)[r], residual_norm[i]),\n",
    "                ha='right', color='C3')\n",
    "    ax.set_title('Normal Q-Q', fontweight=\"bold\")\n",
    "    ax.set_xlabel('Theoretical Quantiles')\n",
    "    ax.set_ylabel('Standardized Residuals')\n",
    "    \n",
    "plt.show()"
   ]
  },
  {
   "cell_type": "code",
   "execution_count": 44,
   "id": "522ea067",
   "metadata": {},
   "outputs": [
    {
     "name": "stderr",
     "output_type": "stream",
     "text": [
      "C:\\Users\\lawis\\anaconda3\\lib\\site-packages\\statsmodels\\regression\\linear_model.py:1715: RuntimeWarning: divide by zero encountered in double_scalars\n",
      "  return 1 - self.ssr/self.centered_tss\n"
     ]
    },
    {
     "name": "stdout",
     "output_type": "stream",
     "text": [
      "                      Features  VIF Factor\n",
      "0                        const         0.0\n",
      "1                     downwind         inf\n",
      "2            avg_pm25_exposure         inf\n",
      "3   months_over_pm25_threshold         inf\n",
      "4              avg_temperature         inf\n",
      "5          zip_code_population         inf\n",
      "6       zip_code_avg_elevation         inf\n",
      "7       zip_code_median_income         inf\n",
      "8           pct_ethnic_group_1         inf\n",
      "9              pct_age_group_1         inf\n",
      "10                    pct_male         inf\n",
      "11                  pct_female         inf\n"
     ]
    },
    {
     "name": "stderr",
     "output_type": "stream",
     "text": [
      "C:\\Users\\lawis\\anaconda3\\lib\\site-packages\\statsmodels\\stats\\outliers_influence.py:193: RuntimeWarning: divide by zero encountered in double_scalars\n",
      "  vif = 1. / (1. - r_squared_i)\n"
     ]
    }
   ],
   "source": [
    "vif_df = pd.DataFrame()\n",
    "vif_df[\"Features\"] = xvar_names\n",
    "vif_df[\"VIF Factor\"] = [variance_inflation_factor(xvar, i) for i in range(xvar.shape[1])]\n",
    "print(vif_df.sort_values(\"VIF Factor\").round(2))"
   ]
  },
  {
   "cell_type": "code",
   "execution_count": 53,
   "id": "092af948",
   "metadata": {},
   "outputs": [
    {
     "data": {
      "text/plain": [
       "<matplotlib.legend.Legend at 0x196c12342b0>"
      ]
     },
     "execution_count": 53,
     "metadata": {},
     "output_type": "execute_result"
    },
    {
     "data": {
      "image/png": "[encoded data removed]",
      "text/plain": [
       "<Figure size 432x288 with 1 Axes>"
      ]
     },
     "metadata": {
      "needs_background": "light"
     },
     "output_type": "display_data"
    }
   ],
   "source": [
    "def cooks_dist_line(nparams, factor,leverage):\n",
    "    p = nparams\n",
    "    formula = lambda x: np.sqrt((factor * p * (1 - x)) / x)\n",
    "    x = np.linspace(0.001, max(leverage), 50)\n",
    "    y = formula(x)\n",
    "    return x, y\n",
    "\n",
    "fig, ax = plt.subplots()\n",
    "ax.scatter(leverage,residual_norm, alpha=0.5);\n",
    "sns.regplot(x=leverage, y=residual_norm, scatter=False, ci=False,lowess=True,\n",
    "            line_kws={'color': 'red', 'lw': 1, 'alpha': 0.8},ax=ax)\n",
    "\n",
    "# annotations\n",
    "leverage_top_3 = np.flip(np.argsort(cooks_distance), 0)[:3]\n",
    "for i in leverage_top_3:\n",
    "    ax.annotate(i, xy=(leverage[i], residual_norm[i]),color = 'C3')\n",
    "\n",
    "xtemp, ytemp = cooks_dist_line(nparams,0.5,leverage) # 0.5 line\n",
    "ax.plot(xtemp, ytemp, label=\"Cook's distance\", lw=1, ls='--', color='red')\n",
    "xtemp, ytemp = cooks_dist_line(nparams,1,leverage) # 1 line\n",
    "ax.plot(xtemp, ytemp, lw=1, ls='--', color='red')\n",
    "\n",
    "ax.set_xlim(0, max(leverage)+0.01)\n",
    "ax.set_title('Residuals vs Leverage', fontweight=\"bold\")\n",
    "ax.set_xlabel('Leverage')\n",
    "ax.set_ylabel('Standardized Residuals')\n",
    "ax.legend(loc='upper right')"
   ]
  },
  {
   "cell_type": "code",
   "execution_count": null,
   "id": "fd87e3bc",
   "metadata": {},
   "outputs": [],
   "source": [
    "\n",
    "\n"
   ]
  }
 ],
 "metadata": {
  "kernelspec": {
   "display_name": "Python 3 (ipykernel)",
   "language": "python",
   "name": "python3"
  },
  "language_info": {
   "codemirror_mode": {
    "name": "ipython",
    "version": 3
   },
   "file_extension": ".py",
   "mimetype": "text/x-python",
   "name": "python",
   "nbconvert_exporter": "python",
   "pygments_lexer": "ipython3",
   "version": "3.10.9"
  }
 },
 "nbformat": 4,
 "nbformat_minor": 5
}
