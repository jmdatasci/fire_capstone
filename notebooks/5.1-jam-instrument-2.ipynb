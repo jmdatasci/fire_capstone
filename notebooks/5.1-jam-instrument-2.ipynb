{
 "cells": [
  {
   "cell_type": "markdown",
   "metadata": {
    "id": "tYHK1hQukkQQ"
   },
   "source": [
    "# Main script to Join Data on Instrument 2 Fire Location\n",
    "\n",
    "Modules: N/A <br>\n",
    "Author: Jordan Meyer <br>\n",
    "Email: jordan.meyer@berkeley.edu <br>\n",
    "Date created: Feb 18, 2023 <br>\n",
    "\n",
    "**Citations (data sources)**\n",
    "\n",
    "\n",
    "**Citations (persons)**\n",
    "1. Cornelia Ilin \n",
    "\n",
    "**Preferred environment**\n",
    "1. Code written in Jupyter Notebooks"
   ]
  },
  {
   "cell_type": "markdown",
   "metadata": {
    "id": "6tfgPtoFkkQT"
   },
   "source": [
    "### Step 1: Import packages"
   ]
  },
  {
   "cell_type": "code",
   "execution_count": 113,
   "metadata": {
    "colab": {
     "base_uri": "https://localhost:8080/"
    },
    "id": "fjnF95p4kvc5",
    "outputId": "33149926-6984-4089-e05f-ed9b63ba11aa",
    "tags": []
   },
   "outputs": [],
   "source": [
    "# !pip install geopandas --quiet"
   ]
  },
  {
   "cell_type": "code",
   "execution_count": 114,
   "metadata": {
    "id": "lOIoWI_-kkQT",
    "tags": []
   },
   "outputs": [],
   "source": [
    "import calendar\n",
    "import os\n",
    "from datetime import date, timedelta\n",
    "\n",
    "# geography\n",
    "import geopandas as gpd\n",
    "import matplotlib.pyplot as plt\n",
    "import matplotlib.ticker as mticker\n",
    "import numpy as np\n",
    "import pandas as pd\n",
    "import shapely\n",
    "\n",
    "# Moved from sklearn.neighbors to sklearn.metrics following their package change\n",
    "import sklearn.metrics\n",
    "from shapely.geometry import Point\n",
    "\n",
    "# import cartopy.crs as ccrs\n",
    "# import contextily as ctx\n",
    "# import fiona\n",
    "# import netCDF4 as ncdf\n",
    "# import osmnx as ox\n",
    "# from cartopy.mpl.gridliner import LATITUDE_FORMATTER, LONGITUDE_FORMATTER\n",
    "# from mpl_toolkits.axes_grid1.axes_divider import make_axes_locatable\n",
    "\n",
    "\n",
    "dist = sklearn.metrics.DistanceMetric.get_metric(\"haversine\")\n",
    "\n",
    "# ignore warnings\n",
    "import warnings\n",
    "\n",
    "from tqdm.notebook import tqdm, trange\n",
    "\n",
    "warnings.filterwarnings(\"ignore\")"
   ]
  },
  {
   "cell_type": "markdown",
   "metadata": {
    "id": "SEV08dHBkkQV"
   },
   "source": [
    "### Step 2: Define working directories"
   ]
  },
  {
   "cell_type": "code",
   "execution_count": 115,
   "metadata": {
    "colab": {
     "base_uri": "https://localhost:8080/"
    },
    "id": "ITYeHWgmkkQV",
    "outputId": "dfb20692-6cc8-4854-ebc7-2606f6a5d1c3",
    "tags": []
   },
   "outputs": [],
   "source": [
    "# from google.colab import drive\n",
    "# drive.mount('/content/drive')\n",
    "# in_dir = '/content/drive/MyDrive/capstone_fire/data/'\n",
    "# in_instrument = '/content/drive/MyDrive/capstone_fire/notebooks/instrument_2/'\n",
    "\n",
    "\n",
    "# # Local directories on my machine (not gdrive)\n",
    "in_dir = in_instrument = \"../data/instrument_2/\""
   ]
  },
  {
   "cell_type": "markdown",
   "metadata": {
    "id": "F2YOPXGIkkQV"
   },
   "source": [
    "### Step 3: Define functions"
   ]
  },
  {
   "cell_type": "markdown",
   "metadata": {
    "id": "JO93wrfokkQV"
   },
   "source": [
    "### Step 4: Read data"
   ]
  },
  {
   "cell_type": "markdown",
   "metadata": {
    "id": "ENb_aZWokkQW",
    "tags": []
   },
   "source": [
    "## Wind"
   ]
  },
  {
   "cell_type": "markdown",
   "metadata": {
    "id": "jzvyz9DykkQW"
   },
   "source": [
    "Wind load from other file"
   ]
  },
  {
   "cell_type": "code",
   "execution_count": 116,
   "metadata": {
    "colab": {
     "base_uri": "https://localhost:8080/",
     "height": 424
    },
    "id": "laWpNFWxkkQW",
    "outputId": "2e074676-a0d2-478d-fa82-bf7f35a8bb75",
    "tags": []
   },
   "outputs": [
    {
     "data": {
      "text/html": [
       "<div>\n",
       "<style scoped>\n",
       "    .dataframe tbody tr th:only-of-type {\n",
       "        vertical-align: middle;\n",
       "    }\n",
       "\n",
       "    .dataframe tbody tr th {\n",
       "        vertical-align: top;\n",
       "    }\n",
       "\n",
       "    .dataframe thead th {\n",
       "        text-align: right;\n",
       "    }\n",
       "</style>\n",
       "<table border=\"1\" class=\"dataframe\">\n",
       "  <thead>\n",
       "    <tr style=\"text-align: right;\">\n",
       "      <th></th>\n",
       "      <th>lat</th>\n",
       "      <th>lon</th>\n",
       "      <th>ZCTA</th>\n",
       "      <th>u</th>\n",
       "      <th>v</th>\n",
       "      <th>wdir</th>\n",
       "      <th>wspd</th>\n",
       "      <th>year_month</th>\n",
       "      <th>year</th>\n",
       "      <th>month</th>\n",
       "    </tr>\n",
       "  </thead>\n",
       "  <tbody>\n",
       "    <tr>\n",
       "      <th>0</th>\n",
       "      <td>37.465</td>\n",
       "      <td>-117.936</td>\n",
       "      <td>89010</td>\n",
       "      <td>0.504258</td>\n",
       "      <td>-0.719008</td>\n",
       "      <td>305.042938</td>\n",
       "      <td>0.878208</td>\n",
       "      <td>199101</td>\n",
       "      <td>1991</td>\n",
       "      <td>1</td>\n",
       "    </tr>\n",
       "    <tr>\n",
       "      <th>1</th>\n",
       "      <td>35.396</td>\n",
       "      <td>-116.322</td>\n",
       "      <td>89019</td>\n",
       "      <td>-0.172753</td>\n",
       "      <td>-0.946940</td>\n",
       "      <td>259.661102</td>\n",
       "      <td>0.962568</td>\n",
       "      <td>199101</td>\n",
       "      <td>1991</td>\n",
       "      <td>1</td>\n",
       "    </tr>\n",
       "    <tr>\n",
       "      <th>2</th>\n",
       "      <td>36.161</td>\n",
       "      <td>-116.139</td>\n",
       "      <td>89060</td>\n",
       "      <td>-0.435964</td>\n",
       "      <td>-0.812957</td>\n",
       "      <td>241.796738</td>\n",
       "      <td>0.922477</td>\n",
       "      <td>199101</td>\n",
       "      <td>1991</td>\n",
       "      <td>1</td>\n",
       "    </tr>\n",
       "    <tr>\n",
       "      <th>3</th>\n",
       "      <td>35.957</td>\n",
       "      <td>-115.897</td>\n",
       "      <td>89061</td>\n",
       "      <td>-0.560538</td>\n",
       "      <td>-1.176384</td>\n",
       "      <td>244.522552</td>\n",
       "      <td>1.303105</td>\n",
       "      <td>199101</td>\n",
       "      <td>1991</td>\n",
       "      <td>1</td>\n",
       "    </tr>\n",
       "    <tr>\n",
       "      <th>4</th>\n",
       "      <td>39.520</td>\n",
       "      <td>-120.032</td>\n",
       "      <td>89439</td>\n",
       "      <td>0.042253</td>\n",
       "      <td>0.205661</td>\n",
       "      <td>78.390099</td>\n",
       "      <td>0.209957</td>\n",
       "      <td>199101</td>\n",
       "      <td>1991</td>\n",
       "      <td>1</td>\n",
       "    </tr>\n",
       "    <tr>\n",
       "      <th>...</th>\n",
       "      <td>...</td>\n",
       "      <td>...</td>\n",
       "      <td>...</td>\n",
       "      <td>...</td>\n",
       "      <td>...</td>\n",
       "      <td>...</td>\n",
       "      <td>...</td>\n",
       "      <td>...</td>\n",
       "      <td>...</td>\n",
       "      <td>...</td>\n",
       "    </tr>\n",
       "    <tr>\n",
       "      <th>627067</th>\n",
       "      <td>39.149</td>\n",
       "      <td>-120.248</td>\n",
       "      <td>96146</td>\n",
       "      <td>0.636599</td>\n",
       "      <td>0.953782</td>\n",
       "      <td>56.279018</td>\n",
       "      <td>1.146716</td>\n",
       "      <td>202212</td>\n",
       "      <td>2022</td>\n",
       "      <td>12</td>\n",
       "    </tr>\n",
       "    <tr>\n",
       "      <th>627068</th>\n",
       "      <td>39.236</td>\n",
       "      <td>-120.062</td>\n",
       "      <td>96148</td>\n",
       "      <td>0.636599</td>\n",
       "      <td>0.953782</td>\n",
       "      <td>56.279018</td>\n",
       "      <td>1.146716</td>\n",
       "      <td>202212</td>\n",
       "      <td>2022</td>\n",
       "      <td>12</td>\n",
       "    </tr>\n",
       "    <tr>\n",
       "      <th>627069</th>\n",
       "      <td>38.732</td>\n",
       "      <td>-120.033</td>\n",
       "      <td>96150</td>\n",
       "      <td>0.071517</td>\n",
       "      <td>0.472164</td>\n",
       "      <td>81.387100</td>\n",
       "      <td>0.477549</td>\n",
       "      <td>202212</td>\n",
       "      <td>2022</td>\n",
       "      <td>12</td>\n",
       "    </tr>\n",
       "    <tr>\n",
       "      <th>627070</th>\n",
       "      <td>39.184</td>\n",
       "      <td>-120.427</td>\n",
       "      <td>96161</td>\n",
       "      <td>-0.217010</td>\n",
       "      <td>0.239125</td>\n",
       "      <td>132.224274</td>\n",
       "      <td>0.322915</td>\n",
       "      <td>202212</td>\n",
       "      <td>2022</td>\n",
       "      <td>12</td>\n",
       "    </tr>\n",
       "    <tr>\n",
       "      <th>627071</th>\n",
       "      <td>41.993</td>\n",
       "      <td>-120.250</td>\n",
       "      <td>97635</td>\n",
       "      <td>0.961322</td>\n",
       "      <td>1.734917</td>\n",
       "      <td>61.009048</td>\n",
       "      <td>1.983451</td>\n",
       "      <td>202212</td>\n",
       "      <td>2022</td>\n",
       "      <td>12</td>\n",
       "    </tr>\n",
       "  </tbody>\n",
       "</table>\n",
       "<p>627072 rows × 10 columns</p>\n",
       "</div>"
      ],
      "text/plain": [
       "           lat      lon   ZCTA         u         v        wdir      wspd  \\\n",
       "0       37.465 -117.936  89010  0.504258 -0.719008  305.042938  0.878208   \n",
       "1       35.396 -116.322  89019 -0.172753 -0.946940  259.661102  0.962568   \n",
       "2       36.161 -116.139  89060 -0.435964 -0.812957  241.796738  0.922477   \n",
       "3       35.957 -115.897  89061 -0.560538 -1.176384  244.522552  1.303105   \n",
       "4       39.520 -120.032  89439  0.042253  0.205661   78.390099  0.209957   \n",
       "...        ...      ...    ...       ...       ...         ...       ...   \n",
       "627067  39.149 -120.248  96146  0.636599  0.953782   56.279018  1.146716   \n",
       "627068  39.236 -120.062  96148  0.636599  0.953782   56.279018  1.146716   \n",
       "627069  38.732 -120.033  96150  0.071517  0.472164   81.387100  0.477549   \n",
       "627070  39.184 -120.427  96161 -0.217010  0.239125  132.224274  0.322915   \n",
       "627071  41.993 -120.250  97635  0.961322  1.734917   61.009048  1.983451   \n",
       "\n",
       "       year_month  year  month  \n",
       "0          199101  1991      1  \n",
       "1          199101  1991      1  \n",
       "2          199101  1991      1  \n",
       "3          199101  1991      1  \n",
       "4          199101  1991      1  \n",
       "...           ...   ...    ...  \n",
       "627067     202212  2022     12  \n",
       "627068     202212  2022     12  \n",
       "627069     202212  2022     12  \n",
       "627070     202212  2022     12  \n",
       "627071     202212  2022     12  \n",
       "\n",
       "[627072 rows x 10 columns]"
      ]
     },
     "execution_count": 116,
     "metadata": {},
     "output_type": "execute_result"
    }
   ],
   "source": [
    "wind_df = (\n",
    "    (\n",
    "        pd.read_csv(in_dir + \"all_years_wind_data.csv\", index_col=0)\n",
    "        .sort_values([\"year_month\", \"ZCTA10\"])\n",
    "        .reset_index(drop=True)\n",
    "    )\n",
    "    .drop(\"Unnamed: 0\", axis=1)\n",
    "    .rename(columns={\"ZCTA10\": \"ZCTA\"})\n",
    "    .reset_index(drop=True)\n",
    "    .drop_duplicates()\n",
    ")\n",
    "\n",
    "\n",
    "wind_df[\"year_month\"] = wind_df[\"year_month\"].astype(str)\n",
    "wind_df[\"ZCTA\"] = wind_df[\"ZCTA\"].astype(str)\n",
    "\n",
    "\n",
    "wind_df[wind_df.ZCTA == \"97635\"].lat = 41.993\n",
    "# wind_ready.loc['97635','ZCTA' == '97635']#['lon'] = -120.250\n",
    "# wind_ready = wind_ready.drop_duplicates()\n",
    "ind_fix = wind_df[wind_df.ZCTA == \"97635\"].index\n",
    "for ind in ind_fix:\n",
    "    wind_df.iloc[ind, 0] = 41.993\n",
    "    wind_df.iloc[ind, 1] = -120.250\n",
    "\n",
    "wind_dates = wind_df[\"year_month\"].unique()\n",
    "wind_zips = wind_df[\"ZCTA\"].unique()\n",
    "wind_ready = wind_df\n",
    "wind_ready"
   ]
  },
  {
   "cell_type": "markdown",
   "metadata": {
    "id": "maVh7Nc9kkQX",
    "tags": []
   },
   "source": [
    "## Fire"
   ]
  },
  {
   "cell_type": "markdown",
   "metadata": {
    "id": "pfDP0Xd7kkQY"
   },
   "source": [
    "Finsh cleaning some fire things and then join fire to wind "
   ]
  },
  {
   "cell_type": "code",
   "execution_count": 117,
   "metadata": {
    "colab": {
     "base_uri": "https://localhost:8080/",
     "height": 661
    },
    "id": "5nAncP5SkkQY",
    "outputId": "e4f599b4-d4a6-438a-de3f-700dd2c6c12a",
    "tags": []
   },
   "outputs": [
    {
     "data": {
      "text/html": [
       "<div>\n",
       "<style scoped>\n",
       "    .dataframe tbody tr th:only-of-type {\n",
       "        vertical-align: middle;\n",
       "    }\n",
       "\n",
       "    .dataframe tbody tr th {\n",
       "        vertical-align: top;\n",
       "    }\n",
       "\n",
       "    .dataframe thead th {\n",
       "        text-align: right;\n",
       "    }\n",
       "</style>\n",
       "<table border=\"1\" class=\"dataframe\">\n",
       "  <thead>\n",
       "    <tr style=\"text-align: right;\">\n",
       "      <th></th>\n",
       "      <th>fire_lat_lon</th>\n",
       "      <th>acres</th>\n",
       "      <th>fire_lat</th>\n",
       "      <th>fire_lon</th>\n",
       "      <th>fire_days_in_mo</th>\n",
       "      <th>fire_wdir</th>\n",
       "      <th>fire_wspd</th>\n",
       "      <th>year_month</th>\n",
       "      <th>year</th>\n",
       "      <th>month</th>\n",
       "    </tr>\n",
       "  </thead>\n",
       "  <tbody>\n",
       "    <tr>\n",
       "      <th>0</th>\n",
       "      <td>(35.25539508507167, -119.5812970773511)</td>\n",
       "      <td>238.031830</td>\n",
       "      <td>35.255395</td>\n",
       "      <td>-119.581297</td>\n",
       "      <td>0.032258</td>\n",
       "      <td>342.554565</td>\n",
       "      <td>1.595909</td>\n",
       "      <td>199305</td>\n",
       "      <td>1993</td>\n",
       "      <td>5</td>\n",
       "    </tr>\n",
       "    <tr>\n",
       "      <th>1</th>\n",
       "      <td>(39.45165114943642, -120.0093608630314)</td>\n",
       "      <td>19.139362</td>\n",
       "      <td>39.451651</td>\n",
       "      <td>-120.009361</td>\n",
       "      <td>0.032258</td>\n",
       "      <td>0.700786</td>\n",
       "      <td>1.000503</td>\n",
       "      <td>199307</td>\n",
       "      <td>1993</td>\n",
       "      <td>7</td>\n",
       "    </tr>\n",
       "    <tr>\n",
       "      <th>2</th>\n",
       "      <td>(38.63102591471577, -120.8402934705149)</td>\n",
       "      <td>70.179840</td>\n",
       "      <td>38.631026</td>\n",
       "      <td>-120.840293</td>\n",
       "      <td>0.033333</td>\n",
       "      <td>58.361294</td>\n",
       "      <td>0.271346</td>\n",
       "      <td>199309</td>\n",
       "      <td>1993</td>\n",
       "      <td>9</td>\n",
       "    </tr>\n",
       "    <tr>\n",
       "      <th>3</th>\n",
       "      <td>(35.42095813876129, -119.7656494555765)</td>\n",
       "      <td>23.423927</td>\n",
       "      <td>35.420958</td>\n",
       "      <td>-119.765649</td>\n",
       "      <td>0.033333</td>\n",
       "      <td>331.157288</td>\n",
       "      <td>1.023493</td>\n",
       "      <td>199309</td>\n",
       "      <td>1993</td>\n",
       "      <td>9</td>\n",
       "    </tr>\n",
       "    <tr>\n",
       "      <th>4</th>\n",
       "      <td>(35.32190356232154, -118.4169237147862)</td>\n",
       "      <td>151.780167</td>\n",
       "      <td>35.321904</td>\n",
       "      <td>-118.416924</td>\n",
       "      <td>0.032258</td>\n",
       "      <td>7.345666</td>\n",
       "      <td>1.831764</td>\n",
       "      <td>199308</td>\n",
       "      <td>1993</td>\n",
       "      <td>8</td>\n",
       "    </tr>\n",
       "    <tr>\n",
       "      <th>...</th>\n",
       "      <td>...</td>\n",
       "      <td>...</td>\n",
       "      <td>...</td>\n",
       "      <td>...</td>\n",
       "      <td>...</td>\n",
       "      <td>...</td>\n",
       "      <td>...</td>\n",
       "      <td>...</td>\n",
       "      <td>...</td>\n",
       "      <td>...</td>\n",
       "    </tr>\n",
       "    <tr>\n",
       "      <th>6632</th>\n",
       "      <td>(37.87494989081461, -119.7281350256987)</td>\n",
       "      <td>331.624695</td>\n",
       "      <td>37.874950</td>\n",
       "      <td>-119.728135</td>\n",
       "      <td>0.166667</td>\n",
       "      <td>73.448456</td>\n",
       "      <td>0.113857</td>\n",
       "      <td>200709</td>\n",
       "      <td>2007</td>\n",
       "      <td>9</td>\n",
       "    </tr>\n",
       "    <tr>\n",
       "      <th>6633</th>\n",
       "      <td>(37.56860595616687, -119.6600328204804)</td>\n",
       "      <td>23.633701</td>\n",
       "      <td>37.568606</td>\n",
       "      <td>-119.660033</td>\n",
       "      <td>0.233333</td>\n",
       "      <td>158.267761</td>\n",
       "      <td>0.253292</td>\n",
       "      <td>200711</td>\n",
       "      <td>2007</td>\n",
       "      <td>11</td>\n",
       "    </tr>\n",
       "    <tr>\n",
       "      <th>6634</th>\n",
       "      <td>(37.74854288820926, -119.7035432531625)</td>\n",
       "      <td>239.260773</td>\n",
       "      <td>37.748543</td>\n",
       "      <td>-119.703543</td>\n",
       "      <td>1.000000</td>\n",
       "      <td>215.334213</td>\n",
       "      <td>0.138538</td>\n",
       "      <td>200711</td>\n",
       "      <td>2007</td>\n",
       "      <td>11</td>\n",
       "    </tr>\n",
       "    <tr>\n",
       "      <th>6635</th>\n",
       "      <td>(37.74854288820926, -119.7035432531625)</td>\n",
       "      <td>239.260773</td>\n",
       "      <td>37.748543</td>\n",
       "      <td>-119.703543</td>\n",
       "      <td>0.258065</td>\n",
       "      <td>178.254211</td>\n",
       "      <td>0.474964</td>\n",
       "      <td>200712</td>\n",
       "      <td>2007</td>\n",
       "      <td>12</td>\n",
       "    </tr>\n",
       "    <tr>\n",
       "      <th>6636</th>\n",
       "      <td>(37.57265198276752, -119.6631369569977)</td>\n",
       "      <td>1106.247559</td>\n",
       "      <td>37.572652</td>\n",
       "      <td>-119.663137</td>\n",
       "      <td>0.032258</td>\n",
       "      <td>152.014847</td>\n",
       "      <td>0.167112</td>\n",
       "      <td>200712</td>\n",
       "      <td>2007</td>\n",
       "      <td>12</td>\n",
       "    </tr>\n",
       "  </tbody>\n",
       "</table>\n",
       "<p>6637 rows × 10 columns</p>\n",
       "</div>"
      ],
      "text/plain": [
       "                                 fire_lat_lon        acres   fire_lat  \\\n",
       "0     (35.25539508507167, -119.5812970773511)   238.031830  35.255395   \n",
       "1     (39.45165114943642, -120.0093608630314)    19.139362  39.451651   \n",
       "2     (38.63102591471577, -120.8402934705149)    70.179840  38.631026   \n",
       "3     (35.42095813876129, -119.7656494555765)    23.423927  35.420958   \n",
       "4     (35.32190356232154, -118.4169237147862)   151.780167  35.321904   \n",
       "...                                       ...          ...        ...   \n",
       "6632  (37.87494989081461, -119.7281350256987)   331.624695  37.874950   \n",
       "6633  (37.56860595616687, -119.6600328204804)    23.633701  37.568606   \n",
       "6634  (37.74854288820926, -119.7035432531625)   239.260773  37.748543   \n",
       "6635  (37.74854288820926, -119.7035432531625)   239.260773  37.748543   \n",
       "6636  (37.57265198276752, -119.6631369569977)  1106.247559  37.572652   \n",
       "\n",
       "        fire_lon  fire_days_in_mo   fire_wdir  fire_wspd  year_month  year  \\\n",
       "0    -119.581297         0.032258  342.554565   1.595909      199305  1993   \n",
       "1    -120.009361         0.032258    0.700786   1.000503      199307  1993   \n",
       "2    -120.840293         0.033333   58.361294   0.271346      199309  1993   \n",
       "3    -119.765649         0.033333  331.157288   1.023493      199309  1993   \n",
       "4    -118.416924         0.032258    7.345666   1.831764      199308  1993   \n",
       "...          ...              ...         ...        ...         ...   ...   \n",
       "6632 -119.728135         0.166667   73.448456   0.113857      200709  2007   \n",
       "6633 -119.660033         0.233333  158.267761   0.253292      200711  2007   \n",
       "6634 -119.703543         1.000000  215.334213   0.138538      200711  2007   \n",
       "6635 -119.703543         0.258065  178.254211   0.474964      200712  2007   \n",
       "6636 -119.663137         0.032258  152.014847   0.167112      200712  2007   \n",
       "\n",
       "      month  \n",
       "0         5  \n",
       "1         7  \n",
       "2         9  \n",
       "3         9  \n",
       "4         8  \n",
       "...     ...  \n",
       "6632      9  \n",
       "6633     11  \n",
       "6634     11  \n",
       "6635     12  \n",
       "6636     12  \n",
       "\n",
       "[6637 rows x 10 columns]"
      ]
     },
     "execution_count": 117,
     "metadata": {},
     "output_type": "execute_result"
    }
   ],
   "source": [
    "fire_df = pd.read_csv(in_instrument + \"fire_wind_processed.csv\", index_col=0)\n",
    "\n",
    "# Extract year and month, filter for fires in scope 1991+\n",
    "# fire_df[\"year\"] = fire_df[\"ALARM_DATE\"].str[:4]\n",
    "fire_df = fire_df[fire_df[\"year\"].astype(int) > 1990]\n",
    "fire_df = fire_df[fire_df[\"year\"].astype(int) < 2020]\n",
    "\n",
    "# Extract Month and End Year/Month\n",
    "fire_df[\"month\"] = fire_df[\"month\"].astype(int)\n",
    "fire_df[\"end_year\"] = fire_df[\"CONT_DATE\"].str[:4]\n",
    "fire_df[\"end_month\"] = fire_df[\"CONT_DATE\"].str[5:7].astype(int)\n",
    "\n",
    "# Give each fire a unique index code for later\n",
    "fire_df = (\n",
    "    fire_df.drop_duplicates().reset_index().rename(columns={\"Index\": \"fire_index\"})\n",
    ")\n",
    "\n",
    "fire_df[\"geometry\"] = gpd.GeoSeries.from_wkt(fire_df[\"fire_centroid\"])\n",
    "fire_df[\"lon\"] = fire_df[\"geometry\"].apply(lambda p: p.x)\n",
    "fire_df[\"lat\"] = fire_df[\"geometry\"].apply(lambda p: p.y)\n",
    "\n",
    "fire_df[\"sq_mi\"] = fire_df[\"GIS_ACRES\"] / 640\n",
    "fire_df[\"radius_mi\"] = np.sqrt(fire_df[\"sq_mi\"] / np.pi)\n",
    "\n",
    "# Give each fire a unique index code for later\n",
    "fire_df = (\n",
    "    fire_df.drop_duplicates()\n",
    "    .reset_index(drop=True)\n",
    "    .reset_index()\n",
    "    .rename(columns={\"index\": \"fire_index\"})\n",
    ")\n",
    "\n",
    "fire_dates = fire_df[\"year_month\"].unique()\n",
    "fire_indexes = fire_df.index\n",
    "\n",
    "fire_df.year = fire_df.year.astype(int)\n",
    "fire_df.month = fire_df.month.astype(int)\n",
    "fire_df[\"max_days_in_mo\"] = fire_df[[\"year\", \"month\"]].apply(\n",
    "    lambda x: calendar.monthrange(*x)[1], axis=1\n",
    ")\n",
    "\n",
    "fire_df[\"sq_mi\"] = fire_df[\"GIS_ACRES\"] / 640\n",
    "fire_df[\"radius_mi\"] = np.sqrt(fire_df[\"sq_mi\"] / np.pi)\n",
    "\n",
    "fire_df[\"start_month\"] = fire_df[\"ALARM_DATE\"].apply(lambda x: int(x[5:7]))\n",
    "fire_df[\"start_day\"] = fire_df[\"ALARM_DATE\"].apply(lambda x: int(x[8:10]))\n",
    "\n",
    "fire_df[\"end_month\"] = fire_df[\"CONT_DATE\"].apply(lambda x: int(x[5:7]))\n",
    "fire_df[\"end_day\"] = fire_df[\"CONT_DATE\"].apply(lambda x: int(x[8:10]))\n",
    "\n",
    "\n",
    "fire_df[\"start_mid_end\"] = fire_df[[\"month\", \"start_month\", \"end_month\"]].apply(\n",
    "    lambda x: (\n",
    "        \"complete\"\n",
    "        if x[1] == x[2]\n",
    "        else (\"start\" if x[0] == x[1] else (\"end\" if x[0] == x[2] else \"mid\"))\n",
    "    ),\n",
    "    axis=1,\n",
    ")\n",
    "\n",
    "fire_df[\"fire_days_in_mo\"] = fire_df[\n",
    "    [\n",
    "        \"start_month\",\n",
    "        \"end_month\",\n",
    "        \"max_days_in_mo\",\n",
    "        \"start_day\",\n",
    "        \"end_day\",\n",
    "        \"start_mid_end\",\n",
    "    ]\n",
    "].apply(\n",
    "    lambda x: (\n",
    "        1\n",
    "        if (x[\"end_day\"] - x[\"start_day\"] == 0)\n",
    "        else (\n",
    "            x[\"end_day\"] - x[\"start_day\"]\n",
    "            if (x[\"start_mid_end\"] == \"complete\")\n",
    "            else (\n",
    "                x[\"max_days_in_mo\"] - x[\"start_day\"]\n",
    "                if (x[\"start_mid_end\"] == \"start\")\n",
    "                else (\n",
    "                    x[\"end_day\"]\n",
    "                    if x[\"start_mid_end\"] == \"end\"\n",
    "                    else (x[\"max_days_in_mo\"])\n",
    "                )\n",
    "            )\n",
    "        )\n",
    "    )\n",
    "    / x[\"max_days_in_mo\"],\n",
    "    axis=1,\n",
    ")\n",
    "\n",
    "fire_backup = fire_df\n",
    "\n",
    "fire_ready = fire_df[\n",
    "    [\n",
    "        \"fire_lat_lon\",\n",
    "        \"GIS_ACRES\",\n",
    "        \"lat\",\n",
    "        \"lon\",\n",
    "        \"fire_days_in_mo\",\n",
    "        \"fire_wdir\",\n",
    "        \"fire_wspd\",\n",
    "        \"year_month\",\n",
    "        \"year\",\n",
    "        \"month\",\n",
    "    ]\n",
    "]\n",
    "fire_ready = fire_ready.reset_index(drop=True).rename(\n",
    "    columns={\"GIS_ACRES\": \"acres\", \"lat\": \"fire_lat\", \"lon\": \"fire_lon\"}\n",
    ")\n",
    "\n",
    "fire_ready"
   ]
  },
  {
   "cell_type": "markdown",
   "metadata": {
    "id": "a2CzSjdDkkQY",
    "tags": []
   },
   "source": [
    "## PM2.5"
   ]
  },
  {
   "cell_type": "markdown",
   "metadata": {
    "id": "ZZnddZptkkQZ"
   },
   "source": [
    "Load PM2.5 from lawis files downloaded from gdrive"
   ]
  },
  {
   "cell_type": "code",
   "execution_count": 118,
   "metadata": {
    "colab": {
     "base_uri": "https://localhost:8080/",
     "height": 424
    },
    "id": "keugulHqkkQZ",
    "outputId": "efae24c0-a73e-4e48-d01b-393bbe4d2c91",
    "tags": []
   },
   "outputs": [
    {
     "data": {
      "text/html": [
       "<div>\n",
       "<style scoped>\n",
       "    .dataframe tbody tr th:only-of-type {\n",
       "        vertical-align: middle;\n",
       "    }\n",
       "\n",
       "    .dataframe tbody tr th {\n",
       "        vertical-align: top;\n",
       "    }\n",
       "\n",
       "    .dataframe thead th {\n",
       "        text-align: right;\n",
       "    }\n",
       "</style>\n",
       "<table border=\"1\" class=\"dataframe\">\n",
       "  <thead>\n",
       "    <tr style=\"text-align: right;\">\n",
       "      <th></th>\n",
       "      <th>year_month</th>\n",
       "      <th>ZIP10</th>\n",
       "      <th>pm25</th>\n",
       "    </tr>\n",
       "  </thead>\n",
       "  <tbody>\n",
       "    <tr>\n",
       "      <th>204</th>\n",
       "      <td>2017-01</td>\n",
       "      <td>89010</td>\n",
       "      <td>1.842857</td>\n",
       "    </tr>\n",
       "    <tr>\n",
       "      <th>205</th>\n",
       "      <td>2017-02</td>\n",
       "      <td>89010</td>\n",
       "      <td>3.528571</td>\n",
       "    </tr>\n",
       "    <tr>\n",
       "      <th>206</th>\n",
       "      <td>2017-03</td>\n",
       "      <td>89010</td>\n",
       "      <td>3.242857</td>\n",
       "    </tr>\n",
       "    <tr>\n",
       "      <th>207</th>\n",
       "      <td>2017-04</td>\n",
       "      <td>89010</td>\n",
       "      <td>3.700000</td>\n",
       "    </tr>\n",
       "    <tr>\n",
       "      <th>208</th>\n",
       "      <td>2017-05</td>\n",
       "      <td>89010</td>\n",
       "      <td>5.242857</td>\n",
       "    </tr>\n",
       "    <tr>\n",
       "      <th>...</th>\n",
       "      <td>...</td>\n",
       "      <td>...</td>\n",
       "      <td>...</td>\n",
       "    </tr>\n",
       "    <tr>\n",
       "      <th>585307</th>\n",
       "      <td>2016-12</td>\n",
       "      <td>96148</td>\n",
       "      <td>1.713333</td>\n",
       "    </tr>\n",
       "    <tr>\n",
       "      <th>585308</th>\n",
       "      <td>2016-12</td>\n",
       "      <td>96150</td>\n",
       "      <td>1.719288</td>\n",
       "    </tr>\n",
       "    <tr>\n",
       "      <th>585309</th>\n",
       "      <td>2016-12</td>\n",
       "      <td>96155</td>\n",
       "      <td>0.771287</td>\n",
       "    </tr>\n",
       "    <tr>\n",
       "      <th>585310</th>\n",
       "      <td>2016-12</td>\n",
       "      <td>96161</td>\n",
       "      <td>1.416996</td>\n",
       "    </tr>\n",
       "    <tr>\n",
       "      <th>585311</th>\n",
       "      <td>2016-12</td>\n",
       "      <td>97635</td>\n",
       "      <td>4.153661</td>\n",
       "    </tr>\n",
       "  </tbody>\n",
       "</table>\n",
       "<p>626400 rows × 3 columns</p>\n",
       "</div>"
      ],
      "text/plain": [
       "       year_month  ZIP10      pm25\n",
       "204       2017-01  89010  1.842857\n",
       "205       2017-02  89010  3.528571\n",
       "206       2017-03  89010  3.242857\n",
       "207       2017-04  89010  3.700000\n",
       "208       2017-05  89010  5.242857\n",
       "...           ...    ...       ...\n",
       "585307    2016-12  96148  1.713333\n",
       "585308    2016-12  96150  1.719288\n",
       "585309    2016-12  96155  0.771287\n",
       "585310    2016-12  96161  1.416996\n",
       "585311    2016-12  97635  4.153661\n",
       "\n",
       "[626400 rows x 3 columns]"
      ]
     },
     "execution_count": 118,
     "metadata": {},
     "output_type": "execute_result"
    }
   ],
   "source": [
    "aqi1 = pd.read_csv(in_instrument + \"jordan_firepm25.csv\", index_col=0)\n",
    "aqi2 = pd.read_csv(in_instrument + \"finalpm25.csv\", index_col=0)\n",
    "aqi2"
   ]
  },
  {
   "cell_type": "code",
   "execution_count": 119,
   "metadata": {
    "id": "EON_VeM9kkQZ",
    "tags": []
   },
   "outputs": [],
   "source": [
    "pm25_df = aqi2.reset_index(drop=True).rename(\n",
    "    columns={\"ZIP10\": \"ZCTA\", \"year_month\": \"old_ym\"}\n",
    ")\n",
    "pm25_df[\"year_month\"] = pm25_df[\"old_ym\"].str[:4] + pm25_df[\"old_ym\"].str[5:]\n",
    "pm25_df[\"ZCTA\"] = pm25_df[\"ZCTA\"].astype(str)\n",
    "pm25_ready = pm25_df.drop(\"old_ym\", axis=1)"
   ]
  },
  {
   "cell_type": "code",
   "execution_count": 120,
   "metadata": {
    "colab": {
     "base_uri": "https://localhost:8080/",
     "height": 424
    },
    "id": "uOzVw9fakkQZ",
    "outputId": "fd4ce4da-a7e3-446a-f2ad-64fcecd8a184",
    "tags": []
   },
   "outputs": [
    {
     "data": {
      "text/html": [
       "<div>\n",
       "<style scoped>\n",
       "    .dataframe tbody tr th:only-of-type {\n",
       "        vertical-align: middle;\n",
       "    }\n",
       "\n",
       "    .dataframe tbody tr th {\n",
       "        vertical-align: top;\n",
       "    }\n",
       "\n",
       "    .dataframe thead th {\n",
       "        text-align: right;\n",
       "    }\n",
       "</style>\n",
       "<table border=\"1\" class=\"dataframe\">\n",
       "  <thead>\n",
       "    <tr style=\"text-align: right;\">\n",
       "      <th></th>\n",
       "      <th>zip_lat</th>\n",
       "      <th>zip_lon</th>\n",
       "      <th>ZCTA</th>\n",
       "      <th>zip_wdir</th>\n",
       "      <th>zip_wspd</th>\n",
       "      <th>year_month</th>\n",
       "      <th>year</th>\n",
       "      <th>month</th>\n",
       "      <th>zip_pm25</th>\n",
       "    </tr>\n",
       "  </thead>\n",
       "  <tbody>\n",
       "    <tr>\n",
       "      <th>0</th>\n",
       "      <td>37.465</td>\n",
       "      <td>-117.936</td>\n",
       "      <td>89010</td>\n",
       "      <td>305.042938</td>\n",
       "      <td>0.878208</td>\n",
       "      <td>199101</td>\n",
       "      <td>1991</td>\n",
       "      <td>1</td>\n",
       "      <td>12.450976</td>\n",
       "    </tr>\n",
       "    <tr>\n",
       "      <th>1</th>\n",
       "      <td>35.396</td>\n",
       "      <td>-116.322</td>\n",
       "      <td>89019</td>\n",
       "      <td>259.661102</td>\n",
       "      <td>0.962568</td>\n",
       "      <td>199101</td>\n",
       "      <td>1991</td>\n",
       "      <td>1</td>\n",
       "      <td>10.846541</td>\n",
       "    </tr>\n",
       "    <tr>\n",
       "      <th>2</th>\n",
       "      <td>36.161</td>\n",
       "      <td>-116.139</td>\n",
       "      <td>89060</td>\n",
       "      <td>241.796738</td>\n",
       "      <td>0.922477</td>\n",
       "      <td>199101</td>\n",
       "      <td>1991</td>\n",
       "      <td>1</td>\n",
       "      <td>12.385000</td>\n",
       "    </tr>\n",
       "    <tr>\n",
       "      <th>3</th>\n",
       "      <td>35.957</td>\n",
       "      <td>-115.897</td>\n",
       "      <td>89061</td>\n",
       "      <td>244.522552</td>\n",
       "      <td>1.303105</td>\n",
       "      <td>199101</td>\n",
       "      <td>1991</td>\n",
       "      <td>1</td>\n",
       "      <td>10.150000</td>\n",
       "    </tr>\n",
       "    <tr>\n",
       "      <th>4</th>\n",
       "      <td>39.520</td>\n",
       "      <td>-120.032</td>\n",
       "      <td>89439</td>\n",
       "      <td>78.390099</td>\n",
       "      <td>0.209957</td>\n",
       "      <td>199101</td>\n",
       "      <td>1991</td>\n",
       "      <td>1</td>\n",
       "      <td>8.389565</td>\n",
       "    </tr>\n",
       "    <tr>\n",
       "      <th>...</th>\n",
       "      <td>...</td>\n",
       "      <td>...</td>\n",
       "      <td>...</td>\n",
       "      <td>...</td>\n",
       "      <td>...</td>\n",
       "      <td>...</td>\n",
       "      <td>...</td>\n",
       "      <td>...</td>\n",
       "      <td>...</td>\n",
       "    </tr>\n",
       "    <tr>\n",
       "      <th>548683</th>\n",
       "      <td>39.149</td>\n",
       "      <td>-120.248</td>\n",
       "      <td>96146</td>\n",
       "      <td>76.585587</td>\n",
       "      <td>0.437017</td>\n",
       "      <td>201812</td>\n",
       "      <td>2018</td>\n",
       "      <td>12</td>\n",
       "      <td>4.626316</td>\n",
       "    </tr>\n",
       "    <tr>\n",
       "      <th>548684</th>\n",
       "      <td>39.236</td>\n",
       "      <td>-120.062</td>\n",
       "      <td>96148</td>\n",
       "      <td>76.585587</td>\n",
       "      <td>0.437017</td>\n",
       "      <td>201812</td>\n",
       "      <td>2018</td>\n",
       "      <td>12</td>\n",
       "      <td>4.528572</td>\n",
       "    </tr>\n",
       "    <tr>\n",
       "      <th>548685</th>\n",
       "      <td>38.732</td>\n",
       "      <td>-120.033</td>\n",
       "      <td>96150</td>\n",
       "      <td>107.369316</td>\n",
       "      <td>0.231856</td>\n",
       "      <td>201812</td>\n",
       "      <td>2018</td>\n",
       "      <td>12</td>\n",
       "      <td>4.286667</td>\n",
       "    </tr>\n",
       "    <tr>\n",
       "      <th>548686</th>\n",
       "      <td>39.184</td>\n",
       "      <td>-120.427</td>\n",
       "      <td>96161</td>\n",
       "      <td>151.071350</td>\n",
       "      <td>0.243283</td>\n",
       "      <td>201812</td>\n",
       "      <td>2018</td>\n",
       "      <td>12</td>\n",
       "      <td>5.053509</td>\n",
       "    </tr>\n",
       "    <tr>\n",
       "      <th>548687</th>\n",
       "      <td>41.993</td>\n",
       "      <td>-120.250</td>\n",
       "      <td>97635</td>\n",
       "      <td>76.173187</td>\n",
       "      <td>1.319343</td>\n",
       "      <td>201812</td>\n",
       "      <td>2018</td>\n",
       "      <td>12</td>\n",
       "      <td>3.393750</td>\n",
       "    </tr>\n",
       "  </tbody>\n",
       "</table>\n",
       "<p>548688 rows × 9 columns</p>\n",
       "</div>"
      ],
      "text/plain": [
       "        zip_lat  zip_lon   ZCTA    zip_wdir  zip_wspd year_month  year  month  \\\n",
       "0        37.465 -117.936  89010  305.042938  0.878208     199101  1991      1   \n",
       "1        35.396 -116.322  89019  259.661102  0.962568     199101  1991      1   \n",
       "2        36.161 -116.139  89060  241.796738  0.922477     199101  1991      1   \n",
       "3        35.957 -115.897  89061  244.522552  1.303105     199101  1991      1   \n",
       "4        39.520 -120.032  89439   78.390099  0.209957     199101  1991      1   \n",
       "...         ...      ...    ...         ...       ...        ...   ...    ...   \n",
       "548683   39.149 -120.248  96146   76.585587  0.437017     201812  2018     12   \n",
       "548684   39.236 -120.062  96148   76.585587  0.437017     201812  2018     12   \n",
       "548685   38.732 -120.033  96150  107.369316  0.231856     201812  2018     12   \n",
       "548686   39.184 -120.427  96161  151.071350  0.243283     201812  2018     12   \n",
       "548687   41.993 -120.250  97635   76.173187  1.319343     201812  2018     12   \n",
       "\n",
       "         zip_pm25  \n",
       "0       12.450976  \n",
       "1       10.846541  \n",
       "2       12.385000  \n",
       "3       10.150000  \n",
       "4        8.389565  \n",
       "...           ...  \n",
       "548683   4.626316  \n",
       "548684   4.528572  \n",
       "548685   4.286667  \n",
       "548686   5.053509  \n",
       "548687   3.393750  \n",
       "\n",
       "[548688 rows x 9 columns]"
      ]
     },
     "execution_count": 120,
     "metadata": {},
     "output_type": "execute_result"
    }
   ],
   "source": [
    "wfp_df = wind_ready.merge(pm25_ready, on=[\"year_month\", \"ZCTA\"], how=\"left\")\n",
    "wind_final = wfp_df.rename(\n",
    "    columns={\n",
    "        \"lat\": \"zip_lat\",\n",
    "        \"lon\": \"zip_lon\",\n",
    "        \"wdir\": \"zip_wdir\",\n",
    "        \"wspd\": \"zip_wspd\",\n",
    "        \"pm25\": \"zip_pm25\",\n",
    "    }\n",
    ").drop([\"u\", \"v\"], axis=1)[wfp_df[\"year\"] < 2019]\n",
    "wind_final.to_csv(in_instrument + \"wind_zip_pm25.csv\")\n",
    "wind_final"
   ]
  },
  {
   "cell_type": "code",
   "execution_count": 121,
   "metadata": {
    "colab": {
     "base_uri": "https://localhost:8080/",
     "height": 424
    },
    "id": "EqmSTw3pkkQZ",
    "outputId": "e8b369f0-bb55-4db2-8ce8-195b17934f68",
    "tags": []
   },
   "outputs": [
    {
     "data": {
      "text/html": [
       "<div>\n",
       "<style scoped>\n",
       "    .dataframe tbody tr th:only-of-type {\n",
       "        vertical-align: middle;\n",
       "    }\n",
       "\n",
       "    .dataframe tbody tr th {\n",
       "        vertical-align: top;\n",
       "    }\n",
       "\n",
       "    .dataframe thead th {\n",
       "        text-align: right;\n",
       "    }\n",
       "</style>\n",
       "<table border=\"1\" class=\"dataframe\">\n",
       "  <thead>\n",
       "    <tr style=\"text-align: right;\">\n",
       "      <th></th>\n",
       "      <th>year</th>\n",
       "      <th>month</th>\n",
       "      <th>fire_lat</th>\n",
       "      <th>fire_lon</th>\n",
       "      <th>fire_pm25</th>\n",
       "    </tr>\n",
       "  </thead>\n",
       "  <tbody>\n",
       "    <tr>\n",
       "      <th>0</th>\n",
       "      <td>1991</td>\n",
       "      <td>1</td>\n",
       "      <td>39.155351</td>\n",
       "      <td>-122.775965</td>\n",
       "      <td>0.10</td>\n",
       "    </tr>\n",
       "    <tr>\n",
       "      <th>1</th>\n",
       "      <td>1991</td>\n",
       "      <td>1</td>\n",
       "      <td>39.567560</td>\n",
       "      <td>-121.002336</td>\n",
       "      <td>11.24</td>\n",
       "    </tr>\n",
       "    <tr>\n",
       "      <th>2</th>\n",
       "      <td>1991</td>\n",
       "      <td>1</td>\n",
       "      <td>39.084997</td>\n",
       "      <td>-122.744482</td>\n",
       "      <td>1.74</td>\n",
       "    </tr>\n",
       "    <tr>\n",
       "      <th>3</th>\n",
       "      <td>1991</td>\n",
       "      <td>1</td>\n",
       "      <td>39.756806</td>\n",
       "      <td>-121.331523</td>\n",
       "      <td>10.59</td>\n",
       "    </tr>\n",
       "    <tr>\n",
       "      <th>4</th>\n",
       "      <td>1991</td>\n",
       "      <td>1</td>\n",
       "      <td>39.694403</td>\n",
       "      <td>-121.355888</td>\n",
       "      <td>15.02</td>\n",
       "    </tr>\n",
       "    <tr>\n",
       "      <th>...</th>\n",
       "      <td>...</td>\n",
       "      <td>...</td>\n",
       "      <td>...</td>\n",
       "      <td>...</td>\n",
       "      <td>...</td>\n",
       "    </tr>\n",
       "    <tr>\n",
       "      <th>8267</th>\n",
       "      <td>2016</td>\n",
       "      <td>11</td>\n",
       "      <td>40.375938</td>\n",
       "      <td>-120.751081</td>\n",
       "      <td>3.61</td>\n",
       "    </tr>\n",
       "    <tr>\n",
       "      <th>8268</th>\n",
       "      <td>2016</td>\n",
       "      <td>12</td>\n",
       "      <td>34.047386</td>\n",
       "      <td>-118.948054</td>\n",
       "      <td>4.52</td>\n",
       "    </tr>\n",
       "    <tr>\n",
       "      <th>8269</th>\n",
       "      <td>2016</td>\n",
       "      <td>12</td>\n",
       "      <td>34.234554</td>\n",
       "      <td>-118.800483</td>\n",
       "      <td>5.81</td>\n",
       "    </tr>\n",
       "    <tr>\n",
       "      <th>8270</th>\n",
       "      <td>2016</td>\n",
       "      <td>12</td>\n",
       "      <td>34.122593</td>\n",
       "      <td>-118.722263</td>\n",
       "      <td>6.09</td>\n",
       "    </tr>\n",
       "    <tr>\n",
       "      <th>8271</th>\n",
       "      <td>2016</td>\n",
       "      <td>12</td>\n",
       "      <td>37.598664</td>\n",
       "      <td>-119.553035</td>\n",
       "      <td>1.01</td>\n",
       "    </tr>\n",
       "  </tbody>\n",
       "</table>\n",
       "<p>8272 rows × 5 columns</p>\n",
       "</div>"
      ],
      "text/plain": [
       "      year  month   fire_lat    fire_lon  fire_pm25\n",
       "0     1991      1  39.155351 -122.775965       0.10\n",
       "1     1991      1  39.567560 -121.002336      11.24\n",
       "2     1991      1  39.084997 -122.744482       1.74\n",
       "3     1991      1  39.756806 -121.331523      10.59\n",
       "4     1991      1  39.694403 -121.355888      15.02\n",
       "...    ...    ...        ...         ...        ...\n",
       "8267  2016     11  40.375938 -120.751081       3.61\n",
       "8268  2016     12  34.047386 -118.948054       4.52\n",
       "8269  2016     12  34.234554 -118.800483       5.81\n",
       "8270  2016     12  34.122593 -118.722263       6.09\n",
       "8271  2016     12  37.598664 -119.553035       1.01\n",
       "\n",
       "[8272 rows x 5 columns]"
      ]
     },
     "execution_count": 121,
     "metadata": {},
     "output_type": "execute_result"
    }
   ],
   "source": [
    "fire_pm25 = aqi1.rename(\n",
    "    columns={\"lat\": \"fire_lat\", \"lon\": \"fire_lon\", \"pm25\": \"fire_pm25\"}\n",
    ").reset_index(drop=True)\n",
    "fire_pm25.to_csv(\"fire_pm25.csv\")\n",
    "fire_pm25"
   ]
  },
  {
   "cell_type": "code",
   "execution_count": 122,
   "metadata": {
    "colab": {
     "base_uri": "https://localhost:8080/",
     "height": 661
    },
    "id": "b6F7ygLmkkQZ",
    "outputId": "d7ac0421-0efa-4acd-fcde-cc763195c5bd",
    "tags": []
   },
   "outputs": [
    {
     "data": {
      "text/html": [
       "<div>\n",
       "<style scoped>\n",
       "    .dataframe tbody tr th:only-of-type {\n",
       "        vertical-align: middle;\n",
       "    }\n",
       "\n",
       "    .dataframe tbody tr th {\n",
       "        vertical-align: top;\n",
       "    }\n",
       "\n",
       "    .dataframe thead th {\n",
       "        text-align: right;\n",
       "    }\n",
       "</style>\n",
       "<table border=\"1\" class=\"dataframe\">\n",
       "  <thead>\n",
       "    <tr style=\"text-align: right;\">\n",
       "      <th></th>\n",
       "      <th>fire_lat_lon</th>\n",
       "      <th>acres</th>\n",
       "      <th>fire_lat</th>\n",
       "      <th>fire_lon</th>\n",
       "      <th>fire_days_in_mo</th>\n",
       "      <th>fire_wdir</th>\n",
       "      <th>fire_wspd</th>\n",
       "      <th>year_month</th>\n",
       "      <th>year</th>\n",
       "      <th>month</th>\n",
       "      <th>fire_pm25</th>\n",
       "    </tr>\n",
       "  </thead>\n",
       "  <tbody>\n",
       "    <tr>\n",
       "      <th>0</th>\n",
       "      <td>(35.25539508507167, -119.5812970773511)</td>\n",
       "      <td>238.031830</td>\n",
       "      <td>35.255395</td>\n",
       "      <td>-119.581297</td>\n",
       "      <td>0.032258</td>\n",
       "      <td>342.554565</td>\n",
       "      <td>1.595909</td>\n",
       "      <td>199305</td>\n",
       "      <td>1993</td>\n",
       "      <td>5</td>\n",
       "      <td>9.38</td>\n",
       "    </tr>\n",
       "    <tr>\n",
       "      <th>1</th>\n",
       "      <td>(39.45165114943642, -120.0093608630314)</td>\n",
       "      <td>19.139362</td>\n",
       "      <td>39.451651</td>\n",
       "      <td>-120.009361</td>\n",
       "      <td>0.032258</td>\n",
       "      <td>0.700786</td>\n",
       "      <td>1.000503</td>\n",
       "      <td>199307</td>\n",
       "      <td>1993</td>\n",
       "      <td>7</td>\n",
       "      <td>5.53</td>\n",
       "    </tr>\n",
       "    <tr>\n",
       "      <th>2</th>\n",
       "      <td>(38.63102591471577, -120.8402934705149)</td>\n",
       "      <td>70.179840</td>\n",
       "      <td>38.631026</td>\n",
       "      <td>-120.840293</td>\n",
       "      <td>0.033333</td>\n",
       "      <td>58.361294</td>\n",
       "      <td>0.271346</td>\n",
       "      <td>199309</td>\n",
       "      <td>1993</td>\n",
       "      <td>9</td>\n",
       "      <td>14.24</td>\n",
       "    </tr>\n",
       "    <tr>\n",
       "      <th>3</th>\n",
       "      <td>(35.42095813876129, -119.7656494555765)</td>\n",
       "      <td>23.423927</td>\n",
       "      <td>35.420958</td>\n",
       "      <td>-119.765649</td>\n",
       "      <td>0.033333</td>\n",
       "      <td>331.157288</td>\n",
       "      <td>1.023493</td>\n",
       "      <td>199309</td>\n",
       "      <td>1993</td>\n",
       "      <td>9</td>\n",
       "      <td>11.99</td>\n",
       "    </tr>\n",
       "    <tr>\n",
       "      <th>4</th>\n",
       "      <td>(35.32190356232154, -118.4169237147862)</td>\n",
       "      <td>151.780167</td>\n",
       "      <td>35.321904</td>\n",
       "      <td>-118.416924</td>\n",
       "      <td>0.032258</td>\n",
       "      <td>7.345666</td>\n",
       "      <td>1.831764</td>\n",
       "      <td>199308</td>\n",
       "      <td>1993</td>\n",
       "      <td>8</td>\n",
       "      <td>9.19</td>\n",
       "    </tr>\n",
       "    <tr>\n",
       "      <th>...</th>\n",
       "      <td>...</td>\n",
       "      <td>...</td>\n",
       "      <td>...</td>\n",
       "      <td>...</td>\n",
       "      <td>...</td>\n",
       "      <td>...</td>\n",
       "      <td>...</td>\n",
       "      <td>...</td>\n",
       "      <td>...</td>\n",
       "      <td>...</td>\n",
       "      <td>...</td>\n",
       "    </tr>\n",
       "    <tr>\n",
       "      <th>6632</th>\n",
       "      <td>(37.87494989081461, -119.7281350256987)</td>\n",
       "      <td>331.624695</td>\n",
       "      <td>37.874950</td>\n",
       "      <td>-119.728135</td>\n",
       "      <td>0.166667</td>\n",
       "      <td>73.448456</td>\n",
       "      <td>0.113857</td>\n",
       "      <td>200709</td>\n",
       "      <td>2007</td>\n",
       "      <td>9</td>\n",
       "      <td>4.76</td>\n",
       "    </tr>\n",
       "    <tr>\n",
       "      <th>6633</th>\n",
       "      <td>(37.56860595616687, -119.6600328204804)</td>\n",
       "      <td>23.633701</td>\n",
       "      <td>37.568606</td>\n",
       "      <td>-119.660033</td>\n",
       "      <td>0.233333</td>\n",
       "      <td>158.267761</td>\n",
       "      <td>0.253292</td>\n",
       "      <td>200711</td>\n",
       "      <td>2007</td>\n",
       "      <td>11</td>\n",
       "      <td>4.38</td>\n",
       "    </tr>\n",
       "    <tr>\n",
       "      <th>6634</th>\n",
       "      <td>(37.74854288820926, -119.7035432531625)</td>\n",
       "      <td>239.260773</td>\n",
       "      <td>37.748543</td>\n",
       "      <td>-119.703543</td>\n",
       "      <td>1.000000</td>\n",
       "      <td>215.334213</td>\n",
       "      <td>0.138538</td>\n",
       "      <td>200711</td>\n",
       "      <td>2007</td>\n",
       "      <td>11</td>\n",
       "      <td>1.70</td>\n",
       "    </tr>\n",
       "    <tr>\n",
       "      <th>6635</th>\n",
       "      <td>(37.74854288820926, -119.7035432531625)</td>\n",
       "      <td>239.260773</td>\n",
       "      <td>37.748543</td>\n",
       "      <td>-119.703543</td>\n",
       "      <td>0.258065</td>\n",
       "      <td>178.254211</td>\n",
       "      <td>0.474964</td>\n",
       "      <td>200712</td>\n",
       "      <td>2007</td>\n",
       "      <td>12</td>\n",
       "      <td>3.80</td>\n",
       "    </tr>\n",
       "    <tr>\n",
       "      <th>6636</th>\n",
       "      <td>(37.57265198276752, -119.6631369569977)</td>\n",
       "      <td>1106.247559</td>\n",
       "      <td>37.572652</td>\n",
       "      <td>-119.663137</td>\n",
       "      <td>0.032258</td>\n",
       "      <td>152.014847</td>\n",
       "      <td>0.167112</td>\n",
       "      <td>200712</td>\n",
       "      <td>2007</td>\n",
       "      <td>12</td>\n",
       "      <td>4.65</td>\n",
       "    </tr>\n",
       "  </tbody>\n",
       "</table>\n",
       "<p>6637 rows × 11 columns</p>\n",
       "</div>"
      ],
      "text/plain": [
       "                                 fire_lat_lon        acres   fire_lat  \\\n",
       "0     (35.25539508507167, -119.5812970773511)   238.031830  35.255395   \n",
       "1     (39.45165114943642, -120.0093608630314)    19.139362  39.451651   \n",
       "2     (38.63102591471577, -120.8402934705149)    70.179840  38.631026   \n",
       "3     (35.42095813876129, -119.7656494555765)    23.423927  35.420958   \n",
       "4     (35.32190356232154, -118.4169237147862)   151.780167  35.321904   \n",
       "...                                       ...          ...        ...   \n",
       "6632  (37.87494989081461, -119.7281350256987)   331.624695  37.874950   \n",
       "6633  (37.56860595616687, -119.6600328204804)    23.633701  37.568606   \n",
       "6634  (37.74854288820926, -119.7035432531625)   239.260773  37.748543   \n",
       "6635  (37.74854288820926, -119.7035432531625)   239.260773  37.748543   \n",
       "6636  (37.57265198276752, -119.6631369569977)  1106.247559  37.572652   \n",
       "\n",
       "        fire_lon  fire_days_in_mo   fire_wdir  fire_wspd  year_month  year  \\\n",
       "0    -119.581297         0.032258  342.554565   1.595909      199305  1993   \n",
       "1    -120.009361         0.032258    0.700786   1.000503      199307  1993   \n",
       "2    -120.840293         0.033333   58.361294   0.271346      199309  1993   \n",
       "3    -119.765649         0.033333  331.157288   1.023493      199309  1993   \n",
       "4    -118.416924         0.032258    7.345666   1.831764      199308  1993   \n",
       "...          ...              ...         ...        ...         ...   ...   \n",
       "6632 -119.728135         0.166667   73.448456   0.113857      200709  2007   \n",
       "6633 -119.660033         0.233333  158.267761   0.253292      200711  2007   \n",
       "6634 -119.703543         1.000000  215.334213   0.138538      200711  2007   \n",
       "6635 -119.703543         0.258065  178.254211   0.474964      200712  2007   \n",
       "6636 -119.663137         0.032258  152.014847   0.167112      200712  2007   \n",
       "\n",
       "      month  fire_pm25  \n",
       "0         5       9.38  \n",
       "1         7       5.53  \n",
       "2         9      14.24  \n",
       "3         9      11.99  \n",
       "4         8       9.19  \n",
       "...     ...        ...  \n",
       "6632      9       4.76  \n",
       "6633     11       4.38  \n",
       "6634     11       1.70  \n",
       "6635     12       3.80  \n",
       "6636     12       4.65  \n",
       "\n",
       "[6637 rows x 11 columns]"
      ]
     },
     "execution_count": 122,
     "metadata": {},
     "output_type": "execute_result"
    }
   ],
   "source": [
    "fire_final = (\n",
    "    fire_ready.merge(\n",
    "        fire_pm25, on=[\"fire_lat\", \"fire_lon\", \"year\", \"month\"], how=\"left\"\n",
    "    )\n",
    "    .drop_duplicates()\n",
    "    .reset_index(drop=True)\n",
    ")\n",
    "fire_final"
   ]
  },
  {
   "cell_type": "code",
   "execution_count": 123,
   "metadata": {
    "id": "19O9sU_QkkQa",
    "tags": []
   },
   "outputs": [],
   "source": [
    "def distance(wind, fire):\n",
    "    \"\"\"\n",
    "    params:\n",
    "    -------\n",
    "    wind: wind cleaned data\n",
    "    fire: fire semi-cleaned data\n",
    "\n",
    "    return:\n",
    "    -------\n",
    "    df3: dataframe with distances from each fire during time period\n",
    "    \"\"\"\n",
    "    # create labels\n",
    "    wind[\"wind_lat_lon\"] = [str(xy) for xy in zip(wind.zip_lat, wind.zip_lon)]\n",
    "    fire[\"fire_lat_lon\"] = [str(xy) for xy in zip(fire.fire_lat, fire.fire_lon)]\n",
    "\n",
    "    ## for each point in wind data find the nearest point in the census data ##\n",
    "    ###############\n",
    "    # keep only unique points in fire data\n",
    "    df1_unique = wind.drop_duplicates([\"wind_lat_lon\"])\n",
    "    df2_unique = fire.drop_duplicates([\"fire_lat_lon\"])\n",
    "\n",
    "    df1_unique.reset_index(drop=True, inplace=True)\n",
    "    df2_unique.reset_index(drop=True, inplace=True)\n",
    "\n",
    "    # transform to radians\n",
    "    df1_unique[\"lat_r\"] = np.radians(df1_unique.zip_lat)\n",
    "    df1_unique[\"lon_r\"] = np.radians(df1_unique.zip_lon)\n",
    "    df2_unique[\"lat_r\"] = np.radians(df2_unique.fire_lat)\n",
    "    df2_unique[\"lon_r\"] = np.radians(df2_unique.fire_lon)\n",
    "\n",
    "    # compute pairwise distance (in miles)\n",
    "    dist_matrix = (\n",
    "        dist.pairwise(\n",
    "            df2_unique[[\"lat_r\", \"lon_r\"]],\n",
    "            df1_unique[[\"lat_r\", \"lon_r\"]],\n",
    "        )\n",
    "    ) * 3959\n",
    "\n",
    "    # create a df from dist_matrix\n",
    "    dist_matrix = pd.DataFrame(\n",
    "        dist_matrix, index=df2_unique[\"fire_lat_lon\"], columns=df1_unique[\"ZCTA\"]\n",
    "    )\n",
    "    return dist_matrix"
   ]
  },
  {
   "cell_type": "code",
   "execution_count": null,
   "metadata": {
    "colab": {
     "base_uri": "https://localhost:8080/",
     "height": 661
    },
    "id": "wGONN3FQkkQa",
    "outputId": "ae6c4eb5-a3d6-45f4-bd82-82227f476eaf",
    "tags": []
   },
   "outputs": [
    {
     "data": {
      "text/html": [
       "<div>\n",
       "<style scoped>\n",
       "    .dataframe tbody tr th:only-of-type {\n",
       "        vertical-align: middle;\n",
       "    }\n",
       "\n",
       "    .dataframe tbody tr th {\n",
       "        vertical-align: top;\n",
       "    }\n",
       "\n",
       "    .dataframe thead th {\n",
       "        text-align: right;\n",
       "    }\n",
       "</style>\n",
       "<table border=\"1\" class=\"dataframe\">\n",
       "  <thead>\n",
       "    <tr style=\"text-align: right;\">\n",
       "      <th></th>\n",
       "      <th>fire_lat_lon</th>\n",
       "      <th>acres</th>\n",
       "      <th>fire_lat</th>\n",
       "      <th>fire_lon</th>\n",
       "      <th>fire_days_in_mo</th>\n",
       "      <th>fire_wdir</th>\n",
       "      <th>fire_wspd</th>\n",
       "      <th>year_month</th>\n",
       "      <th>year</th>\n",
       "      <th>month</th>\n",
       "      <th>...</th>\n",
       "      <th>96140</th>\n",
       "      <th>96141</th>\n",
       "      <th>96142</th>\n",
       "      <th>96143</th>\n",
       "      <th>96145</th>\n",
       "      <th>96146</th>\n",
       "      <th>96148</th>\n",
       "      <th>96150</th>\n",
       "      <th>96161</th>\n",
       "      <th>97635</th>\n",
       "    </tr>\n",
       "  </thead>\n",
       "  <tbody>\n",
       "    <tr>\n",
       "      <th>0</th>\n",
       "      <td>(35.25539508507167, -119.5812970773511)</td>\n",
       "      <td>238.031830</td>\n",
       "      <td>35.255395</td>\n",
       "      <td>-119.581297</td>\n",
       "      <td>0.032258</td>\n",
       "      <td>342.554565</td>\n",
       "      <td>1.595909</td>\n",
       "      <td>199305</td>\n",
       "      <td>1993</td>\n",
       "      <td>5</td>\n",
       "      <td>...</td>\n",
       "      <td>273.902165</td>\n",
       "      <td>262.986709</td>\n",
       "      <td>255.763437</td>\n",
       "      <td>275.094422</td>\n",
       "      <td>265.225259</td>\n",
       "      <td>271.526768</td>\n",
       "      <td>276.316781</td>\n",
       "      <td>241.513929</td>\n",
       "      <td>275.412483</td>\n",
       "      <td>466.944962</td>\n",
       "    </tr>\n",
       "    <tr>\n",
       "      <th>1</th>\n",
       "      <td>(39.45165114943642, -120.0093608630314)</td>\n",
       "      <td>19.139362</td>\n",
       "      <td>39.451651</td>\n",
       "      <td>-120.009361</td>\n",
       "      <td>0.032258</td>\n",
       "      <td>0.700786</td>\n",
       "      <td>1.000503</td>\n",
       "      <td>199307</td>\n",
       "      <td>1993</td>\n",
       "      <td>7</td>\n",
       "      <td>...</td>\n",
       "      <td>18.155774</td>\n",
       "      <td>30.531542</td>\n",
       "      <td>36.890962</td>\n",
       "      <td>15.868377</td>\n",
       "      <td>29.049318</td>\n",
       "      <td>24.497956</td>\n",
       "      <td>15.164144</td>\n",
       "      <td>49.742314</td>\n",
       "      <td>28.990727</td>\n",
       "      <td>176.052420</td>\n",
       "    </tr>\n",
       "    <tr>\n",
       "      <th>2</th>\n",
       "      <td>(38.63102591471577, -120.8402934705149)</td>\n",
       "      <td>70.179840</td>\n",
       "      <td>38.631026</td>\n",
       "      <td>-120.840293</td>\n",
       "      <td>0.033333</td>\n",
       "      <td>58.361294</td>\n",
       "      <td>0.271346</td>\n",
       "      <td>199309</td>\n",
       "      <td>1993</td>\n",
       "      <td>9</td>\n",
       "      <td>...</td>\n",
       "      <td>55.923517</td>\n",
       "      <td>44.852443</td>\n",
       "      <td>42.502675</td>\n",
       "      <td>60.493373</td>\n",
       "      <td>45.091172</td>\n",
       "      <td>47.913347</td>\n",
       "      <td>59.138386</td>\n",
       "      <td>44.100498</td>\n",
       "      <td>44.201396</td>\n",
       "      <td>234.375215</td>\n",
       "    </tr>\n",
       "    <tr>\n",
       "      <th>3</th>\n",
       "      <td>(35.42095813876129, -119.7656494555765)</td>\n",
       "      <td>23.423927</td>\n",
       "      <td>35.420958</td>\n",
       "      <td>-119.765649</td>\n",
       "      <td>0.033333</td>\n",
       "      <td>331.157288</td>\n",
       "      <td>1.023493</td>\n",
       "      <td>199309</td>\n",
       "      <td>1993</td>\n",
       "      <td>9</td>\n",
       "      <td>...</td>\n",
       "      <td>261.622226</td>\n",
       "      <td>250.503922</td>\n",
       "      <td>243.318349</td>\n",
       "      <td>262.985454</td>\n",
       "      <td>252.701931</td>\n",
       "      <td>258.958683</td>\n",
       "      <td>264.112075</td>\n",
       "      <td>229.258884</td>\n",
       "      <td>262.543176</td>\n",
       "      <td>454.860185</td>\n",
       "    </tr>\n",
       "    <tr>\n",
       "      <th>4</th>\n",
       "      <td>(35.32190356232154, -118.4169237147862)</td>\n",
       "      <td>151.780167</td>\n",
       "      <td>35.321904</td>\n",
       "      <td>-118.416924</td>\n",
       "      <td>0.032258</td>\n",
       "      <td>7.345666</td>\n",
       "      <td>1.831764</td>\n",
       "      <td>199308</td>\n",
       "      <td>1993</td>\n",
       "      <td>8</td>\n",
       "      <td>...</td>\n",
       "      <td>283.319934</td>\n",
       "      <td>274.116537</td>\n",
       "      <td>266.888233</td>\n",
       "      <td>283.351792</td>\n",
       "      <td>276.555557</td>\n",
       "      <td>282.960181</td>\n",
       "      <td>285.162251</td>\n",
       "      <td>251.917314</td>\n",
       "      <td>288.832200</td>\n",
       "      <td>471.414260</td>\n",
       "    </tr>\n",
       "    <tr>\n",
       "      <th>...</th>\n",
       "      <td>...</td>\n",
       "      <td>...</td>\n",
       "      <td>...</td>\n",
       "      <td>...</td>\n",
       "      <td>...</td>\n",
       "      <td>...</td>\n",
       "      <td>...</td>\n",
       "      <td>...</td>\n",
       "      <td>...</td>\n",
       "      <td>...</td>\n",
       "      <td>...</td>\n",
       "      <td>...</td>\n",
       "      <td>...</td>\n",
       "      <td>...</td>\n",
       "      <td>...</td>\n",
       "      <td>...</td>\n",
       "      <td>...</td>\n",
       "      <td>...</td>\n",
       "      <td>...</td>\n",
       "      <td>...</td>\n",
       "      <td>...</td>\n",
       "    </tr>\n",
       "    <tr>\n",
       "      <th>6632</th>\n",
       "      <td>(37.87494989081461, -119.7281350256987)</td>\n",
       "      <td>331.624695</td>\n",
       "      <td>37.874950</td>\n",
       "      <td>-119.728135</td>\n",
       "      <td>0.166667</td>\n",
       "      <td>73.448456</td>\n",
       "      <td>0.113857</td>\n",
       "      <td>200709</td>\n",
       "      <td>2007</td>\n",
       "      <td>9</td>\n",
       "      <td>...</td>\n",
       "      <td>93.579473</td>\n",
       "      <td>83.601955</td>\n",
       "      <td>76.330517</td>\n",
       "      <td>94.315845</td>\n",
       "      <td>85.999136</td>\n",
       "      <td>92.411551</td>\n",
       "      <td>95.759703</td>\n",
       "      <td>61.483932</td>\n",
       "      <td>98.022876</td>\n",
       "      <td>285.885768</td>\n",
       "    </tr>\n",
       "    <tr>\n",
       "      <th>6633</th>\n",
       "      <td>(37.56860595616687, -119.6600328204804)</td>\n",
       "      <td>23.633701</td>\n",
       "      <td>37.568606</td>\n",
       "      <td>-119.660033</td>\n",
       "      <td>0.233333</td>\n",
       "      <td>158.267761</td>\n",
       "      <td>0.253292</td>\n",
       "      <td>200711</td>\n",
       "      <td>2007</td>\n",
       "      <td>11</td>\n",
       "      <td>...</td>\n",
       "      <td>115.058673</td>\n",
       "      <td>104.965884</td>\n",
       "      <td>97.687268</td>\n",
       "      <td>115.806581</td>\n",
       "      <td>107.344223</td>\n",
       "      <td>113.752581</td>\n",
       "      <td>117.250544</td>\n",
       "      <td>82.902744</td>\n",
       "      <td>119.099573</td>\n",
       "      <td>307.313468</td>\n",
       "    </tr>\n",
       "    <tr>\n",
       "      <th>6634</th>\n",
       "      <td>(37.74854288820926, -119.7035432531625)</td>\n",
       "      <td>239.260773</td>\n",
       "      <td>37.748543</td>\n",
       "      <td>-119.703543</td>\n",
       "      <td>1.000000</td>\n",
       "      <td>215.334213</td>\n",
       "      <td>0.138538</td>\n",
       "      <td>200711</td>\n",
       "      <td>2007</td>\n",
       "      <td>11</td>\n",
       "      <td>...</td>\n",
       "      <td>102.401609</td>\n",
       "      <td>92.355699</td>\n",
       "      <td>85.079677</td>\n",
       "      <td>103.152564</td>\n",
       "      <td>94.742784</td>\n",
       "      <td>101.153523</td>\n",
       "      <td>104.591706</td>\n",
       "      <td>70.267223</td>\n",
       "      <td>106.628801</td>\n",
       "      <td>294.707998</td>\n",
       "    </tr>\n",
       "    <tr>\n",
       "      <th>6635</th>\n",
       "      <td>(37.74854288820926, -119.7035432531625)</td>\n",
       "      <td>239.260773</td>\n",
       "      <td>37.748543</td>\n",
       "      <td>-119.703543</td>\n",
       "      <td>0.258065</td>\n",
       "      <td>178.254211</td>\n",
       "      <td>0.474964</td>\n",
       "      <td>200712</td>\n",
       "      <td>2007</td>\n",
       "      <td>12</td>\n",
       "      <td>...</td>\n",
       "      <td>102.401609</td>\n",
       "      <td>92.355699</td>\n",
       "      <td>85.079677</td>\n",
       "      <td>103.152564</td>\n",
       "      <td>94.742784</td>\n",
       "      <td>101.153523</td>\n",
       "      <td>104.591706</td>\n",
       "      <td>70.267223</td>\n",
       "      <td>106.628801</td>\n",
       "      <td>294.707998</td>\n",
       "    </tr>\n",
       "    <tr>\n",
       "      <th>6636</th>\n",
       "      <td>(37.57265198276752, -119.6631369569977)</td>\n",
       "      <td>1106.247559</td>\n",
       "      <td>37.572652</td>\n",
       "      <td>-119.663137</td>\n",
       "      <td>0.032258</td>\n",
       "      <td>152.014847</td>\n",
       "      <td>0.167112</td>\n",
       "      <td>200712</td>\n",
       "      <td>2007</td>\n",
       "      <td>12</td>\n",
       "      <td>...</td>\n",
       "      <td>114.750367</td>\n",
       "      <td>104.651019</td>\n",
       "      <td>97.372252</td>\n",
       "      <td>115.503252</td>\n",
       "      <td>107.028721</td>\n",
       "      <td>113.436889</td>\n",
       "      <td>116.944580</td>\n",
       "      <td>82.590346</td>\n",
       "      <td>118.778535</td>\n",
       "      <td>307.018516</td>\n",
       "    </tr>\n",
       "  </tbody>\n",
       "</table>\n",
       "<p>6637 rows × 1644 columns</p>\n",
       "</div>"
      ],
      "text/plain": [
       "                                 fire_lat_lon        acres   fire_lat  \\\n",
       "0     (35.25539508507167, -119.5812970773511)   238.031830  35.255395   \n",
       "1     (39.45165114943642, -120.0093608630314)    19.139362  39.451651   \n",
       "2     (38.63102591471577, -120.8402934705149)    70.179840  38.631026   \n",
       "3     (35.42095813876129, -119.7656494555765)    23.423927  35.420958   \n",
       "4     (35.32190356232154, -118.4169237147862)   151.780167  35.321904   \n",
       "...                                       ...          ...        ...   \n",
       "6632  (37.87494989081461, -119.7281350256987)   331.624695  37.874950   \n",
       "6633  (37.56860595616687, -119.6600328204804)    23.633701  37.568606   \n",
       "6634  (37.74854288820926, -119.7035432531625)   239.260773  37.748543   \n",
       "6635  (37.74854288820926, -119.7035432531625)   239.260773  37.748543   \n",
       "6636  (37.57265198276752, -119.6631369569977)  1106.247559  37.572652   \n",
       "\n",
       "        fire_lon  fire_days_in_mo   fire_wdir  fire_wspd  year_month  year  \\\n",
       "0    -119.581297         0.032258  342.554565   1.595909      199305  1993   \n",
       "1    -120.009361         0.032258    0.700786   1.000503      199307  1993   \n",
       "2    -120.840293         0.033333   58.361294   0.271346      199309  1993   \n",
       "3    -119.765649         0.033333  331.157288   1.023493      199309  1993   \n",
       "4    -118.416924         0.032258    7.345666   1.831764      199308  1993   \n",
       "...          ...              ...         ...        ...         ...   ...   \n",
       "6632 -119.728135         0.166667   73.448456   0.113857      200709  2007   \n",
       "6633 -119.660033         0.233333  158.267761   0.253292      200711  2007   \n",
       "6634 -119.703543         1.000000  215.334213   0.138538      200711  2007   \n",
       "6635 -119.703543         0.258065  178.254211   0.474964      200712  2007   \n",
       "6636 -119.663137         0.032258  152.014847   0.167112      200712  2007   \n",
       "\n",
       "      month  ...       96140       96141       96142       96143       96145  \\\n",
       "0         5  ...  273.902165  262.986709  255.763437  275.094422  265.225259   \n",
       "1         7  ...   18.155774   30.531542   36.890962   15.868377   29.049318   \n",
       "2         9  ...   55.923517   44.852443   42.502675   60.493373   45.091172   \n",
       "3         9  ...  261.622226  250.503922  243.318349  262.985454  252.701931   \n",
       "4         8  ...  283.319934  274.116537  266.888233  283.351792  276.555557   \n",
       "...     ...  ...         ...         ...         ...         ...         ...   \n",
       "6632      9  ...   93.579473   83.601955   76.330517   94.315845   85.999136   \n",
       "6633     11  ...  115.058673  104.965884   97.687268  115.806581  107.344223   \n",
       "6634     11  ...  102.401609   92.355699   85.079677  103.152564   94.742784   \n",
       "6635     12  ...  102.401609   92.355699   85.079677  103.152564   94.742784   \n",
       "6636     12  ...  114.750367  104.651019   97.372252  115.503252  107.028721   \n",
       "\n",
       "           96146       96148       96150       96161       97635  \n",
       "0     271.526768  276.316781  241.513929  275.412483  466.944962  \n",
       "1      24.497956   15.164144   49.742314   28.990727  176.052420  \n",
       "2      47.913347   59.138386   44.100498   44.201396  234.375215  \n",
       "3     258.958683  264.112075  229.258884  262.543176  454.860185  \n",
       "4     282.960181  285.162251  251.917314  288.832200  471.414260  \n",
       "...          ...         ...         ...         ...         ...  \n",
       "6632   92.411551   95.759703   61.483932   98.022876  285.885768  \n",
       "6633  113.752581  117.250544   82.902744  119.099573  307.313468  \n",
       "6634  101.153523  104.591706   70.267223  106.628801  294.707998  \n",
       "6635  101.153523  104.591706   70.267223  106.628801  294.707998  \n",
       "6636  113.436889  116.944580   82.590346  118.778535  307.018516  \n",
       "\n",
       "[6637 rows x 1644 columns]"
      ]
     },
     "execution_count": 124,
     "metadata": {},
     "output_type": "execute_result"
    }
   ],
   "source": [
    "temp_df = distance(wind_final, fire_final)\n",
    "dist_df = (\n",
    "    fire_final.merge(\n",
    "        temp_df, left_on=\"fire_lat_lon\", right_on=temp_df.index, how=\"left\"\n",
    "    )\n",
    "    .drop_duplicates()\n",
    "    .reset_index(drop=True)\n",
    ")\n",
    "dist_df"
   ]
  },
  {
   "cell_type": "code",
   "execution_count": null,
   "metadata": {
    "id": "9GJ1TKjlkkQa",
    "tags": []
   },
   "outputs": [],
   "source": [
    "def fire_bearings(wind, fire):\n",
    "    \"\"\"\n",
    "    params:\n",
    "    -------\n",
    "    wind: wind cleaned data\n",
    "    fire: fire semi-cleaned data\n",
    "\n",
    "    return:\n",
    "    -------\n",
    "    df3: dataframe with distances from each fire during time period\n",
    "    \"\"\"\n",
    "\n",
    "    ## for each point in wind data find the angle##\n",
    "    ###############\n",
    "    # keep only unique points in fire data\n",
    "    df1_unique = wind.drop_duplicates([\"wind_lat_lon\"])\n",
    "    df2_unique = fire.drop_duplicates([\"fire_lat_lon\"])\n",
    "\n",
    "    df1_unique.reset_index(drop=True, inplace=True)\n",
    "    df2_unique.reset_index(drop=True, inplace=True)\n",
    "\n",
    "    # transform to radians\n",
    "    df1_unique[\"lat_r\"] = np.radians(df1_unique.zip_lat)\n",
    "    df1_unique[\"lon_r\"] = np.radians(df1_unique.zip_lon)\n",
    "    df2_unique[\"lat_r\"] = np.radians(df2_unique.fire_lat)\n",
    "    df2_unique[\"lon_r\"] = np.radians(df2_unique.fire_lon)\n",
    "\n",
    "    # compute pairwise distance (in miles)\n",
    "    bearing_matrix = np.zeros((df1_unique.shape[0], df2_unique.shape[0]))\n",
    "    for idx in range(df1_unique.shape[0]):\n",
    "        pa_lat = df1_unique[\"zip_lat\"][idx]\n",
    "        pa_lon = df1_unique[\"zip_lon\"][idx]\n",
    "        wdir_ba = df2_unique[\"fire_wdir\"][idx]\n",
    "        for idy in range(df2_unique.shape[0]):\n",
    "            pb_lat = df2_unique[\"fire_lat\"][idy]\n",
    "            pb_lon = df2_unique[\"fire_lon\"][idy]\n",
    "\n",
    "            if pb_lon > pa_lon:\n",
    "                d_X = -np.cos(pa_lat) * np.sin(pa_lon - pb_lon)\n",
    "            else:\n",
    "                d_X = np.cos(pa_lat) * np.sin(pa_lon - pb_lon)\n",
    "\n",
    "            if pb_lat > pa_lat:\n",
    "                d_Y = -np.cos(pb_lat) * np.sin(pa_lat) - np.sin(pb_lat) * np.cos(\n",
    "                    pa_lat\n",
    "                ) * np.cos(pa_lon - pb_lon)\n",
    "            else:\n",
    "                d_Y = np.cos(pb_lat) * np.sin(pa_lat) - np.sin(pb_lat) * np.cos(\n",
    "                    pa_lat\n",
    "                ) * np.cos(pa_lon - pb_lon)\n",
    "\n",
    "            B_ba = np.arctan2(d_X, d_Y) * (180 / np.pi) % 360\n",
    "\n",
    "            angle_diff = np.max([B_ba, wdir_ba]) - np.min([B_ba, wdir_ba])\n",
    "\n",
    "            if angle_diff > 180:\n",
    "                upwind_effect = (angle_diff) / 360\n",
    "            else:\n",
    "                upwind_effect = 1 - (angle_diff) / 360\n",
    "\n",
    "            bearing_matrix[idx, idy] = upwind_effect\n",
    "\n",
    "    # create a df from dist_matrix\n",
    "    bearing_matrix = pd.DataFrame(\n",
    "        bearing_matrix, index=df1_unique[\"ZCTA\"], columns=df2_unique[\"fire_lat_lon\"]\n",
    "    )\n",
    "\n",
    "    return bearing_matrix"
   ]
  },
  {
   "cell_type": "code",
   "execution_count": null,
   "metadata": {
    "id": "kFN0jo0IkkQa",
    "tags": []
   },
   "outputs": [],
   "source": [
    "temp_df = fire_bearings(wind_final, fire_final)"
   ]
  },
  {
   "cell_type": "code",
   "execution_count": null,
   "metadata": {
    "colab": {
     "base_uri": "https://localhost:8080/",
     "height": 240
    },
    "id": "LQJDjOkOkkQb",
    "outputId": "9e5a2c93-841c-4306-efcd-dca85c445adb",
    "tags": []
   },
   "outputs": [],
   "source": [
    "temp_df = temp_df.fillna(0)\n",
    "merge_temp_df = temp_df.T\n",
    "bearings = fire_ready.merge(\n",
    "    merge_temp_df, left_on=\"fire_lat_lon\", right_on=merge_temp_df.index, how=\"left\"\n",
    ")\n",
    "bearings_fire = bearings"
   ]
  },
  {
   "cell_type": "code",
   "execution_count": null,
   "metadata": {
    "id": "lhPegkabkkQb",
    "tags": []
   },
   "outputs": [],
   "source": [
    "bearings_fire"
   ]
  },
  {
   "cell_type": "code",
   "execution_count": null,
   "metadata": {
    "id": "F4Ll2RqZkkQb",
    "tags": []
   },
   "outputs": [],
   "source": [
    "treatment_df = (bearings_fire.drop_duplicates().iloc[:, 11:] >= 0.75)[\n",
    "    dist_df.drop_duplicates().iloc[:, 11:] < 200\n",
    "].fillna(False)\n",
    "\n",
    "treatment_df[\"fire_lat_lon\"] = bearings.drop_duplicates()[\"fire_lat_lon\"].astype(str)\n",
    "treatment_df[\"year_month\"] = bearings_fire.drop_duplicates()[\"year_month\"]\n",
    "treatment_df[\"fire_wdir\"] = bearings_fire.drop_duplicates()[\"fire_wdir\"]\n",
    "treatment_df[\"fire_wspd\"] = bearings_fire.drop_duplicates()[\"fire_wspd\"]\n",
    "\n",
    "treatment_df[\"fire_days_in_mo\"] = bearings_fire.drop_duplicates()[\"fire_days_in_mo\"]\n",
    "treatment_df = treatment_df.reset_index(drop=True)"
   ]
  },
  {
   "cell_type": "code",
   "execution_count": 21,
   "metadata": {
    "id": "544_t1qBkkQb",
    "tags": []
   },
   "outputs": [],
   "source": [
    "fire_bear = bearings_fire[\n",
    "    (bearings_fire.drop_duplicates().iloc[:, 11:] >= 0.75)[\n",
    "        dist_df.drop_duplicates().iloc[:, 11:] < 200\n",
    "    ]\n",
    "].fillna(0)\n",
    "\n",
    "fire_bear[\"fire_lat_lon\"] = bearings.drop_duplicates()[\"fire_lat_lon\"].astype(str)\n",
    "fire_bear[\"year_month\"] = bearings_fire.drop_duplicates()[\"year_month\"]\n",
    "fire_bear[\"fire_wdir\"] = bearings_fire.drop_duplicates()[\"fire_wdir\"]\n",
    "fire_bear[\"fire_wspd\"] = bearings_fire.drop_duplicates()[\"fire_wspd\"]\n",
    "\n",
    "fire_bear[\"fire_days_in_mo\"] = bearings_fire.drop_duplicates()[\"fire_days_in_mo\"]\n",
    "fire_bear = fire_bear.reset_index(drop=True)\n",
    "\n",
    "fire_bear.to_csv(\"fire_bear.csv\")"
   ]
  },
  {
   "cell_type": "code",
   "execution_count": 22,
   "metadata": {
    "id": "LcZ4zly6kkQb",
    "tags": []
   },
   "outputs": [],
   "source": [
    "fire_dist = dist_df[\n",
    "    (bearings_fire.drop_duplicates().iloc[:, 11:] >= 0.75)[\n",
    "        dist_df.drop_duplicates().iloc[:, 11:] < 200\n",
    "    ]\n",
    "].fillna(0)\n",
    "\n",
    "fire_dist[\"fire_lat_lon\"] = bearings.drop_duplicates()[\"fire_lat_lon\"].astype(str)\n",
    "fire_dist[\"year_month\"] = bearings_fire.drop_duplicates()[\"year_month\"]\n",
    "fire_dist[\"fire_wdir\"] = bearings_fire.drop_duplicates()[\"fire_wdir\"]\n",
    "fire_dist[\"fire_wspd\"] = bearings_fire.drop_duplicates()[\"fire_wspd\"]\n",
    "\n",
    "fire_dist[\"fire_days_in_mo\"] = bearings_fire.drop_duplicates()[\"fire_days_in_mo\"]\n",
    "fire_dist = fire_dist.reset_index(drop=True)\n",
    "\n",
    "fire_dist.to_csv(\"fire_dist.csv\")"
   ]
  },
  {
   "cell_type": "code",
   "execution_count": 23,
   "metadata": {
    "colab": {
     "base_uri": "https://localhost:8080/"
    },
    "id": "4k1YdBTM14uJ",
    "outputId": "26b0e494-1858-4206-f8d1-276ae0190ae2",
    "tags": []
   },
   "outputs": [
    {
     "data": {
      "text/plain": [
       "0.3746602309176257"
      ]
     },
     "execution_count": 23,
     "metadata": {},
     "output_type": "execute_result"
    }
   ],
   "source": [
    "days_mo = fire_dist[\"fire_days_in_mo\"][2]\n",
    "wspd = fire_dist[\"fire_wspd\"][2]\n",
    "distance = fire_dist[\"96142\"][2]\n",
    "bearing = fire_bear[\"96142\"][2]\n",
    "\n",
    "instrument = np.sum(days_mo * wspd * distance * bearing)\n",
    "instrument"
   ]
  },
  {
   "cell_type": "code",
   "execution_count": 77,
   "metadata": {
    "id": "Ai41QjuT0P00",
    "tags": []
   },
   "outputs": [],
   "source": [
    "import multiprocessing\n",
    "\n",
    "from tqdm import tqdm\n",
    "\n",
    "iters = int(np.ceil(fire_dist.shape[0] / 100))\n",
    "instrument_df = pd.DataFrame(\n",
    "    columns=[\n",
    "        \"ZCTA\",\n",
    "        \"fire_lat_lon\",\n",
    "        \"instrument\",\n",
    "        \"instrument_norm\",\n",
    "        \"year_month\",\n",
    "        \"bearing\",\n",
    "        \"distance\",\n",
    "        \"fire_wspd\",\n",
    "    ]\n",
    ")"
   ]
  },
  {
   "cell_type": "code",
   "execution_count": 79,
   "metadata": {
    "id": "AEzin2FzkkQb",
    "tags": []
   },
   "outputs": [],
   "source": [
    "def get_instrument(distance_df, bearing_df, instrument_df):\n",
    "    bear_max = 1\n",
    "    bear_min = 0.75\n",
    "    dist_max = 199.9998830889509\n",
    "    dist_min = 0\n",
    "    wspd_max = 5.554734706878662\n",
    "    wspd_min = 0.0069808503612875\n",
    "\n",
    "    for ym in tqdm(distance_df.index):\n",
    "        days_mo = distance_df[\"fire_days_in_mo\"][ym]\n",
    "        wspd = distance_df[\"fire_wspd\"][ym]\n",
    "        wspd_norm = (wspd - wspd_min) / (wspd_max - wspd_min)\n",
    "        for zcta in distance_df.columns[11:]:\n",
    "            if distance_df.loc[ym, zcta] == 0:\n",
    "                pass\n",
    "            else:\n",
    "                distance = distance_df[zcta][ym]\n",
    "                dist_norm = (distance - dist_min) / (dist_max - dist_min)\n",
    "                bearing = bearing_df[zcta][ym]\n",
    "                bear_norm = (bearing - bear_min) / (bear_max - bear_min)\n",
    "\n",
    "                instrument = days_mo * wspd * bearing / distance\n",
    "                instrument_norm = days_mo * wspd_norm * bear_norm / dist_norm\n",
    "\n",
    "                instrument_df = instrument_df.append(\n",
    "                    {\n",
    "                        \"ZCTA\": zcta,\n",
    "                        \"fire_lat_lon\": distance_df[\"fire_lat_lon\"][ym],\n",
    "                        \"instrument\": instrument,\n",
    "                        \"instrument_norm\": instrument_norm,\n",
    "                        \"year_month\": distance_df[\"year_month\"][ym],\n",
    "                        \"bearing\": bearing,\n",
    "                        \"distance\": distance,\n",
    "                        \"fire_wspd\": wspd,\n",
    "                    },\n",
    "                    ignore_index=True,\n",
    "                )\n",
    "    return instrument_df"
   ]
  },
  {
   "cell_type": "code",
   "execution_count": null,
   "metadata": {
    "tags": []
   },
   "outputs": [],
   "source": [
    "# import multiprocessing as mp\n",
    "\n",
    "# # Step 1: Use multiprocessing.Pool() and specify number of cores to use (here I use 4).\n",
    "# pool = mp.Pool(4)\n",
    "\n",
    "# # Step 2: Use pool.starmap which takes a multiple iterable arguments\n",
    "# results = pool.starmap([get_instrument(fire_dist[p[0]:p[1]],fire_bear[p[0]:p[1]],instrument_df) for p in params])\n",
    "\n",
    "# # Step 3: Don't forget to close\n",
    "# pool.close()"
   ]
  },
  {
   "cell_type": "code",
   "execution_count": 80,
   "metadata": {
    "colab": {
     "base_uri": "https://localhost:8080/"
    },
    "id": "6YxuIiLU4hFZ",
    "outputId": "7e1fb004-75eb-4fe7-f196-b44e1b1b0114",
    "tags": []
   },
   "outputs": [
    {
     "name": "stdout",
     "output_type": "stream",
     "text": [
      "iteration 0/67\n"
     ]
    },
    {
     "name": "stderr",
     "output_type": "stream",
     "text": [
      "100%|█████████████████████████████████████████| 100/100 [01:10<00:00,  1.42it/s]\n"
     ]
    },
    {
     "name": "stdout",
     "output_type": "stream",
     "text": [
      "iteration 1/67\n"
     ]
    },
    {
     "name": "stderr",
     "output_type": "stream",
     "text": [
      "100%|█████████████████████████████████████████| 100/100 [01:05<00:00,  1.52it/s]\n"
     ]
    },
    {
     "name": "stdout",
     "output_type": "stream",
     "text": [
      "iteration 2/67\n"
     ]
    },
    {
     "name": "stderr",
     "output_type": "stream",
     "text": [
      "100%|█████████████████████████████████████████| 100/100 [01:22<00:00,  1.21it/s]\n"
     ]
    },
    {
     "name": "stdout",
     "output_type": "stream",
     "text": [
      "iteration 3/67\n"
     ]
    },
    {
     "name": "stderr",
     "output_type": "stream",
     "text": [
      "100%|█████████████████████████████████████████| 100/100 [01:13<00:00,  1.36it/s]\n"
     ]
    },
    {
     "name": "stdout",
     "output_type": "stream",
     "text": [
      "iteration 4/67\n"
     ]
    },
    {
     "name": "stderr",
     "output_type": "stream",
     "text": [
      "100%|█████████████████████████████████████████| 100/100 [01:27<00:00,  1.14it/s]\n"
     ]
    },
    {
     "name": "stdout",
     "output_type": "stream",
     "text": [
      "iteration 5/67\n"
     ]
    },
    {
     "name": "stderr",
     "output_type": "stream",
     "text": [
      "100%|█████████████████████████████████████████| 100/100 [01:26<00:00,  1.16it/s]\n"
     ]
    },
    {
     "name": "stdout",
     "output_type": "stream",
     "text": [
      "iteration 6/67\n"
     ]
    },
    {
     "name": "stderr",
     "output_type": "stream",
     "text": [
      "100%|█████████████████████████████████████████| 100/100 [01:00<00:00,  1.65it/s]\n"
     ]
    },
    {
     "name": "stdout",
     "output_type": "stream",
     "text": [
      "iteration 7/67\n"
     ]
    },
    {
     "name": "stderr",
     "output_type": "stream",
     "text": [
      "100%|█████████████████████████████████████████| 100/100 [01:18<00:00,  1.27it/s]\n"
     ]
    },
    {
     "name": "stdout",
     "output_type": "stream",
     "text": [
      "iteration 8/67\n"
     ]
    },
    {
     "name": "stderr",
     "output_type": "stream",
     "text": [
      "100%|█████████████████████████████████████████| 100/100 [01:11<00:00,  1.41it/s]\n"
     ]
    },
    {
     "name": "stdout",
     "output_type": "stream",
     "text": [
      "iteration 9/67\n"
     ]
    },
    {
     "name": "stderr",
     "output_type": "stream",
     "text": [
      "100%|█████████████████████████████████████████| 100/100 [01:09<00:00,  1.43it/s]\n"
     ]
    },
    {
     "name": "stdout",
     "output_type": "stream",
     "text": [
      "iteration 10/67\n"
     ]
    },
    {
     "name": "stderr",
     "output_type": "stream",
     "text": [
      "100%|█████████████████████████████████████████| 100/100 [01:05<00:00,  1.52it/s]\n"
     ]
    },
    {
     "name": "stdout",
     "output_type": "stream",
     "text": [
      "iteration 11/67\n"
     ]
    },
    {
     "name": "stderr",
     "output_type": "stream",
     "text": [
      "100%|█████████████████████████████████████████| 100/100 [01:11<00:00,  1.41it/s]\n"
     ]
    },
    {
     "name": "stdout",
     "output_type": "stream",
     "text": [
      "iteration 12/67\n"
     ]
    },
    {
     "name": "stderr",
     "output_type": "stream",
     "text": [
      "100%|█████████████████████████████████████████| 100/100 [01:21<00:00,  1.23it/s]\n"
     ]
    },
    {
     "name": "stdout",
     "output_type": "stream",
     "text": [
      "iteration 13/67\n"
     ]
    },
    {
     "name": "stderr",
     "output_type": "stream",
     "text": [
      "100%|█████████████████████████████████████████| 100/100 [01:16<00:00,  1.31it/s]\n"
     ]
    },
    {
     "name": "stdout",
     "output_type": "stream",
     "text": [
      "iteration 14/67\n"
     ]
    },
    {
     "name": "stderr",
     "output_type": "stream",
     "text": [
      "100%|█████████████████████████████████████████| 100/100 [01:10<00:00,  1.41it/s]\n"
     ]
    },
    {
     "name": "stdout",
     "output_type": "stream",
     "text": [
      "iteration 15/67\n"
     ]
    },
    {
     "name": "stderr",
     "output_type": "stream",
     "text": [
      "100%|█████████████████████████████████████████| 100/100 [01:05<00:00,  1.52it/s]\n"
     ]
    },
    {
     "name": "stdout",
     "output_type": "stream",
     "text": [
      "iteration 16/67\n"
     ]
    },
    {
     "name": "stderr",
     "output_type": "stream",
     "text": [
      "100%|█████████████████████████████████████████| 100/100 [01:09<00:00,  1.44it/s]\n"
     ]
    },
    {
     "name": "stdout",
     "output_type": "stream",
     "text": [
      "iteration 17/67\n"
     ]
    },
    {
     "name": "stderr",
     "output_type": "stream",
     "text": [
      "100%|█████████████████████████████████████████| 100/100 [01:17<00:00,  1.28it/s]\n"
     ]
    },
    {
     "name": "stdout",
     "output_type": "stream",
     "text": [
      "iteration 18/67\n"
     ]
    },
    {
     "name": "stderr",
     "output_type": "stream",
     "text": [
      "100%|█████████████████████████████████████████| 100/100 [01:15<00:00,  1.32it/s]\n"
     ]
    },
    {
     "name": "stdout",
     "output_type": "stream",
     "text": [
      "iteration 19/67\n"
     ]
    },
    {
     "name": "stderr",
     "output_type": "stream",
     "text": [
      "100%|█████████████████████████████████████████| 100/100 [01:05<00:00,  1.52it/s]\n"
     ]
    },
    {
     "name": "stdout",
     "output_type": "stream",
     "text": [
      "iteration 20/67\n"
     ]
    },
    {
     "name": "stderr",
     "output_type": "stream",
     "text": [
      "100%|█████████████████████████████████████████| 100/100 [01:08<00:00,  1.45it/s]\n"
     ]
    },
    {
     "name": "stdout",
     "output_type": "stream",
     "text": [
      "iteration 21/67\n"
     ]
    },
    {
     "name": "stderr",
     "output_type": "stream",
     "text": [
      "100%|█████████████████████████████████████████| 100/100 [01:10<00:00,  1.41it/s]\n"
     ]
    },
    {
     "name": "stdout",
     "output_type": "stream",
     "text": [
      "iteration 22/67\n"
     ]
    },
    {
     "name": "stderr",
     "output_type": "stream",
     "text": [
      "100%|█████████████████████████████████████████| 100/100 [01:06<00:00,  1.51it/s]\n"
     ]
    },
    {
     "name": "stdout",
     "output_type": "stream",
     "text": [
      "iteration 23/67\n"
     ]
    },
    {
     "name": "stderr",
     "output_type": "stream",
     "text": [
      "100%|█████████████████████████████████████████| 100/100 [01:02<00:00,  1.60it/s]\n"
     ]
    },
    {
     "name": "stdout",
     "output_type": "stream",
     "text": [
      "iteration 24/67\n"
     ]
    },
    {
     "name": "stderr",
     "output_type": "stream",
     "text": [
      "100%|█████████████████████████████████████████| 100/100 [01:18<00:00,  1.27it/s]\n"
     ]
    },
    {
     "name": "stdout",
     "output_type": "stream",
     "text": [
      "iteration 25/67\n"
     ]
    },
    {
     "name": "stderr",
     "output_type": "stream",
     "text": [
      "100%|█████████████████████████████████████████| 100/100 [01:13<00:00,  1.36it/s]\n"
     ]
    },
    {
     "name": "stdout",
     "output_type": "stream",
     "text": [
      "iteration 26/67\n"
     ]
    },
    {
     "name": "stderr",
     "output_type": "stream",
     "text": [
      "100%|█████████████████████████████████████████| 100/100 [01:05<00:00,  1.53it/s]\n"
     ]
    },
    {
     "name": "stdout",
     "output_type": "stream",
     "text": [
      "iteration 27/67\n"
     ]
    },
    {
     "name": "stderr",
     "output_type": "stream",
     "text": [
      "100%|█████████████████████████████████████████| 100/100 [01:12<00:00,  1.37it/s]\n"
     ]
    },
    {
     "name": "stdout",
     "output_type": "stream",
     "text": [
      "iteration 28/67\n"
     ]
    },
    {
     "name": "stderr",
     "output_type": "stream",
     "text": [
      "100%|█████████████████████████████████████████| 100/100 [01:17<00:00,  1.30it/s]\n"
     ]
    },
    {
     "name": "stdout",
     "output_type": "stream",
     "text": [
      "iteration 29/67\n"
     ]
    },
    {
     "name": "stderr",
     "output_type": "stream",
     "text": [
      "100%|█████████████████████████████████████████| 100/100 [01:11<00:00,  1.40it/s]\n"
     ]
    },
    {
     "name": "stdout",
     "output_type": "stream",
     "text": [
      "iteration 30/67\n"
     ]
    },
    {
     "name": "stderr",
     "output_type": "stream",
     "text": [
      "100%|█████████████████████████████████████████| 100/100 [01:08<00:00,  1.47it/s]\n"
     ]
    },
    {
     "name": "stdout",
     "output_type": "stream",
     "text": [
      "iteration 31/67\n"
     ]
    },
    {
     "name": "stderr",
     "output_type": "stream",
     "text": [
      "100%|█████████████████████████████████████████| 100/100 [01:09<00:00,  1.44it/s]\n"
     ]
    },
    {
     "name": "stdout",
     "output_type": "stream",
     "text": [
      "iteration 32/67\n"
     ]
    },
    {
     "name": "stderr",
     "output_type": "stream",
     "text": [
      "100%|█████████████████████████████████████████| 100/100 [01:00<00:00,  1.65it/s]\n"
     ]
    },
    {
     "name": "stdout",
     "output_type": "stream",
     "text": [
      "iteration 33/67\n"
     ]
    },
    {
     "name": "stderr",
     "output_type": "stream",
     "text": [
      "100%|█████████████████████████████████████████| 100/100 [00:56<00:00,  1.78it/s]\n"
     ]
    },
    {
     "name": "stdout",
     "output_type": "stream",
     "text": [
      "iteration 34/67\n"
     ]
    },
    {
     "name": "stderr",
     "output_type": "stream",
     "text": [
      "100%|█████████████████████████████████████████| 100/100 [00:59<00:00,  1.68it/s]\n"
     ]
    },
    {
     "name": "stdout",
     "output_type": "stream",
     "text": [
      "iteration 35/67\n"
     ]
    },
    {
     "name": "stderr",
     "output_type": "stream",
     "text": [
      "100%|█████████████████████████████████████████| 100/100 [00:55<00:00,  1.81it/s]\n"
     ]
    },
    {
     "name": "stdout",
     "output_type": "stream",
     "text": [
      "iteration 36/67\n"
     ]
    },
    {
     "name": "stderr",
     "output_type": "stream",
     "text": [
      "100%|█████████████████████████████████████████| 100/100 [01:09<00:00,  1.44it/s]\n"
     ]
    },
    {
     "name": "stdout",
     "output_type": "stream",
     "text": [
      "iteration 37/67\n"
     ]
    },
    {
     "name": "stderr",
     "output_type": "stream",
     "text": [
      "100%|█████████████████████████████████████████| 100/100 [00:54<00:00,  1.84it/s]\n"
     ]
    },
    {
     "name": "stdout",
     "output_type": "stream",
     "text": [
      "iteration 38/67\n"
     ]
    },
    {
     "name": "stderr",
     "output_type": "stream",
     "text": [
      "100%|█████████████████████████████████████████| 100/100 [01:15<00:00,  1.32it/s]\n"
     ]
    },
    {
     "name": "stdout",
     "output_type": "stream",
     "text": [
      "iteration 39/67\n"
     ]
    },
    {
     "name": "stderr",
     "output_type": "stream",
     "text": [
      "100%|█████████████████████████████████████████| 100/100 [01:03<00:00,  1.57it/s]\n"
     ]
    },
    {
     "name": "stdout",
     "output_type": "stream",
     "text": [
      "iteration 40/67\n"
     ]
    },
    {
     "name": "stderr",
     "output_type": "stream",
     "text": [
      "100%|█████████████████████████████████████████| 100/100 [00:51<00:00,  1.94it/s]\n"
     ]
    },
    {
     "name": "stdout",
     "output_type": "stream",
     "text": [
      "iteration 41/67\n"
     ]
    },
    {
     "name": "stderr",
     "output_type": "stream",
     "text": [
      "100%|█████████████████████████████████████████| 100/100 [01:23<00:00,  1.20it/s]\n"
     ]
    },
    {
     "name": "stdout",
     "output_type": "stream",
     "text": [
      "iteration 42/67\n"
     ]
    },
    {
     "name": "stderr",
     "output_type": "stream",
     "text": [
      "100%|█████████████████████████████████████████| 100/100 [01:00<00:00,  1.65it/s]\n"
     ]
    },
    {
     "name": "stdout",
     "output_type": "stream",
     "text": [
      "iteration 43/67\n"
     ]
    },
    {
     "name": "stderr",
     "output_type": "stream",
     "text": [
      "100%|█████████████████████████████████████████| 100/100 [01:03<00:00,  1.56it/s]\n"
     ]
    },
    {
     "name": "stdout",
     "output_type": "stream",
     "text": [
      "iteration 44/67\n"
     ]
    },
    {
     "name": "stderr",
     "output_type": "stream",
     "text": [
      "100%|█████████████████████████████████████████| 100/100 [01:01<00:00,  1.62it/s]\n"
     ]
    },
    {
     "name": "stdout",
     "output_type": "stream",
     "text": [
      "iteration 45/67\n"
     ]
    },
    {
     "name": "stderr",
     "output_type": "stream",
     "text": [
      "100%|█████████████████████████████████████████| 100/100 [01:00<00:00,  1.66it/s]\n"
     ]
    },
    {
     "name": "stdout",
     "output_type": "stream",
     "text": [
      "iteration 46/67\n"
     ]
    },
    {
     "name": "stderr",
     "output_type": "stream",
     "text": [
      "100%|█████████████████████████████████████████| 100/100 [00:58<00:00,  1.70it/s]\n"
     ]
    },
    {
     "name": "stdout",
     "output_type": "stream",
     "text": [
      "iteration 47/67\n"
     ]
    },
    {
     "name": "stderr",
     "output_type": "stream",
     "text": [
      "100%|█████████████████████████████████████████| 100/100 [00:59<00:00,  1.67it/s]\n"
     ]
    },
    {
     "name": "stdout",
     "output_type": "stream",
     "text": [
      "iteration 48/67\n"
     ]
    },
    {
     "name": "stderr",
     "output_type": "stream",
     "text": [
      "100%|█████████████████████████████████████████| 100/100 [01:08<00:00,  1.45it/s]\n"
     ]
    },
    {
     "name": "stdout",
     "output_type": "stream",
     "text": [
      "iteration 49/67\n"
     ]
    },
    {
     "name": "stderr",
     "output_type": "stream",
     "text": [
      "100%|█████████████████████████████████████████| 100/100 [00:53<00:00,  1.87it/s]\n"
     ]
    },
    {
     "name": "stdout",
     "output_type": "stream",
     "text": [
      "iteration 50/67\n"
     ]
    },
    {
     "name": "stderr",
     "output_type": "stream",
     "text": [
      "100%|█████████████████████████████████████████| 100/100 [00:59<00:00,  1.68it/s]\n"
     ]
    },
    {
     "name": "stdout",
     "output_type": "stream",
     "text": [
      "iteration 51/67\n"
     ]
    },
    {
     "name": "stderr",
     "output_type": "stream",
     "text": [
      "100%|█████████████████████████████████████████| 100/100 [00:46<00:00,  2.15it/s]\n"
     ]
    },
    {
     "name": "stdout",
     "output_type": "stream",
     "text": [
      "iteration 52/67\n"
     ]
    },
    {
     "name": "stderr",
     "output_type": "stream",
     "text": [
      "100%|█████████████████████████████████████████| 100/100 [00:48<00:00,  2.04it/s]\n"
     ]
    },
    {
     "name": "stdout",
     "output_type": "stream",
     "text": [
      "iteration 53/67\n"
     ]
    },
    {
     "name": "stderr",
     "output_type": "stream",
     "text": [
      "100%|█████████████████████████████████████████| 100/100 [01:09<00:00,  1.43it/s]\n"
     ]
    },
    {
     "name": "stdout",
     "output_type": "stream",
     "text": [
      "iteration 54/67\n"
     ]
    },
    {
     "name": "stderr",
     "output_type": "stream",
     "text": [
      "100%|█████████████████████████████████████████| 100/100 [01:07<00:00,  1.49it/s]\n"
     ]
    },
    {
     "name": "stdout",
     "output_type": "stream",
     "text": [
      "iteration 55/67\n"
     ]
    },
    {
     "name": "stderr",
     "output_type": "stream",
     "text": [
      "100%|█████████████████████████████████████████| 100/100 [00:54<00:00,  1.84it/s]\n"
     ]
    },
    {
     "name": "stdout",
     "output_type": "stream",
     "text": [
      "iteration 56/67\n"
     ]
    },
    {
     "name": "stderr",
     "output_type": "stream",
     "text": [
      "100%|█████████████████████████████████████████| 100/100 [01:15<00:00,  1.32it/s]\n"
     ]
    },
    {
     "name": "stdout",
     "output_type": "stream",
     "text": [
      "iteration 57/67\n"
     ]
    },
    {
     "name": "stderr",
     "output_type": "stream",
     "text": [
      "100%|█████████████████████████████████████████| 100/100 [00:45<00:00,  2.18it/s]\n"
     ]
    },
    {
     "name": "stdout",
     "output_type": "stream",
     "text": [
      "iteration 58/67\n"
     ]
    },
    {
     "name": "stderr",
     "output_type": "stream",
     "text": [
      "100%|█████████████████████████████████████████| 100/100 [01:11<00:00,  1.39it/s]\n"
     ]
    },
    {
     "name": "stdout",
     "output_type": "stream",
     "text": [
      "iteration 59/67\n"
     ]
    },
    {
     "name": "stderr",
     "output_type": "stream",
     "text": [
      "100%|█████████████████████████████████████████| 100/100 [01:07<00:00,  1.47it/s]\n"
     ]
    },
    {
     "name": "stdout",
     "output_type": "stream",
     "text": [
      "iteration 60/67\n"
     ]
    },
    {
     "name": "stderr",
     "output_type": "stream",
     "text": [
      "100%|█████████████████████████████████████████| 100/100 [00:54<00:00,  1.84it/s]\n"
     ]
    },
    {
     "name": "stdout",
     "output_type": "stream",
     "text": [
      "iteration 61/67\n"
     ]
    },
    {
     "name": "stderr",
     "output_type": "stream",
     "text": [
      "100%|█████████████████████████████████████████| 100/100 [00:51<00:00,  1.93it/s]\n"
     ]
    },
    {
     "name": "stdout",
     "output_type": "stream",
     "text": [
      "iteration 62/67\n"
     ]
    },
    {
     "name": "stderr",
     "output_type": "stream",
     "text": [
      "100%|█████████████████████████████████████████| 100/100 [01:08<00:00,  1.46it/s]\n"
     ]
    },
    {
     "name": "stdout",
     "output_type": "stream",
     "text": [
      "iteration 63/67\n"
     ]
    },
    {
     "name": "stderr",
     "output_type": "stream",
     "text": [
      "100%|█████████████████████████████████████████| 100/100 [00:59<00:00,  1.67it/s]\n"
     ]
    },
    {
     "name": "stdout",
     "output_type": "stream",
     "text": [
      "iteration 64/67\n"
     ]
    },
    {
     "name": "stderr",
     "output_type": "stream",
     "text": [
      "100%|█████████████████████████████████████████| 100/100 [01:02<00:00,  1.61it/s]\n"
     ]
    },
    {
     "name": "stdout",
     "output_type": "stream",
     "text": [
      "iteration 65/67\n"
     ]
    },
    {
     "name": "stderr",
     "output_type": "stream",
     "text": [
      "100%|█████████████████████████████████████████| 100/100 [01:04<00:00,  1.56it/s]\n"
     ]
    },
    {
     "name": "stdout",
     "output_type": "stream",
     "text": [
      "iteration 66/67\n"
     ]
    },
    {
     "name": "stderr",
     "output_type": "stream",
     "text": [
      "100%|███████████████████████████████████████████| 37/37 [00:14<00:00,  2.50it/s]\n"
     ]
    }
   ],
   "source": [
    "iters = int(np.ceil(fire_dist.shape[0] / 100))\n",
    "\n",
    "for i in range(iters):\n",
    "    print(f\"iteration {i}/{iters}\")\n",
    "\n",
    "    instrument_df = pd.DataFrame(\n",
    "        columns=[\n",
    "            \"ZCTA\",\n",
    "            \"fire_lat_lon\",\n",
    "            \"instrument\",\n",
    "            \"instrument_norm\",\n",
    "            \"year_month\",\n",
    "            \"bearing\",\n",
    "            \"distance\",\n",
    "            \"fire_wspd\",\n",
    "        ]\n",
    "    )\n",
    "\n",
    "    instrument_df = get_instrument(\n",
    "        fire_dist[i * 100 : i * 100 + 100],\n",
    "        fire_bear[i * 100 : i * 100 + 100],\n",
    "        instrument_df,\n",
    "    )\n",
    "    instrument_df.to_csv(in_instrument + f\"instrument_iter_{i}.csv\")"
   ]
  },
  {
   "cell_type": "code",
   "execution_count": 81,
   "metadata": {
    "id": "ONCPexcX5vEi",
    "tags": []
   },
   "outputs": [
    {
     "name": "stdout",
     "output_type": "stream",
     "text": [
      "woo\n"
     ]
    }
   ],
   "source": [
    "print(\"woo\")"
   ]
  },
  {
   "cell_type": "code",
   "execution_count": 82,
   "metadata": {
    "id": "qpW9MEs0kkQd",
    "tags": []
   },
   "outputs": [
    {
     "name": "stdout",
     "output_type": "stream",
     "text": [
      "67 files consoidated.\n"
     ]
    }
   ],
   "source": [
    "import glob\n",
    "\n",
    "files = glob.glob(in_instrument + \"instrument_iter\" + \"*.csv\")\n",
    "df_all_instruments = pd.DataFrame()\n",
    "\n",
    "total = 0\n",
    "for f in files:\n",
    "    total += 1\n",
    "    csv = pd.read_csv(f, index_col=0)\n",
    "    df_all_instruments = df_all_instruments.append(csv)\n",
    "print(f\"{total} files consoidated.\")\n",
    "\n",
    "df_all_instruments = df_all_instruments.reset_index(drop=True).drop_duplicates()\n",
    "df_all_instruments.to_csv(in_instrument + \"final_instrument_df.csv\")"
   ]
  },
  {
   "cell_type": "code",
   "execution_count": 33,
   "metadata": {
    "id": "i5Dwk2Q8kkQd",
    "tags": []
   },
   "outputs": [],
   "source": [
    "instruments = df_all_instruments.reset_index(drop=True)\n",
    "\n",
    "\n",
    "instrument_final = (\n",
    "    instruments.groupby([\"ZCTA\", \"year_month\"]).aggregate(sum).drop_duplicates()\n",
    ")\n",
    "instrument_final.to_csv(in_instrument + \"instrument_final.csv\")"
   ]
  },
  {
   "cell_type": "code",
   "execution_count": 26,
   "metadata": {
    "id": "QL38u43lkkQd",
    "tags": []
   },
   "outputs": [
    {
     "data": {
      "text/html": [
       "<div>\n",
       "<style scoped>\n",
       "    .dataframe tbody tr th:only-of-type {\n",
       "        vertical-align: middle;\n",
       "    }\n",
       "\n",
       "    .dataframe tbody tr th {\n",
       "        vertical-align: top;\n",
       "    }\n",
       "\n",
       "    .dataframe thead th {\n",
       "        text-align: right;\n",
       "    }\n",
       "</style>\n",
       "<table border=\"1\" class=\"dataframe\">\n",
       "  <thead>\n",
       "    <tr style=\"text-align: right;\">\n",
       "      <th></th>\n",
       "      <th>ZCTA</th>\n",
       "      <th>year_month</th>\n",
       "      <th>instrument</th>\n",
       "    </tr>\n",
       "  </thead>\n",
       "  <tbody>\n",
       "    <tr>\n",
       "      <th>0</th>\n",
       "      <td>89019</td>\n",
       "      <td>199104</td>\n",
       "      <td>8.959256</td>\n",
       "    </tr>\n",
       "    <tr>\n",
       "      <th>1</th>\n",
       "      <td>89019</td>\n",
       "      <td>199107</td>\n",
       "      <td>5.524780</td>\n",
       "    </tr>\n",
       "    <tr>\n",
       "      <th>2</th>\n",
       "      <td>89019</td>\n",
       "      <td>199108</td>\n",
       "      <td>174.513702</td>\n",
       "    </tr>\n",
       "    <tr>\n",
       "      <th>3</th>\n",
       "      <td>89019</td>\n",
       "      <td>199109</td>\n",
       "      <td>71.185512</td>\n",
       "    </tr>\n",
       "    <tr>\n",
       "      <th>4</th>\n",
       "      <td>89019</td>\n",
       "      <td>199110</td>\n",
       "      <td>109.824039</td>\n",
       "    </tr>\n",
       "    <tr>\n",
       "      <th>...</th>\n",
       "      <td>...</td>\n",
       "      <td>...</td>\n",
       "      <td>...</td>\n",
       "    </tr>\n",
       "    <tr>\n",
       "      <th>318025</th>\n",
       "      <td>97635</td>\n",
       "      <td>201607</td>\n",
       "      <td>43.174540</td>\n",
       "    </tr>\n",
       "    <tr>\n",
       "      <th>318026</th>\n",
       "      <td>97635</td>\n",
       "      <td>201608</td>\n",
       "      <td>149.598601</td>\n",
       "    </tr>\n",
       "    <tr>\n",
       "      <th>318027</th>\n",
       "      <td>97635</td>\n",
       "      <td>201609</td>\n",
       "      <td>147.283876</td>\n",
       "    </tr>\n",
       "    <tr>\n",
       "      <th>318028</th>\n",
       "      <td>97635</td>\n",
       "      <td>201610</td>\n",
       "      <td>146.902261</td>\n",
       "    </tr>\n",
       "    <tr>\n",
       "      <th>318029</th>\n",
       "      <td>97635</td>\n",
       "      <td>201611</td>\n",
       "      <td>49.121662</td>\n",
       "    </tr>\n",
       "  </tbody>\n",
       "</table>\n",
       "<p>318030 rows × 3 columns</p>\n",
       "</div>"
      ],
      "text/plain": [
       "         ZCTA  year_month  instrument\n",
       "0       89019      199104    8.959256\n",
       "1       89019      199107    5.524780\n",
       "2       89019      199108  174.513702\n",
       "3       89019      199109   71.185512\n",
       "4       89019      199110  109.824039\n",
       "...       ...         ...         ...\n",
       "318025  97635      201607   43.174540\n",
       "318026  97635      201608  149.598601\n",
       "318027  97635      201609  147.283876\n",
       "318028  97635      201610  146.902261\n",
       "318029  97635      201611   49.121662\n",
       "\n",
       "[318030 rows x 3 columns]"
      ]
     },
     "execution_count": 26,
     "metadata": {},
     "output_type": "execute_result"
    }
   ],
   "source": [
    "instrument_final = pd.read_csv(in_instrument + \"instrument_final.csv\")\n",
    "instrument_final"
   ]
  },
  {
   "cell_type": "code",
   "execution_count": null,
   "metadata": {
    "id": "AIocmOU7kkQd"
   },
   "outputs": [
    {
     "data": {
      "text/plain": [
       "0.0"
      ]
     },
     "execution_count": 153,
     "metadata": {},
     "output_type": "execute_result"
    }
   ],
   "source": []
  },
  {
   "cell_type": "code",
   "execution_count": 34,
   "metadata": {},
   "outputs": [
    {
     "data": {
      "text/html": [
       "<div>\n",
       "<style scoped>\n",
       "    .dataframe tbody tr th:only-of-type {\n",
       "        vertical-align: middle;\n",
       "    }\n",
       "\n",
       "    .dataframe tbody tr th {\n",
       "        vertical-align: top;\n",
       "    }\n",
       "\n",
       "    .dataframe thead th {\n",
       "        text-align: right;\n",
       "    }\n",
       "</style>\n",
       "<table border=\"1\" class=\"dataframe\">\n",
       "  <thead>\n",
       "    <tr style=\"text-align: right;\">\n",
       "      <th></th>\n",
       "      <th>ZCTA</th>\n",
       "      <th>fire_lat_lon</th>\n",
       "      <th>instrument</th>\n",
       "      <th>year_month</th>\n",
       "    </tr>\n",
       "  </thead>\n",
       "  <tbody>\n",
       "    <tr>\n",
       "      <th>0</th>\n",
       "      <td>90001</td>\n",
       "      <td>(34.78121497430767, -120.4856276252864)</td>\n",
       "      <td>15.158099</td>\n",
       "      <td>200009</td>\n",
       "    </tr>\n",
       "    <tr>\n",
       "      <th>1</th>\n",
       "      <td>90002</td>\n",
       "      <td>(34.78121497430767, -120.4856276252864)</td>\n",
       "      <td>12.881696</td>\n",
       "      <td>200009</td>\n",
       "    </tr>\n",
       "    <tr>\n",
       "      <th>2</th>\n",
       "      <td>90003</td>\n",
       "      <td>(34.78121497430767, -120.4856276252864)</td>\n",
       "      <td>14.472301</td>\n",
       "      <td>200009</td>\n",
       "    </tr>\n",
       "    <tr>\n",
       "      <th>3</th>\n",
       "      <td>90004</td>\n",
       "      <td>(34.78121497430767, -120.4856276252864)</td>\n",
       "      <td>11.393226</td>\n",
       "      <td>200009</td>\n",
       "    </tr>\n",
       "    <tr>\n",
       "      <th>4</th>\n",
       "      <td>90005</td>\n",
       "      <td>(34.78121497430767, -120.4856276252864)</td>\n",
       "      <td>14.283857</td>\n",
       "      <td>200009</td>\n",
       "    </tr>\n",
       "    <tr>\n",
       "      <th>...</th>\n",
       "      <td>...</td>\n",
       "      <td>...</td>\n",
       "      <td>...</td>\n",
       "      <td>...</td>\n",
       "    </tr>\n",
       "    <tr>\n",
       "      <th>46010</th>\n",
       "      <td>96134</td>\n",
       "      <td>(41.55849847497173, -123.1157014096472)</td>\n",
       "      <td>0.808206</td>\n",
       "      <td>200708</td>\n",
       "    </tr>\n",
       "    <tr>\n",
       "      <th>46011</th>\n",
       "      <td>96135</td>\n",
       "      <td>(41.55849847497173, -123.1157014096472)</td>\n",
       "      <td>1.716934</td>\n",
       "      <td>200708</td>\n",
       "    </tr>\n",
       "    <tr>\n",
       "      <th>46012</th>\n",
       "      <td>96136</td>\n",
       "      <td>(41.55849847497173, -123.1157014096472)</td>\n",
       "      <td>1.440254</td>\n",
       "      <td>200708</td>\n",
       "    </tr>\n",
       "    <tr>\n",
       "      <th>46013</th>\n",
       "      <td>96137</td>\n",
       "      <td>(41.55849847497173, -123.1157014096472)</td>\n",
       "      <td>1.264808</td>\n",
       "      <td>200708</td>\n",
       "    </tr>\n",
       "    <tr>\n",
       "      <th>46014</th>\n",
       "      <td>97635</td>\n",
       "      <td>(41.55849847497173, -123.1157014096472)</td>\n",
       "      <td>1.179020</td>\n",
       "      <td>200708</td>\n",
       "    </tr>\n",
       "  </tbody>\n",
       "</table>\n",
       "<p>2896792 rows × 4 columns</p>\n",
       "</div>"
      ],
      "text/plain": [
       "        ZCTA                             fire_lat_lon  instrument  year_month\n",
       "0      90001  (34.78121497430767, -120.4856276252864)   15.158099      200009\n",
       "1      90002  (34.78121497430767, -120.4856276252864)   12.881696      200009\n",
       "2      90003  (34.78121497430767, -120.4856276252864)   14.472301      200009\n",
       "3      90004  (34.78121497430767, -120.4856276252864)   11.393226      200009\n",
       "4      90005  (34.78121497430767, -120.4856276252864)   14.283857      200009\n",
       "...      ...                                      ...         ...         ...\n",
       "46010  96134  (41.55849847497173, -123.1157014096472)    0.808206      200708\n",
       "46011  96135  (41.55849847497173, -123.1157014096472)    1.716934      200708\n",
       "46012  96136  (41.55849847497173, -123.1157014096472)    1.440254      200708\n",
       "46013  96137  (41.55849847497173, -123.1157014096472)    1.264808      200708\n",
       "46014  97635  (41.55849847497173, -123.1157014096472)    1.179020      200708\n",
       "\n",
       "[2896792 rows x 4 columns]"
      ]
     },
     "execution_count": 34,
     "metadata": {},
     "output_type": "execute_result"
    }
   ],
   "source": [
    "df_all_instruments"
   ]
  },
  {
   "cell_type": "code",
   "execution_count": 83,
   "metadata": {
    "tags": []
   },
   "outputs": [],
   "source": [
    "wind_elevation = pd.read_csv(\"all_elevations.csv\")\n",
    "wind_elevation[\"zips\"] = wind_elevation[\"zips\"].astype(str)\n",
    "wind_elevation[\"elevation\"] = (\n",
    "    wind_elevation[\"elevation\"].map(lambda x: x[:-2]).astype(float)\n",
    ")\n",
    "wind_elevation = wind_final.merge(\n",
    "    wind_elevation, left_on=\"ZCTA\", right_on=\"zips\", how=\"left\"\n",
    ")\n",
    "wind_elevation = wind_elevation.rename(columns={\"elevation\": \"zip_elevation\"})"
   ]
  },
  {
   "cell_type": "code",
   "execution_count": 84,
   "metadata": {
    "tags": []
   },
   "outputs": [],
   "source": [
    "fire_elevation = pd.read_csv(in_instrument + \"elevation_final.csv\", index_col=0)\n",
    "fire_elevation = fire_final.merge(\n",
    "    fire_elevation, on=[\"fire_lat\", \"fire_lon\"], how=\"left\"\n",
    ")"
   ]
  },
  {
   "cell_type": "code",
   "execution_count": 85,
   "metadata": {
    "tags": []
   },
   "outputs": [],
   "source": [
    "fire_elevation[\"year_month\"] = fire_elevation[\"year_month\"].astype(str)\n",
    "df_all_instruments[\"ZCTA\"] = df_all_instruments[\"ZCTA\"].astype(str)\n",
    "wind_elevation[\"ZCTA\"] = wind_elevation[\"ZCTA\"].astype(str)\n",
    "df_all_instruments[\"year_month\"] = df_all_instruments[\"year_month\"].astype(str)"
   ]
  },
  {
   "cell_type": "code",
   "execution_count": 86,
   "metadata": {},
   "outputs": [],
   "source": [
    "temp_instrument = df_all_instruments.drop_duplicates().merge(\n",
    "    fire_elevation, on=[\"fire_lat_lon\", \"year_month\"], how=\"left\"\n",
    ")\n",
    "\n",
    "# Max and min pm 2.5 of whole dataset for normalization\n",
    "pm_25min = wind_final.zip_pm25.min()\n",
    "pm_25max = wind_final.zip_pm25.max()\n",
    "\n",
    "temp_instrument[\"fire_pm25_norm\"] = (temp_instrument[\"fire_pm25\"] - pm_25min) / (\n",
    "    pm_25max - pm_25min\n",
    ")\n",
    "temp_instrument[\"instrument_2\"] = temp_instrument[\"instrument\"] * (\n",
    "    temp_instrument[\"fire_pm25\"]\n",
    ")\n",
    "temp_instrument[\"instrument_2_norm\"] = temp_instrument[\"instrument\"] * (\n",
    "    temp_instrument[\"fire_pm25_norm\"] + 1\n",
    ")"
   ]
  },
  {
   "cell_type": "code",
   "execution_count": 91,
   "metadata": {
    "tags": []
   },
   "outputs": [
    {
     "data": {
      "text/html": [
       "<div>\n",
       "<style scoped>\n",
       "    .dataframe tbody tr th:only-of-type {\n",
       "        vertical-align: middle;\n",
       "    }\n",
       "\n",
       "    .dataframe tbody tr th {\n",
       "        vertical-align: top;\n",
       "    }\n",
       "\n",
       "    .dataframe thead th {\n",
       "        text-align: right;\n",
       "    }\n",
       "</style>\n",
       "<table border=\"1\" class=\"dataframe\">\n",
       "  <thead>\n",
       "    <tr style=\"text-align: right;\">\n",
       "      <th></th>\n",
       "      <th>ZCTA</th>\n",
       "      <th>fire_lat_lon</th>\n",
       "      <th>instrument</th>\n",
       "      <th>instrument_norm</th>\n",
       "      <th>year_month</th>\n",
       "      <th>bearing</th>\n",
       "      <th>distance</th>\n",
       "      <th>fire_wspd_x</th>\n",
       "      <th>acres</th>\n",
       "      <th>fire_lat</th>\n",
       "      <th>...</th>\n",
       "      <th>fire_days_in_mo</th>\n",
       "      <th>fire_wdir</th>\n",
       "      <th>fire_wspd_y</th>\n",
       "      <th>year</th>\n",
       "      <th>month</th>\n",
       "      <th>fire_pm25</th>\n",
       "      <th>fire_elevation</th>\n",
       "      <th>fire_pm25_norm</th>\n",
       "      <th>instrument_2</th>\n",
       "      <th>instrument_2_norm</th>\n",
       "    </tr>\n",
       "  </thead>\n",
       "  <tbody>\n",
       "    <tr>\n",
       "      <th>0</th>\n",
       "      <td>90001</td>\n",
       "      <td>(34.78121497430767, -120.4856276252864)</td>\n",
       "      <td>0.000776</td>\n",
       "      <td>0.023991</td>\n",
       "      <td>200009</td>\n",
       "      <td>0.955673</td>\n",
       "      <td>139.742150</td>\n",
       "      <td>1.702547</td>\n",
       "      <td>9329.916992</td>\n",
       "      <td>34.781215</td>\n",
       "      <td>...</td>\n",
       "      <td>0.066667</td>\n",
       "      <td>325.456421</td>\n",
       "      <td>1.702547</td>\n",
       "      <td>2000</td>\n",
       "      <td>9</td>\n",
       "      <td>7.76</td>\n",
       "      <td>95.0</td>\n",
       "      <td>0.087733</td>\n",
       "      <td>0.006024</td>\n",
       "      <td>0.000844</td>\n",
       "    </tr>\n",
       "    <tr>\n",
       "      <th>1</th>\n",
       "      <td>90002</td>\n",
       "      <td>(34.78121497430767, -120.4856276252864)</td>\n",
       "      <td>0.000645</td>\n",
       "      <td>0.006125</td>\n",
       "      <td>200009</td>\n",
       "      <td>0.803104</td>\n",
       "      <td>141.316634</td>\n",
       "      <td>1.702547</td>\n",
       "      <td>9329.916992</td>\n",
       "      <td>34.781215</td>\n",
       "      <td>...</td>\n",
       "      <td>0.066667</td>\n",
       "      <td>325.456421</td>\n",
       "      <td>1.702547</td>\n",
       "      <td>2000</td>\n",
       "      <td>9</td>\n",
       "      <td>7.76</td>\n",
       "      <td>95.0</td>\n",
       "      <td>0.087733</td>\n",
       "      <td>0.005006</td>\n",
       "      <td>0.000702</td>\n",
       "    </tr>\n",
       "    <tr>\n",
       "      <th>2</th>\n",
       "      <td>90003</td>\n",
       "      <td>(34.78121497430767, -120.4856276252864)</td>\n",
       "      <td>0.000753</td>\n",
       "      <td>0.019996</td>\n",
       "      <td>200009</td>\n",
       "      <td>0.920015</td>\n",
       "      <td>138.590876</td>\n",
       "      <td>1.702547</td>\n",
       "      <td>9329.916992</td>\n",
       "      <td>34.781215</td>\n",
       "      <td>...</td>\n",
       "      <td>0.066667</td>\n",
       "      <td>325.456421</td>\n",
       "      <td>1.702547</td>\n",
       "      <td>2000</td>\n",
       "      <td>9</td>\n",
       "      <td>7.76</td>\n",
       "      <td>95.0</td>\n",
       "      <td>0.087733</td>\n",
       "      <td>0.005847</td>\n",
       "      <td>0.000820</td>\n",
       "    </tr>\n",
       "    <tr>\n",
       "      <th>3</th>\n",
       "      <td>90004</td>\n",
       "      <td>(34.78121497430767, -120.4856276252864)</td>\n",
       "      <td>0.000655</td>\n",
       "      <td>0.001343</td>\n",
       "      <td>200009</td>\n",
       "      <td>0.760872</td>\n",
       "      <td>131.925083</td>\n",
       "      <td>1.702547</td>\n",
       "      <td>9329.916992</td>\n",
       "      <td>34.781215</td>\n",
       "      <td>...</td>\n",
       "      <td>0.066667</td>\n",
       "      <td>325.456421</td>\n",
       "      <td>1.702547</td>\n",
       "      <td>2000</td>\n",
       "      <td>9</td>\n",
       "      <td>7.76</td>\n",
       "      <td>95.0</td>\n",
       "      <td>0.087733</td>\n",
       "      <td>0.005080</td>\n",
       "      <td>0.000712</td>\n",
       "    </tr>\n",
       "    <tr>\n",
       "      <th>4</th>\n",
       "      <td>90005</td>\n",
       "      <td>(34.78121497430767, -120.4856276252864)</td>\n",
       "      <td>0.000810</td>\n",
       "      <td>0.024230</td>\n",
       "      <td>200009</td>\n",
       "      <td>0.947446</td>\n",
       "      <td>132.825955</td>\n",
       "      <td>1.702547</td>\n",
       "      <td>9329.916992</td>\n",
       "      <td>34.781215</td>\n",
       "      <td>...</td>\n",
       "      <td>0.066667</td>\n",
       "      <td>325.456421</td>\n",
       "      <td>1.702547</td>\n",
       "      <td>2000</td>\n",
       "      <td>9</td>\n",
       "      <td>7.76</td>\n",
       "      <td>95.0</td>\n",
       "      <td>0.087733</td>\n",
       "      <td>0.006283</td>\n",
       "      <td>0.000881</td>\n",
       "    </tr>\n",
       "    <tr>\n",
       "      <th>...</th>\n",
       "      <td>...</td>\n",
       "      <td>...</td>\n",
       "      <td>...</td>\n",
       "      <td>...</td>\n",
       "      <td>...</td>\n",
       "      <td>...</td>\n",
       "      <td>...</td>\n",
       "      <td>...</td>\n",
       "      <td>...</td>\n",
       "      <td>...</td>\n",
       "      <td>...</td>\n",
       "      <td>...</td>\n",
       "      <td>...</td>\n",
       "      <td>...</td>\n",
       "      <td>...</td>\n",
       "      <td>...</td>\n",
       "      <td>...</td>\n",
       "      <td>...</td>\n",
       "      <td>...</td>\n",
       "      <td>...</td>\n",
       "      <td>...</td>\n",
       "    </tr>\n",
       "    <tr>\n",
       "      <th>4960767</th>\n",
       "      <td>96136</td>\n",
       "      <td>(41.55849847497173, -123.1157014096472)</td>\n",
       "      <td>0.000042</td>\n",
       "      <td>0.000796</td>\n",
       "      <td>200708</td>\n",
       "      <td>0.872197</td>\n",
       "      <td>186.231827</td>\n",
       "      <td>0.137437</td>\n",
       "      <td>12.925918</td>\n",
       "      <td>41.558498</td>\n",
       "      <td>...</td>\n",
       "      <td>0.064516</td>\n",
       "      <td>219.183105</td>\n",
       "      <td>0.137437</td>\n",
       "      <td>2007</td>\n",
       "      <td>8</td>\n",
       "      <td>0.85</td>\n",
       "      <td>2380.0</td>\n",
       "      <td>0.009610</td>\n",
       "      <td>0.000035</td>\n",
       "      <td>0.000042</td>\n",
       "    </tr>\n",
       "    <tr>\n",
       "      <th>4960768</th>\n",
       "      <td>96137</td>\n",
       "      <td>(41.55849847497173, -123.1157014096472)</td>\n",
       "      <td>0.000061</td>\n",
       "      <td>0.002036</td>\n",
       "      <td>200708</td>\n",
       "      <td>0.991349</td>\n",
       "      <td>143.888868</td>\n",
       "      <td>0.137437</td>\n",
       "      <td>12.925918</td>\n",
       "      <td>41.558498</td>\n",
       "      <td>...</td>\n",
       "      <td>0.064516</td>\n",
       "      <td>219.183105</td>\n",
       "      <td>0.137437</td>\n",
       "      <td>2007</td>\n",
       "      <td>8</td>\n",
       "      <td>0.85</td>\n",
       "      <td>2380.0</td>\n",
       "      <td>0.009610</td>\n",
       "      <td>0.000052</td>\n",
       "      <td>0.000062</td>\n",
       "    </tr>\n",
       "    <tr>\n",
       "      <th>4960769</th>\n",
       "      <td>96137</td>\n",
       "      <td>(41.55849847497173, -123.1157014096472)</td>\n",
       "      <td>0.000061</td>\n",
       "      <td>0.002036</td>\n",
       "      <td>200708</td>\n",
       "      <td>0.991349</td>\n",
       "      <td>143.888868</td>\n",
       "      <td>0.137437</td>\n",
       "      <td>12.925918</td>\n",
       "      <td>41.558498</td>\n",
       "      <td>...</td>\n",
       "      <td>0.064516</td>\n",
       "      <td>219.183105</td>\n",
       "      <td>0.137437</td>\n",
       "      <td>2007</td>\n",
       "      <td>8</td>\n",
       "      <td>0.85</td>\n",
       "      <td>2380.0</td>\n",
       "      <td>0.009610</td>\n",
       "      <td>0.000052</td>\n",
       "      <td>0.000062</td>\n",
       "    </tr>\n",
       "    <tr>\n",
       "      <th>4960770</th>\n",
       "      <td>97635</td>\n",
       "      <td>(41.55849847497173, -123.1157014096472)</td>\n",
       "      <td>0.000052</td>\n",
       "      <td>0.001067</td>\n",
       "      <td>200708</td>\n",
       "      <td>0.882441</td>\n",
       "      <td>150.683061</td>\n",
       "      <td>0.137437</td>\n",
       "      <td>12.925918</td>\n",
       "      <td>41.558498</td>\n",
       "      <td>...</td>\n",
       "      <td>0.064516</td>\n",
       "      <td>219.183105</td>\n",
       "      <td>0.137437</td>\n",
       "      <td>2007</td>\n",
       "      <td>8</td>\n",
       "      <td>0.85</td>\n",
       "      <td>2380.0</td>\n",
       "      <td>0.009610</td>\n",
       "      <td>0.000044</td>\n",
       "      <td>0.000052</td>\n",
       "    </tr>\n",
       "    <tr>\n",
       "      <th>4960771</th>\n",
       "      <td>97635</td>\n",
       "      <td>(41.55849847497173, -123.1157014096472)</td>\n",
       "      <td>0.000052</td>\n",
       "      <td>0.001067</td>\n",
       "      <td>200708</td>\n",
       "      <td>0.882441</td>\n",
       "      <td>150.683061</td>\n",
       "      <td>0.137437</td>\n",
       "      <td>12.925918</td>\n",
       "      <td>41.558498</td>\n",
       "      <td>...</td>\n",
       "      <td>0.064516</td>\n",
       "      <td>219.183105</td>\n",
       "      <td>0.137437</td>\n",
       "      <td>2007</td>\n",
       "      <td>8</td>\n",
       "      <td>0.85</td>\n",
       "      <td>2380.0</td>\n",
       "      <td>0.009610</td>\n",
       "      <td>0.000044</td>\n",
       "      <td>0.000052</td>\n",
       "    </tr>\n",
       "  </tbody>\n",
       "</table>\n",
       "<p>4960772 rows × 21 columns</p>\n",
       "</div>"
      ],
      "text/plain": [
       "          ZCTA                             fire_lat_lon  instrument  \\\n",
       "0        90001  (34.78121497430767, -120.4856276252864)    0.000776   \n",
       "1        90002  (34.78121497430767, -120.4856276252864)    0.000645   \n",
       "2        90003  (34.78121497430767, -120.4856276252864)    0.000753   \n",
       "3        90004  (34.78121497430767, -120.4856276252864)    0.000655   \n",
       "4        90005  (34.78121497430767, -120.4856276252864)    0.000810   \n",
       "...        ...                                      ...         ...   \n",
       "4960767  96136  (41.55849847497173, -123.1157014096472)    0.000042   \n",
       "4960768  96137  (41.55849847497173, -123.1157014096472)    0.000061   \n",
       "4960769  96137  (41.55849847497173, -123.1157014096472)    0.000061   \n",
       "4960770  97635  (41.55849847497173, -123.1157014096472)    0.000052   \n",
       "4960771  97635  (41.55849847497173, -123.1157014096472)    0.000052   \n",
       "\n",
       "         instrument_norm year_month   bearing    distance  fire_wspd_x  \\\n",
       "0               0.023991     200009  0.955673  139.742150     1.702547   \n",
       "1               0.006125     200009  0.803104  141.316634     1.702547   \n",
       "2               0.019996     200009  0.920015  138.590876     1.702547   \n",
       "3               0.001343     200009  0.760872  131.925083     1.702547   \n",
       "4               0.024230     200009  0.947446  132.825955     1.702547   \n",
       "...                  ...        ...       ...         ...          ...   \n",
       "4960767         0.000796     200708  0.872197  186.231827     0.137437   \n",
       "4960768         0.002036     200708  0.991349  143.888868     0.137437   \n",
       "4960769         0.002036     200708  0.991349  143.888868     0.137437   \n",
       "4960770         0.001067     200708  0.882441  150.683061     0.137437   \n",
       "4960771         0.001067     200708  0.882441  150.683061     0.137437   \n",
       "\n",
       "               acres   fire_lat  ...  fire_days_in_mo   fire_wdir  \\\n",
       "0        9329.916992  34.781215  ...         0.066667  325.456421   \n",
       "1        9329.916992  34.781215  ...         0.066667  325.456421   \n",
       "2        9329.916992  34.781215  ...         0.066667  325.456421   \n",
       "3        9329.916992  34.781215  ...         0.066667  325.456421   \n",
       "4        9329.916992  34.781215  ...         0.066667  325.456421   \n",
       "...              ...        ...  ...              ...         ...   \n",
       "4960767    12.925918  41.558498  ...         0.064516  219.183105   \n",
       "4960768    12.925918  41.558498  ...         0.064516  219.183105   \n",
       "4960769    12.925918  41.558498  ...         0.064516  219.183105   \n",
       "4960770    12.925918  41.558498  ...         0.064516  219.183105   \n",
       "4960771    12.925918  41.558498  ...         0.064516  219.183105   \n",
       "\n",
       "         fire_wspd_y  year  month  fire_pm25  fire_elevation  fire_pm25_norm  \\\n",
       "0           1.702547  2000      9       7.76            95.0        0.087733   \n",
       "1           1.702547  2000      9       7.76            95.0        0.087733   \n",
       "2           1.702547  2000      9       7.76            95.0        0.087733   \n",
       "3           1.702547  2000      9       7.76            95.0        0.087733   \n",
       "4           1.702547  2000      9       7.76            95.0        0.087733   \n",
       "...              ...   ...    ...        ...             ...             ...   \n",
       "4960767     0.137437  2007      8       0.85          2380.0        0.009610   \n",
       "4960768     0.137437  2007      8       0.85          2380.0        0.009610   \n",
       "4960769     0.137437  2007      8       0.85          2380.0        0.009610   \n",
       "4960770     0.137437  2007      8       0.85          2380.0        0.009610   \n",
       "4960771     0.137437  2007      8       0.85          2380.0        0.009610   \n",
       "\n",
       "         instrument_2  instrument_2_norm  \n",
       "0            0.006024           0.000844  \n",
       "1            0.005006           0.000702  \n",
       "2            0.005847           0.000820  \n",
       "3            0.005080           0.000712  \n",
       "4            0.006283           0.000881  \n",
       "...               ...                ...  \n",
       "4960767      0.000035           0.000042  \n",
       "4960768      0.000052           0.000062  \n",
       "4960769      0.000052           0.000062  \n",
       "4960770      0.000044           0.000052  \n",
       "4960771      0.000044           0.000052  \n",
       "\n",
       "[4960772 rows x 21 columns]"
      ]
     },
     "execution_count": 91,
     "metadata": {},
     "output_type": "execute_result"
    }
   ],
   "source": [
    "temp_instrument"
   ]
  },
  {
   "cell_type": "code",
   "execution_count": 87,
   "metadata": {},
   "outputs": [],
   "source": [
    "temp_wind_df = wind_elevation[\n",
    "    [\"ZCTA\", \"zip_elevation\", \"zip_pm25\", \"year_month\"]\n",
    "].drop_duplicates()"
   ]
  },
  {
   "cell_type": "code",
   "execution_count": 103,
   "metadata": {
    "tags": []
   },
   "outputs": [
    {
     "data": {
      "text/plain": [
       "Index(['ZCTA', 'fire_lat_lon', 'instrument', 'instrument_norm', 'year_month',\n",
       "       'bearing', 'distance', 'fire_wspd_x', 'acres', 'fire_lat', 'fire_lon',\n",
       "       'fire_days_in_mo', 'fire_wdir', 'fire_wspd_y', 'year', 'month',\n",
       "       'fire_pm25', 'fire_elevation', 'fire_pm25_norm', 'instrument_2',\n",
       "       'instrument_2_norm'],\n",
       "      dtype='object')"
      ]
     },
     "execution_count": 103,
     "metadata": {},
     "output_type": "execute_result"
    }
   ],
   "source": [
    "temp_instrument.columns"
   ]
  },
  {
   "cell_type": "code",
   "execution_count": 104,
   "metadata": {
    "tags": []
   },
   "outputs": [
    {
     "data": {
      "text/html": [
       "<div>\n",
       "<style scoped>\n",
       "    .dataframe tbody tr th:only-of-type {\n",
       "        vertical-align: middle;\n",
       "    }\n",
       "\n",
       "    .dataframe tbody tr th {\n",
       "        vertical-align: top;\n",
       "    }\n",
       "\n",
       "    .dataframe thead th {\n",
       "        text-align: right;\n",
       "    }\n",
       "</style>\n",
       "<table border=\"1\" class=\"dataframe\">\n",
       "  <thead>\n",
       "    <tr style=\"text-align: right;\">\n",
       "      <th></th>\n",
       "      <th>ZCTA</th>\n",
       "      <th>fire_lat_lon</th>\n",
       "      <th>instrument</th>\n",
       "      <th>instrument_norm</th>\n",
       "      <th>year_month</th>\n",
       "      <th>bearing</th>\n",
       "      <th>distance</th>\n",
       "      <th>fire_wspd_x</th>\n",
       "      <th>acres</th>\n",
       "      <th>fire_days_in_mo</th>\n",
       "      <th>fire_pm25</th>\n",
       "      <th>fire_elevation</th>\n",
       "      <th>fire_pm25_norm</th>\n",
       "      <th>instrument_2</th>\n",
       "      <th>instrument_2_norm</th>\n",
       "    </tr>\n",
       "  </thead>\n",
       "  <tbody>\n",
       "    <tr>\n",
       "      <th>0</th>\n",
       "      <td>90001</td>\n",
       "      <td>(34.78121497430767, -120.4856276252864)</td>\n",
       "      <td>0.000776</td>\n",
       "      <td>0.023991</td>\n",
       "      <td>200009</td>\n",
       "      <td>0.955673</td>\n",
       "      <td>139.742150</td>\n",
       "      <td>1.702547</td>\n",
       "      <td>9329.916992</td>\n",
       "      <td>0.066667</td>\n",
       "      <td>7.76</td>\n",
       "      <td>95.0</td>\n",
       "      <td>0.087733</td>\n",
       "      <td>0.006024</td>\n",
       "      <td>0.000844</td>\n",
       "    </tr>\n",
       "    <tr>\n",
       "      <th>1</th>\n",
       "      <td>90002</td>\n",
       "      <td>(34.78121497430767, -120.4856276252864)</td>\n",
       "      <td>0.000645</td>\n",
       "      <td>0.006125</td>\n",
       "      <td>200009</td>\n",
       "      <td>0.803104</td>\n",
       "      <td>141.316634</td>\n",
       "      <td>1.702547</td>\n",
       "      <td>9329.916992</td>\n",
       "      <td>0.066667</td>\n",
       "      <td>7.76</td>\n",
       "      <td>95.0</td>\n",
       "      <td>0.087733</td>\n",
       "      <td>0.005006</td>\n",
       "      <td>0.000702</td>\n",
       "    </tr>\n",
       "    <tr>\n",
       "      <th>2</th>\n",
       "      <td>90003</td>\n",
       "      <td>(34.78121497430767, -120.4856276252864)</td>\n",
       "      <td>0.000753</td>\n",
       "      <td>0.019996</td>\n",
       "      <td>200009</td>\n",
       "      <td>0.920015</td>\n",
       "      <td>138.590876</td>\n",
       "      <td>1.702547</td>\n",
       "      <td>9329.916992</td>\n",
       "      <td>0.066667</td>\n",
       "      <td>7.76</td>\n",
       "      <td>95.0</td>\n",
       "      <td>0.087733</td>\n",
       "      <td>0.005847</td>\n",
       "      <td>0.000820</td>\n",
       "    </tr>\n",
       "    <tr>\n",
       "      <th>3</th>\n",
       "      <td>90004</td>\n",
       "      <td>(34.78121497430767, -120.4856276252864)</td>\n",
       "      <td>0.000655</td>\n",
       "      <td>0.001343</td>\n",
       "      <td>200009</td>\n",
       "      <td>0.760872</td>\n",
       "      <td>131.925083</td>\n",
       "      <td>1.702547</td>\n",
       "      <td>9329.916992</td>\n",
       "      <td>0.066667</td>\n",
       "      <td>7.76</td>\n",
       "      <td>95.0</td>\n",
       "      <td>0.087733</td>\n",
       "      <td>0.005080</td>\n",
       "      <td>0.000712</td>\n",
       "    </tr>\n",
       "    <tr>\n",
       "      <th>4</th>\n",
       "      <td>90005</td>\n",
       "      <td>(34.78121497430767, -120.4856276252864)</td>\n",
       "      <td>0.000810</td>\n",
       "      <td>0.024230</td>\n",
       "      <td>200009</td>\n",
       "      <td>0.947446</td>\n",
       "      <td>132.825955</td>\n",
       "      <td>1.702547</td>\n",
       "      <td>9329.916992</td>\n",
       "      <td>0.066667</td>\n",
       "      <td>7.76</td>\n",
       "      <td>95.0</td>\n",
       "      <td>0.087733</td>\n",
       "      <td>0.006283</td>\n",
       "      <td>0.000881</td>\n",
       "    </tr>\n",
       "    <tr>\n",
       "      <th>...</th>\n",
       "      <td>...</td>\n",
       "      <td>...</td>\n",
       "      <td>...</td>\n",
       "      <td>...</td>\n",
       "      <td>...</td>\n",
       "      <td>...</td>\n",
       "      <td>...</td>\n",
       "      <td>...</td>\n",
       "      <td>...</td>\n",
       "      <td>...</td>\n",
       "      <td>...</td>\n",
       "      <td>...</td>\n",
       "      <td>...</td>\n",
       "      <td>...</td>\n",
       "      <td>...</td>\n",
       "    </tr>\n",
       "    <tr>\n",
       "      <th>4960767</th>\n",
       "      <td>96136</td>\n",
       "      <td>(41.55849847497173, -123.1157014096472)</td>\n",
       "      <td>0.000042</td>\n",
       "      <td>0.000796</td>\n",
       "      <td>200708</td>\n",
       "      <td>0.872197</td>\n",
       "      <td>186.231827</td>\n",
       "      <td>0.137437</td>\n",
       "      <td>12.925918</td>\n",
       "      <td>0.064516</td>\n",
       "      <td>0.85</td>\n",
       "      <td>2380.0</td>\n",
       "      <td>0.009610</td>\n",
       "      <td>0.000035</td>\n",
       "      <td>0.000042</td>\n",
       "    </tr>\n",
       "    <tr>\n",
       "      <th>4960768</th>\n",
       "      <td>96137</td>\n",
       "      <td>(41.55849847497173, -123.1157014096472)</td>\n",
       "      <td>0.000061</td>\n",
       "      <td>0.002036</td>\n",
       "      <td>200708</td>\n",
       "      <td>0.991349</td>\n",
       "      <td>143.888868</td>\n",
       "      <td>0.137437</td>\n",
       "      <td>12.925918</td>\n",
       "      <td>0.064516</td>\n",
       "      <td>0.85</td>\n",
       "      <td>2380.0</td>\n",
       "      <td>0.009610</td>\n",
       "      <td>0.000052</td>\n",
       "      <td>0.000062</td>\n",
       "    </tr>\n",
       "    <tr>\n",
       "      <th>4960769</th>\n",
       "      <td>96137</td>\n",
       "      <td>(41.55849847497173, -123.1157014096472)</td>\n",
       "      <td>0.000061</td>\n",
       "      <td>0.002036</td>\n",
       "      <td>200708</td>\n",
       "      <td>0.991349</td>\n",
       "      <td>143.888868</td>\n",
       "      <td>0.137437</td>\n",
       "      <td>12.925918</td>\n",
       "      <td>0.064516</td>\n",
       "      <td>0.85</td>\n",
       "      <td>2380.0</td>\n",
       "      <td>0.009610</td>\n",
       "      <td>0.000052</td>\n",
       "      <td>0.000062</td>\n",
       "    </tr>\n",
       "    <tr>\n",
       "      <th>4960770</th>\n",
       "      <td>97635</td>\n",
       "      <td>(41.55849847497173, -123.1157014096472)</td>\n",
       "      <td>0.000052</td>\n",
       "      <td>0.001067</td>\n",
       "      <td>200708</td>\n",
       "      <td>0.882441</td>\n",
       "      <td>150.683061</td>\n",
       "      <td>0.137437</td>\n",
       "      <td>12.925918</td>\n",
       "      <td>0.064516</td>\n",
       "      <td>0.85</td>\n",
       "      <td>2380.0</td>\n",
       "      <td>0.009610</td>\n",
       "      <td>0.000044</td>\n",
       "      <td>0.000052</td>\n",
       "    </tr>\n",
       "    <tr>\n",
       "      <th>4960771</th>\n",
       "      <td>97635</td>\n",
       "      <td>(41.55849847497173, -123.1157014096472)</td>\n",
       "      <td>0.000052</td>\n",
       "      <td>0.001067</td>\n",
       "      <td>200708</td>\n",
       "      <td>0.882441</td>\n",
       "      <td>150.683061</td>\n",
       "      <td>0.137437</td>\n",
       "      <td>12.925918</td>\n",
       "      <td>0.064516</td>\n",
       "      <td>0.85</td>\n",
       "      <td>2380.0</td>\n",
       "      <td>0.009610</td>\n",
       "      <td>0.000044</td>\n",
       "      <td>0.000052</td>\n",
       "    </tr>\n",
       "  </tbody>\n",
       "</table>\n",
       "<p>4960772 rows × 15 columns</p>\n",
       "</div>"
      ],
      "text/plain": [
       "          ZCTA                             fire_lat_lon  instrument  \\\n",
       "0        90001  (34.78121497430767, -120.4856276252864)    0.000776   \n",
       "1        90002  (34.78121497430767, -120.4856276252864)    0.000645   \n",
       "2        90003  (34.78121497430767, -120.4856276252864)    0.000753   \n",
       "3        90004  (34.78121497430767, -120.4856276252864)    0.000655   \n",
       "4        90005  (34.78121497430767, -120.4856276252864)    0.000810   \n",
       "...        ...                                      ...         ...   \n",
       "4960767  96136  (41.55849847497173, -123.1157014096472)    0.000042   \n",
       "4960768  96137  (41.55849847497173, -123.1157014096472)    0.000061   \n",
       "4960769  96137  (41.55849847497173, -123.1157014096472)    0.000061   \n",
       "4960770  97635  (41.55849847497173, -123.1157014096472)    0.000052   \n",
       "4960771  97635  (41.55849847497173, -123.1157014096472)    0.000052   \n",
       "\n",
       "         instrument_norm year_month   bearing    distance  fire_wspd_x  \\\n",
       "0               0.023991     200009  0.955673  139.742150     1.702547   \n",
       "1               0.006125     200009  0.803104  141.316634     1.702547   \n",
       "2               0.019996     200009  0.920015  138.590876     1.702547   \n",
       "3               0.001343     200009  0.760872  131.925083     1.702547   \n",
       "4               0.024230     200009  0.947446  132.825955     1.702547   \n",
       "...                  ...        ...       ...         ...          ...   \n",
       "4960767         0.000796     200708  0.872197  186.231827     0.137437   \n",
       "4960768         0.002036     200708  0.991349  143.888868     0.137437   \n",
       "4960769         0.002036     200708  0.991349  143.888868     0.137437   \n",
       "4960770         0.001067     200708  0.882441  150.683061     0.137437   \n",
       "4960771         0.001067     200708  0.882441  150.683061     0.137437   \n",
       "\n",
       "               acres  fire_days_in_mo  fire_pm25  fire_elevation  \\\n",
       "0        9329.916992         0.066667       7.76            95.0   \n",
       "1        9329.916992         0.066667       7.76            95.0   \n",
       "2        9329.916992         0.066667       7.76            95.0   \n",
       "3        9329.916992         0.066667       7.76            95.0   \n",
       "4        9329.916992         0.066667       7.76            95.0   \n",
       "...              ...              ...        ...             ...   \n",
       "4960767    12.925918         0.064516       0.85          2380.0   \n",
       "4960768    12.925918         0.064516       0.85          2380.0   \n",
       "4960769    12.925918         0.064516       0.85          2380.0   \n",
       "4960770    12.925918         0.064516       0.85          2380.0   \n",
       "4960771    12.925918         0.064516       0.85          2380.0   \n",
       "\n",
       "         fire_pm25_norm  instrument_2  instrument_2_norm  \n",
       "0              0.087733      0.006024           0.000844  \n",
       "1              0.087733      0.005006           0.000702  \n",
       "2              0.087733      0.005847           0.000820  \n",
       "3              0.087733      0.005080           0.000712  \n",
       "4              0.087733      0.006283           0.000881  \n",
       "...                 ...           ...                ...  \n",
       "4960767        0.009610      0.000035           0.000042  \n",
       "4960768        0.009610      0.000052           0.000062  \n",
       "4960769        0.009610      0.000052           0.000062  \n",
       "4960770        0.009610      0.000044           0.000052  \n",
       "4960771        0.009610      0.000044           0.000052  \n",
       "\n",
       "[4960772 rows x 15 columns]"
      ]
     },
     "execution_count": 104,
     "metadata": {},
     "output_type": "execute_result"
    }
   ],
   "source": [
    "temp_instrument[\n",
    "    [\n",
    "        \"ZCTA\",\n",
    "        \"fire_lat_lon\",\n",
    "        \"instrument\",\n",
    "        \"instrument_norm\",\n",
    "        \"year_month\",\n",
    "        \"bearing\",\n",
    "        \"distance\",\n",
    "        \"fire_wspd_x\",\n",
    "        \"acres\",\n",
    "        \"fire_days_in_mo\",\n",
    "        \"fire_pm25\",\n",
    "        \"fire_elevation\",\n",
    "        \"fire_pm25_norm\",\n",
    "        \"instrument_2\",\n",
    "        \"instrument_2_norm\",\n",
    "    ]\n",
    "]"
   ]
  },
  {
   "cell_type": "code",
   "execution_count": 105,
   "metadata": {
    "tags": []
   },
   "outputs": [],
   "source": [
    "temp_fire_df =temp_instrument[\n",
    "    [\n",
    "        \"ZCTA\",\n",
    "        \"fire_lat_lon\",\n",
    "        \"instrument\",\n",
    "        \"instrument_norm\",\n",
    "        \"year_month\",\n",
    "        \"bearing\",\n",
    "        \"distance\",\n",
    "        \"fire_wspd_x\",\n",
    "        \"acres\",\n",
    "        \"fire_days_in_mo\",\n",
    "        \"fire_pm25\",\n",
    "        \"fire_elevation\",\n",
    "        \"fire_pm25_norm\",\n",
    "        \"instrument_2\",\n",
    "        \"instrument_2_norm\",\n",
    "    ]\n",
    "].rename(columns={\"fire_wspd_x\": \"fire_wspd\"})"
   ]
  },
  {
   "cell_type": "code",
   "execution_count": 106,
   "metadata": {
    "tags": []
   },
   "outputs": [],
   "source": [
    "temp_temp = temp_fire_df.merge(\n",
    "    temp_wind_df, on=[\"ZCTA\", \"year_month\"]\n",
    ").drop_duplicates()"
   ]
  },
  {
   "cell_type": "code",
   "execution_count": 107,
   "metadata": {
    "tags": []
   },
   "outputs": [],
   "source": [
    "temp_temp[\"elevation_difference\"] = (\n",
    "    temp_temp[\"fire_elevation\"] - temp_temp[\"zip_elevation\"]\n",
    ")"
   ]
  },
  {
   "cell_type": "code",
   "execution_count": 109,
   "metadata": {
    "tags": []
   },
   "outputs": [],
   "source": [
    "temp_temp.to_csv(in_instrument+\"non_agg_instrument.csv\")"
   ]
  },
  {
   "cell_type": "code",
   "execution_count": 108,
   "metadata": {
    "tags": []
   },
   "outputs": [
    {
     "data": {
      "text/html": [
       "<div>\n",
       "<style scoped>\n",
       "    .dataframe tbody tr th:only-of-type {\n",
       "        vertical-align: middle;\n",
       "    }\n",
       "\n",
       "    .dataframe tbody tr th {\n",
       "        vertical-align: top;\n",
       "    }\n",
       "\n",
       "    .dataframe thead th {\n",
       "        text-align: right;\n",
       "    }\n",
       "</style>\n",
       "<table border=\"1\" class=\"dataframe\">\n",
       "  <thead>\n",
       "    <tr style=\"text-align: right;\">\n",
       "      <th></th>\n",
       "      <th>ZCTA</th>\n",
       "      <th>fire_lat_lon</th>\n",
       "      <th>instrument</th>\n",
       "      <th>instrument_norm</th>\n",
       "      <th>year_month</th>\n",
       "      <th>bearing</th>\n",
       "      <th>distance</th>\n",
       "      <th>fire_wspd</th>\n",
       "      <th>acres</th>\n",
       "      <th>fire_days_in_mo</th>\n",
       "      <th>fire_pm25</th>\n",
       "      <th>fire_elevation</th>\n",
       "      <th>fire_pm25_norm</th>\n",
       "      <th>instrument_2</th>\n",
       "      <th>instrument_2_norm</th>\n",
       "      <th>zip_elevation</th>\n",
       "      <th>zip_pm25</th>\n",
       "      <th>elevation_difference</th>\n",
       "    </tr>\n",
       "  </thead>\n",
       "  <tbody>\n",
       "    <tr>\n",
       "      <th>0</th>\n",
       "      <td>90001</td>\n",
       "      <td>(34.78121497430767, -120.4856276252864)</td>\n",
       "      <td>0.000776</td>\n",
       "      <td>0.023991</td>\n",
       "      <td>200009</td>\n",
       "      <td>0.955673</td>\n",
       "      <td>139.742150</td>\n",
       "      <td>1.702547</td>\n",
       "      <td>9329.916992</td>\n",
       "      <td>0.066667</td>\n",
       "      <td>7.76</td>\n",
       "      <td>95.0</td>\n",
       "      <td>0.087733</td>\n",
       "      <td>0.006024</td>\n",
       "      <td>0.000844</td>\n",
       "      <td>149.0</td>\n",
       "      <td>17.923000</td>\n",
       "      <td>-54.0</td>\n",
       "    </tr>\n",
       "    <tr>\n",
       "      <th>1</th>\n",
       "      <td>90001</td>\n",
       "      <td>(34.79772989935934, -120.5889820313821)</td>\n",
       "      <td>0.000738</td>\n",
       "      <td>0.021942</td>\n",
       "      <td>200009</td>\n",
       "      <td>0.945971</td>\n",
       "      <td>145.585280</td>\n",
       "      <td>1.702547</td>\n",
       "      <td>978.644958</td>\n",
       "      <td>0.066667</td>\n",
       "      <td>8.44</td>\n",
       "      <td>55.0</td>\n",
       "      <td>0.095421</td>\n",
       "      <td>0.006225</td>\n",
       "      <td>0.000808</td>\n",
       "      <td>149.0</td>\n",
       "      <td>17.923000</td>\n",
       "      <td>-94.0</td>\n",
       "    </tr>\n",
       "    <tr>\n",
       "      <th>2</th>\n",
       "      <td>90001</td>\n",
       "      <td>(34.57684347224777, -120.6407594942807)</td>\n",
       "      <td>0.000724</td>\n",
       "      <td>0.022395</td>\n",
       "      <td>200009</td>\n",
       "      <td>0.955551</td>\n",
       "      <td>143.198394</td>\n",
       "      <td>3.252706</td>\n",
       "      <td>0.166916</td>\n",
       "      <td>0.033333</td>\n",
       "      <td>8.02</td>\n",
       "      <td>56.0</td>\n",
       "      <td>0.090673</td>\n",
       "      <td>0.005802</td>\n",
       "      <td>0.000789</td>\n",
       "      <td>149.0</td>\n",
       "      <td>17.923000</td>\n",
       "      <td>-93.0</td>\n",
       "    </tr>\n",
       "    <tr>\n",
       "      <th>3</th>\n",
       "      <td>90001</td>\n",
       "      <td>(36.72741370585582, -119.0274821211544)</td>\n",
       "      <td>0.000038</td>\n",
       "      <td>0.000119</td>\n",
       "      <td>200009</td>\n",
       "      <td>0.767375</td>\n",
       "      <td>196.281243</td>\n",
       "      <td>0.146893</td>\n",
       "      <td>238.249573</td>\n",
       "      <td>0.066667</td>\n",
       "      <td>7.34</td>\n",
       "      <td>1291.0</td>\n",
       "      <td>0.082985</td>\n",
       "      <td>0.000281</td>\n",
       "      <td>0.000041</td>\n",
       "      <td>149.0</td>\n",
       "      <td>17.923000</td>\n",
       "      <td>1142.0</td>\n",
       "    </tr>\n",
       "    <tr>\n",
       "      <th>4</th>\n",
       "      <td>90001</td>\n",
       "      <td>(34.62990741226313, -120.6103725832152)</td>\n",
       "      <td>0.000725</td>\n",
       "      <td>0.022322</td>\n",
       "      <td>200009</td>\n",
       "      <td>0.954103</td>\n",
       "      <td>142.651362</td>\n",
       "      <td>3.252706</td>\n",
       "      <td>23.520237</td>\n",
       "      <td>0.033333</td>\n",
       "      <td>7.85</td>\n",
       "      <td>140.0</td>\n",
       "      <td>0.088751</td>\n",
       "      <td>0.005693</td>\n",
       "      <td>0.000790</td>\n",
       "      <td>149.0</td>\n",
       "      <td>17.923000</td>\n",
       "      <td>-9.0</td>\n",
       "    </tr>\n",
       "    <tr>\n",
       "      <th>...</th>\n",
       "      <td>...</td>\n",
       "      <td>...</td>\n",
       "      <td>...</td>\n",
       "      <td>...</td>\n",
       "      <td>...</td>\n",
       "      <td>...</td>\n",
       "      <td>...</td>\n",
       "      <td>...</td>\n",
       "      <td>...</td>\n",
       "      <td>...</td>\n",
       "      <td>...</td>\n",
       "      <td>...</td>\n",
       "      <td>...</td>\n",
       "      <td>...</td>\n",
       "      <td>...</td>\n",
       "      <td>...</td>\n",
       "      <td>...</td>\n",
       "      <td>...</td>\n",
       "    </tr>\n",
       "    <tr>\n",
       "      <th>4960767</th>\n",
       "      <td>90066</td>\n",
       "      <td>(33.93274727774168, -117.6323445395605)</td>\n",
       "      <td>0.000653</td>\n",
       "      <td>0.006294</td>\n",
       "      <td>200701</td>\n",
       "      <td>0.804066</td>\n",
       "      <td>45.635401</td>\n",
       "      <td>1.149009</td>\n",
       "      <td>208.714447</td>\n",
       "      <td>0.032258</td>\n",
       "      <td>4.29</td>\n",
       "      <td>164.0</td>\n",
       "      <td>0.048502</td>\n",
       "      <td>0.002802</td>\n",
       "      <td>0.000685</td>\n",
       "      <td>51.0</td>\n",
       "      <td>15.335833</td>\n",
       "      <td>113.0</td>\n",
       "    </tr>\n",
       "    <tr>\n",
       "      <th>4960768</th>\n",
       "      <td>91752</td>\n",
       "      <td>(33.93274727774168, -117.6323445395605)</td>\n",
       "      <td>0.006693</td>\n",
       "      <td>0.045293</td>\n",
       "      <td>200701</td>\n",
       "      <td>0.787166</td>\n",
       "      <td>4.359097</td>\n",
       "      <td>1.149009</td>\n",
       "      <td>208.714447</td>\n",
       "      <td>0.032258</td>\n",
       "      <td>4.29</td>\n",
       "      <td>164.0</td>\n",
       "      <td>0.048502</td>\n",
       "      <td>0.028714</td>\n",
       "      <td>0.007018</td>\n",
       "      <td>696.0</td>\n",
       "      <td>10.056389</td>\n",
       "      <td>-532.0</td>\n",
       "    </tr>\n",
       "    <tr>\n",
       "      <th>4960769</th>\n",
       "      <td>91902</td>\n",
       "      <td>(33.93274727774168, -117.6323445395605)</td>\n",
       "      <td>0.000289</td>\n",
       "      <td>0.000093</td>\n",
       "      <td>200701</td>\n",
       "      <td>0.751684</td>\n",
       "      <td>96.274283</td>\n",
       "      <td>1.149009</td>\n",
       "      <td>208.714447</td>\n",
       "      <td>0.032258</td>\n",
       "      <td>4.29</td>\n",
       "      <td>164.0</td>\n",
       "      <td>0.048502</td>\n",
       "      <td>0.001241</td>\n",
       "      <td>0.000303</td>\n",
       "      <td>93.0</td>\n",
       "      <td>12.032800</td>\n",
       "      <td>71.0</td>\n",
       "    </tr>\n",
       "    <tr>\n",
       "      <th>4960770</th>\n",
       "      <td>92313</td>\n",
       "      <td>(33.93274727774168, -117.6323445395605)</td>\n",
       "      <td>0.001575</td>\n",
       "      <td>0.004315</td>\n",
       "      <td>200701</td>\n",
       "      <td>0.764619</td>\n",
       "      <td>17.996277</td>\n",
       "      <td>1.149009</td>\n",
       "      <td>208.714447</td>\n",
       "      <td>0.032258</td>\n",
       "      <td>4.29</td>\n",
       "      <td>164.0</td>\n",
       "      <td>0.048502</td>\n",
       "      <td>0.006756</td>\n",
       "      <td>0.001651</td>\n",
       "      <td>1060.0</td>\n",
       "      <td>12.165000</td>\n",
       "      <td>-896.0</td>\n",
       "    </tr>\n",
       "    <tr>\n",
       "      <th>4960771</th>\n",
       "      <td>92808</td>\n",
       "      <td>(33.93274727774168, -117.6323445395605)</td>\n",
       "      <td>0.003333</td>\n",
       "      <td>0.016205</td>\n",
       "      <td>200701</td>\n",
       "      <td>0.776338</td>\n",
       "      <td>8.634080</td>\n",
       "      <td>1.149009</td>\n",
       "      <td>208.714447</td>\n",
       "      <td>0.032258</td>\n",
       "      <td>4.29</td>\n",
       "      <td>164.0</td>\n",
       "      <td>0.048502</td>\n",
       "      <td>0.014297</td>\n",
       "      <td>0.003494</td>\n",
       "      <td>954.0</td>\n",
       "      <td>13.446429</td>\n",
       "      <td>-790.0</td>\n",
       "    </tr>\n",
       "  </tbody>\n",
       "</table>\n",
       "<p>2896792 rows × 18 columns</p>\n",
       "</div>"
      ],
      "text/plain": [
       "          ZCTA                             fire_lat_lon  instrument  \\\n",
       "0        90001  (34.78121497430767, -120.4856276252864)    0.000776   \n",
       "1        90001  (34.79772989935934, -120.5889820313821)    0.000738   \n",
       "2        90001  (34.57684347224777, -120.6407594942807)    0.000724   \n",
       "3        90001  (36.72741370585582, -119.0274821211544)    0.000038   \n",
       "4        90001  (34.62990741226313, -120.6103725832152)    0.000725   \n",
       "...        ...                                      ...         ...   \n",
       "4960767  90066  (33.93274727774168, -117.6323445395605)    0.000653   \n",
       "4960768  91752  (33.93274727774168, -117.6323445395605)    0.006693   \n",
       "4960769  91902  (33.93274727774168, -117.6323445395605)    0.000289   \n",
       "4960770  92313  (33.93274727774168, -117.6323445395605)    0.001575   \n",
       "4960771  92808  (33.93274727774168, -117.6323445395605)    0.003333   \n",
       "\n",
       "         instrument_norm year_month   bearing    distance  fire_wspd  \\\n",
       "0               0.023991     200009  0.955673  139.742150   1.702547   \n",
       "1               0.021942     200009  0.945971  145.585280   1.702547   \n",
       "2               0.022395     200009  0.955551  143.198394   3.252706   \n",
       "3               0.000119     200009  0.767375  196.281243   0.146893   \n",
       "4               0.022322     200009  0.954103  142.651362   3.252706   \n",
       "...                  ...        ...       ...         ...        ...   \n",
       "4960767         0.006294     200701  0.804066   45.635401   1.149009   \n",
       "4960768         0.045293     200701  0.787166    4.359097   1.149009   \n",
       "4960769         0.000093     200701  0.751684   96.274283   1.149009   \n",
       "4960770         0.004315     200701  0.764619   17.996277   1.149009   \n",
       "4960771         0.016205     200701  0.776338    8.634080   1.149009   \n",
       "\n",
       "               acres  fire_days_in_mo  fire_pm25  fire_elevation  \\\n",
       "0        9329.916992         0.066667       7.76            95.0   \n",
       "1         978.644958         0.066667       8.44            55.0   \n",
       "2           0.166916         0.033333       8.02            56.0   \n",
       "3         238.249573         0.066667       7.34          1291.0   \n",
       "4          23.520237         0.033333       7.85           140.0   \n",
       "...              ...              ...        ...             ...   \n",
       "4960767   208.714447         0.032258       4.29           164.0   \n",
       "4960768   208.714447         0.032258       4.29           164.0   \n",
       "4960769   208.714447         0.032258       4.29           164.0   \n",
       "4960770   208.714447         0.032258       4.29           164.0   \n",
       "4960771   208.714447         0.032258       4.29           164.0   \n",
       "\n",
       "         fire_pm25_norm  instrument_2  instrument_2_norm  zip_elevation  \\\n",
       "0              0.087733      0.006024           0.000844          149.0   \n",
       "1              0.095421      0.006225           0.000808          149.0   \n",
       "2              0.090673      0.005802           0.000789          149.0   \n",
       "3              0.082985      0.000281           0.000041          149.0   \n",
       "4              0.088751      0.005693           0.000790          149.0   \n",
       "...                 ...           ...                ...            ...   \n",
       "4960767        0.048502      0.002802           0.000685           51.0   \n",
       "4960768        0.048502      0.028714           0.007018          696.0   \n",
       "4960769        0.048502      0.001241           0.000303           93.0   \n",
       "4960770        0.048502      0.006756           0.001651         1060.0   \n",
       "4960771        0.048502      0.014297           0.003494          954.0   \n",
       "\n",
       "          zip_pm25  elevation_difference  \n",
       "0        17.923000                 -54.0  \n",
       "1        17.923000                 -94.0  \n",
       "2        17.923000                 -93.0  \n",
       "3        17.923000                1142.0  \n",
       "4        17.923000                  -9.0  \n",
       "...            ...                   ...  \n",
       "4960767  15.335833                 113.0  \n",
       "4960768  10.056389                -532.0  \n",
       "4960769  12.032800                  71.0  \n",
       "4960770  12.165000                -896.0  \n",
       "4960771  13.446429                -790.0  \n",
       "\n",
       "[2896792 rows x 18 columns]"
      ]
     },
     "execution_count": 108,
     "metadata": {},
     "output_type": "execute_result"
    }
   ],
   "source": [
    "temp_temp"
   ]
  },
  {
   "cell_type": "code",
   "execution_count": 110,
   "metadata": {
    "tags": []
   },
   "outputs": [],
   "source": [
    "model_df2 = (\n",
    "    temp_instrument.groupby(  # [['ZCTA','year_month','fire_lat_lon','instrument','instrument_2','instrument_2_norm']]\n",
    "        [\"ZCTA\", \"year_month\"]\n",
    "    )\n",
    "    .aggregate(sum)\n",
    "    .drop_duplicates()\n",
    ")"
   ]
  },
  {
   "cell_type": "code",
   "execution_count": 111,
   "metadata": {
    "tags": []
   },
   "outputs": [
    {
     "data": {
      "text/html": [
       "<div>\n",
       "<style scoped>\n",
       "    .dataframe tbody tr th:only-of-type {\n",
       "        vertical-align: middle;\n",
       "    }\n",
       "\n",
       "    .dataframe tbody tr th {\n",
       "        vertical-align: top;\n",
       "    }\n",
       "\n",
       "    .dataframe thead th {\n",
       "        text-align: right;\n",
       "    }\n",
       "</style>\n",
       "<table border=\"1\" class=\"dataframe\">\n",
       "  <thead>\n",
       "    <tr style=\"text-align: right;\">\n",
       "      <th></th>\n",
       "      <th></th>\n",
       "      <th>instrument</th>\n",
       "      <th>instrument_norm</th>\n",
       "      <th>bearing</th>\n",
       "      <th>distance</th>\n",
       "      <th>fire_wspd_x</th>\n",
       "      <th>acres</th>\n",
       "      <th>fire_lat</th>\n",
       "      <th>fire_lon</th>\n",
       "      <th>fire_days_in_mo</th>\n",
       "      <th>fire_wdir</th>\n",
       "      <th>fire_wspd_y</th>\n",
       "      <th>year</th>\n",
       "      <th>month</th>\n",
       "      <th>fire_pm25</th>\n",
       "      <th>fire_elevation</th>\n",
       "      <th>fire_pm25_norm</th>\n",
       "      <th>instrument_2</th>\n",
       "      <th>instrument_2_norm</th>\n",
       "    </tr>\n",
       "    <tr>\n",
       "      <th>ZCTA</th>\n",
       "      <th>year_month</th>\n",
       "      <th></th>\n",
       "      <th></th>\n",
       "      <th></th>\n",
       "      <th></th>\n",
       "      <th></th>\n",
       "      <th></th>\n",
       "      <th></th>\n",
       "      <th></th>\n",
       "      <th></th>\n",
       "      <th></th>\n",
       "      <th></th>\n",
       "      <th></th>\n",
       "      <th></th>\n",
       "      <th></th>\n",
       "      <th></th>\n",
       "      <th></th>\n",
       "      <th></th>\n",
       "      <th></th>\n",
       "    </tr>\n",
       "  </thead>\n",
       "  <tbody>\n",
       "    <tr>\n",
       "      <th rowspan=\"5\" valign=\"top\">89019</th>\n",
       "      <th>199104</th>\n",
       "      <td>0.000261</td>\n",
       "      <td>0.006595</td>\n",
       "      <td>0.910217</td>\n",
       "      <td>185.292714</td>\n",
       "      <td>1.593638</td>\n",
       "      <td>207.908157</td>\n",
       "      <td>37.368992</td>\n",
       "      <td>-118.578197</td>\n",
       "      <td>0.033333</td>\n",
       "      <td>356.694611</td>\n",
       "      <td>1.593638</td>\n",
       "      <td>1991</td>\n",
       "      <td>4</td>\n",
       "      <td>10.71</td>\n",
       "      <td>1630.0</td>\n",
       "      <td>0.121085</td>\n",
       "      <td>0.002795</td>\n",
       "      <td>0.000293</td>\n",
       "    </tr>\n",
       "    <tr>\n",
       "      <th>199107</th>\n",
       "      <td>0.000712</td>\n",
       "      <td>0.016371</td>\n",
       "      <td>5.377310</td>\n",
       "      <td>921.508343</td>\n",
       "      <td>2.220699</td>\n",
       "      <td>733.828024</td>\n",
       "      <td>219.863048</td>\n",
       "      <td>-711.415978</td>\n",
       "      <td>0.354839</td>\n",
       "      <td>539.071667</td>\n",
       "      <td>2.220699</td>\n",
       "      <td>11946</td>\n",
       "      <td>42</td>\n",
       "      <td>25.43</td>\n",
       "      <td>14253.0</td>\n",
       "      <td>0.287507</td>\n",
       "      <td>0.003166</td>\n",
       "      <td>0.000748</td>\n",
       "    </tr>\n",
       "    <tr>\n",
       "      <th>199108</th>\n",
       "      <td>0.031378</td>\n",
       "      <td>0.717908</td>\n",
       "      <td>8.021400</td>\n",
       "      <td>1264.961710</td>\n",
       "      <td>8.900734</td>\n",
       "      <td>3778.423931</td>\n",
       "      <td>325.520290</td>\n",
       "      <td>-1064.638511</td>\n",
       "      <td>6.161290</td>\n",
       "      <td>434.880981</td>\n",
       "      <td>8.900734</td>\n",
       "      <td>17919</td>\n",
       "      <td>72</td>\n",
       "      <td>12.88</td>\n",
       "      <td>22620.0</td>\n",
       "      <td>0.145619</td>\n",
       "      <td>0.064362</td>\n",
       "      <td>0.032106</td>\n",
       "    </tr>\n",
       "    <tr>\n",
       "      <th>199109</th>\n",
       "      <td>0.011910</td>\n",
       "      <td>0.275090</td>\n",
       "      <td>15.282616</td>\n",
       "      <td>2500.767308</td>\n",
       "      <td>4.960312</td>\n",
       "      <td>7088.643047</td>\n",
       "      <td>617.857124</td>\n",
       "      <td>-2014.177914</td>\n",
       "      <td>9.066667</td>\n",
       "      <td>3306.518982</td>\n",
       "      <td>4.960312</td>\n",
       "      <td>33847</td>\n",
       "      <td>153</td>\n",
       "      <td>70.09</td>\n",
       "      <td>41888.0</td>\n",
       "      <td>0.792425</td>\n",
       "      <td>0.048156</td>\n",
       "      <td>0.012454</td>\n",
       "    </tr>\n",
       "    <tr>\n",
       "      <th>199110</th>\n",
       "      <td>0.018859</td>\n",
       "      <td>0.453440</td>\n",
       "      <td>12.722091</td>\n",
       "      <td>2185.207157</td>\n",
       "      <td>3.562893</td>\n",
       "      <td>6874.610214</td>\n",
       "      <td>510.727792</td>\n",
       "      <td>-1661.366877</td>\n",
       "      <td>13.096774</td>\n",
       "      <td>3704.847351</td>\n",
       "      <td>3.562893</td>\n",
       "      <td>27874</td>\n",
       "      <td>140</td>\n",
       "      <td>64.56</td>\n",
       "      <td>34152.0</td>\n",
       "      <td>0.729904</td>\n",
       "      <td>0.084305</td>\n",
       "      <td>0.019812</td>\n",
       "    </tr>\n",
       "    <tr>\n",
       "      <th>...</th>\n",
       "      <th>...</th>\n",
       "      <td>...</td>\n",
       "      <td>...</td>\n",
       "      <td>...</td>\n",
       "      <td>...</td>\n",
       "      <td>...</td>\n",
       "      <td>...</td>\n",
       "      <td>...</td>\n",
       "      <td>...</td>\n",
       "      <td>...</td>\n",
       "      <td>...</td>\n",
       "      <td>...</td>\n",
       "      <td>...</td>\n",
       "      <td>...</td>\n",
       "      <td>...</td>\n",
       "      <td>...</td>\n",
       "      <td>...</td>\n",
       "      <td>...</td>\n",
       "      <td>...</td>\n",
       "    </tr>\n",
       "    <tr>\n",
       "      <th rowspan=\"5\" valign=\"top\">97635</th>\n",
       "      <th>201607</th>\n",
       "      <td>0.002553</td>\n",
       "      <td>0.036612</td>\n",
       "      <td>10.788656</td>\n",
       "      <td>1845.938462</td>\n",
       "      <td>6.050591</td>\n",
       "      <td>1481.088247</td>\n",
       "      <td>529.755001</td>\n",
       "      <td>-1587.936493</td>\n",
       "      <td>1.096774</td>\n",
       "      <td>1940.639033</td>\n",
       "      <td>6.050591</td>\n",
       "      <td>26208</td>\n",
       "      <td>91</td>\n",
       "      <td>71.50</td>\n",
       "      <td>7937.0</td>\n",
       "      <td>0.808366</td>\n",
       "      <td>0.013238</td>\n",
       "      <td>0.002703</td>\n",
       "    </tr>\n",
       "    <tr>\n",
       "      <th>201608</th>\n",
       "      <td>0.010405</td>\n",
       "      <td>0.152898</td>\n",
       "      <td>12.858277</td>\n",
       "      <td>2378.383437</td>\n",
       "      <td>9.851180</td>\n",
       "      <td>3532.768287</td>\n",
       "      <td>611.579388</td>\n",
       "      <td>-1837.366152</td>\n",
       "      <td>3.096774</td>\n",
       "      <td>3243.913956</td>\n",
       "      <td>9.851180</td>\n",
       "      <td>30240</td>\n",
       "      <td>120</td>\n",
       "      <td>68.91</td>\n",
       "      <td>9088.0</td>\n",
       "      <td>0.779084</td>\n",
       "      <td>0.069987</td>\n",
       "      <td>0.011196</td>\n",
       "    </tr>\n",
       "    <tr>\n",
       "      <th>201609</th>\n",
       "      <td>0.019936</td>\n",
       "      <td>0.275592</td>\n",
       "      <td>18.298730</td>\n",
       "      <td>3080.280585</td>\n",
       "      <td>10.709470</td>\n",
       "      <td>12670.919912</td>\n",
       "      <td>894.747648</td>\n",
       "      <td>-2682.674963</td>\n",
       "      <td>5.666667</td>\n",
       "      <td>5492.342896</td>\n",
       "      <td>10.709470</td>\n",
       "      <td>44352</td>\n",
       "      <td>198</td>\n",
       "      <td>113.96</td>\n",
       "      <td>16837.0</td>\n",
       "      <td>1.288412</td>\n",
       "      <td>0.078531</td>\n",
       "      <td>0.020824</td>\n",
       "    </tr>\n",
       "    <tr>\n",
       "      <th>201610</th>\n",
       "      <td>0.063282</td>\n",
       "      <td>1.022041</td>\n",
       "      <td>4.274471</td>\n",
       "      <td>443.813040</td>\n",
       "      <td>7.398554</td>\n",
       "      <td>8481.111023</td>\n",
       "      <td>204.069248</td>\n",
       "      <td>-604.084705</td>\n",
       "      <td>4.096774</td>\n",
       "      <td>277.967331</td>\n",
       "      <td>7.398554</td>\n",
       "      <td>10080</td>\n",
       "      <td>50</td>\n",
       "      <td>14.69</td>\n",
       "      <td>7816.0</td>\n",
       "      <td>0.166083</td>\n",
       "      <td>0.195177</td>\n",
       "      <td>0.065489</td>\n",
       "    </tr>\n",
       "    <tr>\n",
       "      <th>201611</th>\n",
       "      <td>0.011195</td>\n",
       "      <td>0.219072</td>\n",
       "      <td>2.608769</td>\n",
       "      <td>344.197776</td>\n",
       "      <td>1.582546</td>\n",
       "      <td>7721.865967</td>\n",
       "      <td>121.127814</td>\n",
       "      <td>-362.253242</td>\n",
       "      <td>2.800000</td>\n",
       "      <td>214.686996</td>\n",
       "      <td>1.582546</td>\n",
       "      <td>6048</td>\n",
       "      <td>33</td>\n",
       "      <td>10.83</td>\n",
       "      <td>4938.0</td>\n",
       "      <td>0.122442</td>\n",
       "      <td>0.040414</td>\n",
       "      <td>0.011652</td>\n",
       "    </tr>\n",
       "  </tbody>\n",
       "</table>\n",
       "<p>318710 rows × 18 columns</p>\n",
       "</div>"
      ],
      "text/plain": [
       "                  instrument  instrument_norm    bearing     distance  \\\n",
       "ZCTA  year_month                                                        \n",
       "89019 199104        0.000261         0.006595   0.910217   185.292714   \n",
       "      199107        0.000712         0.016371   5.377310   921.508343   \n",
       "      199108        0.031378         0.717908   8.021400  1264.961710   \n",
       "      199109        0.011910         0.275090  15.282616  2500.767308   \n",
       "      199110        0.018859         0.453440  12.722091  2185.207157   \n",
       "...                      ...              ...        ...          ...   \n",
       "97635 201607        0.002553         0.036612  10.788656  1845.938462   \n",
       "      201608        0.010405         0.152898  12.858277  2378.383437   \n",
       "      201609        0.019936         0.275592  18.298730  3080.280585   \n",
       "      201610        0.063282         1.022041   4.274471   443.813040   \n",
       "      201611        0.011195         0.219072   2.608769   344.197776   \n",
       "\n",
       "                  fire_wspd_x         acres    fire_lat     fire_lon  \\\n",
       "ZCTA  year_month                                                       \n",
       "89019 199104         1.593638    207.908157   37.368992  -118.578197   \n",
       "      199107         2.220699    733.828024  219.863048  -711.415978   \n",
       "      199108         8.900734   3778.423931  325.520290 -1064.638511   \n",
       "      199109         4.960312   7088.643047  617.857124 -2014.177914   \n",
       "      199110         3.562893   6874.610214  510.727792 -1661.366877   \n",
       "...                       ...           ...         ...          ...   \n",
       "97635 201607         6.050591   1481.088247  529.755001 -1587.936493   \n",
       "      201608         9.851180   3532.768287  611.579388 -1837.366152   \n",
       "      201609        10.709470  12670.919912  894.747648 -2682.674963   \n",
       "      201610         7.398554   8481.111023  204.069248  -604.084705   \n",
       "      201611         1.582546   7721.865967  121.127814  -362.253242   \n",
       "\n",
       "                  fire_days_in_mo    fire_wdir  fire_wspd_y   year  month  \\\n",
       "ZCTA  year_month                                                            \n",
       "89019 199104             0.033333   356.694611     1.593638   1991      4   \n",
       "      199107             0.354839   539.071667     2.220699  11946     42   \n",
       "      199108             6.161290   434.880981     8.900734  17919     72   \n",
       "      199109             9.066667  3306.518982     4.960312  33847    153   \n",
       "      199110            13.096774  3704.847351     3.562893  27874    140   \n",
       "...                           ...          ...          ...    ...    ...   \n",
       "97635 201607             1.096774  1940.639033     6.050591  26208     91   \n",
       "      201608             3.096774  3243.913956     9.851180  30240    120   \n",
       "      201609             5.666667  5492.342896    10.709470  44352    198   \n",
       "      201610             4.096774   277.967331     7.398554  10080     50   \n",
       "      201611             2.800000   214.686996     1.582546   6048     33   \n",
       "\n",
       "                  fire_pm25  fire_elevation  fire_pm25_norm  instrument_2  \\\n",
       "ZCTA  year_month                                                            \n",
       "89019 199104          10.71          1630.0        0.121085      0.002795   \n",
       "      199107          25.43         14253.0        0.287507      0.003166   \n",
       "      199108          12.88         22620.0        0.145619      0.064362   \n",
       "      199109          70.09         41888.0        0.792425      0.048156   \n",
       "      199110          64.56         34152.0        0.729904      0.084305   \n",
       "...                     ...             ...             ...           ...   \n",
       "97635 201607          71.50          7937.0        0.808366      0.013238   \n",
       "      201608          68.91          9088.0        0.779084      0.069987   \n",
       "      201609         113.96         16837.0        1.288412      0.078531   \n",
       "      201610          14.69          7816.0        0.166083      0.195177   \n",
       "      201611          10.83          4938.0        0.122442      0.040414   \n",
       "\n",
       "                  instrument_2_norm  \n",
       "ZCTA  year_month                     \n",
       "89019 199104               0.000293  \n",
       "      199107               0.000748  \n",
       "      199108               0.032106  \n",
       "      199109               0.012454  \n",
       "      199110               0.019812  \n",
       "...                             ...  \n",
       "97635 201607               0.002703  \n",
       "      201608               0.011196  \n",
       "      201609               0.020824  \n",
       "      201610               0.065489  \n",
       "      201611               0.011652  \n",
       "\n",
       "[318710 rows x 18 columns]"
      ]
     },
     "execution_count": 111,
     "metadata": {},
     "output_type": "execute_result"
    }
   ],
   "source": [
    "model_df2"
   ]
  },
  {
   "cell_type": "code",
   "execution_count": 112,
   "metadata": {
    "tags": []
   },
   "outputs": [],
   "source": [
    "model_df2.to_csv(in_instrument + 'aggregated_instrument_cols_useful_only.csv')"
   ]
  },
  {
   "cell_type": "code",
   "execution_count": null,
   "metadata": {},
   "outputs": [],
   "source": []
  },
  {
   "cell_type": "code",
   "execution_count": null,
   "metadata": {},
   "outputs": [],
   "source": []
  },
  {
   "cell_type": "code",
   "execution_count": null,
   "metadata": {},
   "outputs": [],
   "source": []
  },
  {
   "cell_type": "code",
   "execution_count": null,
   "metadata": {
    "id": "sD0VMZehkkQd",
    "tags": []
   },
   "outputs": [],
   "source": [
    "model_df = fire_4d.drop(columns=[\"lat\", \"lon\", \"u\", \"v\", \"wind_lat_lon\"])\n",
    "model_df = model_df.drop(model_df[model_df[\"year\"] > 2019].index)\n",
    "model_df = model_df.drop(columns=[\"year\", \"month\"])\n",
    "model_df[\"fire_index\"] = model_df[\"fire_index\"].fillna(-1)\n",
    "model_df[\"radius_mi\"] = model_df[\"radius_mi\"].fillna(-1)\n",
    "model_df[\"treatment\"] = model_df[\"treatment\"].fillna(False)\n",
    "model_df.fire_index = model_df.fire_index.astype(int)\n",
    "model_df.fire_index = model_df.fire_index.astype(str)\n",
    "model_df = model_df.drop_duplicates()\n",
    "model_df[\"real_interaction\"] = np.nan\n",
    "model_df[\"real_distance\"] = np.nan\n",
    "model_df[\"interaction\"] = np.nan\n",
    "model_df[\"distance\"] = np.nan\n",
    "model_df[\"duration_days\"] = model_df[\"duration_days\"].fillna(-1)\n",
    "model_df.groupby([\"ZCTA\", \"year_month\", \"fire_index\"]).first()\n",
    "model_df"
   ]
  },
  {
   "cell_type": "code",
   "execution_count": null,
   "metadata": {
    "id": "AL2vmGjRkkQd",
    "tags": []
   },
   "outputs": [],
   "source": [
    "model_df.to_csv(\"progress.csv\")"
   ]
  },
  {
   "cell_type": "code",
   "execution_count": null,
   "metadata": {
    "id": "CFtB-BJskkQd"
   },
   "outputs": [],
   "source": [
    "bearings.T.head()"
   ]
  },
  {
   "cell_type": "code",
   "execution_count": null,
   "metadata": {
    "id": "OqZR0brOkkQd",
    "tags": []
   },
   "outputs": [],
   "source": [
    "fire_later = (\n",
    "    fire_indexed.merge(bearings.T, on=\"fire_index\", how=\"left\")\n",
    "    .fillna(0)\n",
    "    .drop_duplicates()\n",
    ")\n",
    "\n",
    "fire_later.columns = fire_later.columns.astype(str)\n",
    "fire_later.fire_index = fire_later.fire_index.astype(int)\n",
    "fire_later.fire_index = fire_later.fire_index.astype(str)\n",
    "fire_later = fire_later.set_index([\"fire_index\", \"year_month\", \"ZCTA\"])\n",
    "\n",
    "fire_later.head()"
   ]
  },
  {
   "cell_type": "code",
   "execution_count": null,
   "metadata": {
    "id": "-ndujaBAkkQd",
    "tags": []
   },
   "outputs": [],
   "source": [
    "fire_later2 = (\n",
    "    fire_indexed.merge(dist_df.T, on=\"fire_index\", how=\"left\")\n",
    "    .fillna(0)\n",
    "    .drop_duplicates()\n",
    ")\n",
    "fire_later2.columns = fire_later2.columns.astype(str)\n",
    "fire_later2.fire_index = fire_later2.fire_index.astype(int)\n",
    "fire_later2.fire_index = fire_later2.fire_index.astype(str)\n",
    "fire_later2 = fire_later2.set_index([\"fire_index\", \"year_month\", \"ZCTA\"])\n",
    "\n",
    "fire_later2"
   ]
  },
  {
   "cell_type": "code",
   "execution_count": null,
   "metadata": {
    "id": "3DWBHKaVkkQd",
    "tags": []
   },
   "outputs": [],
   "source": [
    "dist_df = dist_df.fillna(0)"
   ]
  },
  {
   "cell_type": "code",
   "execution_count": null,
   "metadata": {
    "id": "qYJLwsPWkkQe",
    "tags": []
   },
   "outputs": [],
   "source": [
    "dist_df.head()"
   ]
  },
  {
   "cell_type": "code",
   "execution_count": null,
   "metadata": {
    "id": "1UzzFKtkkkQe",
    "tags": []
   },
   "outputs": [],
   "source": [
    "dist_df.loc[89010, :]"
   ]
  },
  {
   "cell_type": "code",
   "execution_count": null,
   "metadata": {
    "id": "FXMMaMyskkQe",
    "tags": []
   },
   "outputs": [],
   "source": [
    "model_df.ZCTA = model_df.ZCTA.astype(str)\n",
    "model_df.fire_index = model_df.fire_index.astype(str)\n",
    "model_df.year_month = model_df.year_month.astype(str)\n",
    "\n",
    "model_df2 = model_df.set_index([\"fire_index\", \"year_month\", \"ZCTA\"]).drop_duplicates()"
   ]
  },
  {
   "cell_type": "code",
   "execution_count": null,
   "metadata": {
    "id": "tbBcr5sXkkQe",
    "tags": []
   },
   "outputs": [],
   "source": [
    "# errors = []\n",
    "# for entry in model_df2.iterrows():\n",
    "#     if entry[0][0] == \"-1\":\n",
    "#         model_df2.loc[(entry[0]), \"real_interaction\"] = 0\n",
    "#         model_df2.loc[(entry[0]), \"real_distance\"] = 0\n",
    "\n",
    "#     elif (\n",
    "#         entry[0][2] in fire_later.columns\n",
    "#         and entry[0][2] in fire_later2.columns\n",
    "#         and entry[0] in fire_later.index\n",
    "#         and entry[0] in fire_later2.index\n",
    "#     ):\n",
    "#         try:\n",
    "#             model_df2.loc[entry[0], \"real_interaction\"] = fire_later.loc[\n",
    "#                 entry[0], entry[0][2]\n",
    "#             ]\n",
    "#             model_df2.loc[entry[0], \"real_distance\"] = fire_later2.loc[\n",
    "#                 entry[0], entry[0][2]\n",
    "#             ]\n",
    "#         except:\n",
    "#             errors.append(entry)\n",
    "#             continue\n",
    "#     # else:\n",
    "#     #     model_df2.loc[entry[0], \"real_interaction\"] = 0\n",
    "#     #     model_df2.loc[entry[0], \"real_distance\"] = -1"
   ]
  },
  {
   "cell_type": "code",
   "execution_count": null,
   "metadata": {
    "id": "cu4xBCO9kkQe",
    "tags": []
   },
   "outputs": [],
   "source": [
    "errors = []\n",
    "for entry in model_df2.head().iterrows():\n",
    "    print(entry[0][2])\n",
    "    if entry[0][0] == \"-1\":\n",
    "        model_df2.loc[(entry[0]), \"real_interaction\"] = 0\n",
    "        model_df2.loc[(entry[0]), \"real_distance\"] = 0\n",
    "\n",
    "    else:\n",
    "        try:\n",
    "            model_df2.loc[entry[0], \"real_interaction\"] = bearings.loc[\n",
    "                int(entry[0][2]), entry[0][0]\n",
    "            ]\n",
    "            model_df2.loc[entry[0], \"real_distance\"] = dist_df.loc[\n",
    "                int(entry[0][2]), entry[0][0]\n",
    "            ]\n",
    "        except:\n",
    "            errors.append(entry)\n",
    "            continue"
   ]
  },
  {
   "cell_type": "code",
   "execution_count": null,
   "metadata": {
    "id": "6_DM4t3ykkQe",
    "tags": []
   },
   "outputs": [],
   "source": [
    "errors[0][0]"
   ]
  },
  {
   "cell_type": "code",
   "execution_count": null,
   "metadata": {
    "id": "8S87dlTGkkQe",
    "tags": []
   },
   "outputs": [],
   "source": [
    "dist_df.head()"
   ]
  },
  {
   "cell_type": "code",
   "execution_count": null,
   "metadata": {
    "id": "FfYTScSHkkQe",
    "tags": []
   },
   "outputs": [],
   "source": [
    "dist_df.loc[int(errors[0][0][2]), errors[0][0][0]]"
   ]
  },
  {
   "cell_type": "code",
   "execution_count": null,
   "metadata": {
    "id": "4vPBdMcGkkQe",
    "tags": []
   },
   "outputs": [],
   "source": [
    "bearings.loc[int(errors[0][0][2]), errors[0][0][0]]"
   ]
  },
  {
   "cell_type": "code",
   "execution_count": null,
   "metadata": {
    "id": "5RHSJhZkkkQe",
    "tags": []
   },
   "outputs": [],
   "source": [
    "model_df2.loc["
   ]
  },
  {
   "cell_type": "code",
   "execution_count": null,
   "metadata": {
    "id": "exva6CfPkkQe"
   },
   "outputs": [],
   "source": []
  },
  {
   "cell_type": "markdown",
   "metadata": {
    "id": "rbUMmbCVkkQe",
    "tags": []
   },
   "source": [
    "###### model_df2.to_csv(\"instrument2b_with_int_and_dist.csv\")"
   ]
  },
  {
   "cell_type": "code",
   "execution_count": null,
   "metadata": {
    "id": "01jVxpAxkkQe",
    "tags": []
   },
   "outputs": [],
   "source": [
    "# model_df2 = pd.read_csv(\"instrument2b_with_int_and_dist.csv\", index_col=[0, 1, 2])\n",
    "# model_df2"
   ]
  },
  {
   "cell_type": "code",
   "execution_count": null,
   "metadata": {
    "id": "ojqIUeifkkQe",
    "tags": []
   },
   "outputs": [],
   "source": [
    "def ins_interaction(df):\n",
    "    if df[\"real_interaction\"] >= 0.75 and df[\"real_distance\"] <= 100:\n",
    "        return df[\"real_interaction\"]\n",
    "    else:\n",
    "        return 0\n",
    "\n",
    "\n",
    "def ins_distance(df):\n",
    "    if df[\"real_interaction\"] >= 0.75 and df[\"real_distance\"] <= 100:\n",
    "        return df[\"real_distance\"]\n",
    "    else:\n",
    "        return 0\n",
    "\n",
    "\n",
    "def ins_treatment(df):\n",
    "    if df[\"real_interaction\"] >= 0.75 and df[\"real_distance\"] <= 100:\n",
    "        return True\n",
    "    else:\n",
    "        return False"
   ]
  },
  {
   "cell_type": "code",
   "execution_count": null,
   "metadata": {
    "id": "4UYQE0vbkkQe",
    "tags": []
   },
   "outputs": [],
   "source": [
    "model_df2.real_distance.max()"
   ]
  },
  {
   "cell_type": "code",
   "execution_count": null,
   "metadata": {
    "id": "EWHxiS-ckkQe",
    "tags": []
   },
   "outputs": [],
   "source": [
    "model_df2[\"distance\"] = model_df2.apply(ins_distance, axis=1)"
   ]
  },
  {
   "cell_type": "code",
   "execution_count": null,
   "metadata": {
    "id": "C5phBx5ZkkQf",
    "tags": []
   },
   "outputs": [],
   "source": [
    "model_df2[\"interaction\"] = model_df2.apply(ins_interaction, axis=1)"
   ]
  },
  {
   "cell_type": "code",
   "execution_count": null,
   "metadata": {
    "id": "eEznQJTmkkQf",
    "tags": []
   },
   "outputs": [],
   "source": [
    "model_df2[\"treatment\"] = model_df2.apply(ins_treatment, axis=1)"
   ]
  },
  {
   "cell_type": "code",
   "execution_count": null,
   "metadata": {
    "id": "c7PvIFdikkQf",
    "tags": []
   },
   "outputs": [],
   "source": [
    "model_df2"
   ]
  },
  {
   "cell_type": "code",
   "execution_count": null,
   "metadata": {
    "id": "fo4N5QKakkQf",
    "tags": []
   },
   "outputs": [],
   "source": [
    "elevation = pd.read_csv(\"all_elevations.csv\")"
   ]
  },
  {
   "cell_type": "code",
   "execution_count": null,
   "metadata": {
    "id": "dTaqmzFJkkQf",
    "tags": []
   },
   "outputs": [],
   "source": []
  },
  {
   "cell_type": "code",
   "execution_count": 1,
   "metadata": {
    "id": "dtKviN6tkkQf",
    "tags": []
   },
   "outputs": [
    {
     "ename": "NameError",
     "evalue": "name 'pd' is not defined",
     "output_type": "error",
     "traceback": [
      "\u001b[0;31m---------------------------------------------------------------------------\u001b[0m",
      "\u001b[0;31mNameError\u001b[0m                                 Traceback (most recent call last)",
      "Cell \u001b[0;32mIn[1], line 1\u001b[0m\n\u001b[0;32m----> 1\u001b[0m elev_df \u001b[38;5;241m=\u001b[39m \u001b[43mpd\u001b[49m\u001b[38;5;241m.\u001b[39mread_csv(\u001b[38;5;124m\"\u001b[39m\u001b[38;5;124mall_elevations.csv\u001b[39m\u001b[38;5;124m\"\u001b[39m)\n\u001b[1;32m      2\u001b[0m elev_df[\u001b[38;5;124m\"\u001b[39m\u001b[38;5;124mtemp\u001b[39m\u001b[38;5;124m\"\u001b[39m] \u001b[38;5;241m=\u001b[39m elev_df[\u001b[38;5;124m\"\u001b[39m\u001b[38;5;124melevation\u001b[39m\u001b[38;5;124m\"\u001b[39m]\u001b[38;5;241m.\u001b[39mapply(\u001b[38;5;28;01mlambda\u001b[39;00m x: \u001b[38;5;28mint\u001b[39m(x[: (\u001b[38;5;28mlen\u001b[39m(x) \u001b[38;5;241m-\u001b[39m \u001b[38;5;241m3\u001b[39m)]))\n\u001b[1;32m      3\u001b[0m elev_df \u001b[38;5;241m=\u001b[39m elev_df\u001b[38;5;241m.\u001b[39mdrop(\u001b[38;5;124m\"\u001b[39m\u001b[38;5;124melevation\u001b[39m\u001b[38;5;124m\"\u001b[39m, axis\u001b[38;5;241m=\u001b[39m\u001b[38;5;241m1\u001b[39m)\n",
      "\u001b[0;31mNameError\u001b[0m: name 'pd' is not defined"
     ]
    }
   ],
   "source": [
    "elev_df = pd.read_csv(\"all_elevations.csv\")\n",
    "elev_df[\"temp\"] = elev_df[\"elevation\"].apply(lambda x: int(x[: (len(x) - 3)]))\n",
    "elev_df = elev_df.drop(\"elevation\", axis=1)\n",
    "elev_df = elev_df.rename(columns={\"zips\": \"ZCTA\", \"temp\": \"elevation\"})\n",
    "elev_df[\"ZCTA\"] = elev_df[\"ZCTA\"].astype(str)\n",
    "elev_df"
   ]
  },
  {
   "cell_type": "code",
   "execution_count": null,
   "metadata": {
    "id": "d6YWQC7zkkQf",
    "tags": []
   },
   "outputs": [],
   "source": [
    "model_df3 = model_df2.reset_index()"
   ]
  },
  {
   "cell_type": "code",
   "execution_count": null,
   "metadata": {
    "id": "f8VQKFJDkkQf",
    "tags": []
   },
   "outputs": [],
   "source": [
    "model_final = model_df3.merge(elev_df, on=\"ZCTA\", how=\"left\")\n",
    "model_final[\"year\"] = model_final[\"year_month\"].apply(lambda x: str(x[:4]))\n",
    "model_final"
   ]
  },
  {
   "cell_type": "code",
   "execution_count": null,
   "metadata": {
    "id": "TnFR7waKkkQf",
    "tags": []
   },
   "outputs": [],
   "source": [
    "model_final.to_csv(\"wind-fire-pm-elev-ins.csv\")"
   ]
  },
  {
   "cell_type": "code",
   "execution_count": null,
   "metadata": {
    "id": "OH5cR5zLkkQf"
   },
   "outputs": [],
   "source": [
    "model_final.real_distance.max()"
   ]
  },
  {
   "cell_type": "code",
   "execution_count": null,
   "metadata": {
    "id": "uS8KHSTDkkQf",
    "tags": []
   },
   "outputs": [],
   "source": [
    "model_df2.to_csv(\"modeling_data_int_days_rad.csv\")"
   ]
  },
  {
   "cell_type": "code",
   "execution_count": null,
   "metadata": {
    "id": "N9h42ks0kkQf",
    "tags": []
   },
   "outputs": [],
   "source": [
    "np.sum(~model_df2[\"treatment\"])"
   ]
  },
  {
   "cell_type": "code",
   "execution_count": null,
   "metadata": {
    "id": "FRssn20IkkQf",
    "tags": []
   },
   "outputs": [],
   "source": [
    "model_df2.real_distance.max()"
   ]
  },
  {
   "cell_type": "code",
   "execution_count": null,
   "metadata": {
    "id": "M1cj8TnakkQf"
   },
   "outputs": [],
   "source": []
  },
  {
   "cell_type": "code",
   "execution_count": null,
   "metadata": {
    "id": "ZndISmTtkkQf"
   },
   "outputs": [],
   "source": []
  },
  {
   "cell_type": "code",
   "execution_count": null,
   "metadata": {
    "id": "83NGouM4kkQf"
   },
   "outputs": [],
   "source": []
  },
  {
   "cell_type": "code",
   "execution_count": null,
   "metadata": {
    "id": "T397ePXrkkQf",
    "tags": []
   },
   "outputs": [],
   "source": [
    "np.sum(model_df2.distance.isna())"
   ]
  },
  {
   "cell_type": "code",
   "execution_count": null,
   "metadata": {
    "id": "oOzPSPLbkkQf",
    "tags": []
   },
   "outputs": [],
   "source": [
    "model_df2.real_distance"
   ]
  },
  {
   "cell_type": "code",
   "execution_count": null,
   "metadata": {
    "id": "lewHVhpAkkQf",
    "tags": []
   },
   "outputs": [],
   "source": [
    "np.sum(model_df2.real_distance.isna())"
   ]
  },
  {
   "cell_type": "code",
   "execution_count": null,
   "metadata": {
    "id": "0cDiyqDIkkQg",
    "tags": []
   },
   "outputs": [],
   "source": [
    "bearings.to_csv(\"bearings.csv\")"
   ]
  },
  {
   "cell_type": "code",
   "execution_count": null,
   "metadata": {
    "id": "sR-Ky6TEkkQg",
    "tags": []
   },
   "outputs": [],
   "source": [
    "bearings"
   ]
  },
  {
   "cell_type": "code",
   "execution_count": null,
   "metadata": {
    "id": "L-OUhTdbkkQg",
    "tags": []
   },
   "outputs": [],
   "source": [
    "dist_df.to_csv(\"dist.csv\")"
   ]
  },
  {
   "cell_type": "code",
   "execution_count": null,
   "metadata": {
    "id": "QdUuHx5AkkQg",
    "tags": []
   },
   "outputs": [],
   "source": [
    "errors"
   ]
  },
  {
   "cell_type": "code",
   "execution_count": null,
   "metadata": {
    "id": "X7DNvDz8kkQg",
    "tags": []
   },
   "outputs": [],
   "source": [
    "dist_df"
   ]
  },
  {
   "cell_type": "code",
   "execution_count": null,
   "metadata": {
    "id": "maWkh_btkkQg"
   },
   "outputs": [],
   "source": [
    "model_df2.real_distance.max()"
   ]
  },
  {
   "cell_type": "code",
   "execution_count": null,
   "metadata": {
    "id": "HgwNqzd7kkQg"
   },
   "outputs": [],
   "source": []
  },
  {
   "cell_type": "code",
   "execution_count": null,
   "metadata": {
    "id": "eHQMItZ8kkQg"
   },
   "outputs": [],
   "source": []
  },
  {
   "cell_type": "code",
   "execution_count": null,
   "metadata": {
    "id": "6cxmIqbOkkQg",
    "tags": []
   },
   "outputs": [],
   "source": [
    "model_df2 = pd.read_csv(\"instrument2b_with_int_and_dist.csv\", index_col=[0, 1, 2])"
   ]
  },
  {
   "cell_type": "code",
   "execution_count": null,
   "metadata": {
    "id": "9c0b7v8qkkQg",
    "tags": []
   },
   "outputs": [],
   "source": [
    "model_df2.to_csv(\"instrument1_with_val_tuesday.csv\")"
   ]
  },
  {
   "cell_type": "code",
   "execution_count": null,
   "metadata": {
    "id": "gQhH85b9kkQg",
    "tags": []
   },
   "outputs": [],
   "source": [
    "model_df2.distance.max()"
   ]
  },
  {
   "cell_type": "code",
   "execution_count": null,
   "metadata": {
    "id": "GoqHByXTkkQg",
    "tags": []
   },
   "outputs": [],
   "source": [
    "model_df2 = pd.read_csv(\"instrument2b_with_int_and_dist.csv\", index_col=[0, 1, 2])\n",
    "try:\n",
    "    model_df2 = model_df2.drop((4126, 200508, 97635), axis=0)\n",
    "    model_df2[\"treatment_2\"] = np.where(model_df2[\"distance\"] > 0, True, False)\n",
    "    print(\"success\")\n",
    "except:\n",
    "    pass"
   ]
  },
  {
   "cell_type": "markdown",
   "metadata": {
    "id": "jaYm_gfjkkQg"
   },
   "source": []
  }
 ],
 "metadata": {
  "colab": {
   "provenance": []
  },
  "kernelspec": {
   "display_name": "Python 3 (ipykernel)",
   "language": "python",
   "name": "python3"
  },
  "language_info": {
   "codemirror_mode": {
    "name": "ipython",
    "version": 3
   },
   "file_extension": ".py",
   "mimetype": "text/x-python",
   "name": "python",
   "nbconvert_exporter": "python",
   "pygments_lexer": "ipython3",
   "version": "3.10.9"
  }
 },
 "nbformat": 4,
 "nbformat_minor": 4
}
