{
 "cells": [
  {
   "cell_type": "markdown",
   "metadata": {
    "id": "dtoTu2G9_Xbn"
   },
   "source": [
    "### **0. Import libraries**"
   ]
  },
  {
   "cell_type": "code",
   "execution_count": 1,
   "metadata": {
    "id": "C18CYZ4W_NcT",
    "tags": []
   },
   "outputs": [],
   "source": [
    "import pandas as pd\n",
    "from datetime import datetime\n",
    "from sklearn.model_selection import train_test_split\n",
    "import statsmodels.api as sm\n",
    "from statsmodels.tools.tools import add_constant\n",
    "from sklearn.metrics import mean_squared_error\n",
    "from sklearn.preprocessing import OneHotEncoder\n",
    "from sklearn.model_selection import TimeSeriesSplit\n",
    "from sklearn.preprocessing import MinMaxScaler\n",
    "from sklearn.preprocessing import StandardScaler\n",
    "from tqdm import tqdm\n",
    "from xgboost import XGBRegressor\n",
    "from scipy.special import huber\n",
    "import numpy as np\n",
    "import seaborn as sns\n",
    "from statsmodels.tools.tools import maybe_unwrap_results\n",
    "from statsmodels.graphics.gofplots import ProbPlot\n",
    "from statsmodels.stats.outliers_influence import variance_inflation_factor\n",
    "import matplotlib.pyplot as plt\n",
    "from multiprocessing import Manager\n",
    "from multiprocessing.pool import Pool\n",
    "import time\n",
    "import os\n",
    "RANDOM_STATE = 2023\n",
    "TEST_SIZE = 0.2"
   ]
  },
  {
   "cell_type": "code",
   "execution_count": 2,
   "metadata": {
    "id": "6tHlXlfS_bxt",
    "tags": []
   },
   "outputs": [],
   "source": [
    "# from google.colab import drive\n",
    "from sklearn.linear_model import LinearRegression\n",
    "from sklearn.metrics import r2_score\n",
    "\n",
    "# drive.mount('/content/drive')\n",
    "# file_path = '/content/drive/MyDrive/Colab Notebooks/'\n",
    "file_path = './../'"
   ]
  },
  {
   "cell_type": "markdown",
   "metadata": {
    "id": "rxiJt48P_WaN"
   },
   "source": [
    "### **1. Load data**"
   ]
  },
  {
   "cell_type": "code",
   "execution_count": 3,
   "metadata": {
    "colab": {
     "base_uri": "https://localhost:8080/",
     "height": 899
    },
    "id": "91YLmuhA_iGU",
    "outputId": "37ecb024-98f9-4a05-dae5-5b0188d28f9c",
    "tags": []
   },
   "outputs": [
    {
     "name": "stdout",
     "output_type": "stream",
     "text": [
      "Dataframe shape:  (553240, 34)\n",
      "<class 'pandas.core.frame.DataFrame'>\n",
      "RangeIndex: 553240 entries, 0 to 553239\n",
      "Data columns (total 34 columns):\n",
      " #   Column                             Non-Null Count   Dtype  \n",
      "---  ------                             --------------   -----  \n",
      " 0   ZCTA                               553240 non-null  int64  \n",
      " 1   year_month                         553240 non-null  int64  \n",
      " 2   ins_1_no_bin_raw                   553240 non-null  float64\n",
      " 3   ins_2_add_acres_raw                553240 non-null  float64\n",
      " 4   ins_3_norms                        553239 non-null  float64\n",
      " 5   ins_4_add_acres_norms              553239 non-null  float64\n",
      " 6   ins_5_norm_bins_acres              553239 non-null  float64\n",
      " 7   ins_6_bins_raw                     553240 non-null  float64\n",
      " 8   zip_pm25                           546132 non-null  float64\n",
      " 9   zip_elevation                      550211 non-null  float64\n",
      " 10  elevation_difference               435467 non-null  float64\n",
      " 11  zip_wspd                           553240 non-null  float64\n",
      " 12  treatment                          553240 non-null  int64  \n",
      " 13  year                               553240 non-null  int64  \n",
      " 14  households_count                   542613 non-null  float64\n",
      " 15  mean_income_per_household          542613 non-null  float64\n",
      " 16  median_income_per_household        542613 non-null  float64\n",
      " 17  percent_pop_age_10to14             542613 non-null  float64\n",
      " 18  percent_pop_age_5to9               542613 non-null  float64\n",
      " 19  percent_pop_age_under_5            542613 non-null  float64\n",
      " 20  percent_pop_female_age_10to14      542613 non-null  float64\n",
      " 21  percent_pop_female_age_5to9        542613 non-null  float64\n",
      " 22  percent_pop_female_age_under_5     542613 non-null  float64\n",
      " 23  percent_pop_male_age_5to9          542613 non-null  float64\n",
      " 24  percent_pop_male_age_under_5       542613 non-null  float64\n",
      " 25  total_population                   542613 non-null  float64\n",
      " 26  percent_bach_deg_grad_new          542613 non-null  float64\n",
      " 27  percent_high_school_grad_new       542613 non-null  float64\n",
      " 28  percent_pop_age_15to19_new         542613 non-null  float64\n",
      " 29  percent_pop_female_age_15to19_new  542613 non-null  float64\n",
      " 30  percent_pop_male_age_10to14_new    542613 non-null  float64\n",
      " 31  percent_pop_male_age_15to19_new    542613 non-null  float64\n",
      " 32  Patient_disease                    90722 non-null   object \n",
      " 33  total_cases                        90722 non-null   float64\n",
      "dtypes: float64(29), int64(4), object(1)\n",
      "memory usage: 143.5+ MB\n",
      "Dataframe info:  None\n"
     ]
    },
    {
     "data": {
      "text/html": [
       "<div>\n",
       "<style scoped>\n",
       "    .dataframe tbody tr th:only-of-type {\n",
       "        vertical-align: middle;\n",
       "    }\n",
       "\n",
       "    .dataframe tbody tr th {\n",
       "        vertical-align: top;\n",
       "    }\n",
       "\n",
       "    .dataframe thead th {\n",
       "        text-align: right;\n",
       "    }\n",
       "</style>\n",
       "<table border=\"1\" class=\"dataframe\">\n",
       "  <thead>\n",
       "    <tr style=\"text-align: right;\">\n",
       "      <th></th>\n",
       "      <th>ZCTA</th>\n",
       "      <th>year_month</th>\n",
       "      <th>ins_1_no_bin_raw</th>\n",
       "      <th>ins_2_add_acres_raw</th>\n",
       "      <th>ins_3_norms</th>\n",
       "      <th>ins_4_add_acres_norms</th>\n",
       "      <th>ins_5_norm_bins_acres</th>\n",
       "      <th>ins_6_bins_raw</th>\n",
       "      <th>zip_pm25</th>\n",
       "      <th>zip_elevation</th>\n",
       "      <th>...</th>\n",
       "      <th>percent_pop_male_age_under_5</th>\n",
       "      <th>total_population</th>\n",
       "      <th>percent_bach_deg_grad_new</th>\n",
       "      <th>percent_high_school_grad_new</th>\n",
       "      <th>percent_pop_age_15to19_new</th>\n",
       "      <th>percent_pop_female_age_15to19_new</th>\n",
       "      <th>percent_pop_male_age_10to14_new</th>\n",
       "      <th>percent_pop_male_age_15to19_new</th>\n",
       "      <th>Patient_disease</th>\n",
       "      <th>total_cases</th>\n",
       "    </tr>\n",
       "  </thead>\n",
       "  <tbody>\n",
       "    <tr>\n",
       "      <th>0</th>\n",
       "      <td>89010</td>\n",
       "      <td>199101</td>\n",
       "      <td>0.014313</td>\n",
       "      <td>2.171619</td>\n",
       "      <td>2.095820</td>\n",
       "      <td>0.001013</td>\n",
       "      <td>0.011318</td>\n",
       "      <td>24.261588</td>\n",
       "      <td>12.450976</td>\n",
       "      <td>4784.0</td>\n",
       "      <td>...</td>\n",
       "      <td>2.4</td>\n",
       "      <td>275.6</td>\n",
       "      <td>14.272763</td>\n",
       "      <td>56.603842</td>\n",
       "      <td>13.526364</td>\n",
       "      <td>14.514991</td>\n",
       "      <td>3.99958</td>\n",
       "      <td>8.781446</td>\n",
       "      <td>NaN</td>\n",
       "      <td>NaN</td>\n",
       "    </tr>\n",
       "    <tr>\n",
       "      <th>1</th>\n",
       "      <td>89010</td>\n",
       "      <td>199102</td>\n",
       "      <td>0.003401</td>\n",
       "      <td>1.473353</td>\n",
       "      <td>0.499474</td>\n",
       "      <td>0.000688</td>\n",
       "      <td>0.007878</td>\n",
       "      <td>16.875655</td>\n",
       "      <td>11.255854</td>\n",
       "      <td>4784.0</td>\n",
       "      <td>...</td>\n",
       "      <td>2.4</td>\n",
       "      <td>275.6</td>\n",
       "      <td>14.272763</td>\n",
       "      <td>56.603842</td>\n",
       "      <td>13.526364</td>\n",
       "      <td>14.514991</td>\n",
       "      <td>3.99958</td>\n",
       "      <td>8.781446</td>\n",
       "      <td>NaN</td>\n",
       "      <td>NaN</td>\n",
       "    </tr>\n",
       "  </tbody>\n",
       "</table>\n",
       "<p>2 rows × 34 columns</p>\n",
       "</div>"
      ],
      "text/plain": [
       "    ZCTA  year_month  ins_1_no_bin_raw  ins_2_add_acres_raw  ins_3_norms  \\\n",
       "0  89010      199101          0.014313             2.171619     2.095820   \n",
       "1  89010      199102          0.003401             1.473353     0.499474   \n",
       "\n",
       "   ins_4_add_acres_norms  ins_5_norm_bins_acres  ins_6_bins_raw   zip_pm25  \\\n",
       "0               0.001013               0.011318       24.261588  12.450976   \n",
       "1               0.000688               0.007878       16.875655  11.255854   \n",
       "\n",
       "   zip_elevation  ...  percent_pop_male_age_under_5  total_population  \\\n",
       "0         4784.0  ...                           2.4             275.6   \n",
       "1         4784.0  ...                           2.4             275.6   \n",
       "\n",
       "   percent_bach_deg_grad_new  percent_high_school_grad_new  \\\n",
       "0                  14.272763                     56.603842   \n",
       "1                  14.272763                     56.603842   \n",
       "\n",
       "   percent_pop_age_15to19_new  percent_pop_female_age_15to19_new  \\\n",
       "0                   13.526364                          14.514991   \n",
       "1                   13.526364                          14.514991   \n",
       "\n",
       "   percent_pop_male_age_10to14_new  percent_pop_male_age_15to19_new  \\\n",
       "0                          3.99958                         8.781446   \n",
       "1                          3.99958                         8.781446   \n",
       "\n",
       "   Patient_disease  total_cases  \n",
       "0              NaN          NaN  \n",
       "1              NaN          NaN  \n",
       "\n",
       "[2 rows x 34 columns]"
      ]
     },
     "metadata": {},
     "output_type": "display_data"
    }
   ],
   "source": [
    "raw = pd.read_csv(file_path+'final_df_2.csv').iloc[:,1:]\n",
    "print('Dataframe shape: ',raw.shape)\n",
    "print('Dataframe info: ',raw.info())\n",
    "display(raw.head(2))"
   ]
  },
  {
   "cell_type": "code",
   "execution_count": 4,
   "metadata": {
    "colab": {
     "base_uri": "https://localhost:8080/"
    },
    "id": "rNwyhkhaM6Bz",
    "outputId": "d4a4283f-8dc2-4e6e-fc4f-8d14c91452dc",
    "tags": []
   },
   "outputs": [
    {
     "name": "stdout",
     "output_type": "stream",
     "text": [
      "<class 'pandas.core.frame.DataFrame'>\n",
      "Int64Index: 546132 entries, 0 to 553239\n",
      "Data columns (total 34 columns):\n",
      " #   Column                             Non-Null Count   Dtype  \n",
      "---  ------                             --------------   -----  \n",
      " 0   ZCTA                               546132 non-null  int64  \n",
      " 1   year_month                         546132 non-null  int64  \n",
      " 2   ins_1_no_bin_raw                   546132 non-null  float64\n",
      " 3   ins_2_add_acres_raw                546132 non-null  float64\n",
      " 4   ins_3_norms                        546131 non-null  float64\n",
      " 5   ins_4_add_acres_norms              546131 non-null  float64\n",
      " 6   ins_5_norm_bins_acres              546131 non-null  float64\n",
      " 7   ins_6_bins_raw                     546132 non-null  float64\n",
      " 8   zip_pm25                           546132 non-null  float64\n",
      " 9   zip_elevation                      546132 non-null  float64\n",
      " 10  elevation_difference               432233 non-null  float64\n",
      " 11  zip_wspd                           546132 non-null  float64\n",
      " 12  treatment                          546132 non-null  int64  \n",
      " 13  year                               546132 non-null  int64  \n",
      " 14  households_count                   538810 non-null  float64\n",
      " 15  mean_income_per_household          538810 non-null  float64\n",
      " 16  median_income_per_household        538810 non-null  float64\n",
      " 17  percent_pop_age_10to14             538810 non-null  float64\n",
      " 18  percent_pop_age_5to9               538810 non-null  float64\n",
      " 19  percent_pop_age_under_5            538810 non-null  float64\n",
      " 20  percent_pop_female_age_10to14      538810 non-null  float64\n",
      " 21  percent_pop_female_age_5to9        538810 non-null  float64\n",
      " 22  percent_pop_female_age_under_5     538810 non-null  float64\n",
      " 23  percent_pop_male_age_5to9          538810 non-null  float64\n",
      " 24  percent_pop_male_age_under_5       538810 non-null  float64\n",
      " 25  total_population                   538810 non-null  float64\n",
      " 26  percent_bach_deg_grad_new          538810 non-null  float64\n",
      " 27  percent_high_school_grad_new       538810 non-null  float64\n",
      " 28  percent_pop_age_15to19_new         538810 non-null  float64\n",
      " 29  percent_pop_female_age_15to19_new  538810 non-null  float64\n",
      " 30  percent_pop_male_age_10to14_new    538810 non-null  float64\n",
      " 31  percent_pop_male_age_15to19_new    538810 non-null  float64\n",
      " 32  Patient_disease                    89543 non-null   object \n",
      " 33  total_cases                        89543 non-null   float64\n",
      "dtypes: float64(29), int64(4), object(1)\n",
      "memory usage: 145.8+ MB\n",
      "Dataframe info:  None\n"
     ]
    }
   ],
   "source": [
    "raw_expm25 = raw.loc[~raw['zip_pm25'].isna()].copy()\n",
    "print('Dataframe info: ',raw_expm25.info())"
   ]
  },
  {
   "cell_type": "code",
   "execution_count": 5,
   "metadata": {
    "colab": {
     "base_uri": "https://localhost:8080/"
    },
    "id": "a5znB3l0glVL",
    "outputId": "47d59731-8c51-49d4-b305-86e06b1e5e83",
    "tags": []
   },
   "outputs": [
    {
     "data": {
      "text/plain": [
       "1612"
      ]
     },
     "execution_count": 5,
     "metadata": {},
     "output_type": "execute_result"
    }
   ],
   "source": [
    "raw.loc[~raw['households_count'].isna()]['ZCTA'].nunique()"
   ]
  },
  {
   "cell_type": "code",
   "execution_count": 6,
   "metadata": {
    "colab": {
     "base_uri": "https://localhost:8080/"
    },
    "id": "AgVHn-0QNtvR",
    "outputId": "747b80f7-a201-4b47-ce5b-7de050955af9",
    "tags": []
   },
   "outputs": [
    {
     "name": "stdout",
     "output_type": "stream",
     "text": [
      "<class 'pandas.core.frame.DataFrame'>\n",
      "Int64Index: 538810 entries, 0 to 553239\n",
      "Data columns (total 34 columns):\n",
      " #   Column                             Non-Null Count   Dtype  \n",
      "---  ------                             --------------   -----  \n",
      " 0   ZCTA                               538810 non-null  int64  \n",
      " 1   year_month                         538810 non-null  int64  \n",
      " 2   ins_1_no_bin_raw                   538810 non-null  float64\n",
      " 3   ins_2_add_acres_raw                538810 non-null  float64\n",
      " 4   ins_3_norms                        538810 non-null  float64\n",
      " 5   ins_4_add_acres_norms              538810 non-null  float64\n",
      " 6   ins_5_norm_bins_acres              538810 non-null  float64\n",
      " 7   ins_6_bins_raw                     538810 non-null  float64\n",
      " 8   zip_pm25                           538810 non-null  float64\n",
      " 9   zip_elevation                      538810 non-null  float64\n",
      " 10  elevation_difference               426549 non-null  float64\n",
      " 11  zip_wspd                           538810 non-null  float64\n",
      " 12  treatment                          538810 non-null  int64  \n",
      " 13  year                               538810 non-null  int64  \n",
      " 14  households_count                   538810 non-null  float64\n",
      " 15  mean_income_per_household          538810 non-null  float64\n",
      " 16  median_income_per_household        538810 non-null  float64\n",
      " 17  percent_pop_age_10to14             538810 non-null  float64\n",
      " 18  percent_pop_age_5to9               538810 non-null  float64\n",
      " 19  percent_pop_age_under_5            538810 non-null  float64\n",
      " 20  percent_pop_female_age_10to14      538810 non-null  float64\n",
      " 21  percent_pop_female_age_5to9        538810 non-null  float64\n",
      " 22  percent_pop_female_age_under_5     538810 non-null  float64\n",
      " 23  percent_pop_male_age_5to9          538810 non-null  float64\n",
      " 24  percent_pop_male_age_under_5       538810 non-null  float64\n",
      " 25  total_population                   538810 non-null  float64\n",
      " 26  percent_bach_deg_grad_new          538810 non-null  float64\n",
      " 27  percent_high_school_grad_new       538810 non-null  float64\n",
      " 28  percent_pop_age_15to19_new         538810 non-null  float64\n",
      " 29  percent_pop_female_age_15to19_new  538810 non-null  float64\n",
      " 30  percent_pop_male_age_10to14_new    538810 non-null  float64\n",
      " 31  percent_pop_male_age_15to19_new    538810 non-null  float64\n",
      " 32  Patient_disease                    88349 non-null   object \n",
      " 33  total_cases                        88349 non-null   float64\n",
      "dtypes: float64(29), int64(4), object(1)\n",
      "memory usage: 143.9+ MB\n",
      "Dataframe info:  None\n"
     ]
    }
   ],
   "source": [
    "raw_stage1 = raw_expm25.loc[~raw_expm25['households_count'].isna()].copy()\n",
    "print('Dataframe info: ',raw_stage1.info())"
   ]
  },
  {
   "cell_type": "code",
   "execution_count": 7,
   "metadata": {
    "id": "Et-9rWkGGbw0",
    "tags": []
   },
   "outputs": [],
   "source": [
    "#TO REMOVE AFTER I GET MORE COMPUTING POWER\n",
    "# raw_stage1 = raw_stage1.loc[raw_stage1.ZCTA.isin(list(raw_stage1.ZCTA.unique()[:3]))]\n",
    "# raw_stage1.shape"
   ]
  },
  {
   "cell_type": "markdown",
   "metadata": {
    "id": "EnoknDWFAwvc"
   },
   "source": [
    "### **2. Feature engineering**"
   ]
  },
  {
   "cell_type": "code",
   "execution_count": 8,
   "metadata": {
    "colab": {
     "base_uri": "https://localhost:8080/",
     "height": 393
    },
    "id": "Pm97jk5HALzN",
    "outputId": "8f96aebd-701e-46af-f66c-2a7f7b71fc42",
    "tags": []
   },
   "outputs": [
    {
     "data": {
      "text/html": [
       "<div>\n",
       "<style scoped>\n",
       "    .dataframe tbody tr th:only-of-type {\n",
       "        vertical-align: middle;\n",
       "    }\n",
       "\n",
       "    .dataframe tbody tr th {\n",
       "        vertical-align: top;\n",
       "    }\n",
       "\n",
       "    .dataframe thead th {\n",
       "        text-align: right;\n",
       "    }\n",
       "</style>\n",
       "<table border=\"1\" class=\"dataframe\">\n",
       "  <thead>\n",
       "    <tr style=\"text-align: right;\">\n",
       "      <th></th>\n",
       "      <th>ZCTA</th>\n",
       "      <th>year_month</th>\n",
       "      <th>ins_1_no_bin_raw</th>\n",
       "      <th>ins_2_add_acres_raw</th>\n",
       "      <th>ins_3_norms</th>\n",
       "      <th>ins_4_add_acres_norms</th>\n",
       "      <th>ins_5_norm_bins_acres</th>\n",
       "      <th>ins_6_bins_raw</th>\n",
       "      <th>zip_pm25</th>\n",
       "      <th>zip_elevation</th>\n",
       "      <th>...</th>\n",
       "      <th>percent_pop_male_age_5to9</th>\n",
       "      <th>percent_pop_male_age_under_5</th>\n",
       "      <th>total_population</th>\n",
       "      <th>percent_bach_deg_grad_new</th>\n",
       "      <th>percent_high_school_grad_new</th>\n",
       "      <th>percent_pop_age_15to19_new</th>\n",
       "      <th>percent_pop_female_age_15to19_new</th>\n",
       "      <th>percent_pop_male_age_10to14_new</th>\n",
       "      <th>percent_pop_male_age_15to19_new</th>\n",
       "      <th>total_cases</th>\n",
       "    </tr>\n",
       "  </thead>\n",
       "  <tbody>\n",
       "    <tr>\n",
       "      <th>count</th>\n",
       "      <td>538810.000000</td>\n",
       "      <td>538810.000000</td>\n",
       "      <td>538810.000000</td>\n",
       "      <td>538810.000000</td>\n",
       "      <td>538810.000000</td>\n",
       "      <td>538810.000000</td>\n",
       "      <td>538810.000000</td>\n",
       "      <td>5.388100e+05</td>\n",
       "      <td>538810.000000</td>\n",
       "      <td>538810.000000</td>\n",
       "      <td>...</td>\n",
       "      <td>538810.000000</td>\n",
       "      <td>538810.000000</td>\n",
       "      <td>538810.000000</td>\n",
       "      <td>538810.000000</td>\n",
       "      <td>538810.000000</td>\n",
       "      <td>538810.000000</td>\n",
       "      <td>538810.000000</td>\n",
       "      <td>538810.000000</td>\n",
       "      <td>538810.000000</td>\n",
       "      <td>88349.000000</td>\n",
       "    </tr>\n",
       "    <tr>\n",
       "      <th>mean</th>\n",
       "      <td>93654.074813</td>\n",
       "      <td>200455.386166</td>\n",
       "      <td>0.080885</td>\n",
       "      <td>180.651835</td>\n",
       "      <td>12.646169</td>\n",
       "      <td>0.084870</td>\n",
       "      <td>0.921501</td>\n",
       "      <td>1.960948e+03</td>\n",
       "      <td>10.239111</td>\n",
       "      <td>1279.671586</td>\n",
       "      <td>...</td>\n",
       "      <td>7.125112</td>\n",
       "      <td>7.650424</td>\n",
       "      <td>20990.817317</td>\n",
       "      <td>25.066083</td>\n",
       "      <td>75.274736</td>\n",
       "      <td>7.672503</td>\n",
       "      <td>7.270102</td>\n",
       "      <td>6.955415</td>\n",
       "      <td>5.993639</td>\n",
       "      <td>1.029463</td>\n",
       "    </tr>\n",
       "    <tr>\n",
       "      <th>std</th>\n",
       "      <td>1823.364933</td>\n",
       "      <td>807.391308</td>\n",
       "      <td>0.180290</td>\n",
       "      <td>692.157322</td>\n",
       "      <td>476.046405</td>\n",
       "      <td>0.480308</td>\n",
       "      <td>5.327597</td>\n",
       "      <td>7.417969e+03</td>\n",
       "      <td>5.976578</td>\n",
       "      <td>1724.789214</td>\n",
       "      <td>...</td>\n",
       "      <td>3.888841</td>\n",
       "      <td>4.483334</td>\n",
       "      <td>20757.020751</td>\n",
       "      <td>16.911635</td>\n",
       "      <td>17.378581</td>\n",
       "      <td>4.059371</td>\n",
       "      <td>4.725894</td>\n",
       "      <td>4.293331</td>\n",
       "      <td>3.927259</td>\n",
       "      <td>0.172677</td>\n",
       "    </tr>\n",
       "    <tr>\n",
       "      <th>min</th>\n",
       "      <td>89010.000000</td>\n",
       "      <td>199101.000000</td>\n",
       "      <td>0.000000</td>\n",
       "      <td>0.000000</td>\n",
       "      <td>0.000000</td>\n",
       "      <td>0.000000</td>\n",
       "      <td>0.000000</td>\n",
       "      <td>0.000000e+00</td>\n",
       "      <td>0.000000</td>\n",
       "      <td>-230.000000</td>\n",
       "      <td>...</td>\n",
       "      <td>0.000000</td>\n",
       "      <td>0.000000</td>\n",
       "      <td>2.000000</td>\n",
       "      <td>0.010000</td>\n",
       "      <td>0.486379</td>\n",
       "      <td>0.010000</td>\n",
       "      <td>0.010000</td>\n",
       "      <td>0.010000</td>\n",
       "      <td>0.010000</td>\n",
       "      <td>1.000000</td>\n",
       "    </tr>\n",
       "    <tr>\n",
       "      <th>25%</th>\n",
       "      <td>92258.000000</td>\n",
       "      <td>199712.000000</td>\n",
       "      <td>0.000881</td>\n",
       "      <td>0.032698</td>\n",
       "      <td>0.128314</td>\n",
       "      <td>0.000015</td>\n",
       "      <td>0.000184</td>\n",
       "      <td>3.978730e-01</td>\n",
       "      <td>6.012111</td>\n",
       "      <td>143.000000</td>\n",
       "      <td>...</td>\n",
       "      <td>5.000000</td>\n",
       "      <td>5.000000</td>\n",
       "      <td>1729.300000</td>\n",
       "      <td>12.085806</td>\n",
       "      <td>68.894423</td>\n",
       "      <td>5.360227</td>\n",
       "      <td>4.874479</td>\n",
       "      <td>4.854490</td>\n",
       "      <td>4.089742</td>\n",
       "      <td>1.000000</td>\n",
       "    </tr>\n",
       "    <tr>\n",
       "      <th>50%</th>\n",
       "      <td>93647.000000</td>\n",
       "      <td>200412.000000</td>\n",
       "      <td>0.018668</td>\n",
       "      <td>6.377243</td>\n",
       "      <td>2.744359</td>\n",
       "      <td>0.002965</td>\n",
       "      <td>0.033147</td>\n",
       "      <td>7.130964e+01</td>\n",
       "      <td>8.819501</td>\n",
       "      <td>503.000000</td>\n",
       "      <td>...</td>\n",
       "      <td>6.900000</td>\n",
       "      <td>7.200000</td>\n",
       "      <td>16241.000000</td>\n",
       "      <td>20.833634</td>\n",
       "      <td>80.708626</td>\n",
       "      <td>7.331364</td>\n",
       "      <td>6.643380</td>\n",
       "      <td>6.659300</td>\n",
       "      <td>5.653644</td>\n",
       "      <td>1.000000</td>\n",
       "    </tr>\n",
       "    <tr>\n",
       "      <th>75%</th>\n",
       "      <td>95377.000000</td>\n",
       "      <td>201112.000000</td>\n",
       "      <td>0.085261</td>\n",
       "      <td>106.090639</td>\n",
       "      <td>12.571746</td>\n",
       "      <td>0.049437</td>\n",
       "      <td>0.550448</td>\n",
       "      <td>1.180939e+03</td>\n",
       "      <td>13.105340</td>\n",
       "      <td>1619.000000</td>\n",
       "      <td>...</td>\n",
       "      <td>8.600000</td>\n",
       "      <td>9.400000</td>\n",
       "      <td>34698.500000</td>\n",
       "      <td>34.811141</td>\n",
       "      <td>87.473210</td>\n",
       "      <td>9.302500</td>\n",
       "      <td>8.677616</td>\n",
       "      <td>8.369120</td>\n",
       "      <td>7.217545</td>\n",
       "      <td>1.000000</td>\n",
       "    </tr>\n",
       "    <tr>\n",
       "      <th>max</th>\n",
       "      <td>97635.000000</td>\n",
       "      <td>201812.000000</td>\n",
       "      <td>59.096422</td>\n",
       "      <td>125873.289036</td>\n",
       "      <td>348158.983667</td>\n",
       "      <td>258.866251</td>\n",
       "      <td>2951.697056</td>\n",
       "      <td>1.391002e+06</td>\n",
       "      <td>88.450000</td>\n",
       "      <td>10572.000000</td>\n",
       "      <td>...</td>\n",
       "      <td>44.700000</td>\n",
       "      <td>81.300000</td>\n",
       "      <td>109414.000000</td>\n",
       "      <td>95.000000</td>\n",
       "      <td>95.000000</td>\n",
       "      <td>68.718182</td>\n",
       "      <td>75.011415</td>\n",
       "      <td>95.000000</td>\n",
       "      <td>95.000000</td>\n",
       "      <td>4.000000</td>\n",
       "    </tr>\n",
       "  </tbody>\n",
       "</table>\n",
       "<p>8 rows × 33 columns</p>\n",
       "</div>"
      ],
      "text/plain": [
       "                ZCTA     year_month  ins_1_no_bin_raw  ins_2_add_acres_raw  \\\n",
       "count  538810.000000  538810.000000     538810.000000        538810.000000   \n",
       "mean    93654.074813  200455.386166          0.080885           180.651835   \n",
       "std      1823.364933     807.391308          0.180290           692.157322   \n",
       "min     89010.000000  199101.000000          0.000000             0.000000   \n",
       "25%     92258.000000  199712.000000          0.000881             0.032698   \n",
       "50%     93647.000000  200412.000000          0.018668             6.377243   \n",
       "75%     95377.000000  201112.000000          0.085261           106.090639   \n",
       "max     97635.000000  201812.000000         59.096422        125873.289036   \n",
       "\n",
       "         ins_3_norms  ins_4_add_acres_norms  ins_5_norm_bins_acres  \\\n",
       "count  538810.000000          538810.000000          538810.000000   \n",
       "mean       12.646169               0.084870               0.921501   \n",
       "std       476.046405               0.480308               5.327597   \n",
       "min         0.000000               0.000000               0.000000   \n",
       "25%         0.128314               0.000015               0.000184   \n",
       "50%         2.744359               0.002965               0.033147   \n",
       "75%        12.571746               0.049437               0.550448   \n",
       "max    348158.983667             258.866251            2951.697056   \n",
       "\n",
       "       ins_6_bins_raw       zip_pm25  zip_elevation  ...  \\\n",
       "count    5.388100e+05  538810.000000  538810.000000  ...   \n",
       "mean     1.960948e+03      10.239111    1279.671586  ...   \n",
       "std      7.417969e+03       5.976578    1724.789214  ...   \n",
       "min      0.000000e+00       0.000000    -230.000000  ...   \n",
       "25%      3.978730e-01       6.012111     143.000000  ...   \n",
       "50%      7.130964e+01       8.819501     503.000000  ...   \n",
       "75%      1.180939e+03      13.105340    1619.000000  ...   \n",
       "max      1.391002e+06      88.450000   10572.000000  ...   \n",
       "\n",
       "       percent_pop_male_age_5to9  percent_pop_male_age_under_5  \\\n",
       "count              538810.000000                 538810.000000   \n",
       "mean                    7.125112                      7.650424   \n",
       "std                     3.888841                      4.483334   \n",
       "min                     0.000000                      0.000000   \n",
       "25%                     5.000000                      5.000000   \n",
       "50%                     6.900000                      7.200000   \n",
       "75%                     8.600000                      9.400000   \n",
       "max                    44.700000                     81.300000   \n",
       "\n",
       "       total_population  percent_bach_deg_grad_new  \\\n",
       "count     538810.000000              538810.000000   \n",
       "mean       20990.817317                  25.066083   \n",
       "std        20757.020751                  16.911635   \n",
       "min            2.000000                   0.010000   \n",
       "25%         1729.300000                  12.085806   \n",
       "50%        16241.000000                  20.833634   \n",
       "75%        34698.500000                  34.811141   \n",
       "max       109414.000000                  95.000000   \n",
       "\n",
       "       percent_high_school_grad_new  percent_pop_age_15to19_new  \\\n",
       "count                 538810.000000               538810.000000   \n",
       "mean                      75.274736                    7.672503   \n",
       "std                       17.378581                    4.059371   \n",
       "min                        0.486379                    0.010000   \n",
       "25%                       68.894423                    5.360227   \n",
       "50%                       80.708626                    7.331364   \n",
       "75%                       87.473210                    9.302500   \n",
       "max                       95.000000                   68.718182   \n",
       "\n",
       "       percent_pop_female_age_15to19_new  percent_pop_male_age_10to14_new  \\\n",
       "count                      538810.000000                    538810.000000   \n",
       "mean                            7.270102                         6.955415   \n",
       "std                             4.725894                         4.293331   \n",
       "min                             0.010000                         0.010000   \n",
       "25%                             4.874479                         4.854490   \n",
       "50%                             6.643380                         6.659300   \n",
       "75%                             8.677616                         8.369120   \n",
       "max                            75.011415                        95.000000   \n",
       "\n",
       "       percent_pop_male_age_15to19_new   total_cases  \n",
       "count                    538810.000000  88349.000000  \n",
       "mean                          5.993639      1.029463  \n",
       "std                           3.927259      0.172677  \n",
       "min                           0.010000      1.000000  \n",
       "25%                           4.089742      1.000000  \n",
       "50%                           5.653644      1.000000  \n",
       "75%                           7.217545      1.000000  \n",
       "max                          95.000000      4.000000  \n",
       "\n",
       "[8 rows x 33 columns]"
      ]
     },
     "execution_count": 8,
     "metadata": {},
     "output_type": "execute_result"
    }
   ],
   "source": [
    "#look at stats first\n",
    "raw_stage1.describe()"
   ]
  },
  {
   "cell_type": "code",
   "execution_count": 9,
   "metadata": {
    "colab": {
     "base_uri": "https://localhost:8080/"
    },
    "id": "OJDnZO3jAwNi",
    "outputId": "d92e1aa9-b561-4daf-9721-82d8a67a3a5a",
    "tags": []
   },
   "outputs": [
    {
     "name": "stdout",
     "output_type": "stream",
     "text": [
      "['month_02' 'month_03' 'month_04' 'month_05' 'month_06' 'month_07'\n",
      " 'month_08' 'month_09' 'month_10' 'month_11' 'month_12']\n",
      "['ZCTA_89019' 'ZCTA_89060' 'ZCTA_89061' ... 'ZCTA_96150' 'ZCTA_96161'\n",
      " 'ZCTA_97635']\n"
     ]
    }
   ],
   "source": [
    "#make year values smaller\n",
    "raw_stage1['year_trend'] = raw_stage1.apply(lambda x: x['year'] - (raw_stage1['year'].min()-1),axis=1)\n",
    "\n",
    "#minmax scaling for elevation - elastic net sensitive to variables on different scales\n",
    "elevation = MinMaxScaler().fit_transform(np.array(raw_stage1['elevation_difference']).reshape(-1,1))\n",
    "raw_stage1['s_elevation_difference'] = elevation.reshape(elevation.shape[0],)\n",
    "\n",
    "# #OHE  for month\n",
    "raw_stage1['month'] = raw_stage1['year_month'].astype(str).apply(lambda x: x[-2:])\n",
    "mth_enc = OneHotEncoder(handle_unknown='error',drop='first',sparse=False) \n",
    "mth_ohc_values = mth_enc.fit_transform(np.array(raw_stage1['month']).reshape(-1,1))\n",
    "mth_ohc_labels = mth_enc.get_feature_names_out(['month'])\n",
    "raw_stage1 = pd.concat([raw_stage1.reset_index(drop=True), pd.DataFrame(mth_ohc_values, columns = mth_ohc_labels).reset_index(drop=True)],axis=1)\n",
    "print(mth_ohc_labels)\n",
    "\n",
    "# #OHE for ZCTA\n",
    "zc_enc = OneHotEncoder(handle_unknown='error',drop='first',sparse=False) \n",
    "zc_ohc_values = zc_enc.fit_transform(np.array(raw_stage1['ZCTA']).reshape(-1,1))\n",
    "zc_ohc_labels = zc_enc.get_feature_names_out(['ZCTA'])\n",
    "raw_stage1 = pd.concat([raw_stage1.reset_index(drop=True), pd.DataFrame(zc_ohc_values, columns = zc_ohc_labels).reset_index(drop=True)],axis=1)\n",
    "print(zc_ohc_labels)"
   ]
  },
  {
   "cell_type": "code",
   "execution_count": 10,
   "metadata": {
    "colab": {
     "base_uri": "https://localhost:8080/"
    },
    "id": "HBMnt2zCLjEt",
    "outputId": "e08b66f3-c117-4c1f-ed09-f37508514b7c",
    "tags": []
   },
   "outputs": [
    {
     "data": {
      "text/plain": [
       "(538810, 1646)"
      ]
     },
     "execution_count": 10,
     "metadata": {},
     "output_type": "execute_result"
    }
   ],
   "source": [
    "raw_stage1.shape"
   ]
  },
  {
   "cell_type": "code",
   "execution_count": 11,
   "metadata": {
    "colab": {
     "base_uri": "https://localhost:8080/",
     "height": 205
    },
    "id": "03JGqJ2ZBkBr",
    "outputId": "0adde28a-a6af-4dee-b3ba-82f124e04514",
    "tags": []
   },
   "outputs": [
    {
     "data": {
      "text/html": [
       "<div>\n",
       "<style scoped>\n",
       "    .dataframe tbody tr th:only-of-type {\n",
       "        vertical-align: middle;\n",
       "    }\n",
       "\n",
       "    .dataframe tbody tr th {\n",
       "        vertical-align: top;\n",
       "    }\n",
       "\n",
       "    .dataframe thead th {\n",
       "        text-align: right;\n",
       "    }\n",
       "</style>\n",
       "<table border=\"1\" class=\"dataframe\">\n",
       "  <thead>\n",
       "    <tr style=\"text-align: right;\">\n",
       "      <th></th>\n",
       "      <th>ZCTA</th>\n",
       "      <th>year_month</th>\n",
       "      <th>ins_1_no_bin_raw</th>\n",
       "      <th>ins_2_add_acres_raw</th>\n",
       "      <th>ins_3_norms</th>\n",
       "      <th>ins_4_add_acres_norms</th>\n",
       "      <th>ins_5_norm_bins_acres</th>\n",
       "      <th>ins_6_bins_raw</th>\n",
       "      <th>zip_pm25</th>\n",
       "      <th>zip_elevation</th>\n",
       "      <th>...</th>\n",
       "      <th>ZCTA_96140</th>\n",
       "      <th>ZCTA_96141</th>\n",
       "      <th>ZCTA_96142</th>\n",
       "      <th>ZCTA_96143</th>\n",
       "      <th>ZCTA_96145</th>\n",
       "      <th>ZCTA_96146</th>\n",
       "      <th>ZCTA_96148</th>\n",
       "      <th>ZCTA_96150</th>\n",
       "      <th>ZCTA_96161</th>\n",
       "      <th>ZCTA_97635</th>\n",
       "    </tr>\n",
       "  </thead>\n",
       "  <tbody>\n",
       "    <tr>\n",
       "      <th>0</th>\n",
       "      <td>89010</td>\n",
       "      <td>199101</td>\n",
       "      <td>0.014313</td>\n",
       "      <td>2.171619</td>\n",
       "      <td>2.095820</td>\n",
       "      <td>0.001013</td>\n",
       "      <td>0.011318</td>\n",
       "      <td>24.261588</td>\n",
       "      <td>12.450976</td>\n",
       "      <td>4784.0</td>\n",
       "      <td>...</td>\n",
       "      <td>0.0</td>\n",
       "      <td>0.0</td>\n",
       "      <td>0.0</td>\n",
       "      <td>0.0</td>\n",
       "      <td>0.0</td>\n",
       "      <td>0.0</td>\n",
       "      <td>0.0</td>\n",
       "      <td>0.0</td>\n",
       "      <td>0.0</td>\n",
       "      <td>0.0</td>\n",
       "    </tr>\n",
       "    <tr>\n",
       "      <th>1</th>\n",
       "      <td>89010</td>\n",
       "      <td>199102</td>\n",
       "      <td>0.003401</td>\n",
       "      <td>1.473353</td>\n",
       "      <td>0.499474</td>\n",
       "      <td>0.000688</td>\n",
       "      <td>0.007878</td>\n",
       "      <td>16.875655</td>\n",
       "      <td>11.255854</td>\n",
       "      <td>4784.0</td>\n",
       "      <td>...</td>\n",
       "      <td>0.0</td>\n",
       "      <td>0.0</td>\n",
       "      <td>0.0</td>\n",
       "      <td>0.0</td>\n",
       "      <td>0.0</td>\n",
       "      <td>0.0</td>\n",
       "      <td>0.0</td>\n",
       "      <td>0.0</td>\n",
       "      <td>0.0</td>\n",
       "      <td>0.0</td>\n",
       "    </tr>\n",
       "  </tbody>\n",
       "</table>\n",
       "<p>2 rows × 1646 columns</p>\n",
       "</div>"
      ],
      "text/plain": [
       "    ZCTA  year_month  ins_1_no_bin_raw  ins_2_add_acres_raw  ins_3_norms  \\\n",
       "0  89010      199101          0.014313             2.171619     2.095820   \n",
       "1  89010      199102          0.003401             1.473353     0.499474   \n",
       "\n",
       "   ins_4_add_acres_norms  ins_5_norm_bins_acres  ins_6_bins_raw   zip_pm25  \\\n",
       "0               0.001013               0.011318       24.261588  12.450976   \n",
       "1               0.000688               0.007878       16.875655  11.255854   \n",
       "\n",
       "   zip_elevation  ...  ZCTA_96140  ZCTA_96141  ZCTA_96142  ZCTA_96143  \\\n",
       "0         4784.0  ...         0.0         0.0         0.0         0.0   \n",
       "1         4784.0  ...         0.0         0.0         0.0         0.0   \n",
       "\n",
       "   ZCTA_96145  ZCTA_96146  ZCTA_96148  ZCTA_96150  ZCTA_96161  ZCTA_97635  \n",
       "0         0.0         0.0         0.0         0.0         0.0         0.0  \n",
       "1         0.0         0.0         0.0         0.0         0.0         0.0  \n",
       "\n",
       "[2 rows x 1646 columns]"
      ]
     },
     "execution_count": 11,
     "metadata": {},
     "output_type": "execute_result"
    }
   ],
   "source": [
    "raw_stage1.head(2)"
   ]
  },
  {
   "cell_type": "code",
   "execution_count": 12,
   "metadata": {
    "colab": {
     "base_uri": "https://localhost:8080/"
    },
    "id": "StEQVTLtTwBJ",
    "outputId": "9f3bab4b-cb30-4273-d456-b06cc36a601f",
    "tags": []
   },
   "outputs": [
    {
     "data": {
      "text/plain": [
       "Index(['ZCTA', 'year_month', 'ins_1_no_bin_raw', 'ins_2_add_acres_raw',\n",
       "       'ins_3_norms', 'ins_4_add_acres_norms', 'ins_5_norm_bins_acres',\n",
       "       'ins_6_bins_raw', 'zip_pm25', 'zip_elevation',\n",
       "       ...\n",
       "       'ZCTA_96140', 'ZCTA_96141', 'ZCTA_96142', 'ZCTA_96143', 'ZCTA_96145',\n",
       "       'ZCTA_96146', 'ZCTA_96148', 'ZCTA_96150', 'ZCTA_96161', 'ZCTA_97635'],\n",
       "      dtype='object', length=1646)"
      ]
     },
     "execution_count": 12,
     "metadata": {},
     "output_type": "execute_result"
    }
   ],
   "source": [
    "raw_stage1.columns"
   ]
  },
  {
   "cell_type": "code",
   "execution_count": 13,
   "metadata": {
    "id": "kWblelX6EmzF",
    "tags": []
   },
   "outputs": [],
   "source": [
    "#create data\n",
    "def create_stage1_data(instrument_var_name):\n",
    "  #list variables\n",
    "  stage_1_yvar  = 'zip_pm25'\n",
    "  time_vars = ['year_trend'] + list(mth_ohc_labels)\n",
    "  iv_vars =  [instrument_var_name] #['ins_1_no_bin_raw', 'ins_2_add_acres_raw','ins_3_norms', 'ins_4_add_acres_norms', 'ins_5_norm_bins_acres','ins_6_bins_raw']\n",
    "  env_vars = ['s_elevation_difference']\n",
    "  dem_vars = [ \n",
    "          'total_population','households_count',\n",
    "          'median_income_per_household', 'percent_high_school_grad_new', 'percent_bach_deg_grad_new', \n",
    "          'percent_pop_age_under_5', 'percent_pop_age_5to9', 'percent_pop_age_10to14','percent_pop_age_15to19_new',\n",
    "          # 'percent_pop_male_age_under_5', 'percent_pop_male_age_5to9', 'percent_pop_male_age_10to14_new', 'percent_pop_male_age_15to19_new'\n",
    "          'percent_pop_female_age_under_5', 'percent_pop_female_age_5to9','percent_pop_female_age_10to14', 'percent_pop_female_age_15to19_new'] #PENDING\n",
    "\n",
    "  stage_1_xvars = time_vars + iv_vars + env_vars + dem_vars + list(zc_ohc_labels)\n",
    "\n",
    "  X = raw_stage1[stage_1_xvars]\n",
    "  y = raw_stage1[stage_1_yvar]\n",
    "\n",
    "  return X, y"
   ]
  },
  {
   "cell_type": "code",
   "execution_count": 14,
   "metadata": {
    "id": "7s_S-vLKF7bp",
    "tags": []
   },
   "outputs": [],
   "source": [
    "def train_test_panel_split(X,y,test_size=TEST_SIZE):\n",
    "  #split into train vs test\n",
    "  last_train_idx = round(X.shape[0]*(1-test_size))\n",
    "\n",
    "  X_train = X.iloc[:last_train_idx] \n",
    "  X_test = X.iloc[last_train_idx:]\n",
    "\n",
    "  y_train = y.iloc[:last_train_idx]\n",
    "  y_test = y.iloc[last_train_idx:]\n",
    "  \n",
    "  return X_train, X_test, y_train, y_test\n"
   ]
  },
  {
   "cell_type": "code",
   "execution_count": 15,
   "metadata": {
    "id": "fkypv9YRlqcB",
    "tags": []
   },
   "outputs": [],
   "source": [
    "#actual code for featuregeneration\n",
    "instruments = ['ins_5_norm_bins_acres','ins_6_bins_raw']\n",
    "# X, y = create_stage1_data(instrument_var_name=instruments[4])\n",
    "# X_train, X_test, y_train, y_test = train_test_panel_split(X,y)"
   ]
  },
  {
   "cell_type": "markdown",
   "metadata": {
    "id": "5rHCzO3zGQJE"
   },
   "source": [
    "### **3. Model selection**"
   ]
  },
  {
   "cell_type": "code",
   "execution_count": 16,
   "metadata": {
    "id": "octPJwsARh7s",
    "tags": []
   },
   "outputs": [],
   "source": [
    "#Define loss functions\n",
    "\n",
    "## ADJUST FOR CLUSTER STD ERRORS\n",
    "\n",
    "def get_rmse(model,X,y):\n",
    "    return ((np.array(y) - model.predict(X))**2).mean()    \n",
    "\n",
    "def get_mae(model,X,y):\n",
    "    return (abs(np.array(y) - model.predict(X))).mean()    \n",
    "\n",
    "def get_huber_loss(model,X,y,delta=5):\n",
    "    r = np.array(y) - model.predict(X)\n",
    "    return sum(huber(delta,r))"
   ]
  },
  {
   "cell_type": "code",
   "execution_count": 17,
   "metadata": {
    "colab": {
     "base_uri": "https://localhost:8080/"
    },
    "id": "WWE_NSwHN_Ci",
    "outputId": "3a2f5038-7943-48ba-c30b-57ca6bf161ff",
    "tags": []
   },
   "outputs": [
    {
     "data": {
      "text/plain": [
       "48"
      ]
     },
     "execution_count": 17,
     "metadata": {},
     "output_type": "execute_result"
    }
   ],
   "source": [
    "import multiprocessing\n",
    "multiprocessing.cpu_count()"
   ]
  },
  {
   "cell_type": "code",
   "execution_count": 18,
   "metadata": {
    "colab": {
     "base_uri": "https://localhost:8080/",
     "height": 206
    },
    "id": "Ad2Hrm4HOh_r",
    "outputId": "4a83f3c1-d8df-4a4d-8777-8eb05de37383",
    "tags": []
   },
   "outputs": [
    {
     "data": {
      "text/html": [
       "<div>\n",
       "<style scoped>\n",
       "    .dataframe tbody tr th:only-of-type {\n",
       "        vertical-align: middle;\n",
       "    }\n",
       "\n",
       "    .dataframe tbody tr th {\n",
       "        vertical-align: top;\n",
       "    }\n",
       "\n",
       "    .dataframe thead th {\n",
       "        text-align: right;\n",
       "    }\n",
       "</style>\n",
       "<table border=\"1\" class=\"dataframe\">\n",
       "  <thead>\n",
       "    <tr style=\"text-align: right;\">\n",
       "      <th></th>\n",
       "      <th>booster</th>\n",
       "      <th>objective</th>\n",
       "      <th>tree_method</th>\n",
       "      <th>nthread</th>\n",
       "      <th>gamma</th>\n",
       "      <th>eval_metric</th>\n",
       "      <th>num_parallel_tree</th>\n",
       "      <th>max_depth</th>\n",
       "      <th>subsample</th>\n",
       "      <th>reg_lambda</th>\n",
       "      <th>learning_rate</th>\n",
       "      <th>random_state</th>\n",
       "    </tr>\n",
       "  </thead>\n",
       "  <tbody>\n",
       "    <tr>\n",
       "      <th>0</th>\n",
       "      <td>gbtree</td>\n",
       "      <td>reg:squarederror</td>\n",
       "      <td>hist</td>\n",
       "      <td>48</td>\n",
       "      <td>0</td>\n",
       "      <td>rmse</td>\n",
       "      <td>20</td>\n",
       "      <td>6</td>\n",
       "      <td>0.6</td>\n",
       "      <td>0.01</td>\n",
       "      <td>0.03</td>\n",
       "      <td>2023</td>\n",
       "    </tr>\n",
       "    <tr>\n",
       "      <th>1</th>\n",
       "      <td>gbtree</td>\n",
       "      <td>reg:squarederror</td>\n",
       "      <td>hist</td>\n",
       "      <td>48</td>\n",
       "      <td>0</td>\n",
       "      <td>rmse</td>\n",
       "      <td>20</td>\n",
       "      <td>12</td>\n",
       "      <td>0.6</td>\n",
       "      <td>0.01</td>\n",
       "      <td>0.03</td>\n",
       "      <td>2023</td>\n",
       "    </tr>\n",
       "    <tr>\n",
       "      <th>2</th>\n",
       "      <td>gbtree</td>\n",
       "      <td>reg:squarederror</td>\n",
       "      <td>hist</td>\n",
       "      <td>48</td>\n",
       "      <td>0</td>\n",
       "      <td>rmse</td>\n",
       "      <td>20</td>\n",
       "      <td>18</td>\n",
       "      <td>0.6</td>\n",
       "      <td>0.01</td>\n",
       "      <td>0.03</td>\n",
       "      <td>2023</td>\n",
       "    </tr>\n",
       "    <tr>\n",
       "      <th>3</th>\n",
       "      <td>gbtree</td>\n",
       "      <td>reg:squarederror</td>\n",
       "      <td>hist</td>\n",
       "      <td>48</td>\n",
       "      <td>0</td>\n",
       "      <td>rmse</td>\n",
       "      <td>20</td>\n",
       "      <td>6</td>\n",
       "      <td>0.6</td>\n",
       "      <td>0.1</td>\n",
       "      <td>0.03</td>\n",
       "      <td>2023</td>\n",
       "    </tr>\n",
       "    <tr>\n",
       "      <th>4</th>\n",
       "      <td>gbtree</td>\n",
       "      <td>reg:squarederror</td>\n",
       "      <td>hist</td>\n",
       "      <td>48</td>\n",
       "      <td>0</td>\n",
       "      <td>rmse</td>\n",
       "      <td>20</td>\n",
       "      <td>12</td>\n",
       "      <td>0.6</td>\n",
       "      <td>0.1</td>\n",
       "      <td>0.03</td>\n",
       "      <td>2023</td>\n",
       "    </tr>\n",
       "  </tbody>\n",
       "</table>\n",
       "</div>"
      ],
      "text/plain": [
       "  booster         objective tree_method nthread gamma eval_metric  \\\n",
       "0  gbtree  reg:squarederror        hist      48     0        rmse   \n",
       "1  gbtree  reg:squarederror        hist      48     0        rmse   \n",
       "2  gbtree  reg:squarederror        hist      48     0        rmse   \n",
       "3  gbtree  reg:squarederror        hist      48     0        rmse   \n",
       "4  gbtree  reg:squarederror        hist      48     0        rmse   \n",
       "\n",
       "  num_parallel_tree max_depth subsample reg_lambda learning_rate random_state  \n",
       "0                20         6       0.6       0.01          0.03         2023  \n",
       "1                20        12       0.6       0.01          0.03         2023  \n",
       "2                20        18       0.6       0.01          0.03         2023  \n",
       "3                20         6       0.6        0.1          0.03         2023  \n",
       "4                20        12       0.6        0.1          0.03         2023  "
      ]
     },
     "execution_count": 18,
     "metadata": {},
     "output_type": "execute_result"
    }
   ],
   "source": [
    "#Define hyperparmeters\n",
    "hyperparams = {'booster':'gbtree', \n",
    "               'objective':'reg:squarederror', \n",
    "               'tree_method':'hist', \n",
    "               'nthread':48,\n",
    "               # 'early_stopping_rounds':10,\n",
    "               # 'n_jobs':2,\n",
    "               'gamma':0,\n",
    "               'eval_metric':'rmse',\n",
    "               'num_parallel_tree':20,         #number of trees to be running in the model\n",
    "               'max_depth' : [6,12,18],         #max tree depth\n",
    "               'subsample':[0.6],       #proportion of training instances subsampled\n",
    "               'reg_lambda':[0.01, 0.1, 1],     #L2 reg\n",
    "               'learning_rate': [0.03],\n",
    "               'random_state' :RANDOM_STATE\n",
    "              }\n",
    "       #,\n",
    "keys = list(hyperparams.keys())\n",
    "hyperparams_df = pd.DataFrame(np.array(np.meshgrid(*[hyperparams[key_i] for key_i in keys])).T.reshape(-1, len(keys)))\n",
    "hyperparams_df.columns = keys \n",
    "hyperparams_df.head()"
   ]
  },
  {
   "cell_type": "code",
   "execution_count": 71,
   "metadata": {
    "id": "8oqD4zcLTfTg",
    "tags": []
   },
   "outputs": [],
   "source": [
    "def select_models(hyperparams_df,X_train,y_train,results_filename):\n",
    "    results = {'hyperparams':[], 'rmse_train': [], 'rmse_test': []}\n",
    "\n",
    "    folds = TimeSeriesSplit(n_splits=5) #default value\n",
    "\n",
    "    #implement grid search\n",
    "    for i in tqdm(range(hyperparams_df.shape[0]), leave=False): #to use fullhyperparamset for actual run\n",
    "        result_file = pd.read_csv(results_filename)\n",
    "        \n",
    "        if i in result_file['hyperparam_id'].tolist():\n",
    "            continue\n",
    "        \n",
    "        #get hyperparams\n",
    "        hyperparams = dict(hyperparams_df.iloc[i])\n",
    "\n",
    "        #initialize empty lists\n",
    "        rmse_trains =[]; rmse_tests =[]; \n",
    "        # huber_trains=[]; huber_tests=[]   #we should care more about squared errors because \"outliers\" arising from wildfires are a big part of what we are trying to predict.\n",
    "\n",
    "        for fold_count,fold in enumerate(folds.split(X_train)):\n",
    "            # print(fold_count)\n",
    "            #get data\n",
    "            X_cvtrain = X_train.loc[fold[0]]  ; X_val = X_train.loc[fold[1]]\n",
    "            y_cvtrain = y_train.loc[fold[0]]  ; y_val = y_train.loc[fold[1]]\n",
    "            \n",
    "            # print(X_cvtrain.shape)\n",
    "\n",
    "            #fit model\n",
    "            tmp_model = XGBRegressor(**hyperparams).fit(X_cvtrain,y_cvtrain,verbose=0)  \n",
    "            # print(get_rmse(tmp_model, X_cvtrain, y_cvtrain))\n",
    "            #append results\n",
    "            rmse_trains.append(get_rmse(tmp_model, X_cvtrain, y_cvtrain))\n",
    "            rmse_tests.append(get_rmse(tmp_model, X_val, y_val))\n",
    "            # huber_trains.append(get_huber_loss(tmp_model, X_cvtrain, y_cvtrain))  \n",
    "            # huber_tests.append(get_huber_loss(tmp_model, X_val  , y_val))\n",
    "\n",
    "        new_row = pd.Series({'instrument':results_filename[:-16],\n",
    "                            'hyperparam_id':i,\n",
    "                            'rmse_train':np.mean(rmse_trains),\n",
    "                            'rmse_test':np.mean(rmse_tests)})\n",
    "        \n",
    "        result_file = pd.concat([result_file, new_row.to_frame().T], ignore_index=True)\n",
    "        result_file.to_csv(results_filename,index=False)\n",
    "        \n",
    "        # display(result_file)\n",
    "        \n",
    "        # results['hyperparams'].append(hyperparams)\n",
    "        # results['rmse_train'].append(np.mean(rmse_trains))\n",
    "        # results['rmse_test'].append(np.mean(rmse_tests))\n",
    "        \n",
    "        # results['huber_loss_train'].append(np.mean(huber_trains))\n",
    "        # results['huber_loss_test'].append(np.mean(huber_tests))\n",
    "    result_file = pd.read_csv(results_filename)\n",
    "    best_hyperparams = dict(hyperparams_df.iloc[result_file.sort_values('rmse_test',ascending=True).iloc[0]['hyperparam_id']])   #i])\n",
    "    return best_hyperparams, result_file.sort_values('rmse_test',ascending=True)\n"
   ]
  },
  {
   "cell_type": "code",
   "execution_count": null,
   "metadata": {
    "id": "GJisk7AO4zlD"
   },
   "outputs": [],
   "source": []
  },
  {
   "cell_type": "code",
   "execution_count": 72,
   "metadata": {
    "colab": {
     "base_uri": "https://localhost:8080/",
     "height": 953
    },
    "id": "IgO5QpVirBhK",
    "outputId": "70f6e80e-b773-48d4-bbf4-db31536b1ac9",
    "tags": []
   },
   "outputs": [
    {
     "name": "stdout",
     "output_type": "stream",
     "text": [
      "['ins_5_norm_bins_acres', 'ins_6_bins_raw']\n"
     ]
    },
    {
     "name": "stderr",
     "output_type": "stream",
     "text": [
      "  0%|          | 0/2 [00:00<?, ?it/s]"
     ]
    },
    {
     "name": "stdout",
     "output_type": "stream",
     "text": [
      "starting for instrument ins_5_norm_bins_acres:\n",
      "True\n"
     ]
    },
    {
     "name": "stderr",
     "output_type": "stream",
     "text": [
      "\n",
      "  0%|          | 0/9 [00:00<?, ?it/s]\u001b[A\n",
      " 11%|█         | 1/9 [12:57<1:43:43, 777.99s/it]\u001b[A\n",
      " 22%|██▏       | 2/9 [35:31<2:10:13, 1116.27s/it]\u001b[A\n",
      " 33%|███▎      | 3/9 [1:44:42<4:10:11, 2501.99s/it]\u001b[A\n",
      " 44%|████▍     | 4/9 [1:58:05<2:32:36, 1831.36s/it]\u001b[A\n",
      " 56%|█████▌    | 5/9 [2:19:59<1:49:40, 1645.03s/it]\u001b[A\n",
      " 67%|██████▋   | 6/9 [3:18:41<1:54:08, 2282.98s/it]\u001b[A\n",
      " 78%|███████▊  | 7/9 [3:32:04<59:58, 1799.05s/it]  \u001b[A\n",
      " 89%|████████▉ | 8/9 [3:53:45<27:20, 1640.66s/it]\u001b[A\n",
      "100%|██████████| 9/9 [4:42:36<00:00, 2044.14s/it]\u001b[A\n",
      "                                                 \u001b[A"
     ]
    },
    {
     "name": "stdout",
     "output_type": "stream",
     "text": [
      "{'booster': 'gbtree', 'objective': 'reg:squarederror', 'tree_method': 'hist', 'nthread': '48', 'gamma': '0', 'eval_metric': 'rmse', 'num_parallel_tree': '20', 'max_depth': '18', 'subsample': '0.6', 'reg_lambda': '1.0', 'learning_rate': '0.03', 'random_state': '2023'}\n"
     ]
    },
    {
     "name": "stderr",
     "output_type": "stream",
     "text": [
      " 50%|█████     | 1/2 [5:00:11<5:00:11, 18011.72s/it]"
     ]
    },
    {
     "name": "stdout",
     "output_type": "stream",
     "text": [
      "starting for instrument ins_6_bins_raw:\n",
      "True\n"
     ]
    },
    {
     "name": "stderr",
     "output_type": "stream",
     "text": [
      "\n",
      "  0%|          | 0/9 [00:00<?, ?it/s]\u001b[A\n",
      " 11%|█         | 1/9 [13:24<1:47:16, 804.54s/it]\u001b[A\n",
      " 22%|██▏       | 2/9 [36:15<2:12:43, 1137.62s/it]\u001b[A\n",
      " 33%|███▎      | 3/9 [1:44:44<4:09:27, 2494.52s/it]\u001b[A\n",
      " 44%|████▍     | 4/9 [1:58:12<2:32:23, 1828.67s/it]\u001b[A\n",
      " 56%|█████▌    | 5/9 [2:20:33<1:50:11, 1652.96s/it]\u001b[A\n",
      " 67%|██████▋   | 6/9 [3:19:27<1:54:37, 2292.47s/it]\u001b[A\n",
      " 78%|███████▊  | 7/9 [3:32:59<1:00:16, 1808.31s/it]\u001b[A\n",
      " 89%|████████▉ | 8/9 [3:54:32<27:24, 1644.42s/it]  \u001b[A\n",
      "100%|██████████| 9/9 [4:42:40<00:00, 2033.08s/it]\u001b[A\n",
      "                                                 \u001b[A"
     ]
    },
    {
     "name": "stdout",
     "output_type": "stream",
     "text": [
      "{'booster': 'gbtree', 'objective': 'reg:squarederror', 'tree_method': 'hist', 'nthread': '48', 'gamma': '0', 'eval_metric': 'rmse', 'num_parallel_tree': '20', 'max_depth': '18', 'subsample': '0.6', 'reg_lambda': '1.0', 'learning_rate': '0.03', 'random_state': '2023'}\n"
     ]
    },
    {
     "name": "stderr",
     "output_type": "stream",
     "text": [
      "100%|██████████| 2/2 [10:00:14<00:00, 18007.06s/it] \n"
     ]
    }
   ],
   "source": [
    "#create models for each instrument and save model output\n",
    "instruments = ['ins_5_norm_bins_acres','ins_6_bins_raw']\n",
    "# instruments = ['ins_2_add_acres_raw']\n",
    "\n",
    "models = dict()\n",
    "print(instruments)\n",
    "train_rmses = [] ; test_rmses = []\n",
    "train_maes = []  ; test_maes  = []\n",
    "\n",
    "for i in tqdm(range(len(instruments)),leave=True):\n",
    "  #load data with correct instrument name\n",
    "  print ('starting for instrument {}:'.format(instruments[i]))\n",
    "  X, y = create_stage1_data(instrument_var_name=instruments[i])\n",
    "  X_train, X_test, y_train, y_test = train_test_panel_split(X,y)\n",
    "\n",
    "  #create csv to store hyperparameter tuning results for each instrument\n",
    "  results_filename = instruments[i]+'_hyperparams.csv'\n",
    "  \n",
    "  if not(os.path.exists(results_filename)):\n",
    "    print('True')\n",
    "    instrument_df = pd.DataFrame({'instrument':[],'hyperparam_id':[],'rmse_train':[],'rmse_test':[]})\n",
    "    instrument_df.to_csv(results_filename,index=False)\n",
    "    \n",
    "  #select and train best performing cross validated model\n",
    "  best_hyperparams, results = select_models(hyperparams_df,X_train,y_train,results_filename) \n",
    "  print(best_hyperparams)\n",
    "  models['stage1_xgb_model_'+str(i+1)] = XGBRegressor(**best_hyperparams).fit(X_train,y_train,verbose=0)\n",
    "\n",
    "  #save model\n",
    "  filename = file_path+'stage1_xgb_model_'+instruments[i] + '.json'\n",
    "  models['stage1_xgb_model_'+str(i+1)].save_model(filename) \n",
    "\n",
    "  #save train and test rmses / maes\n",
    "  train_rmses.append(get_rmse(models['stage1_xgb_model_'+str(i+1)],X_train,y_train))\n",
    "  test_rmses.append( get_rmse(models['stage1_xgb_model_'+str(i+1)],X_test,y_test) )\n",
    "\n",
    "  train_maes.append( get_mae(models['stage1_xgb_model_'+str(i+1)],X_train,y_train) )\n",
    "  test_maes.append( get_mae(models['stage1_xgb_model_'+str(i+1)],X_test,y_test))\n",
    "\n",
    "all_results = pd.DataFrame(\n",
    "    {\n",
    "      'model_name': ['stage1_xgb_model_'+str(i+1) for i in range(len(instruments))],\n",
    "      'train_rmse': train_rmses, 'test_rmse': test_rmses, \n",
    "      'train_mae': train_maes, 'test_mae': test_maes\n",
    "    }\n",
    ")\n",
    "\n",
    "all_results.to_csv(file_path+'stage1_xgb_model_results.csv')"
   ]
  },
  {
   "cell_type": "code",
   "execution_count": null,
   "metadata": {
    "id": "V157wxLH4zlF"
   },
   "outputs": [],
   "source": [
    "\n"
   ]
  },
  {
   "cell_type": "code",
   "execution_count": 73,
   "metadata": {
    "id": "Vt0lsHFe4zlF",
    "tags": []
   },
   "outputs": [],
   "source": [
    "# results = []\n",
    "# num_threads = [1, 2, 3, 4, 8, 16]\n",
    "# for n in num_threads:\n",
    "#     start = time.time()\n",
    "#     # model = XGBRegressor(\n",
    "#     #         booster='gbtree',\n",
    "#     #         objective= 'reg:squarederror',\n",
    "#     #         # tree_method= 'gpu_hist',\n",
    "#     #         gamma= '0',\n",
    "#     #         eval_metric= 'rmse',\n",
    "#     #         num_parallel_tree= '20',\n",
    "#     #         max_depth='18',\n",
    "#     #         subsample= '0.2',\n",
    "#     #         reg_lambda= '0.01',\n",
    "#     #         learning_rate= '0.01',nthread=n)\n",
    "#     model = XGBRegressor(**dict(hyperparams_df.iloc[0]))\n",
    "#     model.fit(X_train, y_train)\n",
    "#     elapsed = time.time() - start\n",
    "#     print(n, elapsed)\n",
    "#     results.append(elapsed)\n",
    "    \n",
    "# print (results)"
   ]
  },
  {
   "cell_type": "code",
   "execution_count": 74,
   "metadata": {
    "id": "3rJR9AtV4zlF",
    "tags": []
   },
   "outputs": [
    {
     "data": {
      "text/plain": [
       "{'booster': 'gbtree',\n",
       " 'objective': 'reg:squarederror',\n",
       " 'tree_method': 'hist',\n",
       " 'nthread': '48',\n",
       " 'gamma': '0',\n",
       " 'eval_metric': 'rmse',\n",
       " 'num_parallel_tree': '20',\n",
       " 'max_depth': '18',\n",
       " 'subsample': '0.6',\n",
       " 'reg_lambda': '1.0',\n",
       " 'learning_rate': '0.03',\n",
       " 'random_state': '2023'}"
      ]
     },
     "execution_count": 74,
     "metadata": {},
     "output_type": "execute_result"
    }
   ],
   "source": [
    "best_hyperparams\n"
   ]
  },
  {
   "cell_type": "code",
   "execution_count": 75,
   "metadata": {
    "id": "t2sELpm-4zlF",
    "tags": []
   },
   "outputs": [
    {
     "ename": "NameError",
     "evalue": "name 'model' is not defined",
     "output_type": "error",
     "traceback": [
      "\u001b[0;31m---------------------------------------------------------------------------\u001b[0m",
      "\u001b[0;31mNameError\u001b[0m                                 Traceback (most recent call last)",
      "\u001b[0;32m/tmp/ipykernel_97588/3746967844.py\u001b[0m in \u001b[0;36m<module>\u001b[0;34m\u001b[0m\n\u001b[0;32m----> 1\u001b[0;31m \u001b[0mmodel\u001b[0m\u001b[0;34m.\u001b[0m\u001b[0mget_params\u001b[0m\u001b[0;34m(\u001b[0m\u001b[0;34m)\u001b[0m\u001b[0;34m\u001b[0m\u001b[0;34m\u001b[0m\u001b[0m\n\u001b[0m",
      "\u001b[0;31mNameError\u001b[0m: name 'model' is not defined"
     ]
    }
   ],
   "source": [
    "model.get_params()"
   ]
  },
  {
   "cell_type": "code",
   "execution_count": null,
   "metadata": {
    "id": "bHS2smYj4zlF",
    "tags": []
   },
   "outputs": [],
   "source": [
    "dict(zip(num_threads,results))"
   ]
  },
  {
   "cell_type": "code",
   "execution_count": null,
   "metadata": {
    "id": "UppMRV2FqT76",
    "tags": []
   },
   "outputs": [],
   "source": [
    "#analyze best hyperparams for each model config\n",
    "best_hyperparams_all_models = [model.get_xgb_params() for model in models.values()]\n",
    "\n",
    "for idx, name in enumerate(models.keys()):\n",
    "  best_hyperparams_all_models[idx]['model_name'] = name \n",
    "\n",
    "best_hyperparams_all_models_df = pd.DataFrame(best_hyperparams_all_models)\n",
    "\n",
    "final_results = pd.merge(best_hyperparams_all_models_df[['model_name']+list(hyperparams.keys())],\n",
    "                         all_results ,\n",
    "                         how='left', \n",
    "                         on='model_name')\n",
    "\n",
    "display(final_results)"
   ]
  },
  {
   "cell_type": "markdown",
   "metadata": {
    "id": "auW5EjoYTGTo"
   },
   "source": [
    "### **4. Model evaluation**"
   ]
  },
  {
   "cell_type": "markdown",
   "metadata": {
    "id": "yaaJBp1lU4Fs"
   },
   "source": [
    "#### 4a. RMSEs"
   ]
  },
  {
   "cell_type": "code",
   "execution_count": null,
   "metadata": {
    "id": "TwimUkxzT0FF"
   },
   "outputs": [],
   "source": [
    "#see above. "
   ]
  },
  {
   "cell_type": "markdown",
   "metadata": {
    "id": "tUKFsuxAjzEu"
   },
   "source": [
    "#### 4b. MAEs"
   ]
  },
  {
   "cell_type": "code",
   "execution_count": null,
   "metadata": {
    "id": "0DALRbrAj2aM"
   },
   "outputs": [],
   "source": [
    "#see above."
   ]
  },
  {
   "cell_type": "markdown",
   "metadata": {
    "id": "cZdfAeq5w2aN"
   },
   "source": [
    "#### 4c. Adj. R-squared"
   ]
  },
  {
   "cell_type": "code",
   "execution_count": null,
   "metadata": {
    "id": "xBkkng4iw2GO"
   },
   "outputs": [],
   "source": [
    "#not applicable for non-linear models."
   ]
  },
  {
   "cell_type": "markdown",
   "metadata": {
    "id": "hNCvgenLj5un"
   },
   "source": [
    "### **5. Feature importances / inference**"
   ]
  },
  {
   "cell_type": "code",
   "execution_count": 58,
   "metadata": {},
   "outputs": [
    {
     "name": "stdout",
     "output_type": "stream",
     "text": [
      "1.0-jam-wind-cleaning.ipynb\n",
      "1.1-jam-wind-direction.ipynb\n",
      "1.2-jam-wind-functions.ipynb\n",
      "1.4-jam-wind_fire_centroids.ipynb\n",
      "3.0-jmm-fires_cleaning.ipynb\n",
      "3.1-jmm-fires_clean_eda.ipynb\n",
      "3.2-jmm-fires_dropped_eda.ipynb\n",
      "3.3-jam-fire_zcta_add.ipynb\n",
      "3.4-jam-fires_final_stage_cleaning_zctas.ipynb\n",
      "3.5-jam-fire-trim-multipolygons.ipynb\n",
      "4.0-jam-join_data.ipynb\n",
      "4.1-jam-join_data_instrument_1.ipynb\n",
      "4.2-jam-join_data_instrument_2.ipynb\n",
      "4.3-jam-join_data_instrument_troubleshooting.ipynb\n",
      "4.4-jam-lookups.ipynb\n",
      "4.5_jam_lookups_LK.ipynb\n",
      "4.6_jam_fire_wspd.ipynb\n",
      "5.0-jam-instrument_revision.ipynb\n",
      "5.1-jam-instrument-2.ipynb\n",
      "5.2-jam-instrument-3-all.ipynb\n",
      "5.3_jam_aggregation.ipynb\n",
      "5.4_jam_final_join.ipynb\n",
      "5.5_jam_tests_join.ipynb\n",
      "6.0-lk-cross_sectional_models.ipynb\n",
      "7.0-phd-fake_med_data_zipcode.ipynb\n",
      "Deep_OLS.ipynb\n",
      "SatAM.ipynb\n",
      "Stage1ModelsPDv1.ipynb\n",
      "Stage1_revised_for_Jordan.ipynb\n",
      "Stage1_revised_for_Jordan_v2.ipynb\n",
      "final_df_2.csv\n",
      "ins_5_norm_bins_acres_hyperparams.csv\n",
      "ins_6_bins_raw_hyperparams.csv\n",
      "stage1_xgb_model_ins_4_add_acres_norms.json\n"
     ]
    }
   ],
   "source": [
    "ls "
   ]
  },
  {
   "cell_type": "code",
   "execution_count": 74,
   "metadata": {
    "id": "svE4IScNxHe3",
    "tags": []
   },
   "outputs": [
    {
     "ename": "XGBoostError",
     "evalue": "[14:40:51] ../src/common/json.cc:407: Unknown construct, around character position: 5242880\n    ,-1,528,,1.61328\n    ~~~~~~~^~~~~~~~~\nStack trace:\n  [bt] (0) /home/ec2-user/anaconda3/lib/python3.9/site-packages/xgboost/lib/libxgboost.so(+0x197383) [0x7f230d197383]\n  [bt] (1) /home/ec2-user/anaconda3/lib/python3.9/site-packages/xgboost/lib/libxgboost.so(+0x199f1f) [0x7f230d199f1f]\n  [bt] (2) /home/ec2-user/anaconda3/lib/python3.9/site-packages/xgboost/lib/libxgboost.so(+0x19a3bd) [0x7f230d19a3bd]\n  [bt] (3) /home/ec2-user/anaconda3/lib/python3.9/site-packages/xgboost/lib/libxgboost.so(+0x19a658) [0x7f230d19a658]\n  [bt] (4) /home/ec2-user/anaconda3/lib/python3.9/site-packages/xgboost/lib/libxgboost.so(+0x19a42d) [0x7f230d19a42d]\n  [bt] (5) /home/ec2-user/anaconda3/lib/python3.9/site-packages/xgboost/lib/libxgboost.so(+0x19e300) [0x7f230d19e300]\n  [bt] (6) /home/ec2-user/anaconda3/lib/python3.9/site-packages/xgboost/lib/libxgboost.so(+0x19a41f) [0x7f230d19a41f]\n  [bt] (7) /home/ec2-user/anaconda3/lib/python3.9/site-packages/xgboost/lib/libxgboost.so(+0x19a658) [0x7f230d19a658]\n  [bt] (8) /home/ec2-user/anaconda3/lib/python3.9/site-packages/xgboost/lib/libxgboost.so(+0x19a42d) [0x7f230d19a42d]\n\n",
     "output_type": "error",
     "traceback": [
      "\u001b[0;31m---------------------------------------------------------------------------\u001b[0m",
      "\u001b[0;31mXGBoostError\u001b[0m                              Traceback (most recent call last)",
      "\u001b[0;32m/tmp/ipykernel_140197/29499383.py\u001b[0m in \u001b[0;36m<module>\u001b[0;34m\u001b[0m\n\u001b[1;32m      3\u001b[0m \u001b[0;34m\u001b[0m\u001b[0m\n\u001b[1;32m      4\u001b[0m \u001b[0mbest_xgb_model\u001b[0m \u001b[0;34m=\u001b[0m \u001b[0mXGBRegressor\u001b[0m\u001b[0;34m(\u001b[0m\u001b[0;34m)\u001b[0m\u001b[0;34m\u001b[0m\u001b[0;34m\u001b[0m\u001b[0m\n\u001b[0;32m----> 5\u001b[0;31m \u001b[0mbest_xgb_model\u001b[0m\u001b[0;34m.\u001b[0m\u001b[0mload_model\u001b[0m\u001b[0;34m(\u001b[0m\u001b[0;34m'stage1_xgb_model_{}.json'\u001b[0m\u001b[0;34m.\u001b[0m\u001b[0mformat\u001b[0m\u001b[0;34m(\u001b[0m\u001b[0mstr\u001b[0m\u001b[0;34m(\u001b[0m\u001b[0minstrument_choice\u001b[0m\u001b[0;34m)\u001b[0m\u001b[0;34m)\u001b[0m\u001b[0;34m)\u001b[0m\u001b[0;34m\u001b[0m\u001b[0;34m\u001b[0m\u001b[0m\n\u001b[0m",
      "\u001b[0;32m~/anaconda3/lib/python3.9/site-packages/xgboost/sklearn.py\u001b[0m in \u001b[0;36mload_model\u001b[0;34m(self, fname)\u001b[0m\n\u001b[1;32m    775\u001b[0m         \u001b[0;32mif\u001b[0m \u001b[0;32mnot\u001b[0m \u001b[0mhasattr\u001b[0m\u001b[0;34m(\u001b[0m\u001b[0mself\u001b[0m\u001b[0;34m,\u001b[0m \u001b[0;34m\"_Booster\"\u001b[0m\u001b[0;34m)\u001b[0m\u001b[0;34m:\u001b[0m\u001b[0;34m\u001b[0m\u001b[0;34m\u001b[0m\u001b[0m\n\u001b[1;32m    776\u001b[0m             \u001b[0mself\u001b[0m\u001b[0;34m.\u001b[0m\u001b[0m_Booster\u001b[0m \u001b[0;34m=\u001b[0m \u001b[0mBooster\u001b[0m\u001b[0;34m(\u001b[0m\u001b[0;34m{\u001b[0m\u001b[0;34m\"n_jobs\"\u001b[0m\u001b[0;34m:\u001b[0m \u001b[0mself\u001b[0m\u001b[0;34m.\u001b[0m\u001b[0mn_jobs\u001b[0m\u001b[0;34m}\u001b[0m\u001b[0;34m)\u001b[0m\u001b[0;34m\u001b[0m\u001b[0;34m\u001b[0m\u001b[0m\n\u001b[0;32m--> 777\u001b[0;31m         \u001b[0mself\u001b[0m\u001b[0;34m.\u001b[0m\u001b[0mget_booster\u001b[0m\u001b[0;34m(\u001b[0m\u001b[0;34m)\u001b[0m\u001b[0;34m.\u001b[0m\u001b[0mload_model\u001b[0m\u001b[0;34m(\u001b[0m\u001b[0mfname\u001b[0m\u001b[0;34m)\u001b[0m\u001b[0;34m\u001b[0m\u001b[0;34m\u001b[0m\u001b[0m\n\u001b[0m\u001b[1;32m    778\u001b[0m         \u001b[0mmeta_str\u001b[0m \u001b[0;34m=\u001b[0m \u001b[0mself\u001b[0m\u001b[0;34m.\u001b[0m\u001b[0mget_booster\u001b[0m\u001b[0;34m(\u001b[0m\u001b[0;34m)\u001b[0m\u001b[0;34m.\u001b[0m\u001b[0mattr\u001b[0m\u001b[0;34m(\u001b[0m\u001b[0;34m\"scikit_learn\"\u001b[0m\u001b[0;34m)\u001b[0m\u001b[0;34m\u001b[0m\u001b[0;34m\u001b[0m\u001b[0m\n\u001b[1;32m    779\u001b[0m         \u001b[0;32mif\u001b[0m \u001b[0mmeta_str\u001b[0m \u001b[0;32mis\u001b[0m \u001b[0;32mNone\u001b[0m\u001b[0;34m:\u001b[0m\u001b[0;34m\u001b[0m\u001b[0;34m\u001b[0m\u001b[0m\n",
      "\u001b[0;32m~/anaconda3/lib/python3.9/site-packages/xgboost/core.py\u001b[0m in \u001b[0;36mload_model\u001b[0;34m(self, fname)\u001b[0m\n\u001b[1;32m   2442\u001b[0m             \u001b[0;31m# from URL.\u001b[0m\u001b[0;34m\u001b[0m\u001b[0;34m\u001b[0m\u001b[0m\n\u001b[1;32m   2443\u001b[0m             \u001b[0mfname\u001b[0m \u001b[0;34m=\u001b[0m \u001b[0mos\u001b[0m\u001b[0;34m.\u001b[0m\u001b[0mfspath\u001b[0m\u001b[0;34m(\u001b[0m\u001b[0mos\u001b[0m\u001b[0;34m.\u001b[0m\u001b[0mpath\u001b[0m\u001b[0;34m.\u001b[0m\u001b[0mexpanduser\u001b[0m\u001b[0;34m(\u001b[0m\u001b[0mfname\u001b[0m\u001b[0;34m)\u001b[0m\u001b[0;34m)\u001b[0m\u001b[0;34m\u001b[0m\u001b[0;34m\u001b[0m\u001b[0m\n\u001b[0;32m-> 2444\u001b[0;31m             _check_call(_LIB.XGBoosterLoadModel(\n\u001b[0m\u001b[1;32m   2445\u001b[0m                 self.handle, c_str(fname)))\n\u001b[1;32m   2446\u001b[0m         \u001b[0;32melif\u001b[0m \u001b[0misinstance\u001b[0m\u001b[0;34m(\u001b[0m\u001b[0mfname\u001b[0m\u001b[0;34m,\u001b[0m \u001b[0mbytearray\u001b[0m\u001b[0;34m)\u001b[0m\u001b[0;34m:\u001b[0m\u001b[0;34m\u001b[0m\u001b[0;34m\u001b[0m\u001b[0m\n",
      "\u001b[0;32m~/anaconda3/lib/python3.9/site-packages/xgboost/core.py\u001b[0m in \u001b[0;36m_check_call\u001b[0;34m(ret)\u001b[0m\n\u001b[1;32m    277\u001b[0m     \"\"\"\n\u001b[1;32m    278\u001b[0m     \u001b[0;32mif\u001b[0m \u001b[0mret\u001b[0m \u001b[0;34m!=\u001b[0m \u001b[0;36m0\u001b[0m\u001b[0;34m:\u001b[0m\u001b[0;34m\u001b[0m\u001b[0;34m\u001b[0m\u001b[0m\n\u001b[0;32m--> 279\u001b[0;31m         \u001b[0;32mraise\u001b[0m \u001b[0mXGBoostError\u001b[0m\u001b[0;34m(\u001b[0m\u001b[0mpy_str\u001b[0m\u001b[0;34m(\u001b[0m\u001b[0m_LIB\u001b[0m\u001b[0;34m.\u001b[0m\u001b[0mXGBGetLastError\u001b[0m\u001b[0;34m(\u001b[0m\u001b[0;34m)\u001b[0m\u001b[0;34m)\u001b[0m\u001b[0;34m)\u001b[0m\u001b[0;34m\u001b[0m\u001b[0;34m\u001b[0m\u001b[0m\n\u001b[0m\u001b[1;32m    280\u001b[0m \u001b[0;34m\u001b[0m\u001b[0m\n\u001b[1;32m    281\u001b[0m \u001b[0;34m\u001b[0m\u001b[0m\n",
      "\u001b[0;31mXGBoostError\u001b[0m: [14:40:51] ../src/common/json.cc:407: Unknown construct, around character position: 5242880\n    ,-1,528,,1.61328\n    ~~~~~~~^~~~~~~~~\nStack trace:\n  [bt] (0) /home/ec2-user/anaconda3/lib/python3.9/site-packages/xgboost/lib/libxgboost.so(+0x197383) [0x7f230d197383]\n  [bt] (1) /home/ec2-user/anaconda3/lib/python3.9/site-packages/xgboost/lib/libxgboost.so(+0x199f1f) [0x7f230d199f1f]\n  [bt] (2) /home/ec2-user/anaconda3/lib/python3.9/site-packages/xgboost/lib/libxgboost.so(+0x19a3bd) [0x7f230d19a3bd]\n  [bt] (3) /home/ec2-user/anaconda3/lib/python3.9/site-packages/xgboost/lib/libxgboost.so(+0x19a658) [0x7f230d19a658]\n  [bt] (4) /home/ec2-user/anaconda3/lib/python3.9/site-packages/xgboost/lib/libxgboost.so(+0x19a42d) [0x7f230d19a42d]\n  [bt] (5) /home/ec2-user/anaconda3/lib/python3.9/site-packages/xgboost/lib/libxgboost.so(+0x19e300) [0x7f230d19e300]\n  [bt] (6) /home/ec2-user/anaconda3/lib/python3.9/site-packages/xgboost/lib/libxgboost.so(+0x19a41f) [0x7f230d19a41f]\n  [bt] (7) /home/ec2-user/anaconda3/lib/python3.9/site-packages/xgboost/lib/libxgboost.so(+0x19a658) [0x7f230d19a658]\n  [bt] (8) /home/ec2-user/anaconda3/lib/python3.9/site-packages/xgboost/lib/libxgboost.so(+0x19a42d) [0x7f230d19a42d]\n\n"
     ]
    }
   ],
   "source": [
    "#code for loading xgb model object\n",
    "instrument_choice = \"ins_4_add_acres_norms\"\n",
    "\n",
    "best_xgb_model = XGBRegressor()\n",
    "best_xgb_model.load_model('stage1_xgb_model_{}.json'.format(str(instrument_choice)))"
   ]
  },
  {
   "cell_type": "code",
   "execution_count": 71,
   "metadata": {},
   "outputs": [
    {
     "ename": "AttributeError",
     "evalue": "type object 'XGBRegressor' has no attribute '__version__'",
     "output_type": "error",
     "traceback": [
      "\u001b[0;31m---------------------------------------------------------------------------\u001b[0m",
      "\u001b[0;31mAttributeError\u001b[0m                            Traceback (most recent call last)",
      "\u001b[0;32m/tmp/ipykernel_140197/2103684426.py\u001b[0m in \u001b[0;36m<module>\u001b[0;34m\u001b[0m\n\u001b[1;32m      1\u001b[0m \u001b[0;32mfrom\u001b[0m \u001b[0mxgboost\u001b[0m \u001b[0;32mimport\u001b[0m \u001b[0mXGBRegressor\u001b[0m\u001b[0;34m\u001b[0m\u001b[0;34m\u001b[0m\u001b[0m\n\u001b[1;32m      2\u001b[0m \u001b[0;31m# from google.colab import drive\u001b[0m\u001b[0;34m\u001b[0m\u001b[0;34m\u001b[0m\u001b[0m\n\u001b[0;32m----> 3\u001b[0;31m \u001b[0mXGBRegressor\u001b[0m\u001b[0;34m.\u001b[0m\u001b[0m__version__\u001b[0m\u001b[0;34m\u001b[0m\u001b[0;34m\u001b[0m\u001b[0m\n\u001b[0m\u001b[1;32m      4\u001b[0m \u001b[0;31m# drive.mount('/content/drive')\u001b[0m\u001b[0;34m\u001b[0m\u001b[0;34m\u001b[0m\u001b[0m\n\u001b[1;32m      5\u001b[0m \u001b[0;31m# file_path = '/content/drive/MyDrive/capstone_fire/models/stage1_xgb/'\u001b[0m\u001b[0;34m\u001b[0m\u001b[0;34m\u001b[0m\u001b[0m\n",
      "\u001b[0;31mAttributeError\u001b[0m: type object 'XGBRegressor' has no attribute '__version__'"
     ]
    }
   ],
   "source": [
    "from xgboost import XGBRegressor\n",
    "# from google.colab import drive\n",
    "XGBRegressor.__version__\n",
    "# drive.mount('/content/drive')\n",
    "# file_path = '/content/drive/MyDrive/capstone_fire/models/stage1_xgb/'\n",
    "\n",
    "instruments = ['ins_1_no_bin_raw', 'ins_2_add_acres_raw','ins_3_norms', 'ins_4_add_acres_norms', 'ins_5_norm_bins_acres','ins_6_bins_raw']\n",
    "instrument_choice = instruments[4]\n",
    "\n",
    "best_xgb_model = XGBRegressor()\n",
    "best_xgb_model.load_model('stage1_xgb_model_{}.json'.format(str(instrument_choice)))"
   ]
  },
  {
   "cell_type": "markdown",
   "metadata": {
    "id": "29iNYibVj_2Y"
   },
   "source": [
    "#### 5a. Built-in"
   ]
  },
  {
   "cell_type": "code",
   "execution_count": 23,
   "metadata": {
    "id": "AruFv07ezD_o",
    "tags": []
   },
   "outputs": [],
   "source": [
    "feature_category_dict = {'year_trend':'year', \n",
    "                         's_elevation_difference':'elevation'}  #check if need to remove elevation\n",
    "\n",
    "for i in list(mth_ohc_labels): \n",
    "  feature_category_dict[i]='month'\n",
    "\n",
    "for i in list(zc_ohc_labels): \n",
    "  feature_category_dict[i]='geography'\n",
    "\n",
    "for i in ['ins_5_norm_bins_acres','ins_6_bins_raw']:\n",
    "  feature_category_dict[i]='instrument'\n",
    "\n",
    "for i in ['total_population','households_count','percent_pop_age_under_5', 'percent_pop_age_5to9', 'percent_pop_age_10to14','percent_pop_age_15to19_new']:\n",
    "  feature_category_dict[i]='population'\n",
    "\n",
    "for i in ['mean_income_per_household','median_income_per_household','percent_high_school_grad_new','percent_bach_deg_grad_new']:\n",
    "  feature_category_dict[i]='social.status'\n",
    "\n",
    "for i in ['percent_pop_female_age_under_5', 'percent_pop_female_age_5to9','percent_pop_female_age_10to14', 'percent_pop_female_age_15to19_new']:\n",
    "  feature_category_dict[i]='gender'\n",
    "  "
   ]
  },
  {
   "cell_type": "code",
   "execution_count": 24,
   "metadata": {
    "id": "RZWg5fUxyoSS",
    "tags": []
   },
   "outputs": [
    {
     "data": {
      "text/plain": [
       "<AxesSubplot:title={'center':'importance'}, xlabel='[category]'>"
      ]
     },
     "execution_count": 24,
     "metadata": {},
     "output_type": "execute_result"
    },
    {
     "data": {
      "image/png": "[encoded data removed]",
      "text/plain": [
       "<Figure size 640x480 with 1 Axes>"
      ]
     },
     "metadata": {},
     "output_type": "display_data"
    }
   ],
   "source": [
    "importances = pd.DataFrame({'variable_name':best_xgb_model.get_booster().feature_names, 'importance':best_xgb_model.feature_importances_})\n",
    "importances['category'] = importances['variable_name'].apply(lambda x: feature_category_dict[x])\n",
    "importances[['category','importance']].boxplot(by='category')"
   ]
  },
  {
   "cell_type": "code",
   "execution_count": 25,
   "metadata": {
    "id": "GaGXxEO82MBo",
    "tags": []
   },
   "outputs": [
    {
     "data": {
      "text/plain": [
       "<AxesSubplot:ylabel='category'>"
      ]
     },
     "execution_count": 25,
     "metadata": {},
     "output_type": "execute_result"
    },
    {
     "data": {
      "image/png": "[encoded data removed]",
      "text/plain": [
       "<Figure size 640x480 with 1 Axes>"
      ]
     },
     "metadata": {},
     "output_type": "display_data"
    }
   ],
   "source": [
    "importances[['category','importance']].groupby('category').mean().sort_values(by='importance').plot(kind='barh')"
   ]
  },
  {
   "cell_type": "code",
   "execution_count": 26,
   "metadata": {
    "id": "bGzXTpCU3Bht",
    "tags": []
   },
   "outputs": [
    {
     "name": "stdout",
     "output_type": "stream",
     "text": [
      "Feature importances: \n"
     ]
    },
    {
     "data": {
      "text/plain": [
       "<AxesSubplot:>"
      ]
     },
     "execution_count": 26,
     "metadata": {},
     "output_type": "execute_result"
    },
    {
     "data": {
      "image/png": "[encoded data removed]",
      "text/plain": [
       "<Figure size 640x480 with 1 Axes>"
      ]
     },
     "metadata": {},
     "output_type": "display_data"
    }
   ],
   "source": [
    "print('Feature importances: ')\n",
    "feat_importances = pd.Series(best_xgb_model.feature_importances_, \n",
    "                             index=best_xgb_model.get_booster().feature_names)\n",
    "feat_importances.nlargest(10).sort_values().plot(kind='barh')"
   ]
  },
  {
   "cell_type": "code",
   "execution_count": 27,
   "metadata": {
    "id": "XmQHiMKW3Gz5",
    "tags": []
   },
   "outputs": [
    {
     "name": "stderr",
     "output_type": "stream",
     "text": [
      "/tmp/ipykernel_140197/813662553.py:3: SettingWithCopyWarning: \n",
      "A value is trying to be set on a copy of a slice from a DataFrame.\n",
      "Try using .loc[row_indexer,col_indexer] = value instead\n",
      "\n",
      "See the caveats in the documentation: https://pandas.pydata.org/pandas-docs/stable/user_guide/indexing.html#returning-a-view-versus-a-copy\n",
      "  geos['ZCTA'] = geos['variable_name'].apply(lambda x: x.split('_')[1]).astype(int)\n"
     ]
    }
   ],
   "source": [
    "#feature importance heat map by ZCTA\n",
    "geos = importances.loc[importances['category']=='geography']\n",
    "geos['ZCTA'] = geos['variable_name'].apply(lambda x: x.split('_')[1]).astype(int)\n",
    "\n",
    "#find a way to plot heat map"
   ]
  },
  {
   "cell_type": "markdown",
   "metadata": {
    "id": "Hh4MGwvqkD8I"
   },
   "source": [
    "#### 5b. Permutation importance"
   ]
  },
  {
   "cell_type": "markdown",
   "metadata": {
    "id": "yhXEXVsUkJ0F"
   },
   "source": [
    "#### 5c. SHAP"
   ]
  },
  {
   "cell_type": "markdown",
   "metadata": {},
   "source": [
    "## 6. Validation and Residual Plot"
   ]
  },
  {
   "cell_type": "code",
   "execution_count": 31,
   "metadata": {},
   "outputs": [],
   "source": [
    "X, y = create_stage1_data(instrument_var_name='ins_5_norm_bins_acres')"
   ]
  },
  {
   "cell_type": "code",
   "execution_count": null,
   "metadata": {},
   "outputs": [],
   "source": []
  },
  {
   "cell_type": "code",
   "execution_count": 32,
   "metadata": {},
   "outputs": [],
   "source": [
    "y_pred = best_xgb_model.predict(X)"
   ]
  },
  {
   "cell_type": "code",
   "execution_count": 47,
   "metadata": {},
   "outputs": [
    {
     "data": {
      "image/png": "[encoded data removed]",
      "text/plain": [
       "<Figure size 640x480 with 1 Axes>"
      ]
     },
     "metadata": {},
     "output_type": "display_data"
    }
   ],
   "source": [
    "plt.scatter(y[y>25],y_pred[y>25]);\n",
    "plt.show()"
   ]
  },
  {
   "cell_type": "code",
   "execution_count": 48,
   "metadata": {},
   "outputs": [],
   "source": [
    "resid = y-y_pred"
   ]
  },
  {
   "cell_type": "code",
   "execution_count": 44,
   "metadata": {},
   "outputs": [
    {
     "data": {
      "text/plain": [
       "array([10.29799  ,  9.972974 ,  7.2669487, ...,  6.305841 ,  8.52755  ,\n",
       "        6.4847045], dtype=float32)"
      ]
     },
     "execution_count": 44,
     "metadata": {},
     "output_type": "execute_result"
    }
   ],
   "source": [
    "y_pred[y>30]"
   ]
  },
  {
   "cell_type": "code",
   "execution_count": 53,
   "metadata": {},
   "outputs": [
    {
     "data": {
      "image/png": "[encoded data removed]",
      "text/plain": [
       "<Figure size 640x480 with 1 Axes>"
      ]
     },
     "metadata": {},
     "output_type": "display_data"
    }
   ],
   "source": [
    "plt.plot(X.index,y)\n",
    "plt.plot(X.index,y_pred)\n",
    "plt.xlabel('Measurement index')\n",
    "plt.ylabel('pm_2.5')\n",
    "plt.legend(['Actual PM 2.5','Predicted PM 2.5'])\n",
    "plt.show()"
   ]
  },
  {
   "cell_type": "code",
   "execution_count": 73,
   "metadata": {},
   "outputs": [
    {
     "name": "stdout",
     "output_type": "stream",
     "text": [
      "Hi Jordan, how are you\n"
     ]
    }
   ],
   "source": [
    "print('Hi Jordan, how are you')"
   ]
  }
 ],
 "metadata": {
  "accelerator": "GPU",
  "colab": {
   "provenance": [],
   "toc_visible": true
  },
  "gpuClass": "standard",
  "kernelspec": {
   "display_name": "Python 3 (ipykernel)",
   "language": "python",
   "name": "python3"
  },
  "language_info": {
   "codemirror_mode": {
    "name": "ipython",
    "version": 3
   },
   "file_extension": ".py",
   "mimetype": "text/x-python",
   "name": "python",
   "nbconvert_exporter": "python",
   "pygments_lexer": "ipython3",
   "version": "3.9.13"
  }
 },
 "nbformat": 4,
 "nbformat_minor": 4
}
