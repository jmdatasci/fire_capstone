{
 "cells": [
  {
   "cell_type": "markdown",
   "id": "4e9d16e7",
   "metadata": {},
   "source": [
    "# EDA for California fires perimeter data\n",
    "\n",
    "Modules: N/A <br>\n",
    "Author: Joy McGillin <br>\n",
    "Email: jmcgillin@berkeley.edu <br>\n",
    "Date created: February 12, 2023 <br>\n",
    "\n",
    "**Citations (data sources)**\n",
    "\n",
    "``CA fires data:``\n",
    "1. CAL Fire: Fire perimeters database: https://frap.fire.ca.gov/mapping/gis-data/\n",
    "2. Data dictionary: https://frap.fire.ca.gov/frap-projects/fire-perimeters/\n",
    "\n",
    "Layer 0 - accidental wildfires\n",
    "Layer 1 - prescribed fires \n",
    "Layer 2 - non-prescribed fire fuel reduction projects\n",
    "\n",
    "``Shapefiles for California ZIP codes (2010 census):``\n",
    "\n",
    "Note: CAL Fire also has county bounderies info (check it here: https://frap.fire.ca.gov/mapping/gis-data/)\n",
    "\n",
    "3. https://www.census.gov/cgi-bin/geo/shapefiles/index.php?year=2010&layergroup=ZIP+Code+Tabulation+Areas\n",
    "\n",
    "4. How to find if a point is inside a polygon:<br>\n",
    "https://stackoverflow.com/questions/43892459/check-if-geo-point-is-inside-or-outside-of-polygon <br>\n",
    "https://medium.com/analytics-vidhya/point-in-polygon-analysis-using-python-geopandas-27ea67888bff\n",
    "    \n",
    "**Citations (persons)**\n",
    "1. N/A\n",
    "\n",
    "**Preferred environment**\n",
    "1. Code written in Jupyter Notebooks"
   ]
  },
  {
   "cell_type": "markdown",
   "id": "4b2b60d4",
   "metadata": {},
   "source": [
    "### Step 1: Import packages"
   ]
  },
  {
   "cell_type": "code",
   "execution_count": 4,
   "id": "45aff08a",
   "metadata": {
    "tags": []
   },
   "outputs": [],
   "source": [
    "# standard\n",
    "import pandas as pd\n",
    "import numpy as np\n",
    "import os\n",
    "from datetime import datetime, timedelta\n",
    "from matplotlib import pyplot as plt\n",
    "from matplotlib.ticker import FuncFormatter\n",
    "import matplotlib.dates as mdates\n",
    "\n",
    "\n",
    "# geospatial\n",
    "import geopandas as gpd\n",
    "import shapely\n",
    "from shapely.geometry import Point\n",
    "from shapely.geometry import MultiPolygon\n",
    "from shapely.geometry import Polygon\n",
    "\n",
    "# ignore warnings\n",
    "import warnings\n",
    "warnings.filterwarnings(\n",
    "    'ignore'\n",
    ")"
   ]
  },
  {
   "cell_type": "markdown",
   "id": "82fb6498",
   "metadata": {},
   "source": [
    "### Step 2: Read cleaned data"
   ]
  },
  {
   "cell_type": "markdown",
   "id": "09cae7b7",
   "metadata": {},
   "source": [
    "```read data```"
   ]
  },
  {
   "cell_type": "code",
   "execution_count": 5,
   "id": "23b9bd32",
   "metadata": {
    "tags": []
   },
   "outputs": [],
   "source": [
    "# read in the cleaned data and set index\n",
    "data = pd.read_csv('fires_clean.csv', index_col='Index')"
   ]
  },
  {
   "cell_type": "code",
   "execution_count": 6,
   "id": "f49d02a2",
   "metadata": {
    "tags": []
   },
   "outputs": [
    {
     "data": {
      "text/plain": [
       "16212"
      ]
     },
     "execution_count": 6,
     "metadata": {},
     "output_type": "execute_result"
    }
   ],
   "source": [
    "len(data)"
   ]
  },
  {
   "cell_type": "code",
   "execution_count": 9,
   "id": "64f0ee70",
   "metadata": {
    "tags": []
   },
   "outputs": [
    {
     "data": {
      "text/plain": [
       "Index(['FIRE_NAME', 'ALARM_DATE', 'CONT_DATE', 'CAUSE', 'GIS_ACRES',\n",
       "       'Shape_Length', 'Shape_Area', 'geometry', 'fire_centroid', 'DURATION',\n",
       "       'FIRE_AREA_KM2'],\n",
       "      dtype='object')"
      ]
     },
     "execution_count": 9,
     "metadata": {},
     "output_type": "execute_result"
    }
   ],
   "source": [
    "data.columns"
   ]
  },
  {
   "cell_type": "code",
   "execution_count": 5,
   "id": "732eb210",
   "metadata": {
    "scrolled": true
   },
   "outputs": [
    {
     "data": {
      "text/html": [
       "<div>\n",
       "<style scoped>\n",
       "    .dataframe tbody tr th:only-of-type {\n",
       "        vertical-align: middle;\n",
       "    }\n",
       "\n",
       "    .dataframe tbody tr th {\n",
       "        vertical-align: top;\n",
       "    }\n",
       "\n",
       "    .dataframe thead th {\n",
       "        text-align: right;\n",
       "    }\n",
       "</style>\n",
       "<table border=\"1\" class=\"dataframe\">\n",
       "  <thead>\n",
       "    <tr style=\"text-align: right;\">\n",
       "      <th></th>\n",
       "      <th>CAUSE</th>\n",
       "      <th>GIS_ACRES</th>\n",
       "      <th>Shape_Length</th>\n",
       "      <th>Shape_Area</th>\n",
       "      <th>FIRE_AREA_KM2</th>\n",
       "    </tr>\n",
       "  </thead>\n",
       "  <tbody>\n",
       "    <tr>\n",
       "      <th>count</th>\n",
       "      <td>16203.000000</td>\n",
       "      <td>1.621200e+04</td>\n",
       "      <td>1.621200e+04</td>\n",
       "      <td>1.621200e+04</td>\n",
       "      <td>16212.000000</td>\n",
       "    </tr>\n",
       "    <tr>\n",
       "      <th>mean</th>\n",
       "      <td>8.620564</td>\n",
       "      <td>2.089187e+03</td>\n",
       "      <td>9.536973e+03</td>\n",
       "      <td>8.454641e+06</td>\n",
       "      <td>8.454642</td>\n",
       "    </tr>\n",
       "    <tr>\n",
       "      <th>std</th>\n",
       "      <td>5.332803</td>\n",
       "      <td>1.644505e+04</td>\n",
       "      <td>3.135563e+04</td>\n",
       "      <td>6.655077e+07</td>\n",
       "      <td>66.550766</td>\n",
       "    </tr>\n",
       "    <tr>\n",
       "      <th>min</th>\n",
       "      <td>1.000000</td>\n",
       "      <td>1.356887e-03</td>\n",
       "      <td>8.838431e+00</td>\n",
       "      <td>5.491126e+00</td>\n",
       "      <td>0.000005</td>\n",
       "    </tr>\n",
       "    <tr>\n",
       "      <th>25%</th>\n",
       "      <td>2.000000</td>\n",
       "      <td>2.016485e+01</td>\n",
       "      <td>1.403269e+03</td>\n",
       "      <td>8.160424e+04</td>\n",
       "      <td>0.081604</td>\n",
       "    </tr>\n",
       "    <tr>\n",
       "      <th>50%</th>\n",
       "      <td>9.000000</td>\n",
       "      <td>1.144252e+02</td>\n",
       "      <td>3.502184e+03</td>\n",
       "      <td>4.630622e+05</td>\n",
       "      <td>0.463062</td>\n",
       "    </tr>\n",
       "    <tr>\n",
       "      <th>75%</th>\n",
       "      <td>14.000000</td>\n",
       "      <td>5.787298e+02</td>\n",
       "      <td>8.165607e+03</td>\n",
       "      <td>2.342037e+06</td>\n",
       "      <td>2.342036</td>\n",
       "    </tr>\n",
       "    <tr>\n",
       "      <th>max</th>\n",
       "      <td>19.000000</td>\n",
       "      <td>1.032700e+06</td>\n",
       "      <td>1.533820e+06</td>\n",
       "      <td>4.179187e+09</td>\n",
       "      <td>4179.187059</td>\n",
       "    </tr>\n",
       "  </tbody>\n",
       "</table>\n",
       "</div>"
      ],
      "text/plain": [
       "              CAUSE     GIS_ACRES  Shape_Length    Shape_Area  FIRE_AREA_KM2\n",
       "count  16203.000000  1.621200e+04  1.621200e+04  1.621200e+04   16212.000000\n",
       "mean       8.620564  2.089187e+03  9.536973e+03  8.454641e+06       8.454642\n",
       "std        5.332803  1.644505e+04  3.135563e+04  6.655077e+07      66.550766\n",
       "min        1.000000  1.356887e-03  8.838431e+00  5.491126e+00       0.000005\n",
       "25%        2.000000  2.016485e+01  1.403269e+03  8.160424e+04       0.081604\n",
       "50%        9.000000  1.144252e+02  3.502184e+03  4.630622e+05       0.463062\n",
       "75%       14.000000  5.787298e+02  8.165607e+03  2.342037e+06       2.342036\n",
       "max       19.000000  1.032700e+06  1.533820e+06  4.179187e+09    4179.187059"
      ]
     },
     "execution_count": 5,
     "metadata": {},
     "output_type": "execute_result"
    }
   ],
   "source": [
    "data.describe()"
   ]
  },
  {
   "cell_type": "code",
   "execution_count": 6,
   "id": "0b12f371",
   "metadata": {},
   "outputs": [
    {
     "name": "stdout",
     "output_type": "stream",
     "text": [
      "FIRE_NAME          98\n",
      "ALARM_DATE          0\n",
      "CONT_DATE        7247\n",
      "CAUSE               9\n",
      "GIS_ACRES           0\n",
      "Shape_Length        0\n",
      "Shape_Area          0\n",
      "geometry            0\n",
      "fire_centroid       0\n",
      "DURATION         7247\n",
      "FIRE_AREA_KM2       0\n",
      "dtype: int64\n"
     ]
    }
   ],
   "source": [
    "print(data.isnull().sum())"
   ]
  },
  {
   "cell_type": "code",
   "execution_count": 7,
   "id": "c19e8887",
   "metadata": {},
   "outputs": [],
   "source": [
    "data['GIS_ACRES'] = data['GIS_ACRES'].astype(int)"
   ]
  },
  {
   "cell_type": "code",
   "execution_count": 8,
   "id": "97a7a88b",
   "metadata": {},
   "outputs": [
    {
     "data": {
      "text/plain": [
       "FIRE_NAME        15551\n",
       "ALARM_DATE       15649\n",
       "CONT_DATE         8612\n",
       "CAUSE            15641\n",
       "GIS_ACRES        15649\n",
       "Shape_Length     15649\n",
       "Shape_Area       15649\n",
       "geometry         15649\n",
       "fire_centroid    15649\n",
       "DURATION          8612\n",
       "FIRE_AREA_KM2    15649\n",
       "dtype: int64"
      ]
     },
     "execution_count": 8,
     "metadata": {},
     "output_type": "execute_result"
    }
   ],
   "source": [
    "data[data['GIS_ACRES'] < 10000].count()"
   ]
  },
  {
   "cell_type": "code",
   "execution_count": 9,
   "id": "c0da691a",
   "metadata": {
    "scrolled": true
   },
   "outputs": [
    {
     "data": {
      "text/plain": [
       "FIRE_NAME        563\n",
       "ALARM_DATE       563\n",
       "CONT_DATE        353\n",
       "CAUSE            562\n",
       "GIS_ACRES        563\n",
       "Shape_Length     563\n",
       "Shape_Area       563\n",
       "geometry         563\n",
       "fire_centroid    563\n",
       "DURATION         353\n",
       "FIRE_AREA_KM2    563\n",
       "dtype: int64"
      ]
     },
     "execution_count": 9,
     "metadata": {},
     "output_type": "execute_result"
    }
   ],
   "source": [
    "data[data['GIS_ACRES'] > 10000].count()"
   ]
  },
  {
   "cell_type": "code",
   "execution_count": 10,
   "id": "173dc393",
   "metadata": {},
   "outputs": [
    {
     "data": {
      "text/plain": [
       "16212"
      ]
     },
     "execution_count": 10,
     "metadata": {},
     "output_type": "execute_result"
    }
   ],
   "source": [
    "15649+563"
   ]
  },
  {
   "cell_type": "code",
   "execution_count": 11,
   "id": "7a5e03ac",
   "metadata": {},
   "outputs": [
    {
     "data": {
      "text/plain": [
       "0.9652726375524303"
      ]
     },
     "execution_count": 11,
     "metadata": {},
     "output_type": "execute_result"
    }
   ],
   "source": [
    "15649/16212"
   ]
  },
  {
   "cell_type": "code",
   "execution_count": 12,
   "id": "5c40466a",
   "metadata": {},
   "outputs": [
    {
     "data": {
      "text/plain": [
       "<Axes: ylabel='Density'>"
      ]
     },
     "execution_count": 12,
     "metadata": {},
     "output_type": "execute_result"
    },
    {
     "data": {
      "image/png": "[encoded data removed]",
      "text/plain": [
       "<Figure size 640x480 with 1 Axes>"
      ]
     },
     "metadata": {},
     "output_type": "display_data"
    }
   ],
   "source": [
    "data['GIS_ACRES'].plot.kde()"
   ]
  },
  {
   "cell_type": "code",
   "execution_count": 13,
   "id": "68a58fc2",
   "metadata": {},
   "outputs": [
    {
     "data": {
      "text/plain": [
       "<Axes: ylabel='Frequency'>"
      ]
     },
     "execution_count": 13,
     "metadata": {},
     "output_type": "execute_result"
    },
    {
     "data": {
      "image/png": "[encoded data removed]",
      "text/plain": [
       "<Figure size 640x480 with 1 Axes>"
      ]
     },
     "metadata": {},
     "output_type": "display_data"
    }
   ],
   "source": [
    "data['GIS_ACRES'].plot.hist(bins=1000)"
   ]
  },
  {
   "cell_type": "markdown",
   "id": "561f84a9",
   "metadata": {},
   "source": [
    "Over 96% of the wildfires (in the cleaned dataset) burned less than 10,000 acres. 4% of ~563 were greater than 10,000 acres. The largest was the August Complex Fire in 2020 in which 1 million acres burned."
   ]
  },
  {
   "cell_type": "code",
   "execution_count": 14,
   "id": "15ac27e8",
   "metadata": {},
   "outputs": [
    {
     "data": {
      "text/plain": [
       "(0.0, 1000.0)"
      ]
     },
     "execution_count": 14,
     "metadata": {},
     "output_type": "execute_result"
    },
    {
     "data": {
      "image/png": "[encoded data removed]",
      "text/plain": [
       "<Figure size 640x480 with 1 Axes>"
      ]
     },
     "metadata": {},
     "output_type": "display_data"
    }
   ],
   "source": [
    "# plot fires less than 50,000 acres and cut off y-axis at 1,000\n",
    "bulkacres = data[data.GIS_ACRES < 50000]\n",
    "bulkacres['GIS_ACRES'].plot.hist(bins=20)\n",
    "# plt.xlim(0,1000)\n",
    "plt.ylim(0,1000)"
   ]
  },
  {
   "cell_type": "code",
   "execution_count": 15,
   "id": "77004ba7",
   "metadata": {},
   "outputs": [
    {
     "data": {
      "text/plain": [
       "<Axes: >"
      ]
     },
     "execution_count": 15,
     "metadata": {},
     "output_type": "execute_result"
    },
    {
     "data": {
      "image/png": "[encoded data removed]",
      "text/plain": [
       "<Figure size 640x480 with 1 Axes>"
      ]
     },
     "metadata": {},
     "output_type": "display_data"
    }
   ],
   "source": [
    "data.boxplot(column='GIS_ACRES')"
   ]
  },
  {
   "cell_type": "code",
   "execution_count": 16,
   "id": "6080de4d",
   "metadata": {},
   "outputs": [
    {
     "data": {
      "image/png": "[encoded data removed]",
      "text/plain": [
       "<Figure size 640x480 with 1 Axes>"
      ]
     },
     "metadata": {},
     "output_type": "display_data"
    }
   ],
   "source": [
    "data['GIS_ACRES'].plot(kind='box');"
   ]
  },
  {
   "cell_type": "code",
   "execution_count": 17,
   "id": "ba42ce24",
   "metadata": {},
   "outputs": [
    {
     "data": {
      "text/html": [
       "<div>\n",
       "<style scoped>\n",
       "    .dataframe tbody tr th:only-of-type {\n",
       "        vertical-align: middle;\n",
       "    }\n",
       "\n",
       "    .dataframe tbody tr th {\n",
       "        vertical-align: top;\n",
       "    }\n",
       "\n",
       "    .dataframe thead th {\n",
       "        text-align: right;\n",
       "    }\n",
       "</style>\n",
       "<table border=\"1\" class=\"dataframe\">\n",
       "  <thead>\n",
       "    <tr style=\"text-align: right;\">\n",
       "      <th></th>\n",
       "      <th>FIRE_NAME</th>\n",
       "      <th>ALARM_DATE</th>\n",
       "      <th>CONT_DATE</th>\n",
       "      <th>CAUSE</th>\n",
       "      <th>GIS_ACRES</th>\n",
       "      <th>Shape_Length</th>\n",
       "      <th>Shape_Area</th>\n",
       "      <th>geometry</th>\n",
       "      <th>fire_centroid</th>\n",
       "      <th>DURATION</th>\n",
       "      <th>FIRE_AREA_KM2</th>\n",
       "    </tr>\n",
       "    <tr>\n",
       "      <th>Index</th>\n",
       "      <th></th>\n",
       "      <th></th>\n",
       "      <th></th>\n",
       "      <th></th>\n",
       "      <th></th>\n",
       "      <th></th>\n",
       "      <th></th>\n",
       "      <th></th>\n",
       "      <th></th>\n",
       "      <th></th>\n",
       "      <th></th>\n",
       "    </tr>\n",
       "  </thead>\n",
       "  <tbody>\n",
       "    <tr>\n",
       "      <th>293</th>\n",
       "      <td>AUGUST COMPLEX</td>\n",
       "      <td>2020-08-16</td>\n",
       "      <td>2020-11-11</td>\n",
       "      <td>1.0</td>\n",
       "      <td>1032699</td>\n",
       "      <td>1.298407e+06</td>\n",
       "      <td>4.179187e+09</td>\n",
       "      <td>MULTIPOLYGON (((-122.7090616521175 39.37204016...</td>\n",
       "      <td>POINT (-122.9964731720786 39.93085451936486)</td>\n",
       "      <td>87 days</td>\n",
       "      <td>4179.187059</td>\n",
       "    </tr>\n",
       "    <tr>\n",
       "      <th>21674</th>\n",
       "      <td>DIXIE</td>\n",
       "      <td>2021-07-14</td>\n",
       "      <td>2021-10-25</td>\n",
       "      <td>11.0</td>\n",
       "      <td>963405</td>\n",
       "      <td>1.533820e+06</td>\n",
       "      <td>3.898763e+09</td>\n",
       "      <td>MULTIPOLYGON (((-121.0890189068281 40.32210161...</td>\n",
       "      <td>POINT (-121.0466714946169 40.21009648505633)</td>\n",
       "      <td>103 days</td>\n",
       "      <td>3898.763521</td>\n",
       "    </tr>\n",
       "    <tr>\n",
       "      <th>20799</th>\n",
       "      <td>RANCH</td>\n",
       "      <td>2018-07-27</td>\n",
       "      <td>2018-09-19</td>\n",
       "      <td>9.0</td>\n",
       "      <td>410202</td>\n",
       "      <td>3.482277e+05</td>\n",
       "      <td>1.660030e+09</td>\n",
       "      <td>MULTIPOLYGON (((-122.7106315635918 39.04618378...</td>\n",
       "      <td>POINT (-122.7679707721423 39.28698639985332)</td>\n",
       "      <td>54 days</td>\n",
       "      <td>1660.030464</td>\n",
       "    </tr>\n",
       "    <tr>\n",
       "      <th>174</th>\n",
       "      <td>SCU COMPLEX</td>\n",
       "      <td>2020-08-16</td>\n",
       "      <td>2020-09-11</td>\n",
       "      <td>1.0</td>\n",
       "      <td>396824</td>\n",
       "      <td>5.033547e+05</td>\n",
       "      <td>1.605892e+09</td>\n",
       "      <td>MULTIPOLYGON (((-121.8648589465547 37.51711837...</td>\n",
       "      <td>POINT (-121.4470483655014 37.35125711385501)</td>\n",
       "      <td>26 days</td>\n",
       "      <td>1605.891596</td>\n",
       "    </tr>\n",
       "    <tr>\n",
       "      <th>241</th>\n",
       "      <td>CREEK</td>\n",
       "      <td>2020-09-04</td>\n",
       "      <td>2020-12-24</td>\n",
       "      <td>14.0</td>\n",
       "      <td>379842</td>\n",
       "      <td>8.180878e+05</td>\n",
       "      <td>1.537168e+09</td>\n",
       "      <td>MULTIPOLYGON (((-119.1813091887084 37.09619618...</td>\n",
       "      <td>POINT (-119.2763146671175 37.33267100441917)</td>\n",
       "      <td>111 days</td>\n",
       "      <td>1537.167716</td>\n",
       "    </tr>\n",
       "    <tr>\n",
       "      <th>...</th>\n",
       "      <td>...</td>\n",
       "      <td>...</td>\n",
       "      <td>...</td>\n",
       "      <td>...</td>\n",
       "      <td>...</td>\n",
       "      <td>...</td>\n",
       "      <td>...</td>\n",
       "      <td>...</td>\n",
       "      <td>...</td>\n",
       "      <td>...</td>\n",
       "      <td>...</td>\n",
       "    </tr>\n",
       "    <tr>\n",
       "      <th>6345</th>\n",
       "      <td>TENAJA</td>\n",
       "      <td>1975-09-22</td>\n",
       "      <td>1975-09-26</td>\n",
       "      <td>2.0</td>\n",
       "      <td>10161</td>\n",
       "      <td>3.417882e+04</td>\n",
       "      <td>4.112256e+07</td>\n",
       "      <td>MULTIPOLYGON (((-117.3311430227495 33.49988206...</td>\n",
       "      <td>POINT (-117.3444274948232 33.46506551291561)</td>\n",
       "      <td>4 days</td>\n",
       "      <td>41.122562</td>\n",
       "    </tr>\n",
       "    <tr>\n",
       "      <th>8415</th>\n",
       "      <td>RUBY FIRE</td>\n",
       "      <td>1987-09-20</td>\n",
       "      <td>1987-09-20</td>\n",
       "      <td>9.0</td>\n",
       "      <td>10092</td>\n",
       "      <td>4.172441e+04</td>\n",
       "      <td>4.084457e+07</td>\n",
       "      <td>MULTIPOLYGON (((-118.5738982425678 34.62737141...</td>\n",
       "      <td>POINT (-118.5554567854358 34.59410153280944)</td>\n",
       "      <td>0 days</td>\n",
       "      <td>40.844575</td>\n",
       "    </tr>\n",
       "    <tr>\n",
       "      <th>14313</th>\n",
       "      <td>BEE #2</td>\n",
       "      <td>1996-06-29</td>\n",
       "      <td>1996-07-06</td>\n",
       "      <td>9.0</td>\n",
       "      <td>10046</td>\n",
       "      <td>3.783034e+04</td>\n",
       "      <td>4.065623e+07</td>\n",
       "      <td>MULTIPOLYGON (((-116.8325673057113 33.78216809...</td>\n",
       "      <td>POINT (-116.8153864207838 33.75744665731662)</td>\n",
       "      <td>7 days</td>\n",
       "      <td>40.656228</td>\n",
       "    </tr>\n",
       "    <tr>\n",
       "      <th>20958</th>\n",
       "      <td>MARIA</td>\n",
       "      <td>2019-10-31</td>\n",
       "      <td>2019-11-05</td>\n",
       "      <td>14.0</td>\n",
       "      <td>10042</td>\n",
       "      <td>5.448051e+04</td>\n",
       "      <td>4.064039e+07</td>\n",
       "      <td>MULTIPOLYGON (((-119.0902912072875 34.29419492...</td>\n",
       "      <td>POINT (-119.0566737352367 34.31423939182543)</td>\n",
       "      <td>5 days</td>\n",
       "      <td>40.640386</td>\n",
       "    </tr>\n",
       "    <tr>\n",
       "      <th>6762</th>\n",
       "      <td>THUNDER</td>\n",
       "      <td>1980-11-24</td>\n",
       "      <td>1980-12-02</td>\n",
       "      <td>2.0</td>\n",
       "      <td>10008</td>\n",
       "      <td>3.492056e+04</td>\n",
       "      <td>4.050342e+07</td>\n",
       "      <td>MULTIPOLYGON (((-117.601484143192 34.253827753...</td>\n",
       "      <td>POINT (-117.6399413096108 34.24098489105429)</td>\n",
       "      <td>8 days</td>\n",
       "      <td>40.503410</td>\n",
       "    </tr>\n",
       "  </tbody>\n",
       "</table>\n",
       "<p>563 rows × 11 columns</p>\n",
       "</div>"
      ],
      "text/plain": [
       "            FIRE_NAME  ALARM_DATE   CONT_DATE  CAUSE  GIS_ACRES  Shape_Length  \\\n",
       "Index                                                                           \n",
       "293    AUGUST COMPLEX  2020-08-16  2020-11-11    1.0    1032699  1.298407e+06   \n",
       "21674           DIXIE  2021-07-14  2021-10-25   11.0     963405  1.533820e+06   \n",
       "20799           RANCH  2018-07-27  2018-09-19    9.0     410202  3.482277e+05   \n",
       "174       SCU COMPLEX  2020-08-16  2020-09-11    1.0     396824  5.033547e+05   \n",
       "241             CREEK  2020-09-04  2020-12-24   14.0     379842  8.180878e+05   \n",
       "...               ...         ...         ...    ...        ...           ...   \n",
       "6345           TENAJA  1975-09-22  1975-09-26    2.0      10161  3.417882e+04   \n",
       "8415        RUBY FIRE  1987-09-20  1987-09-20    9.0      10092  4.172441e+04   \n",
       "14313          BEE #2  1996-06-29  1996-07-06    9.0      10046  3.783034e+04   \n",
       "20958           MARIA  2019-10-31  2019-11-05   14.0      10042  5.448051e+04   \n",
       "6762          THUNDER  1980-11-24  1980-12-02    2.0      10008  3.492056e+04   \n",
       "\n",
       "         Shape_Area                                           geometry  \\\n",
       "Index                                                                    \n",
       "293    4.179187e+09  MULTIPOLYGON (((-122.7090616521175 39.37204016...   \n",
       "21674  3.898763e+09  MULTIPOLYGON (((-121.0890189068281 40.32210161...   \n",
       "20799  1.660030e+09  MULTIPOLYGON (((-122.7106315635918 39.04618378...   \n",
       "174    1.605892e+09  MULTIPOLYGON (((-121.8648589465547 37.51711837...   \n",
       "241    1.537168e+09  MULTIPOLYGON (((-119.1813091887084 37.09619618...   \n",
       "...             ...                                                ...   \n",
       "6345   4.112256e+07  MULTIPOLYGON (((-117.3311430227495 33.49988206...   \n",
       "8415   4.084457e+07  MULTIPOLYGON (((-118.5738982425678 34.62737141...   \n",
       "14313  4.065623e+07  MULTIPOLYGON (((-116.8325673057113 33.78216809...   \n",
       "20958  4.064039e+07  MULTIPOLYGON (((-119.0902912072875 34.29419492...   \n",
       "6762   4.050342e+07  MULTIPOLYGON (((-117.601484143192 34.253827753...   \n",
       "\n",
       "                                      fire_centroid  DURATION  FIRE_AREA_KM2  \n",
       "Index                                                                         \n",
       "293    POINT (-122.9964731720786 39.93085451936486)   87 days    4179.187059  \n",
       "21674  POINT (-121.0466714946169 40.21009648505633)  103 days    3898.763521  \n",
       "20799  POINT (-122.7679707721423 39.28698639985332)   54 days    1660.030464  \n",
       "174    POINT (-121.4470483655014 37.35125711385501)   26 days    1605.891596  \n",
       "241    POINT (-119.2763146671175 37.33267100441917)  111 days    1537.167716  \n",
       "...                                             ...       ...            ...  \n",
       "6345   POINT (-117.3444274948232 33.46506551291561)    4 days      41.122562  \n",
       "8415   POINT (-118.5554567854358 34.59410153280944)    0 days      40.844575  \n",
       "14313  POINT (-116.8153864207838 33.75744665731662)    7 days      40.656228  \n",
       "20958  POINT (-119.0566737352367 34.31423939182543)    5 days      40.640386  \n",
       "6762   POINT (-117.6399413096108 34.24098489105429)    8 days      40.503410  \n",
       "\n",
       "[563 rows x 11 columns]"
      ]
     },
     "execution_count": 17,
     "metadata": {},
     "output_type": "execute_result"
    }
   ],
   "source": [
    "outliers = data[data.GIS_ACRES > 10000]\n",
    "outliers.sort_values(by=['GIS_ACRES'], ascending=False)"
   ]
  },
  {
   "cell_type": "markdown",
   "id": "40156a83",
   "metadata": {},
   "source": [
    "Only 563 fires greater than burned over 10,000 acres"
   ]
  },
  {
   "cell_type": "markdown",
   "id": "789bda7d",
   "metadata": {},
   "source": [
    "The \"August Complex Fire\" burned in Northern California. It was 38 separate fires started by lightning strikes. https://en.wikipedia.org/wiki/August_Complex_fire"
   ]
  },
  {
   "cell_type": "code",
   "execution_count": 18,
   "id": "04453762",
   "metadata": {},
   "outputs": [],
   "source": [
    "data['DURATION']=pd.to_timedelta(data['DURATION'])"
   ]
  },
  {
   "cell_type": "code",
   "execution_count": 19,
   "id": "5d141d55",
   "metadata": {},
   "outputs": [
    {
     "name": "stdout",
     "output_type": "stream",
     "text": [
      "<class 'pandas.core.frame.DataFrame'>\n",
      "Int64Index: 16212 entries, 0 to 21687\n",
      "Data columns (total 11 columns):\n",
      " #   Column         Non-Null Count  Dtype          \n",
      "---  ------         --------------  -----          \n",
      " 0   FIRE_NAME      16114 non-null  object         \n",
      " 1   ALARM_DATE     16212 non-null  object         \n",
      " 2   CONT_DATE      8965 non-null   object         \n",
      " 3   CAUSE          16203 non-null  float64        \n",
      " 4   GIS_ACRES      16212 non-null  int32          \n",
      " 5   Shape_Length   16212 non-null  float64        \n",
      " 6   Shape_Area     16212 non-null  float64        \n",
      " 7   geometry       16212 non-null  object         \n",
      " 8   fire_centroid  16212 non-null  object         \n",
      " 9   DURATION       8965 non-null   timedelta64[ns]\n",
      " 10  FIRE_AREA_KM2  16212 non-null  float64        \n",
      "dtypes: float64(4), int32(1), object(5), timedelta64[ns](1)\n",
      "memory usage: 1.4+ MB\n"
     ]
    }
   ],
   "source": [
    "data.info()"
   ]
  },
  {
   "cell_type": "code",
   "execution_count": 20,
   "id": "32006a62",
   "metadata": {},
   "outputs": [
    {
     "data": {
      "image/png": "[encoded data removed]",
      "text/plain": [
       "<Figure size 640x480 with 1 Axes>"
      ]
     },
     "metadata": {},
     "output_type": "display_data"
    }
   ],
   "source": [
    "# timedeltas for DURATION are in nanoseconds; divide to convert to days\n",
    "y = data['DURATION'].transform(lambda x: x.days)\n",
    "fig, ax = plt.subplots()\n",
    "ax.scatter(x=data[\"GIS_ACRES\"],y=y)\n",
    "ax.set_ylabel(\"Duration of Fire in Days\")\n",
    "ax.set_xlabel(\"Acres Burned in 1000s of Acres\")\n",
    "ax.xaxis.set_major_formatter(FuncFormatter(lambda x, pos: int(x/1000)))"
   ]
  },
  {
   "cell_type": "code",
   "execution_count": 21,
   "id": "d2801dbf",
   "metadata": {},
   "outputs": [],
   "source": [
    "# drop fires with no CONT_DATE\n",
    "data_small = data[~(data.CONT_DATE.isna())]"
   ]
  },
  {
   "cell_type": "code",
   "execution_count": 22,
   "id": "5cd3fa9a",
   "metadata": {},
   "outputs": [
    {
     "data": {
      "image/png": "[encoded data removed]",
      "text/plain": [
       "<Figure size 640x480 with 1 Axes>"
      ]
     },
     "metadata": {},
     "output_type": "display_data"
    }
   ],
   "source": [
    "y = data_small['DURATION'].transform(lambda x: x.days)\n",
    "fig, ax = plt.subplots()\n",
    "ax.scatter(x=data_small[\"GIS_ACRES\"],y=y)\n",
    "ax.set_ylabel(\"Duration of Fire in Days\")\n",
    "ax.set_xlabel(\"Acres Burned in 1000s of Acres\")\n",
    "ax.xaxis.set_major_formatter(FuncFormatter(lambda x, pos: int(x/1000)))"
   ]
  },
  {
   "cell_type": "code",
   "execution_count": 23,
   "id": "a61fd13e",
   "metadata": {},
   "outputs": [
    {
     "name": "stdout",
     "output_type": "stream",
     "text": [
      "16212\n",
      "8965\n"
     ]
    }
   ],
   "source": [
    "print(len(data))\n",
    "print(len(data_small))"
   ]
  },
  {
   "cell_type": "code",
   "execution_count": 24,
   "id": "2e3431eb",
   "metadata": {},
   "outputs": [
    {
     "data": {
      "text/plain": [
       "FIRE_NAME                                                 SOUTHERN\n",
       "ALARM_DATE                                              2021-05-02\n",
       "CONT_DATE                                               2022-05-06\n",
       "CAUSE                                                          2.0\n",
       "GIS_ACRES                                                     5365\n",
       "Shape_Length                                          46656.289969\n",
       "Shape_Area                                         21715034.722717\n",
       "geometry         MULTIPOLYGON (((-116.44421817649 32.9676144702...\n",
       "fire_centroid         POINT (-116.4661834909014 32.98161109590223)\n",
       "DURATION                                         369 days 00:00:00\n",
       "FIRE_AREA_KM2                                            21.715034\n",
       "Name: 21426, dtype: object"
      ]
     },
     "execution_count": 24,
     "metadata": {},
     "output_type": "execute_result"
    }
   ],
   "source": [
    "# data.drop(21451, inplace=True)\n",
    "duration_outlier_index = data.DURATION.idxmax()\n",
    "data.loc[duration_outlier_index]"
   ]
  },
  {
   "cell_type": "code",
   "execution_count": null,
   "id": "86421e12",
   "metadata": {},
   "outputs": [],
   "source": []
  },
  {
   "cell_type": "code",
   "execution_count": null,
   "id": "091c0152-a6bc-4fb3-95ec-ee4757e415e5",
   "metadata": {},
   "outputs": [],
   "source": []
  },
  {
   "cell_type": "code",
   "execution_count": null,
   "id": "3897f3ee-40a9-45e8-a993-da99486f1140",
   "metadata": {},
   "outputs": [],
   "source": []
  },
  {
   "cell_type": "code",
   "execution_count": null,
   "id": "4fe6f6ce-e13f-4c67-b645-53ed7ce2e774",
   "metadata": {},
   "outputs": [],
   "source": []
  }
 ],
 "metadata": {
  "kernelspec": {
   "display_name": "Python 3 (ipykernel)",
   "language": "python",
   "name": "python3"
  },
  "language_info": {
   "codemirror_mode": {
    "name": "ipython",
    "version": 3
   },
   "file_extension": ".py",
   "mimetype": "text/x-python",
   "name": "python",
   "nbconvert_exporter": "python",
   "pygments_lexer": "ipython3",
   "version": "3.10.9"
  }
 },
 "nbformat": 4,
 "nbformat_minor": 5
}
