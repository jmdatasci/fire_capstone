{
  "cells": [
    {
      "cell_type": "markdown",
      "id": "4e9d16e7",
      "metadata": {
        "id": "4e9d16e7"
      },
      "source": [
        "# EDA for Dropped California Fire Data\n",
        "\n",
        "Modules: N/A <br>\n",
        "Author: Joy McGillin <br>\n",
        "Email: jmcgillin@berkeley.edu <br>\n",
        "Date created: February 12, 2023 <br>\n",
        "\n",
        "**Citations (data sources)**\n",
        "\n",
        "``CA fires data:``\n",
        "1. CAL Fire: Fire perimeters database: https://frap.fire.ca.gov/mapping/gis-data/\n",
        "2. Data dictionary: https://frap.fire.ca.gov/frap-projects/fire-perimeters/\n",
        "\n",
        "Layer 0 - accidental wildfires\n",
        "Layer 1 - prescribed fires \n",
        "Layer 2 - non-prescribed fire fuel reduction projects\n",
        "\n",
        "``Shapefiles for California ZIP codes (2010 census):``\n",
        "\n",
        "Note: CAL Fire also has county bounderies info (check it here: https://frap.fire.ca.gov/mapping/gis-data/)\n",
        "\n",
        "3. https://www.census.gov/cgi-bin/geo/shapefiles/index.php?year=2010&layergroup=ZIP+Code+Tabulation+Areas\n",
        "\n",
        "4. How to find if a point is inside a polygon:<br>\n",
        "https://stackoverflow.com/questions/43892459/check-if-geo-point-is-inside-or-outside-of-polygon <br>\n",
        "https://medium.com/analytics-vidhya/point-in-polygon-analysis-using-python-geopandas-27ea67888bff\n",
        "    \n",
        "**Citations (persons)**\n",
        "1. N/A\n",
        "\n",
        "**Preferred environment**\n",
        "1. Code written in Jupyter Notebooks"
      ]
    },
    {
      "cell_type": "markdown",
      "id": "4b2b60d4",
      "metadata": {
        "id": "4b2b60d4"
      },
      "source": [
        "### Step 1: Import packages"
      ]
    },
    {
      "cell_type": "code",
      "execution_count": 1,
      "id": "45aff08a",
      "metadata": {
        "colab": {
          "base_uri": "https://localhost:8080/",
          "height": 387
        },
        "id": "45aff08a",
        "outputId": "e624e5b6-47f9-4512-b288-fa32a79bd8d3"
      },
      "outputs": [
        {
          "output_type": "error",
          "ename": "ModuleNotFoundError",
          "evalue": "ignored",
          "traceback": [
            "\u001b[0;31m---------------------------------------------------------------------------\u001b[0m",
            "\u001b[0;31mModuleNotFoundError\u001b[0m                       Traceback (most recent call last)",
            "\u001b[0;32m<ipython-input-1-80285d17e136>\u001b[0m in \u001b[0;36m<module>\u001b[0;34m\u001b[0m\n\u001b[1;32m     10\u001b[0m \u001b[0;34m\u001b[0m\u001b[0m\n\u001b[1;32m     11\u001b[0m \u001b[0;31m# geospatial\u001b[0m\u001b[0;34m\u001b[0m\u001b[0;34m\u001b[0m\u001b[0;34m\u001b[0m\u001b[0m\n\u001b[0;32m---> 12\u001b[0;31m \u001b[0;32mimport\u001b[0m \u001b[0mgeopandas\u001b[0m \u001b[0;32mas\u001b[0m \u001b[0mgpd\u001b[0m\u001b[0;34m\u001b[0m\u001b[0;34m\u001b[0m\u001b[0m\n\u001b[0m\u001b[1;32m     13\u001b[0m \u001b[0;32mimport\u001b[0m \u001b[0mshapely\u001b[0m\u001b[0;34m\u001b[0m\u001b[0;34m\u001b[0m\u001b[0m\n\u001b[1;32m     14\u001b[0m \u001b[0;32mfrom\u001b[0m \u001b[0mshapely\u001b[0m\u001b[0;34m.\u001b[0m\u001b[0mgeometry\u001b[0m \u001b[0;32mimport\u001b[0m \u001b[0mPoint\u001b[0m\u001b[0;34m\u001b[0m\u001b[0;34m\u001b[0m\u001b[0m\n",
            "\u001b[0;31mModuleNotFoundError\u001b[0m: No module named 'geopandas'",
            "",
            "\u001b[0;31m---------------------------------------------------------------------------\u001b[0;32m\nNOTE: If your import is failing due to a missing package, you can\nmanually install dependencies using either !pip or !apt.\n\nTo view examples of installing some common dependencies, click the\n\"Open Examples\" button below.\n\u001b[0;31m---------------------------------------------------------------------------\u001b[0m\n"
          ],
          "errorDetails": {
            "actions": [
              {
                "action": "open_url",
                "actionText": "Open Examples",
                "url": "/notebooks/snippets/importing_libraries.ipynb"
              }
            ]
          }
        }
      ],
      "source": [
        "# standard\n",
        "import pandas as pd\n",
        "import numpy as np\n",
        "import os\n",
        "from datetime import datetime, timedelta\n",
        "from matplotlib import pyplot as plt\n",
        "from matplotlib.ticker import FuncFormatter\n",
        "import matplotlib.dates as mdates\n",
        "\n",
        "\n",
        "# geospatial\n",
        "import geopandas as gpd\n",
        "import shapely\n",
        "from shapely.geometry import Point\n",
        "from shapely.geometry import MultiPolygon\n",
        "from shapely.geometry import Polygon\n",
        "\n",
        "# ignore warnings\n",
        "import warnings\n",
        "warnings.filterwarnings(\n",
        "    'ignore'\n",
        ")"
      ]
    },
    {
      "cell_type": "markdown",
      "id": "82fb6498",
      "metadata": {
        "id": "82fb6498"
      },
      "source": [
        "### Step 2: Read cleaned data"
      ]
    },
    {
      "cell_type": "markdown",
      "id": "09cae7b7",
      "metadata": {
        "id": "09cae7b7"
      },
      "source": [
        "```read data```"
      ]
    },
    {
      "cell_type": "code",
      "execution_count": 2,
      "id": "23b9bd32",
      "metadata": {
        "colab": {
          "base_uri": "https://localhost:8080/",
          "height": 338
        },
        "id": "23b9bd32",
        "outputId": "97aa0d63-c413-4bda-8967-650cddd81ec5"
      },
      "outputs": [
        {
          "output_type": "error",
          "ename": "FileNotFoundError",
          "evalue": "ignored",
          "traceback": [
            "\u001b[0;31m---------------------------------------------------------------------------\u001b[0m",
            "\u001b[0;31mFileNotFoundError\u001b[0m                         Traceback (most recent call last)",
            "\u001b[0;32m<ipython-input-2-b011ba87374e>\u001b[0m in \u001b[0;36m<module>\u001b[0;34m\u001b[0m\n\u001b[1;32m      1\u001b[0m \u001b[0;31m# read in the cleaned data and set index\u001b[0m\u001b[0;34m\u001b[0m\u001b[0;34m\u001b[0m\u001b[0;34m\u001b[0m\u001b[0m\n\u001b[0;32m----> 2\u001b[0;31m \u001b[0mdata\u001b[0m \u001b[0;34m=\u001b[0m \u001b[0mpd\u001b[0m\u001b[0;34m.\u001b[0m\u001b[0mread_csv\u001b[0m\u001b[0;34m(\u001b[0m\u001b[0;34m'fires_dropped.csv'\u001b[0m\u001b[0;34m,\u001b[0m \u001b[0mindex_col\u001b[0m\u001b[0;34m=\u001b[0m\u001b[0;34m'Index'\u001b[0m\u001b[0;34m)\u001b[0m\u001b[0;34m\u001b[0m\u001b[0;34m\u001b[0m\u001b[0m\n\u001b[0m",
            "\u001b[0;32m/usr/local/lib/python3.8/dist-packages/pandas/util/_decorators.py\u001b[0m in \u001b[0;36mwrapper\u001b[0;34m(*args, **kwargs)\u001b[0m\n\u001b[1;32m    309\u001b[0m                     \u001b[0mstacklevel\u001b[0m\u001b[0;34m=\u001b[0m\u001b[0mstacklevel\u001b[0m\u001b[0;34m,\u001b[0m\u001b[0;34m\u001b[0m\u001b[0;34m\u001b[0m\u001b[0m\n\u001b[1;32m    310\u001b[0m                 )\n\u001b[0;32m--> 311\u001b[0;31m             \u001b[0;32mreturn\u001b[0m \u001b[0mfunc\u001b[0m\u001b[0;34m(\u001b[0m\u001b[0;34m*\u001b[0m\u001b[0margs\u001b[0m\u001b[0;34m,\u001b[0m \u001b[0;34m**\u001b[0m\u001b[0mkwargs\u001b[0m\u001b[0;34m)\u001b[0m\u001b[0;34m\u001b[0m\u001b[0;34m\u001b[0m\u001b[0m\n\u001b[0m\u001b[1;32m    312\u001b[0m \u001b[0;34m\u001b[0m\u001b[0m\n\u001b[1;32m    313\u001b[0m         \u001b[0;32mreturn\u001b[0m \u001b[0mwrapper\u001b[0m\u001b[0;34m\u001b[0m\u001b[0;34m\u001b[0m\u001b[0m\n",
            "\u001b[0;32m/usr/local/lib/python3.8/dist-packages/pandas/io/parsers/readers.py\u001b[0m in \u001b[0;36mread_csv\u001b[0;34m(filepath_or_buffer, sep, delimiter, header, names, index_col, usecols, squeeze, prefix, mangle_dupe_cols, dtype, engine, converters, true_values, false_values, skipinitialspace, skiprows, skipfooter, nrows, na_values, keep_default_na, na_filter, verbose, skip_blank_lines, parse_dates, infer_datetime_format, keep_date_col, date_parser, dayfirst, cache_dates, iterator, chunksize, compression, thousands, decimal, lineterminator, quotechar, quoting, doublequote, escapechar, comment, encoding, encoding_errors, dialect, error_bad_lines, warn_bad_lines, on_bad_lines, delim_whitespace, low_memory, memory_map, float_precision, storage_options)\u001b[0m\n\u001b[1;32m    584\u001b[0m     \u001b[0mkwds\u001b[0m\u001b[0;34m.\u001b[0m\u001b[0mupdate\u001b[0m\u001b[0;34m(\u001b[0m\u001b[0mkwds_defaults\u001b[0m\u001b[0;34m)\u001b[0m\u001b[0;34m\u001b[0m\u001b[0;34m\u001b[0m\u001b[0m\n\u001b[1;32m    585\u001b[0m \u001b[0;34m\u001b[0m\u001b[0m\n\u001b[0;32m--> 586\u001b[0;31m     \u001b[0;32mreturn\u001b[0m \u001b[0m_read\u001b[0m\u001b[0;34m(\u001b[0m\u001b[0mfilepath_or_buffer\u001b[0m\u001b[0;34m,\u001b[0m \u001b[0mkwds\u001b[0m\u001b[0;34m)\u001b[0m\u001b[0;34m\u001b[0m\u001b[0;34m\u001b[0m\u001b[0m\n\u001b[0m\u001b[1;32m    587\u001b[0m \u001b[0;34m\u001b[0m\u001b[0m\n\u001b[1;32m    588\u001b[0m \u001b[0;34m\u001b[0m\u001b[0m\n",
            "\u001b[0;32m/usr/local/lib/python3.8/dist-packages/pandas/io/parsers/readers.py\u001b[0m in \u001b[0;36m_read\u001b[0;34m(filepath_or_buffer, kwds)\u001b[0m\n\u001b[1;32m    480\u001b[0m \u001b[0;34m\u001b[0m\u001b[0m\n\u001b[1;32m    481\u001b[0m     \u001b[0;31m# Create the parser.\u001b[0m\u001b[0;34m\u001b[0m\u001b[0;34m\u001b[0m\u001b[0;34m\u001b[0m\u001b[0m\n\u001b[0;32m--> 482\u001b[0;31m     \u001b[0mparser\u001b[0m \u001b[0;34m=\u001b[0m \u001b[0mTextFileReader\u001b[0m\u001b[0;34m(\u001b[0m\u001b[0mfilepath_or_buffer\u001b[0m\u001b[0;34m,\u001b[0m \u001b[0;34m**\u001b[0m\u001b[0mkwds\u001b[0m\u001b[0;34m)\u001b[0m\u001b[0;34m\u001b[0m\u001b[0;34m\u001b[0m\u001b[0m\n\u001b[0m\u001b[1;32m    483\u001b[0m \u001b[0;34m\u001b[0m\u001b[0m\n\u001b[1;32m    484\u001b[0m     \u001b[0;32mif\u001b[0m \u001b[0mchunksize\u001b[0m \u001b[0;32mor\u001b[0m \u001b[0miterator\u001b[0m\u001b[0;34m:\u001b[0m\u001b[0;34m\u001b[0m\u001b[0;34m\u001b[0m\u001b[0m\n",
            "\u001b[0;32m/usr/local/lib/python3.8/dist-packages/pandas/io/parsers/readers.py\u001b[0m in \u001b[0;36m__init__\u001b[0;34m(self, f, engine, **kwds)\u001b[0m\n\u001b[1;32m    809\u001b[0m             \u001b[0mself\u001b[0m\u001b[0;34m.\u001b[0m\u001b[0moptions\u001b[0m\u001b[0;34m[\u001b[0m\u001b[0;34m\"has_index_names\"\u001b[0m\u001b[0;34m]\u001b[0m \u001b[0;34m=\u001b[0m \u001b[0mkwds\u001b[0m\u001b[0;34m[\u001b[0m\u001b[0;34m\"has_index_names\"\u001b[0m\u001b[0;34m]\u001b[0m\u001b[0;34m\u001b[0m\u001b[0;34m\u001b[0m\u001b[0m\n\u001b[1;32m    810\u001b[0m \u001b[0;34m\u001b[0m\u001b[0m\n\u001b[0;32m--> 811\u001b[0;31m         \u001b[0mself\u001b[0m\u001b[0;34m.\u001b[0m\u001b[0m_engine\u001b[0m \u001b[0;34m=\u001b[0m \u001b[0mself\u001b[0m\u001b[0;34m.\u001b[0m\u001b[0m_make_engine\u001b[0m\u001b[0;34m(\u001b[0m\u001b[0mself\u001b[0m\u001b[0;34m.\u001b[0m\u001b[0mengine\u001b[0m\u001b[0;34m)\u001b[0m\u001b[0;34m\u001b[0m\u001b[0;34m\u001b[0m\u001b[0m\n\u001b[0m\u001b[1;32m    812\u001b[0m \u001b[0;34m\u001b[0m\u001b[0m\n\u001b[1;32m    813\u001b[0m     \u001b[0;32mdef\u001b[0m \u001b[0mclose\u001b[0m\u001b[0;34m(\u001b[0m\u001b[0mself\u001b[0m\u001b[0;34m)\u001b[0m\u001b[0;34m:\u001b[0m\u001b[0;34m\u001b[0m\u001b[0;34m\u001b[0m\u001b[0m\n",
            "\u001b[0;32m/usr/local/lib/python3.8/dist-packages/pandas/io/parsers/readers.py\u001b[0m in \u001b[0;36m_make_engine\u001b[0;34m(self, engine)\u001b[0m\n\u001b[1;32m   1038\u001b[0m             )\n\u001b[1;32m   1039\u001b[0m         \u001b[0;31m# error: Too many arguments for \"ParserBase\"\u001b[0m\u001b[0;34m\u001b[0m\u001b[0;34m\u001b[0m\u001b[0;34m\u001b[0m\u001b[0m\n\u001b[0;32m-> 1040\u001b[0;31m         \u001b[0;32mreturn\u001b[0m \u001b[0mmapping\u001b[0m\u001b[0;34m[\u001b[0m\u001b[0mengine\u001b[0m\u001b[0;34m]\u001b[0m\u001b[0;34m(\u001b[0m\u001b[0mself\u001b[0m\u001b[0;34m.\u001b[0m\u001b[0mf\u001b[0m\u001b[0;34m,\u001b[0m \u001b[0;34m**\u001b[0m\u001b[0mself\u001b[0m\u001b[0;34m.\u001b[0m\u001b[0moptions\u001b[0m\u001b[0;34m)\u001b[0m  \u001b[0;31m# type: ignore[call-arg]\u001b[0m\u001b[0;34m\u001b[0m\u001b[0;34m\u001b[0m\u001b[0m\n\u001b[0m\u001b[1;32m   1041\u001b[0m \u001b[0;34m\u001b[0m\u001b[0m\n\u001b[1;32m   1042\u001b[0m     \u001b[0;32mdef\u001b[0m \u001b[0m_failover_to_python\u001b[0m\u001b[0;34m(\u001b[0m\u001b[0mself\u001b[0m\u001b[0;34m)\u001b[0m\u001b[0;34m:\u001b[0m\u001b[0;34m\u001b[0m\u001b[0;34m\u001b[0m\u001b[0m\n",
            "\u001b[0;32m/usr/local/lib/python3.8/dist-packages/pandas/io/parsers/c_parser_wrapper.py\u001b[0m in \u001b[0;36m__init__\u001b[0;34m(self, src, **kwds)\u001b[0m\n\u001b[1;32m     49\u001b[0m \u001b[0;34m\u001b[0m\u001b[0m\n\u001b[1;32m     50\u001b[0m         \u001b[0;31m# open handles\u001b[0m\u001b[0;34m\u001b[0m\u001b[0;34m\u001b[0m\u001b[0;34m\u001b[0m\u001b[0m\n\u001b[0;32m---> 51\u001b[0;31m         \u001b[0mself\u001b[0m\u001b[0;34m.\u001b[0m\u001b[0m_open_handles\u001b[0m\u001b[0;34m(\u001b[0m\u001b[0msrc\u001b[0m\u001b[0;34m,\u001b[0m \u001b[0mkwds\u001b[0m\u001b[0;34m)\u001b[0m\u001b[0;34m\u001b[0m\u001b[0;34m\u001b[0m\u001b[0m\n\u001b[0m\u001b[1;32m     52\u001b[0m         \u001b[0;32massert\u001b[0m \u001b[0mself\u001b[0m\u001b[0;34m.\u001b[0m\u001b[0mhandles\u001b[0m \u001b[0;32mis\u001b[0m \u001b[0;32mnot\u001b[0m \u001b[0;32mNone\u001b[0m\u001b[0;34m\u001b[0m\u001b[0;34m\u001b[0m\u001b[0m\n\u001b[1;32m     53\u001b[0m \u001b[0;34m\u001b[0m\u001b[0m\n",
            "\u001b[0;32m/usr/local/lib/python3.8/dist-packages/pandas/io/parsers/base_parser.py\u001b[0m in \u001b[0;36m_open_handles\u001b[0;34m(self, src, kwds)\u001b[0m\n\u001b[1;32m    220\u001b[0m         \u001b[0mLet\u001b[0m \u001b[0mthe\u001b[0m \u001b[0mreaders\u001b[0m \u001b[0mopen\u001b[0m \u001b[0mIOHandles\u001b[0m \u001b[0mafter\u001b[0m \u001b[0mthey\u001b[0m \u001b[0mare\u001b[0m \u001b[0mdone\u001b[0m \u001b[0;32mwith\u001b[0m \u001b[0mtheir\u001b[0m \u001b[0mpotential\u001b[0m \u001b[0mraises\u001b[0m\u001b[0;34m.\u001b[0m\u001b[0;34m\u001b[0m\u001b[0;34m\u001b[0m\u001b[0m\n\u001b[1;32m    221\u001b[0m         \"\"\"\n\u001b[0;32m--> 222\u001b[0;31m         self.handles = get_handle(\n\u001b[0m\u001b[1;32m    223\u001b[0m             \u001b[0msrc\u001b[0m\u001b[0;34m,\u001b[0m\u001b[0;34m\u001b[0m\u001b[0;34m\u001b[0m\u001b[0m\n\u001b[1;32m    224\u001b[0m             \u001b[0;34m\"r\"\u001b[0m\u001b[0;34m,\u001b[0m\u001b[0;34m\u001b[0m\u001b[0;34m\u001b[0m\u001b[0m\n",
            "\u001b[0;32m/usr/local/lib/python3.8/dist-packages/pandas/io/common.py\u001b[0m in \u001b[0;36mget_handle\u001b[0;34m(path_or_buf, mode, encoding, compression, memory_map, is_text, errors, storage_options)\u001b[0m\n\u001b[1;32m    700\u001b[0m         \u001b[0;32mif\u001b[0m \u001b[0mioargs\u001b[0m\u001b[0;34m.\u001b[0m\u001b[0mencoding\u001b[0m \u001b[0;32mand\u001b[0m \u001b[0;34m\"b\"\u001b[0m \u001b[0;32mnot\u001b[0m \u001b[0;32min\u001b[0m \u001b[0mioargs\u001b[0m\u001b[0;34m.\u001b[0m\u001b[0mmode\u001b[0m\u001b[0;34m:\u001b[0m\u001b[0;34m\u001b[0m\u001b[0;34m\u001b[0m\u001b[0m\n\u001b[1;32m    701\u001b[0m             \u001b[0;31m# Encoding\u001b[0m\u001b[0;34m\u001b[0m\u001b[0;34m\u001b[0m\u001b[0;34m\u001b[0m\u001b[0m\n\u001b[0;32m--> 702\u001b[0;31m             handle = open(\n\u001b[0m\u001b[1;32m    703\u001b[0m                 \u001b[0mhandle\u001b[0m\u001b[0;34m,\u001b[0m\u001b[0;34m\u001b[0m\u001b[0;34m\u001b[0m\u001b[0m\n\u001b[1;32m    704\u001b[0m                 \u001b[0mioargs\u001b[0m\u001b[0;34m.\u001b[0m\u001b[0mmode\u001b[0m\u001b[0;34m,\u001b[0m\u001b[0;34m\u001b[0m\u001b[0;34m\u001b[0m\u001b[0m\n",
            "\u001b[0;31mFileNotFoundError\u001b[0m: [Errno 2] No such file or directory: 'fires_dropped.csv'"
          ]
        }
      ],
      "source": [
        "# read in the cleaned data and set index\n",
        "data = pd.read_csv('fires_dropped.csv', index_col='Index')"
      ]
    },
    {
      "cell_type": "code",
      "execution_count": null,
      "id": "f49d02a2",
      "metadata": {
        "id": "f49d02a2"
      },
      "outputs": [],
      "source": [
        "data.shape"
      ]
    },
    {
      "cell_type": "code",
      "execution_count": null,
      "id": "64f0ee70",
      "metadata": {
        "id": "64f0ee70"
      },
      "outputs": [],
      "source": [
        "data.sample(5)"
      ]
    },
    {
      "cell_type": "code",
      "execution_count": null,
      "id": "732eb210",
      "metadata": {
        "scrolled": true,
        "id": "732eb210",
        "outputId": "bcfc613d-c83b-476e-8d50-f0a7f5f1dc05"
      },
      "outputs": [
        {
          "data": {
            "text/html": [
              "<div>\n",
              "<style scoped>\n",
              "    .dataframe tbody tr th:only-of-type {\n",
              "        vertical-align: middle;\n",
              "    }\n",
              "\n",
              "    .dataframe tbody tr th {\n",
              "        vertical-align: top;\n",
              "    }\n",
              "\n",
              "    .dataframe thead th {\n",
              "        text-align: right;\n",
              "    }\n",
              "</style>\n",
              "<table border=\"1\" class=\"dataframe\">\n",
              "  <thead>\n",
              "    <tr style=\"text-align: right;\">\n",
              "      <th></th>\n",
              "      <th>CAUSE</th>\n",
              "      <th>GIS_ACRES</th>\n",
              "      <th>Shape_Length</th>\n",
              "      <th>Shape_Area</th>\n",
              "    </tr>\n",
              "  </thead>\n",
              "  <tbody>\n",
              "    <tr>\n",
              "      <th>count</th>\n",
              "      <td>12660.000000</td>\n",
              "      <td>12681.000000</td>\n",
              "      <td>12681.000000</td>\n",
              "      <td>1.268100e+04</td>\n",
              "    </tr>\n",
              "    <tr>\n",
              "      <th>mean</th>\n",
              "      <td>10.960190</td>\n",
              "      <td>1485.206300</td>\n",
              "      <td>8514.019007</td>\n",
              "      <td>6.010417e+06</td>\n",
              "    </tr>\n",
              "    <tr>\n",
              "      <th>std</th>\n",
              "      <td>4.492174</td>\n",
              "      <td>5872.519452</td>\n",
              "      <td>13442.210862</td>\n",
              "      <td>2.376524e+07</td>\n",
              "    </tr>\n",
              "    <tr>\n",
              "      <th>min</th>\n",
              "      <td>1.000000</td>\n",
              "      <td>0.023172</td>\n",
              "      <td>38.844481</td>\n",
              "      <td>9.377280e+01</td>\n",
              "    </tr>\n",
              "    <tr>\n",
              "      <th>25%</th>\n",
              "      <td>9.000000</td>\n",
              "      <td>68.165733</td>\n",
              "      <td>2350.052302</td>\n",
              "      <td>2.758569e+05</td>\n",
              "    </tr>\n",
              "    <tr>\n",
              "      <th>50%</th>\n",
              "      <td>14.000000</td>\n",
              "      <td>272.298706</td>\n",
              "      <td>4869.561822</td>\n",
              "      <td>1.101954e+06</td>\n",
              "    </tr>\n",
              "    <tr>\n",
              "      <th>75%</th>\n",
              "      <td>14.000000</td>\n",
              "      <td>803.123474</td>\n",
              "      <td>9170.611742</td>\n",
              "      <td>3.250125e+06</td>\n",
              "    </tr>\n",
              "    <tr>\n",
              "      <th>max</th>\n",
              "      <td>18.000000</td>\n",
              "      <td>219999.281250</td>\n",
              "      <td>422177.849037</td>\n",
              "      <td>8.903055e+08</td>\n",
              "    </tr>\n",
              "  </tbody>\n",
              "</table>\n",
              "</div>"
            ],
            "text/plain": [
              "              CAUSE      GIS_ACRES   Shape_Length    Shape_Area\n",
              "count  12660.000000   12681.000000   12681.000000  1.268100e+04\n",
              "mean      10.960190    1485.206300    8514.019007  6.010417e+06\n",
              "std        4.492174    5872.519452   13442.210862  2.376524e+07\n",
              "min        1.000000       0.023172      38.844481  9.377280e+01\n",
              "25%        9.000000      68.165733    2350.052302  2.758569e+05\n",
              "50%       14.000000     272.298706    4869.561822  1.101954e+06\n",
              "75%       14.000000     803.123474    9170.611742  3.250125e+06\n",
              "max       18.000000  219999.281250  422177.849037  8.903055e+08"
            ]
          },
          "execution_count": 10,
          "metadata": {},
          "output_type": "execute_result"
        }
      ],
      "source": [
        "data.describe()"
      ]
    },
    {
      "cell_type": "code",
      "execution_count": null,
      "id": "0b12f371",
      "metadata": {
        "id": "0b12f371",
        "outputId": "0a17ac46-b26b-4286-cbaa-f4a04fb10362"
      },
      "outputs": [
        {
          "name": "stdout",
          "output_type": "stream",
          "text": [
            "FIRE_NAME         102\n",
            "ALARM_DATE       5361\n",
            "CONT_DATE       12666\n",
            "CAUSE              21\n",
            "GIS_ACRES           0\n",
            "Shape_Length        0\n",
            "Shape_Area          0\n",
            "geometry            0\n",
            "dtype: int64\n"
          ]
        }
      ],
      "source": [
        "print(data.isnull().sum())"
      ]
    },
    {
      "cell_type": "code",
      "execution_count": null,
      "id": "c19e8887",
      "metadata": {
        "id": "c19e8887"
      },
      "outputs": [],
      "source": [
        "data['GIS_ACRES'] = data['GIS_ACRES'].astype(int)"
      ]
    },
    {
      "cell_type": "code",
      "execution_count": null,
      "id": "97a7a88b",
      "metadata": {
        "id": "97a7a88b",
        "outputId": "e71c7dd8-9052-454e-d0f7-401595bf27aa"
      },
      "outputs": [
        {
          "data": {
            "text/plain": [
              "FIRE_NAME       9867\n",
              "ALARM_DATE      5774\n",
              "CONT_DATE         11\n",
              "CAUSE           9944\n",
              "GIS_ACRES       9962\n",
              "Shape_Length    9962\n",
              "Shape_Area      9962\n",
              "geometry        9962\n",
              "dtype: int64"
            ]
          },
          "execution_count": 29,
          "metadata": {},
          "output_type": "execute_result"
        }
      ],
      "source": [
        "data[data['GIS_ACRES'] < 1000].count()"
      ]
    },
    {
      "cell_type": "code",
      "execution_count": null,
      "id": "c0da691a",
      "metadata": {
        "scrolled": true,
        "id": "c0da691a",
        "outputId": "87965143-a36e-4b38-efd9-834fee39a074"
      },
      "outputs": [
        {
          "data": {
            "text/plain": [
              "FIRE_NAME       2710\n",
              "ALARM_DATE      1545\n",
              "CONT_DATE          4\n",
              "CAUSE           2714\n",
              "GIS_ACRES       2717\n",
              "Shape_Length    2717\n",
              "Shape_Area      2717\n",
              "geometry        2717\n",
              "dtype: int64"
            ]
          },
          "execution_count": 30,
          "metadata": {},
          "output_type": "execute_result"
        }
      ],
      "source": [
        "data[data['GIS_ACRES'] > 1000].count()"
      ]
    },
    {
      "cell_type": "code",
      "execution_count": null,
      "id": "876014b7",
      "metadata": {
        "id": "876014b7",
        "outputId": "4f7ddc3a-e26e-4697-8c4e-151d45748cd2"
      },
      "outputs": [
        {
          "data": {
            "text/plain": [
              "0.8743001340588281"
            ]
          },
          "execution_count": 28,
          "metadata": {},
          "output_type": "execute_result"
        }
      ],
      "source": [
        "11087/(11087+1594)"
      ]
    },
    {
      "cell_type": "code",
      "execution_count": null,
      "id": "97fa54fc",
      "metadata": {
        "id": "97fa54fc",
        "outputId": "352dbe62-89d5-44ad-d43e-f45e1479a148"
      },
      "outputs": [
        {
          "data": {
            "text/plain": [
              "0.7857086521019008"
            ]
          },
          "execution_count": 31,
          "metadata": {},
          "output_type": "execute_result"
        }
      ],
      "source": [
        "9962/(9962+2717)"
      ]
    },
    {
      "cell_type": "markdown",
      "id": "a9acd857",
      "metadata": {
        "id": "a9acd857"
      },
      "source": [
        "87% of the dropped wildfires were relatively small, burning less than 2000 acres. 79% burned less than 1000 acres."
      ]
    },
    {
      "cell_type": "code",
      "execution_count": null,
      "id": "5c40466a",
      "metadata": {
        "id": "5c40466a",
        "outputId": "73af96a3-e4dd-4da0-d1a6-4eb1e9f67746"
      },
      "outputs": [
        {
          "data": {
            "text/plain": [
              "<AxesSubplot: ylabel='Density'>"
            ]
          },
          "execution_count": 32,
          "metadata": {},
          "output_type": "execute_result"
        },
        {
          "data": {
            "image/png": "[encoded data removed]",
            "text/plain": [
              "<Figure size 640x480 with 1 Axes>"
            ]
          },
          "metadata": {},
          "output_type": "display_data"
        }
      ],
      "source": [
        "data['GIS_ACRES'].plot.kde()"
      ]
    },
    {
      "cell_type": "code",
      "execution_count": null,
      "id": "68a58fc2",
      "metadata": {
        "id": "68a58fc2",
        "outputId": "c7ee15df-acce-4fe3-de65-3ed2a674ba80"
      },
      "outputs": [
        {
          "data": {
            "text/plain": [
              "<AxesSubplot: ylabel='Frequency'>"
            ]
          },
          "execution_count": 33,
          "metadata": {},
          "output_type": "execute_result"
        },
        {
          "data": {
            "image/png": "[encoded data removed]",
            "text/plain": [
              "<Figure size 640x480 with 1 Axes>"
            ]
          },
          "metadata": {},
          "output_type": "display_data"
        }
      ],
      "source": [
        "data['GIS_ACRES'].plot.hist(bins=1000)"
      ]
    },
    {
      "cell_type": "code",
      "execution_count": null,
      "id": "15ac27e8",
      "metadata": {
        "id": "15ac27e8",
        "outputId": "232ffa8f-6eea-4dce-bfff-faf32988266d"
      },
      "outputs": [
        {
          "data": {
            "text/plain": [
              "(0.0, 10000.0)"
            ]
          },
          "execution_count": 25,
          "metadata": {},
          "output_type": "execute_result"
        },
        {
          "data": {
            "image/png": "[encoded data removed]",
            "text/plain": [
              "<Figure size 640x480 with 1 Axes>"
            ]
          },
          "metadata": {},
          "output_type": "display_data"
        }
      ],
      "source": [
        "# plot fires less than 50,000 acres \n",
        "bulkacres = data[data.GIS_ACRES < 20000]\n",
        "bulkacres['GIS_ACRES'].plot.hist(bins=20)\n",
        "plt.xlim(0,10000)\n",
        "#plt.ylim(0,1000)"
      ]
    },
    {
      "cell_type": "code",
      "execution_count": null,
      "id": "77004ba7",
      "metadata": {
        "id": "77004ba7",
        "outputId": "4b7180fb-d2c4-4c2d-b90e-9de2db0bb0a5"
      },
      "outputs": [
        {
          "data": {
            "text/plain": [
              "<AxesSubplot: >"
            ]
          },
          "execution_count": 34,
          "metadata": {},
          "output_type": "execute_result"
        },
        {
          "data": {
            "image/png": "[encoded data removed]",
            "text/plain": [
              "<Figure size 640x480 with 1 Axes>"
            ]
          },
          "metadata": {},
          "output_type": "display_data"
        }
      ],
      "source": [
        "data.boxplot(column='GIS_ACRES')"
      ]
    },
    {
      "cell_type": "code",
      "execution_count": null,
      "id": "6080de4d",
      "metadata": {
        "id": "6080de4d",
        "outputId": "82a90b43-47bb-4a39-ebed-876046df746a"
      },
      "outputs": [
        {
          "data": {
            "image/png": "[encoded data removed]",
            "text/plain": [
              "<Figure size 640x480 with 1 Axes>"
            ]
          },
          "metadata": {},
          "output_type": "display_data"
        }
      ],
      "source": [
        "data['GIS_ACRES'].plot(kind='box');"
      ]
    },
    {
      "cell_type": "code",
      "execution_count": null,
      "id": "ba42ce24",
      "metadata": {
        "id": "ba42ce24",
        "outputId": "fba87b48-a004-485a-f2ed-ebca8d23ddc2"
      },
      "outputs": [
        {
          "data": {
            "text/html": [
              "<div>\n",
              "<style scoped>\n",
              "    .dataframe tbody tr th:only-of-type {\n",
              "        vertical-align: middle;\n",
              "    }\n",
              "\n",
              "    .dataframe tbody tr th {\n",
              "        vertical-align: top;\n",
              "    }\n",
              "\n",
              "    .dataframe thead th {\n",
              "        text-align: right;\n",
              "    }\n",
              "</style>\n",
              "<table border=\"1\" class=\"dataframe\">\n",
              "  <thead>\n",
              "    <tr style=\"text-align: right;\">\n",
              "      <th></th>\n",
              "      <th>FIRE_NAME</th>\n",
              "      <th>ALARM_DATE</th>\n",
              "      <th>CONT_DATE</th>\n",
              "      <th>CAUSE</th>\n",
              "      <th>GIS_ACRES</th>\n",
              "      <th>Shape_Length</th>\n",
              "      <th>Shape_Area</th>\n",
              "      <th>geometry</th>\n",
              "    </tr>\n",
              "    <tr>\n",
              "      <th>Index</th>\n",
              "      <th></th>\n",
              "      <th></th>\n",
              "      <th></th>\n",
              "      <th></th>\n",
              "      <th></th>\n",
              "      <th></th>\n",
              "      <th></th>\n",
              "      <th></th>\n",
              "    </tr>\n",
              "  </thead>\n",
              "  <tbody>\n",
              "    <tr>\n",
              "      <th>10877</th>\n",
              "      <td>MATILIJA</td>\n",
              "      <td>1932-09-07T00:00:00</td>\n",
              "      <td>NaN</td>\n",
              "      <td>9.0</td>\n",
              "      <td>219999</td>\n",
              "      <td>186772.299449</td>\n",
              "      <td>8.903055e+08</td>\n",
              "      <td>MULTIPOLYGON (((63709.42760000005 -375856.8666...</td>\n",
              "    </tr>\n",
              "    <tr>\n",
              "      <th>9787</th>\n",
              "      <td>MARBLE-CONE</td>\n",
              "      <td>1977-08-01T00:00:00</td>\n",
              "      <td>NaN</td>\n",
              "      <td>9.0</td>\n",
              "      <td>173333</td>\n",
              "      <td>155413.869051</td>\n",
              "      <td>7.014556e+08</td>\n",
              "      <td>MULTIPOLYGON (((-147588.2274999991 -181490.779...</td>\n",
              "    </tr>\n",
              "    <tr>\n",
              "      <th>10684</th>\n",
              "      <td>GLASS MOUNTAIN</td>\n",
              "      <td>1910-07-13T00:00:00</td>\n",
              "      <td>NaN</td>\n",
              "      <td>1.0</td>\n",
              "      <td>146967</td>\n",
              "      <td>156400.195026</td>\n",
              "      <td>5.947566e+08</td>\n",
              "      <td>MULTIPOLYGON (((-126800.7558000013 368285.0678...</td>\n",
              "    </tr>\n",
              "    <tr>\n",
              "      <th>11102</th>\n",
              "      <td>CAMPBELL</td>\n",
              "      <td>1990-08-13T00:00:00</td>\n",
              "      <td>NaN</td>\n",
              "      <td>2.0</td>\n",
              "      <td>131504</td>\n",
              "      <td>116419.388456</td>\n",
              "      <td>5.321787e+08</td>\n",
              "      <td>MULTIPOLYGON (((-144997.8052999992 242012.8068...</td>\n",
              "    </tr>\n",
              "    <tr>\n",
              "      <th>8542</th>\n",
              "      <td>CLAMPITT FIRE</td>\n",
              "      <td>1970-09-25T00:00:00</td>\n",
              "      <td>NaN</td>\n",
              "      <td>11.0</td>\n",
              "      <td>115537</td>\n",
              "      <td>422177.849037</td>\n",
              "      <td>4.675634e+08</td>\n",
              "      <td>MULTIPOLYGON (((96735.14589999989 -410459.4325...</td>\n",
              "    </tr>\n",
              "    <tr>\n",
              "      <th>...</th>\n",
              "      <td>...</td>\n",
              "      <td>...</td>\n",
              "      <td>...</td>\n",
              "      <td>...</td>\n",
              "      <td>...</td>\n",
              "      <td>...</td>\n",
              "      <td>...</td>\n",
              "      <td>...</td>\n",
              "    </tr>\n",
              "    <tr>\n",
              "      <th>11333</th>\n",
              "      <td></td>\n",
              "      <td>NaN</td>\n",
              "      <td>NaN</td>\n",
              "      <td>9.0</td>\n",
              "      <td>10161</td>\n",
              "      <td>29660.269069</td>\n",
              "      <td>4.112208e+07</td>\n",
              "      <td>MULTIPOLYGON (((-19791.07239999995 -334028.599...</td>\n",
              "    </tr>\n",
              "    <tr>\n",
              "      <th>1940</th>\n",
              "      <td></td>\n",
              "      <td>NaN</td>\n",
              "      <td>NaN</td>\n",
              "      <td>14.0</td>\n",
              "      <td>10110</td>\n",
              "      <td>39027.058788</td>\n",
              "      <td>4.091477e+07</td>\n",
              "      <td>MULTIPOLYGON (((295350.4677000009 -474822.8097...</td>\n",
              "    </tr>\n",
              "    <tr>\n",
              "      <th>7081</th>\n",
              "      <td></td>\n",
              "      <td>NaN</td>\n",
              "      <td>NaN</td>\n",
              "      <td>14.0</td>\n",
              "      <td>10058</td>\n",
              "      <td>51653.656115</td>\n",
              "      <td>4.070362e+07</td>\n",
              "      <td>MULTIPOLYGON (((-36074.4748999998 60081.384099...</td>\n",
              "    </tr>\n",
              "    <tr>\n",
              "      <th>902</th>\n",
              "      <td></td>\n",
              "      <td>NaN</td>\n",
              "      <td>NaN</td>\n",
              "      <td>14.0</td>\n",
              "      <td>10054</td>\n",
              "      <td>24817.612484</td>\n",
              "      <td>4.069097e+07</td>\n",
              "      <td>MULTIPOLYGON (((-38666.621199999 -311387.36699...</td>\n",
              "    </tr>\n",
              "    <tr>\n",
              "      <th>5302</th>\n",
              "      <td>HAYSHED</td>\n",
              "      <td>NaN</td>\n",
              "      <td>NaN</td>\n",
              "      <td>2.0</td>\n",
              "      <td>10045</td>\n",
              "      <td>29097.505404</td>\n",
              "      <td>4.065180e+07</td>\n",
              "      <td>MULTIPOLYGON (((-267567.9201999996 197018.9115...</td>\n",
              "    </tr>\n",
              "  </tbody>\n",
              "</table>\n",
              "<p>378 rows × 8 columns</p>\n",
              "</div>"
            ],
            "text/plain": [
              "            FIRE_NAME           ALARM_DATE CONT_DATE  CAUSE  GIS_ACRES  \\\n",
              "Index                                                                    \n",
              "10877        MATILIJA  1932-09-07T00:00:00       NaN    9.0     219999   \n",
              "9787      MARBLE-CONE  1977-08-01T00:00:00       NaN    9.0     173333   \n",
              "10684  GLASS MOUNTAIN  1910-07-13T00:00:00       NaN    1.0     146967   \n",
              "11102        CAMPBELL  1990-08-13T00:00:00       NaN    2.0     131504   \n",
              "8542    CLAMPITT FIRE  1970-09-25T00:00:00       NaN   11.0     115537   \n",
              "...               ...                  ...       ...    ...        ...   \n",
              "11333                                  NaN       NaN    9.0      10161   \n",
              "1940                                   NaN       NaN   14.0      10110   \n",
              "7081                                   NaN       NaN   14.0      10058   \n",
              "902                                    NaN       NaN   14.0      10054   \n",
              "5302          HAYSHED                  NaN       NaN    2.0      10045   \n",
              "\n",
              "        Shape_Length    Shape_Area  \\\n",
              "Index                                \n",
              "10877  186772.299449  8.903055e+08   \n",
              "9787   155413.869051  7.014556e+08   \n",
              "10684  156400.195026  5.947566e+08   \n",
              "11102  116419.388456  5.321787e+08   \n",
              "8542   422177.849037  4.675634e+08   \n",
              "...              ...           ...   \n",
              "11333   29660.269069  4.112208e+07   \n",
              "1940    39027.058788  4.091477e+07   \n",
              "7081    51653.656115  4.070362e+07   \n",
              "902     24817.612484  4.069097e+07   \n",
              "5302    29097.505404  4.065180e+07   \n",
              "\n",
              "                                                geometry  \n",
              "Index                                                     \n",
              "10877  MULTIPOLYGON (((63709.42760000005 -375856.8666...  \n",
              "9787   MULTIPOLYGON (((-147588.2274999991 -181490.779...  \n",
              "10684  MULTIPOLYGON (((-126800.7558000013 368285.0678...  \n",
              "11102  MULTIPOLYGON (((-144997.8052999992 242012.8068...  \n",
              "8542   MULTIPOLYGON (((96735.14589999989 -410459.4325...  \n",
              "...                                                  ...  \n",
              "11333  MULTIPOLYGON (((-19791.07239999995 -334028.599...  \n",
              "1940   MULTIPOLYGON (((295350.4677000009 -474822.8097...  \n",
              "7081   MULTIPOLYGON (((-36074.4748999998 60081.384099...  \n",
              "902    MULTIPOLYGON (((-38666.621199999 -311387.36699...  \n",
              "5302   MULTIPOLYGON (((-267567.9201999996 197018.9115...  \n",
              "\n",
              "[378 rows x 8 columns]"
            ]
          },
          "execution_count": 36,
          "metadata": {},
          "output_type": "execute_result"
        }
      ],
      "source": [
        "outliers = data[data.GIS_ACRES > 10000]\n",
        "outliers.sort_values(by=['GIS_ACRES'], ascending=False)"
      ]
    },
    {
      "cell_type": "markdown",
      "id": "40156a83",
      "metadata": {
        "id": "40156a83"
      },
      "source": [
        "The 5 largest dropped wildfires all occured before or during 1990"
      ]
    }
  ],
  "metadata": {
    "kernelspec": {
      "display_name": "Python 3 (ipykernel)",
      "language": "python",
      "name": "python3"
    },
    "language_info": {
      "codemirror_mode": {
        "name": "ipython",
        "version": 3
      },
      "file_extension": ".py",
      "mimetype": "text/x-python",
      "name": "python",
      "nbconvert_exporter": "python",
      "pygments_lexer": "ipython3",
      "version": "3.8.12"
    },
    "colab": {
      "provenance": []
    }
  },
  "nbformat": 4,
  "nbformat_minor": 5
}