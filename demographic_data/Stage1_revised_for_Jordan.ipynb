{
 "cells": [
  {
   "cell_type": "markdown",
   "metadata": {
    "id": "dtoTu2G9_Xbn"
   },
   "source": [
    "### **0. Import libraries**"
   ]
  },
  {
   "cell_type": "code",
   "execution_count": 1,
   "metadata": {},
   "outputs": [
    {
     "name": "stdout",
     "output_type": "stream",
     "text": [
      "Collecting xgboost\n",
      "  Downloading xgboost-1.7.5-py3-none-macosx_10_15_x86_64.macosx_11_0_x86_64.macosx_12_0_x86_64.whl (1.8 MB)\n",
      "\u001b[2K     \u001b[90m━━━━━━━━━━━━━━━━━━━━━━━━━━━━━━━━━━━━━━━━\u001b[0m \u001b[32m1.8/1.8 MB\u001b[0m \u001b[31m7.6 MB/s\u001b[0m eta \u001b[36m0:00:00\u001b[0m00:01\u001b[0m:00:01\u001b[0m\n",
      "\u001b[?25hRequirement already satisfied: numpy in /opt/anaconda3/lib/python3.9/site-packages (from xgboost) (1.21.5)\n",
      "Requirement already satisfied: scipy in /opt/anaconda3/lib/python3.9/site-packages (from xgboost) (1.9.1)\n",
      "Installing collected packages: xgboost\n",
      "Successfully installed xgboost-1.7.5\n"
     ]
    }
   ],
   "source": [
    "!pip install xgboost"
   ]
  },
  {
   "cell_type": "code",
   "execution_count": 2,
   "metadata": {
    "id": "C18CYZ4W_NcT",
    "tags": []
   },
   "outputs": [],
   "source": [
    "import pandas as pd\n",
    "from datetime import datetime\n",
    "from sklearn.model_selection import train_test_split\n",
    "import statsmodels.api as sm\n",
    "from statsmodels.tools.tools import add_constant\n",
    "from sklearn.metrics import mean_squared_error\n",
    "from sklearn.preprocessing import OneHotEncoder\n",
    "from sklearn.model_selection import TimeSeriesSplit\n",
    "from sklearn.preprocessing import MinMaxScaler\n",
    "from sklearn.preprocessing import StandardScaler\n",
    "from tqdm import tqdm\n",
    "from xgboost import XGBRegressor\n",
    "from scipy.special import huber\n",
    "import numpy as np\n",
    "import seaborn as sns\n",
    "from statsmodels.tools.tools import maybe_unwrap_results\n",
    "from statsmodels.graphics.gofplots import ProbPlot\n",
    "from statsmodels.stats.outliers_influence import variance_inflation_factor\n",
    "import matplotlib.pyplot as plt\n",
    "from multiprocessing import Manager\n",
    "from multiprocessing.pool import Pool\n",
    "import time\n",
    "RANDOM_STATE = 2023\n",
    "TEST_SIZE = 0.2"
   ]
  },
  {
   "cell_type": "code",
   "execution_count": 3,
   "metadata": {
    "id": "6tHlXlfS_bxt",
    "tags": []
   },
   "outputs": [],
   "source": [
    "# from google.colab import drive\n",
    "from sklearn.linear_model import LinearRegression\n",
    "from sklearn.metrics import r2_score\n",
    "\n",
    "# drive.mount('/content/drive')\n",
    "# file_path = '/content/drive/MyDrive/Colab Notebooks/'\n",
    "file_path = './'"
   ]
  },
  {
   "cell_type": "markdown",
   "metadata": {
    "id": "rxiJt48P_WaN"
   },
   "source": [
    "### **1. Load data**"
   ]
  },
  {
   "cell_type": "code",
   "execution_count": 4,
   "metadata": {
    "colab": {
     "base_uri": "https://localhost:8080/",
     "height": 899
    },
    "id": "91YLmuhA_iGU",
    "outputId": "37ecb024-98f9-4a05-dae5-5b0188d28f9c",
    "tags": []
   },
   "outputs": [
    {
     "name": "stdout",
     "output_type": "stream",
     "text": [
      "Dataframe shape:  (547651, 31)\n",
      "<class 'pandas.core.frame.DataFrame'>\n",
      "RangeIndex: 547651 entries, 0 to 547650\n",
      "Data columns (total 31 columns):\n",
      " #   Column                             Non-Null Count   Dtype  \n",
      "---  ------                             --------------   -----  \n",
      " 0   ZCTA                               547651 non-null  int64  \n",
      " 1   year_month                         547651 non-null  int64  \n",
      " 2   ins_1_no_bin_raw                   547651 non-null  float64\n",
      " 3   ins_2_add_acres_raw                547651 non-null  float64\n",
      " 4   ins_3_norms                        547650 non-null  float64\n",
      " 5   ins_4_add_acres_norms              547650 non-null  float64\n",
      " 6   ins_5_norm_bins_acres              547650 non-null  float64\n",
      " 7   ins_6_bins_raw                     547651 non-null  float64\n",
      " 8   zip_pm25                           541289 non-null  float64\n",
      " 9   zip_elevation                      545321 non-null  float64\n",
      " 10  elevation_difference               210990 non-null  float64\n",
      " 11  zip_wspd                           547651 non-null  float64\n",
      " 12  year                               547651 non-null  int64  \n",
      " 13  households_count                   537529 non-null  float64\n",
      " 14  mean_income_per_household          537529 non-null  float64\n",
      " 15  median_income_per_household        537529 non-null  float64\n",
      " 16  percent_pop_age_10to14             537529 non-null  float64\n",
      " 17  percent_pop_age_5to9               537529 non-null  float64\n",
      " 18  percent_pop_age_under_5            537529 non-null  float64\n",
      " 19  percent_pop_female_age_10to14      537529 non-null  float64\n",
      " 20  percent_pop_female_age_5to9        537529 non-null  float64\n",
      " 21  percent_pop_female_age_under_5     537529 non-null  float64\n",
      " 22  percent_pop_male_age_5to9          537529 non-null  float64\n",
      " 23  percent_pop_male_age_under_5       537529 non-null  float64\n",
      " 24  total_population                   537529 non-null  float64\n",
      " 25  percent_bach_deg_grad_new          537529 non-null  float64\n",
      " 26  percent_high_school_grad_new       537529 non-null  float64\n",
      " 27  percent_pop_age_15to19_new         537529 non-null  float64\n",
      " 28  percent_pop_female_age_15to19_new  537529 non-null  float64\n",
      " 29  percent_pop_male_age_10to14_new    537529 non-null  float64\n",
      " 30  percent_pop_male_age_15to19_new    537529 non-null  float64\n",
      "dtypes: float64(28), int64(3)\n",
      "memory usage: 129.5 MB\n",
      "Dataframe info:  None\n"
     ]
    },
    {
     "data": {
      "text/html": [
       "<div>\n",
       "<style scoped>\n",
       "    .dataframe tbody tr th:only-of-type {\n",
       "        vertical-align: middle;\n",
       "    }\n",
       "\n",
       "    .dataframe tbody tr th {\n",
       "        vertical-align: top;\n",
       "    }\n",
       "\n",
       "    .dataframe thead th {\n",
       "        text-align: right;\n",
       "    }\n",
       "</style>\n",
       "<table border=\"1\" class=\"dataframe\">\n",
       "  <thead>\n",
       "    <tr style=\"text-align: right;\">\n",
       "      <th></th>\n",
       "      <th>ZCTA</th>\n",
       "      <th>year_month</th>\n",
       "      <th>ins_1_no_bin_raw</th>\n",
       "      <th>ins_2_add_acres_raw</th>\n",
       "      <th>ins_3_norms</th>\n",
       "      <th>ins_4_add_acres_norms</th>\n",
       "      <th>ins_5_norm_bins_acres</th>\n",
       "      <th>ins_6_bins_raw</th>\n",
       "      <th>zip_pm25</th>\n",
       "      <th>zip_elevation</th>\n",
       "      <th>...</th>\n",
       "      <th>percent_pop_female_age_under_5</th>\n",
       "      <th>percent_pop_male_age_5to9</th>\n",
       "      <th>percent_pop_male_age_under_5</th>\n",
       "      <th>total_population</th>\n",
       "      <th>percent_bach_deg_grad_new</th>\n",
       "      <th>percent_high_school_grad_new</th>\n",
       "      <th>percent_pop_age_15to19_new</th>\n",
       "      <th>percent_pop_female_age_15to19_new</th>\n",
       "      <th>percent_pop_male_age_10to14_new</th>\n",
       "      <th>percent_pop_male_age_15to19_new</th>\n",
       "    </tr>\n",
       "  </thead>\n",
       "  <tbody>\n",
       "    <tr>\n",
       "      <th>0</th>\n",
       "      <td>89010</td>\n",
       "      <td>199101</td>\n",
       "      <td>0.014313</td>\n",
       "      <td>2.171619</td>\n",
       "      <td>2.193307</td>\n",
       "      <td>0.002237</td>\n",
       "      <td>0.024999</td>\n",
       "      <td>24.261588</td>\n",
       "      <td>12.450976</td>\n",
       "      <td>4784.0</td>\n",
       "      <td>...</td>\n",
       "      <td>1.8</td>\n",
       "      <td>4.5</td>\n",
       "      <td>2.4</td>\n",
       "      <td>275.6</td>\n",
       "      <td>14.272763</td>\n",
       "      <td>56.603842</td>\n",
       "      <td>13.526364</td>\n",
       "      <td>14.514991</td>\n",
       "      <td>3.99958</td>\n",
       "      <td>8.781446</td>\n",
       "    </tr>\n",
       "    <tr>\n",
       "      <th>1</th>\n",
       "      <td>89010</td>\n",
       "      <td>199102</td>\n",
       "      <td>0.003401</td>\n",
       "      <td>1.473353</td>\n",
       "      <td>0.522705</td>\n",
       "      <td>0.001519</td>\n",
       "      <td>0.017402</td>\n",
       "      <td>16.875655</td>\n",
       "      <td>11.255854</td>\n",
       "      <td>4784.0</td>\n",
       "      <td>...</td>\n",
       "      <td>1.8</td>\n",
       "      <td>4.5</td>\n",
       "      <td>2.4</td>\n",
       "      <td>275.6</td>\n",
       "      <td>14.272763</td>\n",
       "      <td>56.603842</td>\n",
       "      <td>13.526364</td>\n",
       "      <td>14.514991</td>\n",
       "      <td>3.99958</td>\n",
       "      <td>8.781446</td>\n",
       "    </tr>\n",
       "  </tbody>\n",
       "</table>\n",
       "<p>2 rows × 31 columns</p>\n",
       "</div>"
      ],
      "text/plain": [
       "    ZCTA  year_month  ins_1_no_bin_raw  ins_2_add_acres_raw  ins_3_norms  \\\n",
       "0  89010      199101          0.014313             2.171619     2.193307   \n",
       "1  89010      199102          0.003401             1.473353     0.522705   \n",
       "\n",
       "   ins_4_add_acres_norms  ins_5_norm_bins_acres  ins_6_bins_raw   zip_pm25  \\\n",
       "0               0.002237               0.024999       24.261588  12.450976   \n",
       "1               0.001519               0.017402       16.875655  11.255854   \n",
       "\n",
       "   zip_elevation  ...  percent_pop_female_age_under_5  \\\n",
       "0         4784.0  ...                             1.8   \n",
       "1         4784.0  ...                             1.8   \n",
       "\n",
       "   percent_pop_male_age_5to9  percent_pop_male_age_under_5  total_population  \\\n",
       "0                        4.5                           2.4             275.6   \n",
       "1                        4.5                           2.4             275.6   \n",
       "\n",
       "   percent_bach_deg_grad_new  percent_high_school_grad_new  \\\n",
       "0                  14.272763                     56.603842   \n",
       "1                  14.272763                     56.603842   \n",
       "\n",
       "   percent_pop_age_15to19_new  percent_pop_female_age_15to19_new  \\\n",
       "0                   13.526364                          14.514991   \n",
       "1                   13.526364                          14.514991   \n",
       "\n",
       "   percent_pop_male_age_10to14_new  percent_pop_male_age_15to19_new  \n",
       "0                          3.99958                         8.781446  \n",
       "1                          3.99958                         8.781446  \n",
       "\n",
       "[2 rows x 31 columns]"
      ]
     },
     "metadata": {},
     "output_type": "display_data"
    }
   ],
   "source": [
    "raw = pd.read_csv(file_path+'finalish_df_4.csv').iloc[:,1:]\n",
    "print('Dataframe shape: ',raw.shape)\n",
    "print('Dataframe info: ',raw.info())\n",
    "display(raw.head(2))"
   ]
  },
  {
   "cell_type": "code",
   "execution_count": 5,
   "metadata": {
    "colab": {
     "base_uri": "https://localhost:8080/"
    },
    "id": "rNwyhkhaM6Bz",
    "outputId": "d4a4283f-8dc2-4e6e-fc4f-8d14c91452dc",
    "tags": []
   },
   "outputs": [
    {
     "name": "stdout",
     "output_type": "stream",
     "text": [
      "<class 'pandas.core.frame.DataFrame'>\n",
      "Int64Index: 541289 entries, 0 to 547650\n",
      "Data columns (total 31 columns):\n",
      " #   Column                             Non-Null Count   Dtype  \n",
      "---  ------                             --------------   -----  \n",
      " 0   ZCTA                               541289 non-null  int64  \n",
      " 1   year_month                         541289 non-null  int64  \n",
      " 2   ins_1_no_bin_raw                   541289 non-null  float64\n",
      " 3   ins_2_add_acres_raw                541289 non-null  float64\n",
      " 4   ins_3_norms                        541288 non-null  float64\n",
      " 5   ins_4_add_acres_norms              541288 non-null  float64\n",
      " 6   ins_5_norm_bins_acres              541288 non-null  float64\n",
      " 7   ins_6_bins_raw                     541289 non-null  float64\n",
      " 8   zip_pm25                           541289 non-null  float64\n",
      " 9   zip_elevation                      541289 non-null  float64\n",
      " 10  elevation_difference               209430 non-null  float64\n",
      " 11  zip_wspd                           541289 non-null  float64\n",
      " 12  year                               541289 non-null  int64  \n",
      " 13  households_count                   534029 non-null  float64\n",
      " 14  mean_income_per_household          534029 non-null  float64\n",
      " 15  median_income_per_household        534029 non-null  float64\n",
      " 16  percent_pop_age_10to14             534029 non-null  float64\n",
      " 17  percent_pop_age_5to9               534029 non-null  float64\n",
      " 18  percent_pop_age_under_5            534029 non-null  float64\n",
      " 19  percent_pop_female_age_10to14      534029 non-null  float64\n",
      " 20  percent_pop_female_age_5to9        534029 non-null  float64\n",
      " 21  percent_pop_female_age_under_5     534029 non-null  float64\n",
      " 22  percent_pop_male_age_5to9          534029 non-null  float64\n",
      " 23  percent_pop_male_age_under_5       534029 non-null  float64\n",
      " 24  total_population                   534029 non-null  float64\n",
      " 25  percent_bach_deg_grad_new          534029 non-null  float64\n",
      " 26  percent_high_school_grad_new       534029 non-null  float64\n",
      " 27  percent_pop_age_15to19_new         534029 non-null  float64\n",
      " 28  percent_pop_female_age_15to19_new  534029 non-null  float64\n",
      " 29  percent_pop_male_age_10to14_new    534029 non-null  float64\n",
      " 30  percent_pop_male_age_15to19_new    534029 non-null  float64\n",
      "dtypes: float64(28), int64(3)\n",
      "memory usage: 132.2 MB\n",
      "Dataframe info:  None\n"
     ]
    }
   ],
   "source": [
    "raw_expm25 = raw.loc[~raw['zip_pm25'].isna()].copy()\n",
    "print('Dataframe info: ',raw_expm25.info())"
   ]
  },
  {
   "cell_type": "code",
   "execution_count": 6,
   "metadata": {
    "colab": {
     "base_uri": "https://localhost:8080/"
    },
    "id": "a5znB3l0glVL",
    "outputId": "47d59731-8c51-49d4-b305-86e06b1e5e83",
    "tags": []
   },
   "outputs": [
    {
     "data": {
      "text/plain": [
       "1612"
      ]
     },
     "execution_count": 6,
     "metadata": {},
     "output_type": "execute_result"
    }
   ],
   "source": [
    "raw.loc[~raw['households_count'].isna()]['ZCTA'].nunique()"
   ]
  },
  {
   "cell_type": "code",
   "execution_count": 7,
   "metadata": {
    "colab": {
     "base_uri": "https://localhost:8080/"
    },
    "id": "AgVHn-0QNtvR",
    "outputId": "747b80f7-a201-4b47-ce5b-7de050955af9",
    "tags": []
   },
   "outputs": [
    {
     "name": "stdout",
     "output_type": "stream",
     "text": [
      "<class 'pandas.core.frame.DataFrame'>\n",
      "Int64Index: 534029 entries, 0 to 547650\n",
      "Data columns (total 31 columns):\n",
      " #   Column                             Non-Null Count   Dtype  \n",
      "---  ------                             --------------   -----  \n",
      " 0   ZCTA                               534029 non-null  int64  \n",
      " 1   year_month                         534029 non-null  int64  \n",
      " 2   ins_1_no_bin_raw                   534029 non-null  float64\n",
      " 3   ins_2_add_acres_raw                534029 non-null  float64\n",
      " 4   ins_3_norms                        534028 non-null  float64\n",
      " 5   ins_4_add_acres_norms              534028 non-null  float64\n",
      " 6   ins_5_norm_bins_acres              534028 non-null  float64\n",
      " 7   ins_6_bins_raw                     534029 non-null  float64\n",
      " 8   zip_pm25                           534029 non-null  float64\n",
      " 9   zip_elevation                      534029 non-null  float64\n",
      " 10  elevation_difference               206775 non-null  float64\n",
      " 11  zip_wspd                           534029 non-null  float64\n",
      " 12  year                               534029 non-null  int64  \n",
      " 13  households_count                   534029 non-null  float64\n",
      " 14  mean_income_per_household          534029 non-null  float64\n",
      " 15  median_income_per_household        534029 non-null  float64\n",
      " 16  percent_pop_age_10to14             534029 non-null  float64\n",
      " 17  percent_pop_age_5to9               534029 non-null  float64\n",
      " 18  percent_pop_age_under_5            534029 non-null  float64\n",
      " 19  percent_pop_female_age_10to14      534029 non-null  float64\n",
      " 20  percent_pop_female_age_5to9        534029 non-null  float64\n",
      " 21  percent_pop_female_age_under_5     534029 non-null  float64\n",
      " 22  percent_pop_male_age_5to9          534029 non-null  float64\n",
      " 23  percent_pop_male_age_under_5       534029 non-null  float64\n",
      " 24  total_population                   534029 non-null  float64\n",
      " 25  percent_bach_deg_grad_new          534029 non-null  float64\n",
      " 26  percent_high_school_grad_new       534029 non-null  float64\n",
      " 27  percent_pop_age_15to19_new         534029 non-null  float64\n",
      " 28  percent_pop_female_age_15to19_new  534029 non-null  float64\n",
      " 29  percent_pop_male_age_10to14_new    534029 non-null  float64\n",
      " 30  percent_pop_male_age_15to19_new    534029 non-null  float64\n",
      "dtypes: float64(28), int64(3)\n",
      "memory usage: 130.4 MB\n",
      "Dataframe info:  None\n"
     ]
    }
   ],
   "source": [
    "raw_stage1 = raw_expm25.loc[~raw_expm25['households_count'].isna()].copy()\n",
    "print('Dataframe info: ',raw_stage1.info())"
   ]
  },
  {
   "cell_type": "code",
   "execution_count": 8,
   "metadata": {
    "id": "Et-9rWkGGbw0",
    "tags": []
   },
   "outputs": [],
   "source": [
    "#TO REMOVE AFTER I GET MORE COMPUTING POWER\n",
    "# raw_stage1 = raw_stage1.loc[raw_stage1.ZCTA.isin(list(raw_stage1.ZCTA.unique()[:3]))]\n",
    "# raw_stage1.shape"
   ]
  },
  {
   "cell_type": "markdown",
   "metadata": {
    "id": "EnoknDWFAwvc"
   },
   "source": [
    "### **2. Feature engineering**"
   ]
  },
  {
   "cell_type": "code",
   "execution_count": 9,
   "metadata": {
    "colab": {
     "base_uri": "https://localhost:8080/",
     "height": 393
    },
    "id": "Pm97jk5HALzN",
    "outputId": "8f96aebd-701e-46af-f66c-2a7f7b71fc42",
    "tags": []
   },
   "outputs": [
    {
     "data": {
      "text/html": [
       "<div>\n",
       "<style scoped>\n",
       "    .dataframe tbody tr th:only-of-type {\n",
       "        vertical-align: middle;\n",
       "    }\n",
       "\n",
       "    .dataframe tbody tr th {\n",
       "        vertical-align: top;\n",
       "    }\n",
       "\n",
       "    .dataframe thead th {\n",
       "        text-align: right;\n",
       "    }\n",
       "</style>\n",
       "<table border=\"1\" class=\"dataframe\">\n",
       "  <thead>\n",
       "    <tr style=\"text-align: right;\">\n",
       "      <th></th>\n",
       "      <th>ZCTA</th>\n",
       "      <th>year_month</th>\n",
       "      <th>ins_1_no_bin_raw</th>\n",
       "      <th>ins_2_add_acres_raw</th>\n",
       "      <th>ins_3_norms</th>\n",
       "      <th>ins_4_add_acres_norms</th>\n",
       "      <th>ins_5_norm_bins_acres</th>\n",
       "      <th>ins_6_bins_raw</th>\n",
       "      <th>zip_pm25</th>\n",
       "      <th>zip_elevation</th>\n",
       "      <th>...</th>\n",
       "      <th>percent_pop_female_age_under_5</th>\n",
       "      <th>percent_pop_male_age_5to9</th>\n",
       "      <th>percent_pop_male_age_under_5</th>\n",
       "      <th>total_population</th>\n",
       "      <th>percent_bach_deg_grad_new</th>\n",
       "      <th>percent_high_school_grad_new</th>\n",
       "      <th>percent_pop_age_15to19_new</th>\n",
       "      <th>percent_pop_female_age_15to19_new</th>\n",
       "      <th>percent_pop_male_age_10to14_new</th>\n",
       "      <th>percent_pop_male_age_15to19_new</th>\n",
       "    </tr>\n",
       "  </thead>\n",
       "  <tbody>\n",
       "    <tr>\n",
       "      <th>count</th>\n",
       "      <td>534029.000000</td>\n",
       "      <td>534029.000000</td>\n",
       "      <td>534029.000000</td>\n",
       "      <td>534029.000000</td>\n",
       "      <td>534028.000000</td>\n",
       "      <td>534028.000000</td>\n",
       "      <td>534028.000000</td>\n",
       "      <td>5.340290e+05</td>\n",
       "      <td>534029.000000</td>\n",
       "      <td>534029.000000</td>\n",
       "      <td>...</td>\n",
       "      <td>534029.000000</td>\n",
       "      <td>534029.000000</td>\n",
       "      <td>534029.000000</td>\n",
       "      <td>534029.000000</td>\n",
       "      <td>534029.000000</td>\n",
       "      <td>534029.000000</td>\n",
       "      <td>534029.000000</td>\n",
       "      <td>534029.000000</td>\n",
       "      <td>534029.000000</td>\n",
       "      <td>534029.000000</td>\n",
       "    </tr>\n",
       "    <tr>\n",
       "      <th>mean</th>\n",
       "      <td>93654.407944</td>\n",
       "      <td>200455.402399</td>\n",
       "      <td>0.028649</td>\n",
       "      <td>62.611486</td>\n",
       "      <td>4.432021</td>\n",
       "      <td>0.064825</td>\n",
       "      <td>0.703011</td>\n",
       "      <td>6.790178e+02</td>\n",
       "      <td>10.238584</td>\n",
       "      <td>1279.628382</td>\n",
       "      <td>...</td>\n",
       "      <td>7.416529</td>\n",
       "      <td>7.125835</td>\n",
       "      <td>7.650411</td>\n",
       "      <td>20990.355004</td>\n",
       "      <td>25.066798</td>\n",
       "      <td>75.272856</td>\n",
       "      <td>7.672350</td>\n",
       "      <td>7.269897</td>\n",
       "      <td>6.955869</td>\n",
       "      <td>5.993247</td>\n",
       "    </tr>\n",
       "    <tr>\n",
       "      <th>std</th>\n",
       "      <td>1823.233803</td>\n",
       "      <td>807.434254</td>\n",
       "      <td>0.098733</td>\n",
       "      <td>386.907416</td>\n",
       "      <td>14.833164</td>\n",
       "      <td>0.405365</td>\n",
       "      <td>4.304165</td>\n",
       "      <td>4.108757e+03</td>\n",
       "      <td>5.976172</td>\n",
       "      <td>1724.907449</td>\n",
       "      <td>...</td>\n",
       "      <td>4.572885</td>\n",
       "      <td>3.888823</td>\n",
       "      <td>4.484966</td>\n",
       "      <td>20758.000756</td>\n",
       "      <td>16.913328</td>\n",
       "      <td>17.381111</td>\n",
       "      <td>4.059558</td>\n",
       "      <td>4.726107</td>\n",
       "      <td>4.294546</td>\n",
       "      <td>3.927292</td>\n",
       "    </tr>\n",
       "    <tr>\n",
       "      <th>min</th>\n",
       "      <td>89010.000000</td>\n",
       "      <td>199101.000000</td>\n",
       "      <td>0.000000</td>\n",
       "      <td>0.000000</td>\n",
       "      <td>0.000000</td>\n",
       "      <td>0.000000</td>\n",
       "      <td>0.000000</td>\n",
       "      <td>0.000000e+00</td>\n",
       "      <td>0.000000</td>\n",
       "      <td>-230.000000</td>\n",
       "      <td>...</td>\n",
       "      <td>0.000000</td>\n",
       "      <td>0.000000</td>\n",
       "      <td>0.000000</td>\n",
       "      <td>2.000000</td>\n",
       "      <td>0.010000</td>\n",
       "      <td>0.486379</td>\n",
       "      <td>0.010000</td>\n",
       "      <td>0.010000</td>\n",
       "      <td>0.010000</td>\n",
       "      <td>0.010000</td>\n",
       "    </tr>\n",
       "    <tr>\n",
       "      <th>25%</th>\n",
       "      <td>92258.000000</td>\n",
       "      <td>199712.000000</td>\n",
       "      <td>0.000000</td>\n",
       "      <td>0.000000</td>\n",
       "      <td>0.000000</td>\n",
       "      <td>0.000000</td>\n",
       "      <td>0.000000</td>\n",
       "      <td>0.000000e+00</td>\n",
       "      <td>6.011667</td>\n",
       "      <td>143.000000</td>\n",
       "      <td>...</td>\n",
       "      <td>4.900000</td>\n",
       "      <td>5.000000</td>\n",
       "      <td>5.000000</td>\n",
       "      <td>1727.100000</td>\n",
       "      <td>12.085806</td>\n",
       "      <td>68.894423</td>\n",
       "      <td>5.360227</td>\n",
       "      <td>4.874479</td>\n",
       "      <td>4.854490</td>\n",
       "      <td>4.089742</td>\n",
       "    </tr>\n",
       "    <tr>\n",
       "      <th>50%</th>\n",
       "      <td>93647.000000</td>\n",
       "      <td>200412.000000</td>\n",
       "      <td>0.000000</td>\n",
       "      <td>0.000000</td>\n",
       "      <td>0.000000</td>\n",
       "      <td>0.000000</td>\n",
       "      <td>0.000000</td>\n",
       "      <td>0.000000e+00</td>\n",
       "      <td>8.819333</td>\n",
       "      <td>503.000000</td>\n",
       "      <td>...</td>\n",
       "      <td>6.800000</td>\n",
       "      <td>6.900000</td>\n",
       "      <td>7.200000</td>\n",
       "      <td>16237.500000</td>\n",
       "      <td>20.833634</td>\n",
       "      <td>80.708626</td>\n",
       "      <td>7.331364</td>\n",
       "      <td>6.643380</td>\n",
       "      <td>6.659300</td>\n",
       "      <td>5.653644</td>\n",
       "    </tr>\n",
       "    <tr>\n",
       "      <th>75%</th>\n",
       "      <td>95377.000000</td>\n",
       "      <td>201112.000000</td>\n",
       "      <td>0.013628</td>\n",
       "      <td>4.036542</td>\n",
       "      <td>2.096536</td>\n",
       "      <td>0.004149</td>\n",
       "      <td>0.047761</td>\n",
       "      <td>4.644233e+01</td>\n",
       "      <td>13.103636</td>\n",
       "      <td>1622.000000</td>\n",
       "      <td>...</td>\n",
       "      <td>8.900000</td>\n",
       "      <td>8.600000</td>\n",
       "      <td>9.400000</td>\n",
       "      <td>34693.000000</td>\n",
       "      <td>34.906226</td>\n",
       "      <td>87.473210</td>\n",
       "      <td>9.302500</td>\n",
       "      <td>8.677616</td>\n",
       "      <td>8.369120</td>\n",
       "      <td>7.217545</td>\n",
       "    </tr>\n",
       "    <tr>\n",
       "      <th>max</th>\n",
       "      <td>97635.000000</td>\n",
       "      <td>201812.000000</td>\n",
       "      <td>22.098205</td>\n",
       "      <td>97674.455495</td>\n",
       "      <td>1719.864507</td>\n",
       "      <td>103.902397</td>\n",
       "      <td>1093.379388</td>\n",
       "      <td>1.027844e+06</td>\n",
       "      <td>88.450000</td>\n",
       "      <td>10572.000000</td>\n",
       "      <td>...</td>\n",
       "      <td>67.600000</td>\n",
       "      <td>44.700000</td>\n",
       "      <td>81.300000</td>\n",
       "      <td>109414.000000</td>\n",
       "      <td>95.000000</td>\n",
       "      <td>95.000000</td>\n",
       "      <td>68.718182</td>\n",
       "      <td>75.011415</td>\n",
       "      <td>95.000000</td>\n",
       "      <td>95.000000</td>\n",
       "    </tr>\n",
       "  </tbody>\n",
       "</table>\n",
       "<p>8 rows × 31 columns</p>\n",
       "</div>"
      ],
      "text/plain": [
       "                ZCTA     year_month  ins_1_no_bin_raw  ins_2_add_acres_raw  \\\n",
       "count  534029.000000  534029.000000     534029.000000        534029.000000   \n",
       "mean    93654.407944  200455.402399          0.028649            62.611486   \n",
       "std      1823.233803     807.434254          0.098733           386.907416   \n",
       "min     89010.000000  199101.000000          0.000000             0.000000   \n",
       "25%     92258.000000  199712.000000          0.000000             0.000000   \n",
       "50%     93647.000000  200412.000000          0.000000             0.000000   \n",
       "75%     95377.000000  201112.000000          0.013628             4.036542   \n",
       "max     97635.000000  201812.000000         22.098205         97674.455495   \n",
       "\n",
       "         ins_3_norms  ins_4_add_acres_norms  ins_5_norm_bins_acres  \\\n",
       "count  534028.000000          534028.000000          534028.000000   \n",
       "mean        4.432021               0.064825               0.703011   \n",
       "std        14.833164               0.405365               4.304165   \n",
       "min         0.000000               0.000000               0.000000   \n",
       "25%         0.000000               0.000000               0.000000   \n",
       "50%         0.000000               0.000000               0.000000   \n",
       "75%         2.096536               0.004149               0.047761   \n",
       "max      1719.864507             103.902397            1093.379388   \n",
       "\n",
       "       ins_6_bins_raw       zip_pm25  zip_elevation  ...  \\\n",
       "count    5.340290e+05  534029.000000  534029.000000  ...   \n",
       "mean     6.790178e+02      10.238584    1279.628382  ...   \n",
       "std      4.108757e+03       5.976172    1724.907449  ...   \n",
       "min      0.000000e+00       0.000000    -230.000000  ...   \n",
       "25%      0.000000e+00       6.011667     143.000000  ...   \n",
       "50%      0.000000e+00       8.819333     503.000000  ...   \n",
       "75%      4.644233e+01      13.103636    1622.000000  ...   \n",
       "max      1.027844e+06      88.450000   10572.000000  ...   \n",
       "\n",
       "       percent_pop_female_age_under_5  percent_pop_male_age_5to9  \\\n",
       "count                   534029.000000              534029.000000   \n",
       "mean                         7.416529                   7.125835   \n",
       "std                          4.572885                   3.888823   \n",
       "min                          0.000000                   0.000000   \n",
       "25%                          4.900000                   5.000000   \n",
       "50%                          6.800000                   6.900000   \n",
       "75%                          8.900000                   8.600000   \n",
       "max                         67.600000                  44.700000   \n",
       "\n",
       "       percent_pop_male_age_under_5  total_population  \\\n",
       "count                 534029.000000     534029.000000   \n",
       "mean                       7.650411      20990.355004   \n",
       "std                        4.484966      20758.000756   \n",
       "min                        0.000000          2.000000   \n",
       "25%                        5.000000       1727.100000   \n",
       "50%                        7.200000      16237.500000   \n",
       "75%                        9.400000      34693.000000   \n",
       "max                       81.300000     109414.000000   \n",
       "\n",
       "       percent_bach_deg_grad_new  percent_high_school_grad_new  \\\n",
       "count              534029.000000                 534029.000000   \n",
       "mean                   25.066798                     75.272856   \n",
       "std                    16.913328                     17.381111   \n",
       "min                     0.010000                      0.486379   \n",
       "25%                    12.085806                     68.894423   \n",
       "50%                    20.833634                     80.708626   \n",
       "75%                    34.906226                     87.473210   \n",
       "max                    95.000000                     95.000000   \n",
       "\n",
       "       percent_pop_age_15to19_new  percent_pop_female_age_15to19_new  \\\n",
       "count               534029.000000                      534029.000000   \n",
       "mean                     7.672350                           7.269897   \n",
       "std                      4.059558                           4.726107   \n",
       "min                      0.010000                           0.010000   \n",
       "25%                      5.360227                           4.874479   \n",
       "50%                      7.331364                           6.643380   \n",
       "75%                      9.302500                           8.677616   \n",
       "max                     68.718182                          75.011415   \n",
       "\n",
       "       percent_pop_male_age_10to14_new  percent_pop_male_age_15to19_new  \n",
       "count                    534029.000000                    534029.000000  \n",
       "mean                          6.955869                         5.993247  \n",
       "std                           4.294546                         3.927292  \n",
       "min                           0.010000                         0.010000  \n",
       "25%                           4.854490                         4.089742  \n",
       "50%                           6.659300                         5.653644  \n",
       "75%                           8.369120                         7.217545  \n",
       "max                          95.000000                        95.000000  \n",
       "\n",
       "[8 rows x 31 columns]"
      ]
     },
     "execution_count": 9,
     "metadata": {},
     "output_type": "execute_result"
    }
   ],
   "source": [
    "#look at stats first\n",
    "raw_stage1.describe()"
   ]
  },
  {
   "cell_type": "code",
   "execution_count": 10,
   "metadata": {
    "colab": {
     "base_uri": "https://localhost:8080/"
    },
    "id": "OJDnZO3jAwNi",
    "outputId": "d92e1aa9-b561-4daf-9721-82d8a67a3a5a",
    "tags": []
   },
   "outputs": [
    {
     "ename": "KeyboardInterrupt",
     "evalue": "",
     "output_type": "error",
     "traceback": [
      "\u001b[0;31m---------------------------------------------------------------------------\u001b[0m",
      "\u001b[0;31mKeyboardInterrupt\u001b[0m                         Traceback (most recent call last)",
      "\u001b[0;32m/var/folders/s5/7xx077rd47bgr466ncyswmvm0000gn/T/ipykernel_72771/3080239024.py\u001b[0m in \u001b[0;36m<module>\u001b[0;34m\u001b[0m\n\u001b[1;32m      1\u001b[0m \u001b[0;31m#make year values smaller\u001b[0m\u001b[0;34m\u001b[0m\u001b[0;34m\u001b[0m\u001b[0m\n\u001b[0;32m----> 2\u001b[0;31m \u001b[0mraw_stage1\u001b[0m\u001b[0;34m[\u001b[0m\u001b[0;34m'year_trend'\u001b[0m\u001b[0;34m]\u001b[0m \u001b[0;34m=\u001b[0m \u001b[0mraw_stage1\u001b[0m\u001b[0;34m.\u001b[0m\u001b[0mapply\u001b[0m\u001b[0;34m(\u001b[0m\u001b[0;32mlambda\u001b[0m \u001b[0mx\u001b[0m\u001b[0;34m:\u001b[0m \u001b[0mx\u001b[0m\u001b[0;34m[\u001b[0m\u001b[0;34m'year'\u001b[0m\u001b[0;34m]\u001b[0m \u001b[0;34m-\u001b[0m \u001b[0;34m(\u001b[0m\u001b[0mraw_stage1\u001b[0m\u001b[0;34m[\u001b[0m\u001b[0;34m'year'\u001b[0m\u001b[0;34m]\u001b[0m\u001b[0;34m.\u001b[0m\u001b[0mmin\u001b[0m\u001b[0;34m(\u001b[0m\u001b[0;34m)\u001b[0m\u001b[0;34m-\u001b[0m\u001b[0;36m1\u001b[0m\u001b[0;34m)\u001b[0m\u001b[0;34m,\u001b[0m\u001b[0maxis\u001b[0m\u001b[0;34m=\u001b[0m\u001b[0;36m1\u001b[0m\u001b[0;34m)\u001b[0m\u001b[0;34m\u001b[0m\u001b[0;34m\u001b[0m\u001b[0m\n\u001b[0m\u001b[1;32m      3\u001b[0m \u001b[0;34m\u001b[0m\u001b[0m\n\u001b[1;32m      4\u001b[0m \u001b[0;31m#minmax scaling for elevation - elastic net sensitive to variables on different scales\u001b[0m\u001b[0;34m\u001b[0m\u001b[0;34m\u001b[0m\u001b[0m\n\u001b[1;32m      5\u001b[0m \u001b[0melevation\u001b[0m \u001b[0;34m=\u001b[0m \u001b[0mMinMaxScaler\u001b[0m\u001b[0;34m(\u001b[0m\u001b[0;34m)\u001b[0m\u001b[0;34m.\u001b[0m\u001b[0mfit_transform\u001b[0m\u001b[0;34m(\u001b[0m\u001b[0mnp\u001b[0m\u001b[0;34m.\u001b[0m\u001b[0marray\u001b[0m\u001b[0;34m(\u001b[0m\u001b[0mraw_stage1\u001b[0m\u001b[0;34m[\u001b[0m\u001b[0;34m'elevation_difference'\u001b[0m\u001b[0;34m]\u001b[0m\u001b[0;34m)\u001b[0m\u001b[0;34m.\u001b[0m\u001b[0mreshape\u001b[0m\u001b[0;34m(\u001b[0m\u001b[0;34m-\u001b[0m\u001b[0;36m1\u001b[0m\u001b[0;34m,\u001b[0m\u001b[0;36m1\u001b[0m\u001b[0;34m)\u001b[0m\u001b[0;34m)\u001b[0m\u001b[0;34m\u001b[0m\u001b[0;34m\u001b[0m\u001b[0m\n",
      "\u001b[0;32m/opt/anaconda3/lib/python3.9/site-packages/pandas/core/frame.py\u001b[0m in \u001b[0;36mapply\u001b[0;34m(self, func, axis, raw, result_type, args, **kwargs)\u001b[0m\n\u001b[1;32m   8846\u001b[0m             \u001b[0mkwargs\u001b[0m\u001b[0;34m=\u001b[0m\u001b[0mkwargs\u001b[0m\u001b[0;34m,\u001b[0m\u001b[0;34m\u001b[0m\u001b[0;34m\u001b[0m\u001b[0m\n\u001b[1;32m   8847\u001b[0m         )\n\u001b[0;32m-> 8848\u001b[0;31m         \u001b[0;32mreturn\u001b[0m \u001b[0mop\u001b[0m\u001b[0;34m.\u001b[0m\u001b[0mapply\u001b[0m\u001b[0;34m(\u001b[0m\u001b[0;34m)\u001b[0m\u001b[0;34m.\u001b[0m\u001b[0m__finalize__\u001b[0m\u001b[0;34m(\u001b[0m\u001b[0mself\u001b[0m\u001b[0;34m,\u001b[0m \u001b[0mmethod\u001b[0m\u001b[0;34m=\u001b[0m\u001b[0;34m\"apply\"\u001b[0m\u001b[0;34m)\u001b[0m\u001b[0;34m\u001b[0m\u001b[0;34m\u001b[0m\u001b[0m\n\u001b[0m\u001b[1;32m   8849\u001b[0m \u001b[0;34m\u001b[0m\u001b[0m\n\u001b[1;32m   8850\u001b[0m     def applymap(\n",
      "\u001b[0;32m/opt/anaconda3/lib/python3.9/site-packages/pandas/core/apply.py\u001b[0m in \u001b[0;36mapply\u001b[0;34m(self)\u001b[0m\n\u001b[1;32m    731\u001b[0m             \u001b[0;32mreturn\u001b[0m \u001b[0mself\u001b[0m\u001b[0;34m.\u001b[0m\u001b[0mapply_raw\u001b[0m\u001b[0;34m(\u001b[0m\u001b[0;34m)\u001b[0m\u001b[0;34m\u001b[0m\u001b[0;34m\u001b[0m\u001b[0m\n\u001b[1;32m    732\u001b[0m \u001b[0;34m\u001b[0m\u001b[0m\n\u001b[0;32m--> 733\u001b[0;31m         \u001b[0;32mreturn\u001b[0m \u001b[0mself\u001b[0m\u001b[0;34m.\u001b[0m\u001b[0mapply_standard\u001b[0m\u001b[0;34m(\u001b[0m\u001b[0;34m)\u001b[0m\u001b[0;34m\u001b[0m\u001b[0;34m\u001b[0m\u001b[0m\n\u001b[0m\u001b[1;32m    734\u001b[0m \u001b[0;34m\u001b[0m\u001b[0m\n\u001b[1;32m    735\u001b[0m     \u001b[0;32mdef\u001b[0m \u001b[0magg\u001b[0m\u001b[0;34m(\u001b[0m\u001b[0mself\u001b[0m\u001b[0;34m)\u001b[0m\u001b[0;34m:\u001b[0m\u001b[0;34m\u001b[0m\u001b[0;34m\u001b[0m\u001b[0m\n",
      "\u001b[0;32m/opt/anaconda3/lib/python3.9/site-packages/pandas/core/apply.py\u001b[0m in \u001b[0;36mapply_standard\u001b[0;34m(self)\u001b[0m\n\u001b[1;32m    855\u001b[0m \u001b[0;34m\u001b[0m\u001b[0m\n\u001b[1;32m    856\u001b[0m     \u001b[0;32mdef\u001b[0m \u001b[0mapply_standard\u001b[0m\u001b[0;34m(\u001b[0m\u001b[0mself\u001b[0m\u001b[0;34m)\u001b[0m\u001b[0;34m:\u001b[0m\u001b[0;34m\u001b[0m\u001b[0;34m\u001b[0m\u001b[0m\n\u001b[0;32m--> 857\u001b[0;31m         \u001b[0mresults\u001b[0m\u001b[0;34m,\u001b[0m \u001b[0mres_index\u001b[0m \u001b[0;34m=\u001b[0m \u001b[0mself\u001b[0m\u001b[0;34m.\u001b[0m\u001b[0mapply_series_generator\u001b[0m\u001b[0;34m(\u001b[0m\u001b[0;34m)\u001b[0m\u001b[0;34m\u001b[0m\u001b[0;34m\u001b[0m\u001b[0m\n\u001b[0m\u001b[1;32m    858\u001b[0m \u001b[0;34m\u001b[0m\u001b[0m\n\u001b[1;32m    859\u001b[0m         \u001b[0;31m# wrap results\u001b[0m\u001b[0;34m\u001b[0m\u001b[0;34m\u001b[0m\u001b[0m\n",
      "\u001b[0;32m/opt/anaconda3/lib/python3.9/site-packages/pandas/core/apply.py\u001b[0m in \u001b[0;36mapply_series_generator\u001b[0;34m(self)\u001b[0m\n\u001b[1;32m    871\u001b[0m             \u001b[0;32mfor\u001b[0m \u001b[0mi\u001b[0m\u001b[0;34m,\u001b[0m \u001b[0mv\u001b[0m \u001b[0;32min\u001b[0m \u001b[0menumerate\u001b[0m\u001b[0;34m(\u001b[0m\u001b[0mseries_gen\u001b[0m\u001b[0;34m)\u001b[0m\u001b[0;34m:\u001b[0m\u001b[0;34m\u001b[0m\u001b[0;34m\u001b[0m\u001b[0m\n\u001b[1;32m    872\u001b[0m                 \u001b[0;31m# ignore SettingWithCopy here in case the user mutates\u001b[0m\u001b[0;34m\u001b[0m\u001b[0;34m\u001b[0m\u001b[0m\n\u001b[0;32m--> 873\u001b[0;31m                 \u001b[0mresults\u001b[0m\u001b[0;34m[\u001b[0m\u001b[0mi\u001b[0m\u001b[0;34m]\u001b[0m \u001b[0;34m=\u001b[0m \u001b[0mself\u001b[0m\u001b[0;34m.\u001b[0m\u001b[0mf\u001b[0m\u001b[0;34m(\u001b[0m\u001b[0mv\u001b[0m\u001b[0;34m)\u001b[0m\u001b[0;34m\u001b[0m\u001b[0;34m\u001b[0m\u001b[0m\n\u001b[0m\u001b[1;32m    874\u001b[0m                 \u001b[0;32mif\u001b[0m \u001b[0misinstance\u001b[0m\u001b[0;34m(\u001b[0m\u001b[0mresults\u001b[0m\u001b[0;34m[\u001b[0m\u001b[0mi\u001b[0m\u001b[0;34m]\u001b[0m\u001b[0;34m,\u001b[0m \u001b[0mABCSeries\u001b[0m\u001b[0;34m)\u001b[0m\u001b[0;34m:\u001b[0m\u001b[0;34m\u001b[0m\u001b[0;34m\u001b[0m\u001b[0m\n\u001b[1;32m    875\u001b[0m                     \u001b[0;31m# If we have a view on v, we need to make a copy because\u001b[0m\u001b[0;34m\u001b[0m\u001b[0;34m\u001b[0m\u001b[0m\n",
      "\u001b[0;32m/var/folders/s5/7xx077rd47bgr466ncyswmvm0000gn/T/ipykernel_72771/3080239024.py\u001b[0m in \u001b[0;36m<lambda>\u001b[0;34m(x)\u001b[0m\n\u001b[1;32m      1\u001b[0m \u001b[0;31m#make year values smaller\u001b[0m\u001b[0;34m\u001b[0m\u001b[0;34m\u001b[0m\u001b[0m\n\u001b[0;32m----> 2\u001b[0;31m \u001b[0mraw_stage1\u001b[0m\u001b[0;34m[\u001b[0m\u001b[0;34m'year_trend'\u001b[0m\u001b[0;34m]\u001b[0m \u001b[0;34m=\u001b[0m \u001b[0mraw_stage1\u001b[0m\u001b[0;34m.\u001b[0m\u001b[0mapply\u001b[0m\u001b[0;34m(\u001b[0m\u001b[0;32mlambda\u001b[0m \u001b[0mx\u001b[0m\u001b[0;34m:\u001b[0m \u001b[0mx\u001b[0m\u001b[0;34m[\u001b[0m\u001b[0;34m'year'\u001b[0m\u001b[0;34m]\u001b[0m \u001b[0;34m-\u001b[0m \u001b[0;34m(\u001b[0m\u001b[0mraw_stage1\u001b[0m\u001b[0;34m[\u001b[0m\u001b[0;34m'year'\u001b[0m\u001b[0;34m]\u001b[0m\u001b[0;34m.\u001b[0m\u001b[0mmin\u001b[0m\u001b[0;34m(\u001b[0m\u001b[0;34m)\u001b[0m\u001b[0;34m-\u001b[0m\u001b[0;36m1\u001b[0m\u001b[0;34m)\u001b[0m\u001b[0;34m,\u001b[0m\u001b[0maxis\u001b[0m\u001b[0;34m=\u001b[0m\u001b[0;36m1\u001b[0m\u001b[0;34m)\u001b[0m\u001b[0;34m\u001b[0m\u001b[0;34m\u001b[0m\u001b[0m\n\u001b[0m\u001b[1;32m      3\u001b[0m \u001b[0;34m\u001b[0m\u001b[0m\n\u001b[1;32m      4\u001b[0m \u001b[0;31m#minmax scaling for elevation - elastic net sensitive to variables on different scales\u001b[0m\u001b[0;34m\u001b[0m\u001b[0;34m\u001b[0m\u001b[0m\n\u001b[1;32m      5\u001b[0m \u001b[0melevation\u001b[0m \u001b[0;34m=\u001b[0m \u001b[0mMinMaxScaler\u001b[0m\u001b[0;34m(\u001b[0m\u001b[0;34m)\u001b[0m\u001b[0;34m.\u001b[0m\u001b[0mfit_transform\u001b[0m\u001b[0;34m(\u001b[0m\u001b[0mnp\u001b[0m\u001b[0;34m.\u001b[0m\u001b[0marray\u001b[0m\u001b[0;34m(\u001b[0m\u001b[0mraw_stage1\u001b[0m\u001b[0;34m[\u001b[0m\u001b[0;34m'elevation_difference'\u001b[0m\u001b[0;34m]\u001b[0m\u001b[0;34m)\u001b[0m\u001b[0;34m.\u001b[0m\u001b[0mreshape\u001b[0m\u001b[0;34m(\u001b[0m\u001b[0;34m-\u001b[0m\u001b[0;36m1\u001b[0m\u001b[0;34m,\u001b[0m\u001b[0;36m1\u001b[0m\u001b[0;34m)\u001b[0m\u001b[0;34m)\u001b[0m\u001b[0;34m\u001b[0m\u001b[0;34m\u001b[0m\u001b[0m\n",
      "\u001b[0;32m/opt/anaconda3/lib/python3.9/site-packages/pandas/core/generic.py\u001b[0m in \u001b[0;36mmin\u001b[0;34m(self, axis, skipna, level, numeric_only, **kwargs)\u001b[0m\n\u001b[1;32m  11242\u001b[0m             \u001b[0;34m**\u001b[0m\u001b[0mkwargs\u001b[0m\u001b[0;34m,\u001b[0m\u001b[0;34m\u001b[0m\u001b[0;34m\u001b[0m\u001b[0m\n\u001b[1;32m  11243\u001b[0m         ):\n\u001b[0;32m> 11244\u001b[0;31m             \u001b[0;32mreturn\u001b[0m \u001b[0mNDFrame\u001b[0m\u001b[0;34m.\u001b[0m\u001b[0mmin\u001b[0m\u001b[0;34m(\u001b[0m\u001b[0mself\u001b[0m\u001b[0;34m,\u001b[0m \u001b[0maxis\u001b[0m\u001b[0;34m,\u001b[0m \u001b[0mskipna\u001b[0m\u001b[0;34m,\u001b[0m \u001b[0mlevel\u001b[0m\u001b[0;34m,\u001b[0m \u001b[0mnumeric_only\u001b[0m\u001b[0;34m,\u001b[0m \u001b[0;34m**\u001b[0m\u001b[0mkwargs\u001b[0m\u001b[0;34m)\u001b[0m\u001b[0;34m\u001b[0m\u001b[0;34m\u001b[0m\u001b[0m\n\u001b[0m\u001b[1;32m  11245\u001b[0m \u001b[0;34m\u001b[0m\u001b[0m\n\u001b[1;32m  11246\u001b[0m         \u001b[0msetattr\u001b[0m\u001b[0;34m(\u001b[0m\u001b[0mcls\u001b[0m\u001b[0;34m,\u001b[0m \u001b[0;34m\"min\"\u001b[0m\u001b[0;34m,\u001b[0m \u001b[0mmin\u001b[0m\u001b[0;34m)\u001b[0m\u001b[0;34m\u001b[0m\u001b[0;34m\u001b[0m\u001b[0m\n",
      "\u001b[0;32m/opt/anaconda3/lib/python3.9/site-packages/pandas/core/generic.py\u001b[0m in \u001b[0;36mmin\u001b[0;34m(self, axis, skipna, level, numeric_only, **kwargs)\u001b[0m\n\u001b[1;32m  10656\u001b[0m         \u001b[0;34m**\u001b[0m\u001b[0mkwargs\u001b[0m\u001b[0;34m,\u001b[0m\u001b[0;34m\u001b[0m\u001b[0;34m\u001b[0m\u001b[0m\n\u001b[1;32m  10657\u001b[0m     ):\n\u001b[0;32m> 10658\u001b[0;31m         return self._stat_function(\n\u001b[0m\u001b[1;32m  10659\u001b[0m             \u001b[0;34m\"min\"\u001b[0m\u001b[0;34m,\u001b[0m\u001b[0;34m\u001b[0m\u001b[0;34m\u001b[0m\u001b[0m\n\u001b[1;32m  10660\u001b[0m             \u001b[0mnanops\u001b[0m\u001b[0;34m.\u001b[0m\u001b[0mnanmin\u001b[0m\u001b[0;34m,\u001b[0m\u001b[0;34m\u001b[0m\u001b[0;34m\u001b[0m\u001b[0m\n",
      "\u001b[0;32m/opt/anaconda3/lib/python3.9/site-packages/pandas/core/generic.py\u001b[0m in \u001b[0;36m_stat_function\u001b[0;34m(self, name, func, axis, skipna, level, numeric_only, **kwargs)\u001b[0m\n\u001b[1;32m  10644\u001b[0m                 \u001b[0mname\u001b[0m\u001b[0;34m,\u001b[0m \u001b[0maxis\u001b[0m\u001b[0;34m=\u001b[0m\u001b[0maxis\u001b[0m\u001b[0;34m,\u001b[0m \u001b[0mlevel\u001b[0m\u001b[0;34m=\u001b[0m\u001b[0mlevel\u001b[0m\u001b[0;34m,\u001b[0m \u001b[0mskipna\u001b[0m\u001b[0;34m=\u001b[0m\u001b[0mskipna\u001b[0m\u001b[0;34m,\u001b[0m \u001b[0mnumeric_only\u001b[0m\u001b[0;34m=\u001b[0m\u001b[0mnumeric_only\u001b[0m\u001b[0;34m\u001b[0m\u001b[0;34m\u001b[0m\u001b[0m\n\u001b[1;32m  10645\u001b[0m             )\n\u001b[0;32m> 10646\u001b[0;31m         return self._reduce(\n\u001b[0m\u001b[1;32m  10647\u001b[0m             \u001b[0mfunc\u001b[0m\u001b[0;34m,\u001b[0m \u001b[0mname\u001b[0m\u001b[0;34m=\u001b[0m\u001b[0mname\u001b[0m\u001b[0;34m,\u001b[0m \u001b[0maxis\u001b[0m\u001b[0;34m=\u001b[0m\u001b[0maxis\u001b[0m\u001b[0;34m,\u001b[0m \u001b[0mskipna\u001b[0m\u001b[0;34m=\u001b[0m\u001b[0mskipna\u001b[0m\u001b[0;34m,\u001b[0m \u001b[0mnumeric_only\u001b[0m\u001b[0;34m=\u001b[0m\u001b[0mnumeric_only\u001b[0m\u001b[0;34m\u001b[0m\u001b[0;34m\u001b[0m\u001b[0m\n\u001b[1;32m  10648\u001b[0m         )\n",
      "\u001b[0;32m/opt/anaconda3/lib/python3.9/site-packages/pandas/core/series.py\u001b[0m in \u001b[0;36m_reduce\u001b[0;34m(self, op, name, axis, skipna, numeric_only, filter_type, **kwds)\u001b[0m\n\u001b[1;32m   4469\u001b[0m                 )\n\u001b[1;32m   4470\u001b[0m             \u001b[0;32mwith\u001b[0m \u001b[0mnp\u001b[0m\u001b[0;34m.\u001b[0m\u001b[0merrstate\u001b[0m\u001b[0;34m(\u001b[0m\u001b[0mall\u001b[0m\u001b[0;34m=\u001b[0m\u001b[0;34m\"ignore\"\u001b[0m\u001b[0;34m)\u001b[0m\u001b[0;34m:\u001b[0m\u001b[0;34m\u001b[0m\u001b[0;34m\u001b[0m\u001b[0m\n\u001b[0;32m-> 4471\u001b[0;31m                 \u001b[0;32mreturn\u001b[0m \u001b[0mop\u001b[0m\u001b[0;34m(\u001b[0m\u001b[0mdelegate\u001b[0m\u001b[0;34m,\u001b[0m \u001b[0mskipna\u001b[0m\u001b[0;34m=\u001b[0m\u001b[0mskipna\u001b[0m\u001b[0;34m,\u001b[0m \u001b[0;34m**\u001b[0m\u001b[0mkwds\u001b[0m\u001b[0;34m)\u001b[0m\u001b[0;34m\u001b[0m\u001b[0;34m\u001b[0m\u001b[0m\n\u001b[0m\u001b[1;32m   4472\u001b[0m \u001b[0;34m\u001b[0m\u001b[0m\n\u001b[1;32m   4473\u001b[0m     def _reindex_indexer(\n",
      "\u001b[0;32m/opt/anaconda3/lib/python3.9/site-packages/pandas/core/nanops.py\u001b[0m in \u001b[0;36mf\u001b[0;34m(values, axis, skipna, **kwds)\u001b[0m\n\u001b[1;32m    144\u001b[0m                     \u001b[0;31m#  TypeError if called\u001b[0m\u001b[0;34m\u001b[0m\u001b[0;34m\u001b[0m\u001b[0m\n\u001b[1;32m    145\u001b[0m                     \u001b[0mkwds\u001b[0m\u001b[0;34m.\u001b[0m\u001b[0mpop\u001b[0m\u001b[0;34m(\u001b[0m\u001b[0;34m\"mask\"\u001b[0m\u001b[0;34m,\u001b[0m \u001b[0;32mNone\u001b[0m\u001b[0;34m)\u001b[0m\u001b[0;34m\u001b[0m\u001b[0;34m\u001b[0m\u001b[0m\n\u001b[0;32m--> 146\u001b[0;31m                     \u001b[0mresult\u001b[0m \u001b[0;34m=\u001b[0m \u001b[0mbn_func\u001b[0m\u001b[0;34m(\u001b[0m\u001b[0mvalues\u001b[0m\u001b[0;34m,\u001b[0m \u001b[0maxis\u001b[0m\u001b[0;34m=\u001b[0m\u001b[0maxis\u001b[0m\u001b[0;34m,\u001b[0m \u001b[0;34m**\u001b[0m\u001b[0mkwds\u001b[0m\u001b[0;34m)\u001b[0m\u001b[0;34m\u001b[0m\u001b[0;34m\u001b[0m\u001b[0m\n\u001b[0m\u001b[1;32m    147\u001b[0m \u001b[0;34m\u001b[0m\u001b[0m\n\u001b[1;32m    148\u001b[0m                     \u001b[0;31m# prefer to treat inf/-inf as NA, but must compute the func\u001b[0m\u001b[0;34m\u001b[0m\u001b[0;34m\u001b[0m\u001b[0m\n",
      "\u001b[0;31mKeyboardInterrupt\u001b[0m: "
     ]
    }
   ],
   "source": [
    "#make year values smaller\n",
    "raw_stage1['year_trend'] = raw_stage1.apply(lambda x: x['year'] - (raw_stage1['year'].min()-1),axis=1)\n",
    "\n",
    "#minmax scaling for elevation - elastic net sensitive to variables on different scales\n",
    "elevation = MinMaxScaler().fit_transform(np.array(raw_stage1['elevation_difference']).reshape(-1,1))\n",
    "raw_stage1['s_elevation_difference'] = elevation.reshape(elevation.shape[0],)\n",
    "\n",
    "# #OHE  for month\n",
    "raw_stage1['month'] = raw_stage1['year_month'].astype(str).apply(lambda x: x[-2:])\n",
    "mth_enc = OneHotEncoder(handle_unknown='error',drop='first',sparse_output=False) \n",
    "mth_ohc_values = mth_enc.fit_transform(np.array(raw_stage1['month']).reshape(-1,1))\n",
    "mth_ohc_labels = mth_enc.get_feature_names_out(['month'])\n",
    "raw_stage1 = pd.concat([raw_stage1.reset_index(drop=True), pd.DataFrame(mth_ohc_values, columns = mth_ohc_labels).reset_index(drop=True)],axis=1)\n",
    "print(mth_ohc_labels)\n",
    "\n",
    "# #OHE for ZCTA\n",
    "zc_enc = OneHotEncoder(handle_unknown='error',drop='first',sparse_output=False) \n",
    "zc_ohc_values = zc_enc.fit_transform(np.array(raw_stage1['ZCTA']).reshape(-1,1))\n",
    "zc_ohc_labels = zc_enc.get_feature_names_out(['ZCTA'])\n",
    "raw_stage1 = pd.concat([raw_stage1.reset_index(drop=True), pd.DataFrame(zc_ohc_values, columns = zc_ohc_labels).reset_index(drop=True)],axis=1)\n",
    "print(zc_ohc_labels)"
   ]
  },
  {
   "cell_type": "code",
   "execution_count": null,
   "metadata": {
    "colab": {
     "base_uri": "https://localhost:8080/"
    },
    "id": "HBMnt2zCLjEt",
    "outputId": "e08b66f3-c117-4c1f-ed09-f37508514b7c",
    "tags": []
   },
   "outputs": [],
   "source": [
    "raw_stage1.shape\n"
   ]
  },
  {
   "cell_type": "code",
   "execution_count": null,
   "metadata": {
    "colab": {
     "base_uri": "https://localhost:8080/",
     "height": 205
    },
    "id": "03JGqJ2ZBkBr",
    "outputId": "0adde28a-a6af-4dee-b3ba-82f124e04514",
    "tags": []
   },
   "outputs": [],
   "source": [
    "raw_stage1.head(2)"
   ]
  },
  {
   "cell_type": "code",
   "execution_count": null,
   "metadata": {
    "colab": {
     "base_uri": "https://localhost:8080/"
    },
    "id": "StEQVTLtTwBJ",
    "outputId": "9f3bab4b-cb30-4273-d456-b06cc36a601f",
    "tags": []
   },
   "outputs": [],
   "source": [
    "raw_stage1.columns"
   ]
  },
  {
   "cell_type": "code",
   "execution_count": null,
   "metadata": {
    "id": "kWblelX6EmzF",
    "tags": []
   },
   "outputs": [],
   "source": [
    "#create data\n",
    "def create_stage1_data(instrument_var_name):\n",
    "  #list variables\n",
    "  stage_1_yvar  = 'zip_pm25'\n",
    "  time_vars = ['year_trend'] + list(mth_ohc_labels)\n",
    "  iv_vars =  [instrument_var_name] #['ins_1_no_bin_raw', 'ins_2_add_acres_raw','ins_3_norms', 'ins_4_add_acres_norms', 'ins_5_norm_bins_acres','ins_6_bins_raw']\n",
    "  env_vars = ['s_elevation_difference']\n",
    "  dem_vars = [ \n",
    "          'total_population','households_count',\n",
    "          'median_income_per_household', 'percent_high_school_grad_new', 'percent_bach_deg_grad_new', \n",
    "          'percent_pop_age_under_5', 'percent_pop_age_5to9', 'percent_pop_age_10to14','percent_pop_age_15to19_new',\n",
    "          # 'percent_pop_male_age_under_5', 'percent_pop_male_age_5to9', 'percent_pop_male_age_10to14_new', 'percent_pop_male_age_15to19_new'\n",
    "          'percent_pop_female_age_under_5', 'percent_pop_female_age_5to9','percent_pop_female_age_10to14', 'percent_pop_female_age_15to19_new'] #PENDING\n",
    "\n",
    "  stage_1_xvars = time_vars + iv_vars + env_vars + dem_vars + list(zc_ohc_labels)\n",
    "\n",
    "  X = raw_stage1[stage_1_xvars]\n",
    "  y = raw_stage1[stage_1_yvar]\n",
    "\n",
    "  return X, y"
   ]
  },
  {
   "cell_type": "code",
   "execution_count": null,
   "metadata": {
    "id": "7s_S-vLKF7bp",
    "tags": []
   },
   "outputs": [],
   "source": [
    "def train_test_panel_split(X,y,test_size=TEST_SIZE):\n",
    "  #split into train vs test\n",
    "  last_train_idx = round(X.shape[0]*(1-test_size))\n",
    "\n",
    "  X_train = X.iloc[:last_train_idx] \n",
    "  X_test = X.iloc[last_train_idx:]\n",
    "\n",
    "  y_train = y.iloc[:last_train_idx]\n",
    "  y_test = y.iloc[last_train_idx:]\n",
    "  \n",
    "  return X_train, X_test, y_train, y_test\n"
   ]
  },
  {
   "cell_type": "code",
   "execution_count": null,
   "metadata": {
    "id": "fkypv9YRlqcB",
    "tags": []
   },
   "outputs": [],
   "source": [
    "#actual code for featuregeneration\n",
    "instruments = ['ins_1_no_bin_raw', 'ins_2_add_acres_raw','ins_3_norms', 'ins_4_add_acres_norms', 'ins_5_norm_bins_acres','ins_6_bins_raw']\n",
    "# X, y = create_stage1_data(instrument_var_name=instruments[4])\n",
    "# X_train, X_test, y_train, y_test = train_test_panel_split(X,y)"
   ]
  },
  {
   "cell_type": "markdown",
   "metadata": {
    "id": "5rHCzO3zGQJE"
   },
   "source": [
    "### **3. Model selection**"
   ]
  },
  {
   "cell_type": "code",
   "execution_count": null,
   "metadata": {
    "id": "octPJwsARh7s",
    "tags": []
   },
   "outputs": [],
   "source": [
    "#Define loss functions\n",
    "\n",
    "## ADJUST FOR CLUSTER STD ERRORS\n",
    "\n",
    "def get_rmse(model,X,y):\n",
    "    return ((np.array(y) - model.predict(X))**2).mean()    \n",
    "\n",
    "def get_mae(model,X,y):\n",
    "    return (abs(np.array(y) - model.predict(X))).mean()    \n",
    "\n",
    "def get_huber_loss(model,X,y,delta=5):\n",
    "    r = np.array(y) - model.predict(X)\n",
    "    return sum(huber(delta,r))"
   ]
  },
  {
   "cell_type": "code",
   "execution_count": null,
   "metadata": {
    "colab": {
     "base_uri": "https://localhost:8080/"
    },
    "id": "WWE_NSwHN_Ci",
    "outputId": "3a2f5038-7943-48ba-c30b-57ca6bf161ff",
    "tags": []
   },
   "outputs": [],
   "source": [
    "import multiprocessing\n",
    "multiprocessing.cpu_count()"
   ]
  },
  {
   "cell_type": "code",
   "execution_count": null,
   "metadata": {
    "colab": {
     "base_uri": "https://localhost:8080/",
     "height": 206
    },
    "id": "Ad2Hrm4HOh_r",
    "outputId": "4a83f3c1-d8df-4a4d-8777-8eb05de37383",
    "tags": []
   },
   "outputs": [],
   "source": [
    "#Define hyperparmeters\n",
    "hyperparams = {'booster':'gbtree', \n",
    "               'objective':'reg:squarederror', \n",
    "               'tree_method':'hist', \n",
    "               'nthread':16,\n",
    "               # 'n_jobs':2,\n",
    "               'gamma':0,\n",
    "               'eval_metric':'rmse',\n",
    "               'num_parallel_tree':20,         #number of trees to be running in the model\n",
    "               'max_depth' : [6,12,18],         #max tree depth\n",
    "               'subsample':[0.2,0.4,0.6],       #proportion of training instances subsampled\n",
    "               'reg_lambda':[0.01, 0.1, 1],     #L2 reg\n",
    "               'learning_rate': [0.01,0.03,0.05],\n",
    "               'random_state' :RANDOM_STATE\n",
    "              }\n",
    "       #,\n",
    "keys = list(hyperparams.keys())\n",
    "hyperparams_df = pd.DataFrame(np.array(np.meshgrid(*[hyperparams[key_i] for key_i in keys])).T.reshape(-1, len(keys)))\n",
    "hyperparams_df.columns = keys \n",
    "hyperparams_df.head()"
   ]
  },
  {
   "cell_type": "code",
   "execution_count": null,
   "metadata": {
    "id": "8oqD4zcLTfTg",
    "tags": []
   },
   "outputs": [],
   "source": [
    "def select_models(hyperparams_df,X_train,y_train):\n",
    "    results = {'hyperparams':[], 'rmse_train': [], 'rmse_test': []}\n",
    "\n",
    "    folds = TimeSeriesSplit(n_splits=5) #default value\n",
    "\n",
    "    #implement grid search\n",
    "    for i in tqdm(range(hyperparams_df.shape[0])): #to use fullhyperparamset for actual run\n",
    "        #get hyperparams\n",
    "        hyperparams = dict(hyperparams_df.iloc[i])\n",
    "\n",
    "        #initialize empty lists\n",
    "        rmse_trains =[]; rmse_tests =[]; \n",
    "        # huber_trains=[]; huber_tests=[]   #we should care more about squared errors because \"outliers\" arising from wildfires are a big part of what we are trying to predict.\n",
    "\n",
    "        for fold_count,fold in enumerate(folds.split(X_train)):\n",
    "            print(fold_count)\n",
    "            #get data\n",
    "            X_cvtrain = X_train.loc[fold[0]]  ; X_val = X_train.loc[fold[1]]\n",
    "            y_cvtrain = y_train.loc[fold[0]]  ; y_val = y_train.loc[fold[1]]\n",
    "            \n",
    "            # print(X_cvtrain.shape)\n",
    "\n",
    "            #fit model\n",
    "            tmp_model = XGBRegressor(**hyperparams).fit(X_cvtrain,y_cvtrain,verbose=0)  \n",
    "            # print(get_rmse(tmp_model, X_cvtrain, y_cvtrain))\n",
    "            #append results\n",
    "            rmse_trains.append(get_rmse(tmp_model, X_cvtrain, y_cvtrain))\n",
    "            rmse_tests.append(get_rmse(tmp_model, X_val, y_val))\n",
    "            # huber_trains.append(get_huber_loss(tmp_model, X_cvtrain, y_cvtrain))  \n",
    "            # huber_tests.append(get_huber_loss(tmp_model, X_val  , y_val))\n",
    "\n",
    "        results['hyperparams'].append(hyperparams)\n",
    "        results['rmse_train'].append(np.mean(rmse_trains))\n",
    "        results['rmse_test'].append(np.mean(rmse_tests))\n",
    "        # results['huber_loss_train'].append(np.mean(huber_trains))\n",
    "        # results['huber_loss_test'].append(np.mean(huber_tests))\n",
    "    \n",
    "    best_hyperparams = pd.DataFrame(results).sort_values('rmse_test',ascending=True).iloc[0]['hyperparams']   \n",
    "    return best_hyperparams, pd.DataFrame(results).sort_values('rmse_test',ascending=True)\n"
   ]
  },
  {
   "cell_type": "code",
   "execution_count": null,
   "metadata": {
    "colab": {
     "base_uri": "https://localhost:8080/",
     "height": 953
    },
    "id": "IgO5QpVirBhK",
    "outputId": "70f6e80e-b773-48d4-bbf4-db31536b1ac9",
    "tags": []
   },
   "outputs": [],
   "source": [
    "#create models for each instrument and save model output\n",
    "\n",
    "instruments = ['ins_3_norms', 'ins_4_add_acres_norms']\n",
    "models = dict()\n",
    "\n",
    "train_rmses = [] ; test_rmses = []\n",
    "train_maes = []  ; test_maes  = []\n",
    "\n",
    "for i in tqdm(range(len(instruments))):\n",
    "  #load data with correct instrument name\n",
    "  print ('starting for instrument {}:'.format(instruments[i]))\n",
    "  X, y = create_stage1_data(instrument_var_name=instruments[i])\n",
    "  X_train, X_test, y_train, y_test = train_test_panel_split(X,y)\n",
    "  X_train = X_train.iloc[:,:50]\n",
    "\n",
    "  #select and train best performing cross validated model\n",
    "  # best_hyperparams, results = select_models(hyperparams_df,X_train,y_train)  #can get params for each model using get_xgb_params()\n",
    "  best_hyperparams, results = select_models(hyperparams_df,X_train,y_train) \n",
    "  print(best_hyperparams)\n",
    "  models['stage1_xgb_model_'+str(i+1)] = XGBRegressor(**best_hyperparams).fit(X_train,y_train,verbose=0)\n",
    "\n",
    "  #save model\n",
    "  filename = file_path+'stage1_xgb_model_'+str(i+1) + '.json'\n",
    "  models['stage1_xgb_model_'+str(i+1)].save_model(filename) \n",
    "\n",
    "  #save train and test rmses / maes\n",
    "  train_rmses.append(get_rmse(models['stage1_xgb_model_'+str(i+1)],X_train,y_train))\n",
    "  test_rmses.append( get_rmse(models['stage1_xgb_model_'+str(i+1)],X_test,y_test) )\n",
    "\n",
    "  train_maes.append( get_mae(models['stage1_xgb_model_'+str(i+1)],X_train,y_train) )\n",
    "  test_maes.append( get_mae(models['stage1_xgb_model_'+str(i+1)],X_test,y_test))\n",
    "\n",
    "all_results = pd.DataFrame(\n",
    "    {\n",
    "      'model_name': ['stage1_xgb_model_'+str(i+1) for i in range(len(instruments))],\n",
    "      'train_rmse': train_rmses, 'test_rmse': test_rmses, \n",
    "      'train_mae': train_maes, 'test_mae': test_maes\n",
    "    }\n",
    ")\n",
    "\n",
    "all_results.to_csv(file_path+'stage1_xgb_model_results.csv')"
   ]
  },
  {
   "cell_type": "code",
   "execution_count": null,
   "metadata": {
    "id": "UppMRV2FqT76",
    "tags": []
   },
   "outputs": [],
   "source": [
    "#analyze best hyperparams for each model config\n",
    "best_hyperparams_all_models = [model.get_xgb_params() for model in models.values()]\n",
    "\n",
    "for idx, name in enumerate(models.keys()):\n",
    "  best_hyperparams_all_models[idx]['model_name'] = name \n",
    "\n",
    "best_hyperparams_all_models_df = pd.DataFrame(best_hyperparams_all_models)\n",
    "\n",
    "final_results = pd.merge(best_hyperparams_all_models_df[['model_name']+list(hyperparams.keys())],\n",
    "                         all_results ,\n",
    "                         how='left', \n",
    "                         on='model_name')\n",
    "\n",
    "display(final_results)"
   ]
  },
  {
   "cell_type": "markdown",
   "metadata": {
    "id": "auW5EjoYTGTo"
   },
   "source": [
    "### **4. Model evaluation**"
   ]
  },
  {
   "cell_type": "markdown",
   "metadata": {
    "id": "yaaJBp1lU4Fs"
   },
   "source": [
    "#### 4a. RMSEs"
   ]
  },
  {
   "cell_type": "code",
   "execution_count": null,
   "metadata": {
    "id": "TwimUkxzT0FF"
   },
   "outputs": [],
   "source": [
    "#see above. "
   ]
  },
  {
   "cell_type": "markdown",
   "metadata": {
    "id": "tUKFsuxAjzEu"
   },
   "source": [
    "#### 4b. MAEs"
   ]
  },
  {
   "cell_type": "code",
   "execution_count": null,
   "metadata": {
    "id": "0DALRbrAj2aM"
   },
   "outputs": [],
   "source": [
    "#see above."
   ]
  },
  {
   "cell_type": "markdown",
   "metadata": {
    "id": "cZdfAeq5w2aN"
   },
   "source": [
    "#### 4c. Adj. R-squared"
   ]
  },
  {
   "cell_type": "code",
   "execution_count": null,
   "metadata": {
    "id": "xBkkng4iw2GO"
   },
   "outputs": [],
   "source": [
    "#not applicable for non-linear models."
   ]
  },
  {
   "cell_type": "markdown",
   "metadata": {
    "id": "hNCvgenLj5un"
   },
   "source": [
    "### **5. Feature importances / inference**"
   ]
  },
  {
   "cell_type": "code",
   "execution_count": null,
   "metadata": {
    "id": "svE4IScNxHe3",
    "tags": []
   },
   "outputs": [],
   "source": [
    "#code for loading xgb model object\n",
    "instrument_choice = 5\n",
    "\n",
    "best_xgb_model = XGBRegressor()\n",
    "best_xgb_model.load_model(file_path+'stage1_xgb_model_{}.json'.format(str(instrument_choice)))"
   ]
  },
  {
   "cell_type": "markdown",
   "metadata": {
    "id": "29iNYibVj_2Y"
   },
   "source": [
    "#### 5a. Built-in"
   ]
  },
  {
   "cell_type": "code",
   "execution_count": null,
   "metadata": {
    "id": "AruFv07ezD_o",
    "tags": []
   },
   "outputs": [],
   "source": [
    "feature_category_dict = {'year_trend':'year', \n",
    "                         's_elevation_difference':'elevation'}  #check if need to remove elevation\n",
    "\n",
    "for i in list(mth_ohc_labels): \n",
    "  feature_category_dict[i]='month'\n",
    "\n",
    "for i in list(zc_ohc_labels): \n",
    "  feature_category_dict[i]='geography'\n",
    "\n",
    "for i in ['ins_1_no_bin_raw', 'ins_2_add_acres_raw','ins_3_norms', 'ins_4_add_acres_norms', 'ins_5_norm_bins_acres','ins_6_bins_raw']:\n",
    "  feature_category_dict[i]='instrument'\n",
    "\n",
    "for i in ['total_population','households_count','percent_pop_age_under_5', 'percent_pop_age_5to9', 'percent_pop_age_10to14','percent_pop_age_15to19_new']:\n",
    "  feature_category_dict[i]='population'\n",
    "\n",
    "for i in ['mean_income_per_household','median_income_per_household','percent_high_school_grad_new','percent_bach_deg_grad_new']:\n",
    "  feature_category_dict[i]='social.status'\n",
    "\n",
    "for i in ['percent_pop_female_age_under_5', 'percent_pop_female_age_5to9','percent_pop_female_age_10to14', 'percent_pop_female_age_15to19_new']:\n",
    "  feature_category_dict[i]='gender'\n",
    "  "
   ]
  },
  {
   "cell_type": "code",
   "execution_count": null,
   "metadata": {
    "id": "RZWg5fUxyoSS",
    "tags": []
   },
   "outputs": [],
   "source": [
    "importances = pd.DataFrame({'variable_name':best_xgb_model.get_booster().feature_names, 'importance':best_xgb_model.feature_importances_})\n",
    "importances['category'] = importances['variable_name'].apply(lambda x: feature_category_dict[x])\n",
    "importances[['category','importance']].boxplot(by='category')"
   ]
  },
  {
   "cell_type": "code",
   "execution_count": null,
   "metadata": {
    "id": "GaGXxEO82MBo",
    "tags": []
   },
   "outputs": [],
   "source": [
    "importances[['category','importance']].groupby('category').mean().sort_values(by='importance').plot(kind='barh')"
   ]
  },
  {
   "cell_type": "code",
   "execution_count": null,
   "metadata": {
    "id": "bGzXTpCU3Bht",
    "tags": []
   },
   "outputs": [],
   "source": [
    "print('Feature importances: ')\n",
    "feat_importances = pd.Series(best_xgb_model.feature_importances_, \n",
    "                             index=best_xgb_model.get_booster().feature_names)\n",
    "feat_importances.nlargest(10).sort_values().plot(kind='barh')"
   ]
  },
  {
   "cell_type": "code",
   "execution_count": null,
   "metadata": {
    "id": "XmQHiMKW3Gz5",
    "tags": []
   },
   "outputs": [],
   "source": [
    "#feature importance heat map by ZCTA\n",
    "geos = importances.loc[importances['category']=='geography']\n",
    "geos['ZCTA'] = geos['variable_name'].apply(lambda x: x.split('_')[1]).astype(int)\n",
    "\n",
    "#find a way to plot heat map"
   ]
  },
  {
   "cell_type": "markdown",
   "metadata": {
    "id": "Hh4MGwvqkD8I"
   },
   "source": [
    "#### 5b. Permutation importance"
   ]
  },
  {
   "cell_type": "markdown",
   "metadata": {
    "id": "yhXEXVsUkJ0F"
   },
   "source": [
    "#### 5c. SHAP"
   ]
  }
 ],
 "metadata": {
  "accelerator": "GPU",
  "colab": {
   "provenance": [],
   "toc_visible": true
  },
  "gpuClass": "standard",
  "kernelspec": {
   "display_name": "Python 3 (ipykernel)",
   "language": "python",
   "name": "python3"
  },
  "language_info": {
   "codemirror_mode": {
    "name": "ipython",
    "version": 3
   },
   "file_extension": ".py",
   "mimetype": "text/x-python",
   "name": "python",
   "nbconvert_exporter": "python",
   "pygments_lexer": "ipython3",
   "version": "3.9.13"
  }
 },
 "nbformat": 4,
 "nbformat_minor": 4
}
