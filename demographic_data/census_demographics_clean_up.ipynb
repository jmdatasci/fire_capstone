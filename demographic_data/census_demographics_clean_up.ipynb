{
 "cells": [
  {
   "cell_type": "code",
   "execution_count": 1,
   "metadata": {},
   "outputs": [],
   "source": [
    "import pandas as pd\n",
    "import numpy as np\n",
    "import datetime as dt\n",
    "import matplotlib as plt\n",
    "import os"
   ]
  },
  {
   "cell_type": "code",
   "execution_count": 2,
   "metadata": {},
   "outputs": [
    {
     "data": {
      "text/plain": [
       "'/Users/emnichols/capstone'"
      ]
     },
     "execution_count": 2,
     "metadata": {},
     "output_type": "execute_result"
    }
   ],
   "source": [
    "os.getcwd()"
   ]
  },
  {
   "cell_type": "markdown",
   "metadata": {},
   "source": [
    "## Median and Mean Income"
   ]
  },
  {
   "cell_type": "code",
   "execution_count": 3,
   "metadata": {},
   "outputs": [
    {
     "name": "stdout",
     "output_type": "stream",
     "text": [
      "/Users/emnichols/capstone/income_ca\n"
     ]
    }
   ],
   "source": [
    "cd income_ca"
   ]
  },
  {
   "cell_type": "code",
   "execution_count": 4,
   "metadata": {},
   "outputs": [],
   "source": [
    "path = os.getcwd()\n",
    "files = os.listdir(path)"
   ]
  },
  {
   "cell_type": "code",
   "execution_count": 5,
   "metadata": {},
   "outputs": [
    {
     "data": {
      "text/plain": [
       "['ACSST5Y2013.S1903-Data.csv',\n",
       " 'ACSST5Y2013.S1902-Data.csv',\n",
       " 'ACSST5Y2014.S1902-Data.csv',\n",
       " 'ACSST5Y2014.S1903-Data.csv',\n",
       " 'ACSST5Y2015.S1902-Data.csv',\n",
       " 'ACSST5Y2015.S1903-Data.csv',\n",
       " '.DS_Store',\n",
       " 'ACSST5Y2012.S1903-Data.csv',\n",
       " 'ACSST5Y2012.S1902-Data.csv',\n",
       " 'ACSST5Y2018.S1902-Data.csv',\n",
       " 'ACSST5Y2018.S1903-Data.csv',\n",
       " 'ACSST5Y2017.S1903-Data.csv',\n",
       " 'ACSST5Y2017.S1902-Data.csv',\n",
       " 'ACSST5Y2016.S1903-Data.csv',\n",
       " 'ACSST5Y2016.S1902-Data.csv',\n",
       " 'ACSST5Y2019.S1902-Data.csv',\n",
       " 'ACSST5Y2019.S1903-Data.csv',\n",
       " 'ACSST5Y2011.S1902-Data.csv',\n",
       " 'ACSST5Y2011.S1903-Data.csv',\n",
       " 'ACSST5Y2021.S1902-Data.csv',\n",
       " 'ACSST5Y2021.S1903-Data.csv',\n",
       " 'ACSST5Y2020.S1902-Data.csv',\n",
       " 'ACSST5Y2020.S1903-Data.csv']"
      ]
     },
     "execution_count": 5,
     "metadata": {},
     "output_type": "execute_result"
    }
   ],
   "source": [
    "files # confirm no unintended outputs"
   ]
  },
  {
   "cell_type": "code",
   "execution_count": 6,
   "metadata": {},
   "outputs": [],
   "source": [
    "df_income_mean = pd.DataFrame()\n",
    "df_income_median = pd.DataFrame()"
   ]
  },
  {
   "cell_type": "code",
   "execution_count": 7,
   "metadata": {},
   "outputs": [],
   "source": [
    "mean_columns_2011_2016 = ['Geographic Area Name', \\\n",
    "                          'Total!!Estimate!!All households', \\\n",
    "                          'Mean income (dollars)!!Estimate!!All households'\n",
    "]"
   ]
  },
  {
   "cell_type": "code",
   "execution_count": 8,
   "metadata": {},
   "outputs": [],
   "source": [
    "mean_columns_2017_2021 = ['Geographic Area Name', \\\n",
    "                          'Estimate!!Number!!HOUSEHOLD INCOME!!All households',\\\n",
    "                          'Estimate!!Mean income (dollars)!!HOUSEHOLD INCOME!!All households'\n",
    "                          \n",
    "]"
   ]
  },
  {
   "cell_type": "code",
   "execution_count": 9,
   "metadata": {},
   "outputs": [],
   "source": [
    "mean_col_names = ['geographic_area_name','total_households','mean_income_per_household']"
   ]
  },
  {
   "cell_type": "code",
   "execution_count": 10,
   "metadata": {},
   "outputs": [],
   "source": [
    "median_columns_2011_2016 = ['Geographic Area Name',\\\n",
    "                            'Total!!Estimate!!Households',\\\n",
    "                            'Median income (dollars)!!Estimate!!Households'\n",
    "]"
   ]
  },
  {
   "cell_type": "code",
   "execution_count": 11,
   "metadata": {},
   "outputs": [],
   "source": [
    "median_columns_2017_2021 = ['Geographic Area Name',\\\n",
    "                            'Estimate!!Number!!HOUSEHOLD INCOME BY RACE AND HISPANIC OR LATINO ORIGIN OF HOUSEHOLDER!!Households',\\\n",
    "                            'Estimate!!Median income (dollars)!!HOUSEHOLD INCOME BY RACE AND HISPANIC OR LATINO ORIGIN OF HOUSEHOLDER!!Households'\n",
    "]"
   ]
  },
  {
   "cell_type": "code",
   "execution_count": 12,
   "metadata": {},
   "outputs": [],
   "source": [
    "median_col_names = ['geographic_area_name','total_households','median_income_per_household']"
   ]
  },
  {
   "cell_type": "code",
   "execution_count": 13,
   "metadata": {},
   "outputs": [],
   "source": [
    "for f in files:\n",
    "    if f[-3:] == 'csv':\n",
    "        if f[-10] == '2':\n",
    "            year = int(f[7:11])\n",
    "            if year in range(2011,2017):\n",
    "                #print(f[-10])\n",
    "                data = pd.read_csv(f, skiprows=1, header=0,usecols=mean_columns_2011_2016)\n",
    "                data['year'] = year\n",
    "                #print(f[7:11])\n",
    "                df_income_mean = pd.concat([df_income_mean,data])\n",
    "                \n",
    "            if year in range(2017,2022):\n",
    "                #print(f[-10])\n",
    "                data = pd.read_csv(f, skiprows=1,usecols=mean_columns_2017_2021)\n",
    "                data['year'] = year\n",
    "                #print(f[7:11])\n",
    "                df_income_mean = pd.concat([df_income_mean,data])\n",
    "                \n",
    "        if f[-10] == '3':\n",
    "            year = int(f[7:11])\n",
    "            if year in range(2011,2017):\n",
    "                #print(f[-10])\n",
    "                data = pd.read_csv(f, skiprows=1,usecols=median_columns_2011_2016)\n",
    "                data['year'] = year\n",
    "                #print(f[7:11])\n",
    "                df_income_median = pd.concat([df_income_median,data])\n",
    "            \n",
    "            if year in range(2017,2022):\n",
    "                #print(f[-10])\n",
    "                data = pd.read_csv(f, skiprows=1,usecols=median_columns_2017_2021)\n",
    "                data['year'] = year\n",
    "                #print(f[7:11])\n",
    "                df_income_median = pd.concat([df_income_median,data])\n"
   ]
  },
  {
   "cell_type": "code",
   "execution_count": 14,
   "metadata": {},
   "outputs": [],
   "source": [
    "df_income_mean['zip_code'] = df_income_mean['Geographic Area Name'].replace('ZCTA5 ','',regex=True)\n",
    "df_income_median['zip_code'] = df_income_median['Geographic Area Name'].replace('ZCTA5 ','',regex=True)\n",
    "\n",
    "df_income_median.drop(columns=['Geographic Area Name'], inplace=True)\n",
    "df_income_mean.drop(columns=['Geographic Area Name'], inplace=True)\n"
   ]
  },
  {
   "cell_type": "code",
   "execution_count": 15,
   "metadata": {},
   "outputs": [],
   "source": [
    "# clean data\n",
    "df_income_median = df_income_median.fillna(0)\n",
    "df_income_mean = df_income_mean.fillna(0)\n",
    "\n",
    "df_income_median = df_income_median.replace('-',0,regex=True)\n",
    "df_income_mean = df_income_mean.replace('-',0,regex=True)\n",
    "\n",
    "df_income_median = df_income_median.replace('250,000\\+',250000,regex=True)\n",
    "df_income_mean = df_income_mean.replace('250,000\\+',250000,regex=True)\n",
    "\n",
    "df_income_median = df_income_median.replace(',',0,regex=True)\n",
    "df_income_mean = df_income_mean.replace(',',0,regex=True)\n",
    "\n",
    "df_income_median = df_income_median.replace('\\(X\\)',0,regex=True)\n",
    "df_income_mean = df_income_mean.replace('\\(X\\)',0,regex=True)\n",
    "\n",
    "df_income_median = df_income_median.replace('N',0,regex=True)\n",
    "df_income_mean = df_income_mean.replace('N',0,regex=True)\n"
   ]
  },
  {
   "cell_type": "code",
   "execution_count": 16,
   "metadata": {},
   "outputs": [],
   "source": [
    "#typecasting\n",
    "df_income_median = df_income_median.apply(pd.to_numeric)\n",
    "df_income_mean = df_income_mean.apply(pd.to_numeric)\n",
    "\n",
    "df_income_mean['year'] = df_income_mean.year.astype('str')\n",
    "df_income_median['year'] = df_income_median.year.astype('str')\n",
    "\n",
    "df_income_mean['zip_code'] = df_income_mean.zip_code.astype('str')\n",
    "df_income_median['zip_code'] = df_income_median.zip_code.astype('str')\n"
   ]
  },
  {
   "cell_type": "code",
   "execution_count": 17,
   "metadata": {},
   "outputs": [],
   "source": [
    "#set index\n",
    "df_income_mean.set_index('zip_code',inplace=True)\n",
    "df_income_median.set_index('zip_code',inplace=True)"
   ]
  },
  {
   "cell_type": "code",
   "execution_count": 18,
   "metadata": {},
   "outputs": [
    {
     "data": {
      "text/html": [
       "<div>\n",
       "<style scoped>\n",
       "    .dataframe tbody tr th:only-of-type {\n",
       "        vertical-align: middle;\n",
       "    }\n",
       "\n",
       "    .dataframe tbody tr th {\n",
       "        vertical-align: top;\n",
       "    }\n",
       "\n",
       "    .dataframe thead th {\n",
       "        text-align: right;\n",
       "    }\n",
       "</style>\n",
       "<table border=\"1\" class=\"dataframe\">\n",
       "  <thead>\n",
       "    <tr style=\"text-align: right;\">\n",
       "      <th></th>\n",
       "      <th>Total!!Estimate!!All households</th>\n",
       "      <th>Mean income (dollars)!!Estimate!!All households</th>\n",
       "      <th>year</th>\n",
       "      <th>Estimate!!Number!!HOUSEHOLD INCOME!!All households</th>\n",
       "      <th>Estimate!!Mean income (dollars)!!HOUSEHOLD INCOME!!All households</th>\n",
       "    </tr>\n",
       "    <tr>\n",
       "      <th>zip_code</th>\n",
       "      <th></th>\n",
       "      <th></th>\n",
       "      <th></th>\n",
       "      <th></th>\n",
       "      <th></th>\n",
       "    </tr>\n",
       "  </thead>\n",
       "  <tbody>\n",
       "    <tr>\n",
       "      <th>89010</th>\n",
       "      <td>149.0</td>\n",
       "      <td>39548</td>\n",
       "      <td>2013</td>\n",
       "      <td>0.0</td>\n",
       "      <td>0</td>\n",
       "    </tr>\n",
       "    <tr>\n",
       "      <th>89019</th>\n",
       "      <td>942.0</td>\n",
       "      <td>53833</td>\n",
       "      <td>2013</td>\n",
       "      <td>0.0</td>\n",
       "      <td>0</td>\n",
       "    </tr>\n",
       "    <tr>\n",
       "      <th>89060</th>\n",
       "      <td>4354.0</td>\n",
       "      <td>50303</td>\n",
       "      <td>2013</td>\n",
       "      <td>0.0</td>\n",
       "      <td>0</td>\n",
       "    </tr>\n",
       "    <tr>\n",
       "      <th>89061</th>\n",
       "      <td>1919.0</td>\n",
       "      <td>63258</td>\n",
       "      <td>2013</td>\n",
       "      <td>0.0</td>\n",
       "      <td>0</td>\n",
       "    </tr>\n",
       "    <tr>\n",
       "      <th>89439</th>\n",
       "      <td>729.0</td>\n",
       "      <td>134593</td>\n",
       "      <td>2013</td>\n",
       "      <td>0.0</td>\n",
       "      <td>0</td>\n",
       "    </tr>\n",
       "  </tbody>\n",
       "</table>\n",
       "</div>"
      ],
      "text/plain": [
       "          Total!!Estimate!!All households  \\\n",
       "zip_code                                    \n",
       "89010                               149.0   \n",
       "89019                               942.0   \n",
       "89060                              4354.0   \n",
       "89061                              1919.0   \n",
       "89439                               729.0   \n",
       "\n",
       "          Mean income (dollars)!!Estimate!!All households  year  \\\n",
       "zip_code                                                          \n",
       "89010                                               39548  2013   \n",
       "89019                                               53833  2013   \n",
       "89060                                               50303  2013   \n",
       "89061                                               63258  2013   \n",
       "89439                                              134593  2013   \n",
       "\n",
       "          Estimate!!Number!!HOUSEHOLD INCOME!!All households  \\\n",
       "zip_code                                                       \n",
       "89010                                                   0.0    \n",
       "89019                                                   0.0    \n",
       "89060                                                   0.0    \n",
       "89061                                                   0.0    \n",
       "89439                                                   0.0    \n",
       "\n",
       "          Estimate!!Mean income (dollars)!!HOUSEHOLD INCOME!!All households  \n",
       "zip_code                                                                     \n",
       "89010                                                     0                  \n",
       "89019                                                     0                  \n",
       "89060                                                     0                  \n",
       "89061                                                     0                  \n",
       "89439                                                     0                  "
      ]
     },
     "execution_count": 18,
     "metadata": {},
     "output_type": "execute_result"
    }
   ],
   "source": [
    "df_income_mean.head()"
   ]
  },
  {
   "cell_type": "code",
   "execution_count": 19,
   "metadata": {},
   "outputs": [],
   "source": [
    "#merge columns to remove missing values for different years\n",
    "\n",
    "df_income_median['households_count'] = df_income_median[['Total!!Estimate!!Households',\\\n",
    "                                         'Estimate!!Number!!HOUSEHOLD INCOME BY RACE AND HISPANIC OR LATINO ORIGIN OF HOUSEHOLDER!!Households'\\\n",
    "                                                        ]].max(axis=1)\n",
    "\n",
    "df_income_median['median_income_per_household'] = df_income_median[['Median income (dollars)!!Estimate!!Households',\\\n",
    "                                         'Estimate!!Median income (dollars)!!HOUSEHOLD INCOME BY RACE AND HISPANIC OR LATINO ORIGIN OF HOUSEHOLDER!!Households'\\\n",
    "                                                                   ]].max(axis=1)\n",
    "\n",
    "df_income_mean['households_count'] = df_income_mean[['Total!!Estimate!!All households',\\\n",
    "                                         'Estimate!!Number!!HOUSEHOLD INCOME!!All households'\\\n",
    "                                                    ]].max(axis=1)\n",
    "\n",
    "df_income_mean['mean_income_per_household'] = df_income_mean[['Mean income (dollars)!!Estimate!!All households',\\\n",
    "                                         'Estimate!!Mean income (dollars)!!HOUSEHOLD INCOME!!All households'\\\n",
    "                                                               ]].max(axis=1)"
   ]
  },
  {
   "cell_type": "code",
   "execution_count": 20,
   "metadata": {},
   "outputs": [
    {
     "data": {
      "text/html": [
       "<div>\n",
       "<style scoped>\n",
       "    .dataframe tbody tr th:only-of-type {\n",
       "        vertical-align: middle;\n",
       "    }\n",
       "\n",
       "    .dataframe tbody tr th {\n",
       "        vertical-align: top;\n",
       "    }\n",
       "\n",
       "    .dataframe thead th {\n",
       "        text-align: right;\n",
       "    }\n",
       "</style>\n",
       "<table border=\"1\" class=\"dataframe\">\n",
       "  <thead>\n",
       "    <tr style=\"text-align: right;\">\n",
       "      <th></th>\n",
       "      <th>Total!!Estimate!!Households</th>\n",
       "      <th>Median income (dollars)!!Estimate!!Households</th>\n",
       "      <th>year</th>\n",
       "      <th>Estimate!!Number!!HOUSEHOLD INCOME BY RACE AND HISPANIC OR LATINO ORIGIN OF HOUSEHOLDER!!Households</th>\n",
       "      <th>Estimate!!Median income (dollars)!!HOUSEHOLD INCOME BY RACE AND HISPANIC OR LATINO ORIGIN OF HOUSEHOLDER!!Households</th>\n",
       "      <th>households_count</th>\n",
       "      <th>median_income_per_household</th>\n",
       "    </tr>\n",
       "    <tr>\n",
       "      <th>zip_code</th>\n",
       "      <th></th>\n",
       "      <th></th>\n",
       "      <th></th>\n",
       "      <th></th>\n",
       "      <th></th>\n",
       "      <th></th>\n",
       "      <th></th>\n",
       "    </tr>\n",
       "  </thead>\n",
       "  <tbody>\n",
       "    <tr>\n",
       "      <th>89010</th>\n",
       "      <td>149.0</td>\n",
       "      <td>32679</td>\n",
       "      <td>2013</td>\n",
       "      <td>0.0</td>\n",
       "      <td>0</td>\n",
       "      <td>149.0</td>\n",
       "      <td>32679</td>\n",
       "    </tr>\n",
       "    <tr>\n",
       "      <th>89019</th>\n",
       "      <td>942.0</td>\n",
       "      <td>38269</td>\n",
       "      <td>2013</td>\n",
       "      <td>0.0</td>\n",
       "      <td>0</td>\n",
       "      <td>942.0</td>\n",
       "      <td>38269</td>\n",
       "    </tr>\n",
       "    <tr>\n",
       "      <th>89060</th>\n",
       "      <td>4354.0</td>\n",
       "      <td>38217</td>\n",
       "      <td>2013</td>\n",
       "      <td>0.0</td>\n",
       "      <td>0</td>\n",
       "      <td>4354.0</td>\n",
       "      <td>38217</td>\n",
       "    </tr>\n",
       "    <tr>\n",
       "      <th>89061</th>\n",
       "      <td>1919.0</td>\n",
       "      <td>51513</td>\n",
       "      <td>2013</td>\n",
       "      <td>0.0</td>\n",
       "      <td>0</td>\n",
       "      <td>1919.0</td>\n",
       "      <td>51513</td>\n",
       "    </tr>\n",
       "    <tr>\n",
       "      <th>89439</th>\n",
       "      <td>729.0</td>\n",
       "      <td>64145</td>\n",
       "      <td>2013</td>\n",
       "      <td>0.0</td>\n",
       "      <td>0</td>\n",
       "      <td>729.0</td>\n",
       "      <td>64145</td>\n",
       "    </tr>\n",
       "  </tbody>\n",
       "</table>\n",
       "</div>"
      ],
      "text/plain": [
       "          Total!!Estimate!!Households  \\\n",
       "zip_code                                \n",
       "89010                           149.0   \n",
       "89019                           942.0   \n",
       "89060                          4354.0   \n",
       "89061                          1919.0   \n",
       "89439                           729.0   \n",
       "\n",
       "          Median income (dollars)!!Estimate!!Households  year  \\\n",
       "zip_code                                                        \n",
       "89010                                             32679  2013   \n",
       "89019                                             38269  2013   \n",
       "89060                                             38217  2013   \n",
       "89061                                             51513  2013   \n",
       "89439                                             64145  2013   \n",
       "\n",
       "          Estimate!!Number!!HOUSEHOLD INCOME BY RACE AND HISPANIC OR LATINO ORIGIN OF HOUSEHOLDER!!Households  \\\n",
       "zip_code                                                                                                        \n",
       "89010                                                   0.0                                                     \n",
       "89019                                                   0.0                                                     \n",
       "89060                                                   0.0                                                     \n",
       "89061                                                   0.0                                                     \n",
       "89439                                                   0.0                                                     \n",
       "\n",
       "          Estimate!!Median income (dollars)!!HOUSEHOLD INCOME BY RACE AND HISPANIC OR LATINO ORIGIN OF HOUSEHOLDER!!Households  \\\n",
       "zip_code                                                                                                                         \n",
       "89010                                                     0                                                                      \n",
       "89019                                                     0                                                                      \n",
       "89060                                                     0                                                                      \n",
       "89061                                                     0                                                                      \n",
       "89439                                                     0                                                                      \n",
       "\n",
       "          households_count  median_income_per_household  \n",
       "zip_code                                                 \n",
       "89010                149.0                        32679  \n",
       "89019                942.0                        38269  \n",
       "89060               4354.0                        38217  \n",
       "89061               1919.0                        51513  \n",
       "89439                729.0                        64145  "
      ]
     },
     "execution_count": 20,
     "metadata": {},
     "output_type": "execute_result"
    }
   ],
   "source": [
    "df_income_median.head()"
   ]
  },
  {
   "cell_type": "code",
   "execution_count": 21,
   "metadata": {},
   "outputs": [
    {
     "data": {
      "text/html": [
       "<div>\n",
       "<style scoped>\n",
       "    .dataframe tbody tr th:only-of-type {\n",
       "        vertical-align: middle;\n",
       "    }\n",
       "\n",
       "    .dataframe tbody tr th {\n",
       "        vertical-align: top;\n",
       "    }\n",
       "\n",
       "    .dataframe thead th {\n",
       "        text-align: right;\n",
       "    }\n",
       "</style>\n",
       "<table border=\"1\" class=\"dataframe\">\n",
       "  <thead>\n",
       "    <tr style=\"text-align: right;\">\n",
       "      <th></th>\n",
       "      <th>Total!!Estimate!!All households</th>\n",
       "      <th>Mean income (dollars)!!Estimate!!All households</th>\n",
       "      <th>year</th>\n",
       "      <th>Estimate!!Number!!HOUSEHOLD INCOME!!All households</th>\n",
       "      <th>Estimate!!Mean income (dollars)!!HOUSEHOLD INCOME!!All households</th>\n",
       "      <th>households_count</th>\n",
       "      <th>mean_income_per_household</th>\n",
       "    </tr>\n",
       "    <tr>\n",
       "      <th>zip_code</th>\n",
       "      <th></th>\n",
       "      <th></th>\n",
       "      <th></th>\n",
       "      <th></th>\n",
       "      <th></th>\n",
       "      <th></th>\n",
       "      <th></th>\n",
       "    </tr>\n",
       "  </thead>\n",
       "  <tbody>\n",
       "    <tr>\n",
       "      <th>89010</th>\n",
       "      <td>149.0</td>\n",
       "      <td>39548</td>\n",
       "      <td>2013</td>\n",
       "      <td>0.0</td>\n",
       "      <td>0</td>\n",
       "      <td>149.0</td>\n",
       "      <td>39548</td>\n",
       "    </tr>\n",
       "    <tr>\n",
       "      <th>89019</th>\n",
       "      <td>942.0</td>\n",
       "      <td>53833</td>\n",
       "      <td>2013</td>\n",
       "      <td>0.0</td>\n",
       "      <td>0</td>\n",
       "      <td>942.0</td>\n",
       "      <td>53833</td>\n",
       "    </tr>\n",
       "    <tr>\n",
       "      <th>89060</th>\n",
       "      <td>4354.0</td>\n",
       "      <td>50303</td>\n",
       "      <td>2013</td>\n",
       "      <td>0.0</td>\n",
       "      <td>0</td>\n",
       "      <td>4354.0</td>\n",
       "      <td>50303</td>\n",
       "    </tr>\n",
       "    <tr>\n",
       "      <th>89061</th>\n",
       "      <td>1919.0</td>\n",
       "      <td>63258</td>\n",
       "      <td>2013</td>\n",
       "      <td>0.0</td>\n",
       "      <td>0</td>\n",
       "      <td>1919.0</td>\n",
       "      <td>63258</td>\n",
       "    </tr>\n",
       "    <tr>\n",
       "      <th>89439</th>\n",
       "      <td>729.0</td>\n",
       "      <td>134593</td>\n",
       "      <td>2013</td>\n",
       "      <td>0.0</td>\n",
       "      <td>0</td>\n",
       "      <td>729.0</td>\n",
       "      <td>134593</td>\n",
       "    </tr>\n",
       "  </tbody>\n",
       "</table>\n",
       "</div>"
      ],
      "text/plain": [
       "          Total!!Estimate!!All households  \\\n",
       "zip_code                                    \n",
       "89010                               149.0   \n",
       "89019                               942.0   \n",
       "89060                              4354.0   \n",
       "89061                              1919.0   \n",
       "89439                               729.0   \n",
       "\n",
       "          Mean income (dollars)!!Estimate!!All households  year  \\\n",
       "zip_code                                                          \n",
       "89010                                               39548  2013   \n",
       "89019                                               53833  2013   \n",
       "89060                                               50303  2013   \n",
       "89061                                               63258  2013   \n",
       "89439                                              134593  2013   \n",
       "\n",
       "          Estimate!!Number!!HOUSEHOLD INCOME!!All households  \\\n",
       "zip_code                                                       \n",
       "89010                                                   0.0    \n",
       "89019                                                   0.0    \n",
       "89060                                                   0.0    \n",
       "89061                                                   0.0    \n",
       "89439                                                   0.0    \n",
       "\n",
       "          Estimate!!Mean income (dollars)!!HOUSEHOLD INCOME!!All households  \\\n",
       "zip_code                                                                      \n",
       "89010                                                     0                   \n",
       "89019                                                     0                   \n",
       "89060                                                     0                   \n",
       "89061                                                     0                   \n",
       "89439                                                     0                   \n",
       "\n",
       "          households_count  mean_income_per_household  \n",
       "zip_code                                               \n",
       "89010                149.0                      39548  \n",
       "89019                942.0                      53833  \n",
       "89060               4354.0                      50303  \n",
       "89061               1919.0                      63258  \n",
       "89439                729.0                     134593  "
      ]
     },
     "execution_count": 21,
     "metadata": {},
     "output_type": "execute_result"
    }
   ],
   "source": [
    "df_income_mean.head()"
   ]
  },
  {
   "cell_type": "code",
   "execution_count": 22,
   "metadata": {},
   "outputs": [],
   "source": [
    "# df_income_median = df_income_median.rename(columns={\"Total!!Estimate!!Households\": \"households_count_\", \\\n",
    "#                                \"Median income (dollars)!!Estimate!!Households\": \"median_income_per_household_\"}, \\\n",
    "#                                  inplace=False)"
   ]
  },
  {
   "cell_type": "code",
   "execution_count": 23,
   "metadata": {},
   "outputs": [],
   "source": [
    "# df_income_mean = df_income_mean.rename(columns={\"Estimate!!Number!!HOUSEHOLD INCOME!!All households\": \"households_count_\", \\\n",
    "#                                \"Estimate!!Mean income (dollars)!!HOUSEHOLD INCOME!!All households\": \"mean_income_per_household_\"}, \\\n",
    "#                                  inplace=False)"
   ]
  },
  {
   "cell_type": "code",
   "execution_count": 24,
   "metadata": {},
   "outputs": [
    {
     "data": {
      "text/plain": [
       "0        1896\n",
       "77444       8\n",
       "61933       8\n",
       "68346       8\n",
       "89141       8\n",
       "         ... \n",
       "71254       2\n",
       "79646       2\n",
       "36623       2\n",
       "46804       2\n",
       "73435       2\n",
       "Name: mean_income_per_household, Length: 17177, dtype: int64"
      ]
     },
     "execution_count": 24,
     "metadata": {},
     "output_type": "execute_result"
    }
   ],
   "source": [
    "df_income_mean.mean_income_per_household.value_counts()"
   ]
  },
  {
   "cell_type": "code",
   "execution_count": 25,
   "metadata": {},
   "outputs": [
    {
     "data": {
      "text/plain": [
       "0         2688\n",
       "250000      52\n",
       "43750       38\n",
       "36250       34\n",
       "38750       32\n",
       "          ... \n",
       "49971        2\n",
       "37871        2\n",
       "40164        2\n",
       "105357       2\n",
       "100205       2\n",
       "Name: median_income_per_household, Length: 15375, dtype: int64"
      ]
     },
     "execution_count": 25,
     "metadata": {},
     "output_type": "execute_result"
    }
   ],
   "source": [
    "df_income_median.median_income_per_household.value_counts()"
   ]
  },
  {
   "cell_type": "code",
   "execution_count": null,
   "metadata": {},
   "outputs": [],
   "source": []
  },
  {
   "cell_type": "code",
   "execution_count": 26,
   "metadata": {},
   "outputs": [],
   "source": [
    "#remove intermediary columns\n",
    "df_income_mean = df_income_mean.filter(['year', 'households_count', 'mean_income_per_household'])\n",
    "df_income_median = df_income_median.filter(['year', 'households_count', 'median_income_per_household'])\n",
    "\n",
    "# df_income_median.drop(columns=['households_count_',\n",
    "#                                'median_income_per_household_',\n",
    "#                                'Estimate!!Number!!HOUSEHOLD INCOME BY RACE AND HISPANIC OR LATINO ORIGIN OF HOUSEHOLDER!!Households',\n",
    "#                                'Estimate!!Median income (dollars)!!HOUSEHOLD INCOME BY RACE AND HISPANIC OR LATINO ORIGIN OF HOUSEHOLDER!!Households',\n",
    "#                                'Geographic Area Name'\n",
    "#                               ], inplace=True)"
   ]
  },
  {
   "cell_type": "code",
   "execution_count": 27,
   "metadata": {},
   "outputs": [
    {
     "data": {
      "text/html": [
       "<div>\n",
       "<style scoped>\n",
       "    .dataframe tbody tr th:only-of-type {\n",
       "        vertical-align: middle;\n",
       "    }\n",
       "\n",
       "    .dataframe tbody tr th {\n",
       "        vertical-align: top;\n",
       "    }\n",
       "\n",
       "    .dataframe thead th {\n",
       "        text-align: right;\n",
       "    }\n",
       "</style>\n",
       "<table border=\"1\" class=\"dataframe\">\n",
       "  <thead>\n",
       "    <tr style=\"text-align: right;\">\n",
       "      <th></th>\n",
       "      <th>year</th>\n",
       "      <th>households_count</th>\n",
       "      <th>mean_income_per_household</th>\n",
       "    </tr>\n",
       "    <tr>\n",
       "      <th>zip_code</th>\n",
       "      <th></th>\n",
       "      <th></th>\n",
       "      <th></th>\n",
       "    </tr>\n",
       "  </thead>\n",
       "  <tbody>\n",
       "    <tr>\n",
       "      <th>89010</th>\n",
       "      <td>2013</td>\n",
       "      <td>149.0</td>\n",
       "      <td>39548</td>\n",
       "    </tr>\n",
       "    <tr>\n",
       "      <th>89019</th>\n",
       "      <td>2013</td>\n",
       "      <td>942.0</td>\n",
       "      <td>53833</td>\n",
       "    </tr>\n",
       "    <tr>\n",
       "      <th>89060</th>\n",
       "      <td>2013</td>\n",
       "      <td>4354.0</td>\n",
       "      <td>50303</td>\n",
       "    </tr>\n",
       "    <tr>\n",
       "      <th>89061</th>\n",
       "      <td>2013</td>\n",
       "      <td>1919.0</td>\n",
       "      <td>63258</td>\n",
       "    </tr>\n",
       "    <tr>\n",
       "      <th>89439</th>\n",
       "      <td>2013</td>\n",
       "      <td>729.0</td>\n",
       "      <td>134593</td>\n",
       "    </tr>\n",
       "  </tbody>\n",
       "</table>\n",
       "</div>"
      ],
      "text/plain": [
       "          year  households_count  mean_income_per_household\n",
       "zip_code                                                   \n",
       "89010     2013             149.0                      39548\n",
       "89019     2013             942.0                      53833\n",
       "89060     2013            4354.0                      50303\n",
       "89061     2013            1919.0                      63258\n",
       "89439     2013             729.0                     134593"
      ]
     },
     "execution_count": 27,
     "metadata": {},
     "output_type": "execute_result"
    }
   ],
   "source": [
    "df_income_mean.head()"
   ]
  },
  {
   "cell_type": "code",
   "execution_count": 28,
   "metadata": {},
   "outputs": [
    {
     "data": {
      "text/html": [
       "<div>\n",
       "<style scoped>\n",
       "    .dataframe tbody tr th:only-of-type {\n",
       "        vertical-align: middle;\n",
       "    }\n",
       "\n",
       "    .dataframe tbody tr th {\n",
       "        vertical-align: top;\n",
       "    }\n",
       "\n",
       "    .dataframe thead th {\n",
       "        text-align: right;\n",
       "    }\n",
       "</style>\n",
       "<table border=\"1\" class=\"dataframe\">\n",
       "  <thead>\n",
       "    <tr style=\"text-align: right;\">\n",
       "      <th></th>\n",
       "      <th>year</th>\n",
       "      <th>households_count</th>\n",
       "      <th>median_income_per_household</th>\n",
       "    </tr>\n",
       "    <tr>\n",
       "      <th>zip_code</th>\n",
       "      <th></th>\n",
       "      <th></th>\n",
       "      <th></th>\n",
       "    </tr>\n",
       "  </thead>\n",
       "  <tbody>\n",
       "    <tr>\n",
       "      <th>89010</th>\n",
       "      <td>2013</td>\n",
       "      <td>149.0</td>\n",
       "      <td>32679</td>\n",
       "    </tr>\n",
       "    <tr>\n",
       "      <th>89019</th>\n",
       "      <td>2013</td>\n",
       "      <td>942.0</td>\n",
       "      <td>38269</td>\n",
       "    </tr>\n",
       "    <tr>\n",
       "      <th>89060</th>\n",
       "      <td>2013</td>\n",
       "      <td>4354.0</td>\n",
       "      <td>38217</td>\n",
       "    </tr>\n",
       "    <tr>\n",
       "      <th>89061</th>\n",
       "      <td>2013</td>\n",
       "      <td>1919.0</td>\n",
       "      <td>51513</td>\n",
       "    </tr>\n",
       "    <tr>\n",
       "      <th>89439</th>\n",
       "      <td>2013</td>\n",
       "      <td>729.0</td>\n",
       "      <td>64145</td>\n",
       "    </tr>\n",
       "  </tbody>\n",
       "</table>\n",
       "</div>"
      ],
      "text/plain": [
       "          year  households_count  median_income_per_household\n",
       "zip_code                                                     \n",
       "89010     2013             149.0                        32679\n",
       "89019     2013             942.0                        38269\n",
       "89060     2013            4354.0                        38217\n",
       "89061     2013            1919.0                        51513\n",
       "89439     2013             729.0                        64145"
      ]
     },
     "execution_count": 28,
     "metadata": {},
     "output_type": "execute_result"
    }
   ],
   "source": [
    "df_income_median.head()"
   ]
  },
  {
   "cell_type": "code",
   "execution_count": 29,
   "metadata": {},
   "outputs": [
    {
     "data": {
      "text/plain": [
       "0.0        1018\n",
       "16.0         52\n",
       "13.0         46\n",
       "78.0         46\n",
       "64.0         46\n",
       "           ... \n",
       "16426.0       2\n",
       "17087.0       2\n",
       "5496.0        2\n",
       "6966.0        2\n",
       "6975.0        2\n",
       "Name: households_count, Length: 10809, dtype: int64"
      ]
     },
     "execution_count": 29,
     "metadata": {},
     "output_type": "execute_result"
    }
   ],
   "source": [
    "df_income_median.households_count.value_counts()"
   ]
  },
  {
   "cell_type": "code",
   "execution_count": 30,
   "metadata": {},
   "outputs": [],
   "source": [
    "df_income = pd.merge(df_income_mean, df_income_median,  how='left', left_on=['zip_code','year','households_count'], right_on = ['zip_code','year','households_count'])\n"
   ]
  },
  {
   "cell_type": "code",
   "execution_count": 31,
   "metadata": {},
   "outputs": [
    {
     "data": {
      "text/html": [
       "<div>\n",
       "<style scoped>\n",
       "    .dataframe tbody tr th:only-of-type {\n",
       "        vertical-align: middle;\n",
       "    }\n",
       "\n",
       "    .dataframe tbody tr th {\n",
       "        vertical-align: top;\n",
       "    }\n",
       "\n",
       "    .dataframe thead th {\n",
       "        text-align: right;\n",
       "    }\n",
       "</style>\n",
       "<table border=\"1\" class=\"dataframe\">\n",
       "  <thead>\n",
       "    <tr style=\"text-align: right;\">\n",
       "      <th></th>\n",
       "      <th>year</th>\n",
       "      <th>households_count</th>\n",
       "      <th>mean_income_per_household</th>\n",
       "      <th>median_income_per_household</th>\n",
       "    </tr>\n",
       "    <tr>\n",
       "      <th>zip_code</th>\n",
       "      <th></th>\n",
       "      <th></th>\n",
       "      <th></th>\n",
       "      <th></th>\n",
       "    </tr>\n",
       "  </thead>\n",
       "  <tbody>\n",
       "    <tr>\n",
       "      <th>89010</th>\n",
       "      <td>2013</td>\n",
       "      <td>149.0</td>\n",
       "      <td>39548</td>\n",
       "      <td>32679</td>\n",
       "    </tr>\n",
       "    <tr>\n",
       "      <th>89010</th>\n",
       "      <td>2013</td>\n",
       "      <td>149.0</td>\n",
       "      <td>39548</td>\n",
       "      <td>32679</td>\n",
       "    </tr>\n",
       "    <tr>\n",
       "      <th>89019</th>\n",
       "      <td>2013</td>\n",
       "      <td>942.0</td>\n",
       "      <td>53833</td>\n",
       "      <td>38269</td>\n",
       "    </tr>\n",
       "    <tr>\n",
       "      <th>89019</th>\n",
       "      <td>2013</td>\n",
       "      <td>942.0</td>\n",
       "      <td>53833</td>\n",
       "      <td>38269</td>\n",
       "    </tr>\n",
       "    <tr>\n",
       "      <th>89060</th>\n",
       "      <td>2013</td>\n",
       "      <td>4354.0</td>\n",
       "      <td>50303</td>\n",
       "      <td>38217</td>\n",
       "    </tr>\n",
       "  </tbody>\n",
       "</table>\n",
       "</div>"
      ],
      "text/plain": [
       "          year  households_count  mean_income_per_household  \\\n",
       "zip_code                                                      \n",
       "89010     2013             149.0                      39548   \n",
       "89010     2013             149.0                      39548   \n",
       "89019     2013             942.0                      53833   \n",
       "89019     2013             942.0                      53833   \n",
       "89060     2013            4354.0                      50303   \n",
       "\n",
       "          median_income_per_household  \n",
       "zip_code                               \n",
       "89010                           32679  \n",
       "89010                           32679  \n",
       "89019                           38269  \n",
       "89019                           38269  \n",
       "89060                           38217  "
      ]
     },
     "execution_count": 31,
     "metadata": {},
     "output_type": "execute_result"
    }
   ],
   "source": [
    "df_income.head()"
   ]
  },
  {
   "cell_type": "code",
   "execution_count": 32,
   "metadata": {},
   "outputs": [],
   "source": [
    "# check to see if household count is equivalent or if we need to keep both\n",
    "#pd.DataFrame(df_income.households_count_x == df_income.households_count_y).value_counts()"
   ]
  },
  {
   "cell_type": "code",
   "execution_count": 33,
   "metadata": {},
   "outputs": [
    {
     "data": {
      "text/plain": [
       "(77992, 4)"
      ]
     },
     "execution_count": 33,
     "metadata": {},
     "output_type": "execute_result"
    }
   ],
   "source": [
    "df_income.shape"
   ]
  },
  {
   "cell_type": "code",
   "execution_count": 34,
   "metadata": {},
   "outputs": [],
   "source": [
    "df_income.drop_duplicates(inplace=True)"
   ]
  },
  {
   "cell_type": "code",
   "execution_count": 35,
   "metadata": {},
   "outputs": [
    {
     "data": {
      "text/plain": [
       "(18892, 4)"
      ]
     },
     "execution_count": 35,
     "metadata": {},
     "output_type": "execute_result"
    }
   ],
   "source": [
    "df_income.shape"
   ]
  },
  {
   "cell_type": "code",
   "execution_count": 36,
   "metadata": {},
   "outputs": [
    {
     "name": "stdout",
     "output_type": "stream",
     "text": [
      "/Users/emnichols/capstone\n"
     ]
    }
   ],
   "source": [
    "cd .."
   ]
  },
  {
   "cell_type": "code",
   "execution_count": 37,
   "metadata": {},
   "outputs": [
    {
     "data": {
      "text/plain": [
       "year\n",
       "2011     79082.142691\n",
       "2012     79150.047066\n",
       "2013     79386.400935\n",
       "2014     80035.265543\n",
       "2015     81217.654450\n",
       "2016     83951.343040\n",
       "2017     88027.302448\n",
       "2018     93607.137449\n",
       "2019     98374.325364\n",
       "2020    102521.673088\n",
       "2021    109508.518626\n",
       "Name: mean_income_per_household, dtype: float64"
      ]
     },
     "execution_count": 37,
     "metadata": {},
     "output_type": "execute_result"
    }
   ],
   "source": [
    "df_income.groupby('year')['mean_income_per_household'].mean()\n",
    "#27.8% increase"
   ]
  },
  {
   "cell_type": "code",
   "execution_count": null,
   "metadata": {},
   "outputs": [],
   "source": []
  },
  {
   "cell_type": "markdown",
   "metadata": {},
   "source": [
    "## Education"
   ]
  },
  {
   "cell_type": "code",
   "execution_count": 38,
   "metadata": {},
   "outputs": [
    {
     "name": "stdout",
     "output_type": "stream",
     "text": [
      "/Users/emnichols/capstone/education_level_ca\n"
     ]
    }
   ],
   "source": [
    "cd education_level_ca"
   ]
  },
  {
   "cell_type": "code",
   "execution_count": 39,
   "metadata": {},
   "outputs": [
    {
     "data": {
      "text/plain": [
       "['ACSST5Y2013.S1501-Data.csv',\n",
       " 'ACSST5Y2014.S1501-Data.csv',\n",
       " 'ACSST5Y2015.S1501-Data.csv',\n",
       " '.DS_Store',\n",
       " 'ACSST5Y2012.S1501-Data.csv',\n",
       " 'ACSST5Y2018.S1501-Data.csv',\n",
       " 'ACSST5Y2017.S1501-Data.csv',\n",
       " 'ACSST5Y2016.S1501-Data.csv',\n",
       " 'ACSST5Y2019.S1501-Data.csv',\n",
       " 'ACSST5Y2011.S1501-Data.csv',\n",
       " 'ACSST5Y2021.S1501-Data.csv',\n",
       " 'ACSST5Y2020.S1501-Data.csv']"
      ]
     },
     "execution_count": 39,
     "metadata": {},
     "output_type": "execute_result"
    }
   ],
   "source": [
    "path = os.getcwd()\n",
    "files = os.listdir(path)\n",
    "files"
   ]
  },
  {
   "cell_type": "code",
   "execution_count": 40,
   "metadata": {},
   "outputs": [],
   "source": [
    "df_edu = pd.DataFrame()"
   ]
  },
  {
   "cell_type": "code",
   "execution_count": 41,
   "metadata": {},
   "outputs": [],
   "source": [
    "edu_columns_2011_2014 = ['Geographic Area Name', \\\n",
    "                         'Total!!Estimate!!Percent high school graduate or higher',\\\n",
    "                         'Total!!Estimate!!Percent bachelor\\'s degree or higher'\n",
    "                        ]"
   ]
  },
  {
   "cell_type": "code",
   "execution_count": 42,
   "metadata": {},
   "outputs": [],
   "source": [
    "edu_columns_2015_2016 = ['Geographic Area Name', \\\n",
    "                         'Percent!!Estimate!!Percent high school graduate or higher',\\\n",
    "                         'Percent!!Estimate!!Percent bachelor\\'s degree or higher'\n",
    "                        ]"
   ]
  },
  {
   "cell_type": "code",
   "execution_count": 43,
   "metadata": {},
   "outputs": [],
   "source": [
    "edu_columns_2017 = ['Geographic Area Name', \\\n",
    "                    'Estimate!!Percent!!Population 25 years and over!!Percent high school graduate or higher',\\\n",
    "                    'Estimate!!Percent!!Population 25 years and over!!Percent bachelor\\'s degree or higher'\n",
    "                    ]"
   ]
  },
  {
   "cell_type": "code",
   "execution_count": 44,
   "metadata": {
    "scrolled": true
   },
   "outputs": [],
   "source": [
    "edu_columns_2018 = ['Geographic Area Name', \\\n",
    "                    'Estimate!!Percent!!Population 25 years and over!!High school graduate (includes equivalency)',\\\n",
    "                    'Estimate!!Percent!!Population 25 years and over!!Bachelor\\'s degree or higher'\n",
    "                    ]"
   ]
  },
  {
   "cell_type": "code",
   "execution_count": 45,
   "metadata": {},
   "outputs": [],
   "source": [
    "edu_columns_2019_2021 = ['Geographic Area Name', \\\n",
    "                         'Estimate!!Percent!!AGE BY EDUCATIONAL ATTAINMENT!!Population 25 years and over!!High school graduate (includes equivalency)',\\\n",
    "                         'Estimate!!Percent!!AGE BY EDUCATIONAL ATTAINMENT!!Population 25 years and over!!Bachelor\\'s degree or higher'\n",
    "                        ]"
   ]
  },
  {
   "cell_type": "code",
   "execution_count": 46,
   "metadata": {},
   "outputs": [],
   "source": [
    "for f in files:\n",
    "    if f[-3:] == 'csv':\n",
    "        year = int(f[7:11])\n",
    "        if year in range(2011,2015):\n",
    "            #print(f[-10])\n",
    "            data = pd.read_csv(f, skiprows=1, header=0,usecols=edu_columns_2011_2014)\n",
    "            data['year'] = year\n",
    "            #print(f[7:11])\n",
    "            df_edu = pd.concat([df_edu,data])\n",
    "                \n",
    "        if year in range(2015,2017):\n",
    "            #print(f[-10])\n",
    "            data = pd.read_csv(f, skiprows=1,usecols=edu_columns_2015_2016)\n",
    "            data['year'] = year\n",
    "            #print(f[7:11])\n",
    "            df_edu = pd.concat([df_edu,data])\n",
    "            \n",
    "        if year == 2017:\n",
    "            #print(f[-10])\n",
    "            data = pd.read_csv(f, skiprows=1,usecols=edu_columns_2017)\n",
    "            data['year'] = year\n",
    "            #print(f[7:11])\n",
    "            df_edu = pd.concat([df_edu,data])\n",
    "            \n",
    "        if year == 2018:\n",
    "            #print(f[-10])\n",
    "            data = pd.read_csv(f, skiprows=1,usecols=edu_columns_2018)\n",
    "            data['year'] = year\n",
    "            #print(f[7:11])\n",
    "            df_edu = pd.concat([df_edu,data])\n",
    "        \n",
    "        if year in range(2019,2022):\n",
    "            #print(f[-10])\n",
    "            data = pd.read_csv(f, skiprows=1,usecols=edu_columns_2019_2021)\n",
    "            data['year'] = year\n",
    "            #print(f[7:11])\n",
    "            df_edu = pd.concat([df_edu,data])\n",
    "                \n"
   ]
  },
  {
   "cell_type": "code",
   "execution_count": 47,
   "metadata": {},
   "outputs": [
    {
     "data": {
      "text/plain": [
       "Index(['Geographic Area Name',\n",
       "       'Total!!Estimate!!Percent high school graduate or higher',\n",
       "       'Total!!Estimate!!Percent bachelor's degree or higher', 'year',\n",
       "       'Percent!!Estimate!!Percent high school graduate or higher',\n",
       "       'Percent!!Estimate!!Percent bachelor's degree or higher',\n",
       "       'Estimate!!Percent!!Population 25 years and over!!High school graduate (includes equivalency)',\n",
       "       'Estimate!!Percent!!Population 25 years and over!!Bachelor's degree or higher',\n",
       "       'Estimate!!Percent!!Population 25 years and over!!Percent high school graduate or higher',\n",
       "       'Estimate!!Percent!!Population 25 years and over!!Percent bachelor's degree or higher',\n",
       "       'Estimate!!Percent!!AGE BY EDUCATIONAL ATTAINMENT!!Population 25 years and over!!High school graduate (includes equivalency)',\n",
       "       'Estimate!!Percent!!AGE BY EDUCATIONAL ATTAINMENT!!Population 25 years and over!!Bachelor's degree or higher'],\n",
       "      dtype='object')"
      ]
     },
     "execution_count": 47,
     "metadata": {},
     "output_type": "execute_result"
    }
   ],
   "source": [
    "df_edu.columns"
   ]
  },
  {
   "cell_type": "code",
   "execution_count": 48,
   "metadata": {},
   "outputs": [],
   "source": [
    "df_edu['zip_code'] = df_edu['Geographic Area Name'].replace('ZCTA5 ','',regex=True)\n",
    "\n",
    "df_edu.drop(columns=['Geographic Area Name'], inplace=True)\n"
   ]
  },
  {
   "cell_type": "code",
   "execution_count": 49,
   "metadata": {},
   "outputs": [],
   "source": [
    "# clean data\n",
    "df_edu = df_edu.fillna(0)\n",
    "df_edu = df_edu.replace('-',0,regex=True)\n",
    "df_edu = df_edu.replace(',',0,regex=True)\n",
    "df_edu = df_edu.replace('\\(X\\)',0,regex=True)\n",
    "df_edu = df_edu.replace('N',0,regex=True)"
   ]
  },
  {
   "cell_type": "code",
   "execution_count": 50,
   "metadata": {},
   "outputs": [],
   "source": [
    "#typecasting\n",
    "df_edu = df_edu.apply(pd.to_numeric)\n",
    "df_edu = df_edu.apply(pd.to_numeric)\n",
    "\n",
    "df_edu['year'] = df_edu.year.astype('str')\n",
    "df_edu['zip_code'] = df_edu.zip_code.astype('str')\n"
   ]
  },
  {
   "cell_type": "code",
   "execution_count": 51,
   "metadata": {},
   "outputs": [],
   "source": [
    "#set index\n",
    "df_edu.set_index('zip_code',inplace=True)\n"
   ]
  },
  {
   "cell_type": "code",
   "execution_count": 52,
   "metadata": {},
   "outputs": [
    {
     "data": {
      "text/html": [
       "<div>\n",
       "<style scoped>\n",
       "    .dataframe tbody tr th:only-of-type {\n",
       "        vertical-align: middle;\n",
       "    }\n",
       "\n",
       "    .dataframe tbody tr th {\n",
       "        vertical-align: top;\n",
       "    }\n",
       "\n",
       "    .dataframe thead th {\n",
       "        text-align: right;\n",
       "    }\n",
       "</style>\n",
       "<table border=\"1\" class=\"dataframe\">\n",
       "  <thead>\n",
       "    <tr style=\"text-align: right;\">\n",
       "      <th></th>\n",
       "      <th>Total!!Estimate!!Percent high school graduate or higher</th>\n",
       "      <th>Total!!Estimate!!Percent bachelor's degree or higher</th>\n",
       "      <th>year</th>\n",
       "      <th>Percent!!Estimate!!Percent high school graduate or higher</th>\n",
       "      <th>Percent!!Estimate!!Percent bachelor's degree or higher</th>\n",
       "      <th>Estimate!!Percent!!Population 25 years and over!!High school graduate (includes equivalency)</th>\n",
       "      <th>Estimate!!Percent!!Population 25 years and over!!Bachelor's degree or higher</th>\n",
       "      <th>Estimate!!Percent!!Population 25 years and over!!Percent high school graduate or higher</th>\n",
       "      <th>Estimate!!Percent!!Population 25 years and over!!Percent bachelor's degree or higher</th>\n",
       "      <th>Estimate!!Percent!!AGE BY EDUCATIONAL ATTAINMENT!!Population 25 years and over!!High school graduate (includes equivalency)</th>\n",
       "      <th>Estimate!!Percent!!AGE BY EDUCATIONAL ATTAINMENT!!Population 25 years and over!!Bachelor's degree or higher</th>\n",
       "    </tr>\n",
       "    <tr>\n",
       "      <th>zip_code</th>\n",
       "      <th></th>\n",
       "      <th></th>\n",
       "      <th></th>\n",
       "      <th></th>\n",
       "      <th></th>\n",
       "      <th></th>\n",
       "      <th></th>\n",
       "      <th></th>\n",
       "      <th></th>\n",
       "      <th></th>\n",
       "      <th></th>\n",
       "    </tr>\n",
       "  </thead>\n",
       "  <tbody>\n",
       "    <tr>\n",
       "      <th>89010</th>\n",
       "      <td>61.6</td>\n",
       "      <td>13.4</td>\n",
       "      <td>2013</td>\n",
       "      <td>0.0</td>\n",
       "      <td>0.0</td>\n",
       "      <td>0.0</td>\n",
       "      <td>0.0</td>\n",
       "      <td>0.0</td>\n",
       "      <td>0.0</td>\n",
       "      <td>0.0</td>\n",
       "      <td>0.0</td>\n",
       "    </tr>\n",
       "    <tr>\n",
       "      <th>89019</th>\n",
       "      <td>80.7</td>\n",
       "      <td>13.1</td>\n",
       "      <td>2013</td>\n",
       "      <td>0.0</td>\n",
       "      <td>0.0</td>\n",
       "      <td>0.0</td>\n",
       "      <td>0.0</td>\n",
       "      <td>0.0</td>\n",
       "      <td>0.0</td>\n",
       "      <td>0.0</td>\n",
       "      <td>0.0</td>\n",
       "    </tr>\n",
       "    <tr>\n",
       "      <th>89060</th>\n",
       "      <td>81.8</td>\n",
       "      <td>10.9</td>\n",
       "      <td>2013</td>\n",
       "      <td>0.0</td>\n",
       "      <td>0.0</td>\n",
       "      <td>0.0</td>\n",
       "      <td>0.0</td>\n",
       "      <td>0.0</td>\n",
       "      <td>0.0</td>\n",
       "      <td>0.0</td>\n",
       "      <td>0.0</td>\n",
       "    </tr>\n",
       "    <tr>\n",
       "      <th>89061</th>\n",
       "      <td>87.4</td>\n",
       "      <td>22.4</td>\n",
       "      <td>2013</td>\n",
       "      <td>0.0</td>\n",
       "      <td>0.0</td>\n",
       "      <td>0.0</td>\n",
       "      <td>0.0</td>\n",
       "      <td>0.0</td>\n",
       "      <td>0.0</td>\n",
       "      <td>0.0</td>\n",
       "      <td>0.0</td>\n",
       "    </tr>\n",
       "    <tr>\n",
       "      <th>89439</th>\n",
       "      <td>94.7</td>\n",
       "      <td>34.7</td>\n",
       "      <td>2013</td>\n",
       "      <td>0.0</td>\n",
       "      <td>0.0</td>\n",
       "      <td>0.0</td>\n",
       "      <td>0.0</td>\n",
       "      <td>0.0</td>\n",
       "      <td>0.0</td>\n",
       "      <td>0.0</td>\n",
       "      <td>0.0</td>\n",
       "    </tr>\n",
       "  </tbody>\n",
       "</table>\n",
       "</div>"
      ],
      "text/plain": [
       "          Total!!Estimate!!Percent high school graduate or higher  \\\n",
       "zip_code                                                            \n",
       "89010                                                  61.6         \n",
       "89019                                                  80.7         \n",
       "89060                                                  81.8         \n",
       "89061                                                  87.4         \n",
       "89439                                                  94.7         \n",
       "\n",
       "          Total!!Estimate!!Percent bachelor's degree or higher  year  \\\n",
       "zip_code                                                               \n",
       "89010                                                  13.4     2013   \n",
       "89019                                                  13.1     2013   \n",
       "89060                                                  10.9     2013   \n",
       "89061                                                  22.4     2013   \n",
       "89439                                                  34.7     2013   \n",
       "\n",
       "          Percent!!Estimate!!Percent high school graduate or higher  \\\n",
       "zip_code                                                              \n",
       "89010                                                   0.0           \n",
       "89019                                                   0.0           \n",
       "89060                                                   0.0           \n",
       "89061                                                   0.0           \n",
       "89439                                                   0.0           \n",
       "\n",
       "          Percent!!Estimate!!Percent bachelor's degree or higher  \\\n",
       "zip_code                                                           \n",
       "89010                                                   0.0        \n",
       "89019                                                   0.0        \n",
       "89060                                                   0.0        \n",
       "89061                                                   0.0        \n",
       "89439                                                   0.0        \n",
       "\n",
       "          Estimate!!Percent!!Population 25 years and over!!High school graduate (includes equivalency)  \\\n",
       "zip_code                                                                                                 \n",
       "89010                                                   0.0                                              \n",
       "89019                                                   0.0                                              \n",
       "89060                                                   0.0                                              \n",
       "89061                                                   0.0                                              \n",
       "89439                                                   0.0                                              \n",
       "\n",
       "          Estimate!!Percent!!Population 25 years and over!!Bachelor's degree or higher  \\\n",
       "zip_code                                                                                 \n",
       "89010                                                   0.0                              \n",
       "89019                                                   0.0                              \n",
       "89060                                                   0.0                              \n",
       "89061                                                   0.0                              \n",
       "89439                                                   0.0                              \n",
       "\n",
       "          Estimate!!Percent!!Population 25 years and over!!Percent high school graduate or higher  \\\n",
       "zip_code                                                                                            \n",
       "89010                                                   0.0                                         \n",
       "89019                                                   0.0                                         \n",
       "89060                                                   0.0                                         \n",
       "89061                                                   0.0                                         \n",
       "89439                                                   0.0                                         \n",
       "\n",
       "          Estimate!!Percent!!Population 25 years and over!!Percent bachelor's degree or higher  \\\n",
       "zip_code                                                                                         \n",
       "89010                                                   0.0                                      \n",
       "89019                                                   0.0                                      \n",
       "89060                                                   0.0                                      \n",
       "89061                                                   0.0                                      \n",
       "89439                                                   0.0                                      \n",
       "\n",
       "          Estimate!!Percent!!AGE BY EDUCATIONAL ATTAINMENT!!Population 25 years and over!!High school graduate (includes equivalency)  \\\n",
       "zip_code                                                                                                                                \n",
       "89010                                                   0.0                                                                             \n",
       "89019                                                   0.0                                                                             \n",
       "89060                                                   0.0                                                                             \n",
       "89061                                                   0.0                                                                             \n",
       "89439                                                   0.0                                                                             \n",
       "\n",
       "          Estimate!!Percent!!AGE BY EDUCATIONAL ATTAINMENT!!Population 25 years and over!!Bachelor's degree or higher  \n",
       "zip_code                                                                                                               \n",
       "89010                                                   0.0                                                            \n",
       "89019                                                   0.0                                                            \n",
       "89060                                                   0.0                                                            \n",
       "89061                                                   0.0                                                            \n",
       "89439                                                   0.0                                                            "
      ]
     },
     "execution_count": 52,
     "metadata": {},
     "output_type": "execute_result"
    }
   ],
   "source": [
    "df_edu.head()"
   ]
  },
  {
   "cell_type": "code",
   "execution_count": 53,
   "metadata": {},
   "outputs": [],
   "source": [
    "list_high_school_col = ['Total!!Estimate!!Percent high school graduate or higher',\\\n",
    "                       'Percent!!Estimate!!Percent high school graduate or higher',\\\n",
    "                       'Estimate!!Percent!!Population 25 years and over!!High school graduate (includes equivalency)',\\\n",
    "                       'Estimate!!Percent!!Population 25 years and over!!Percent high school graduate or higher',\\\n",
    "                       'Estimate!!Percent!!AGE BY EDUCATIONAL ATTAINMENT!!Population 25 years and over!!High school graduate (includes equivalency)']"
   ]
  },
  {
   "cell_type": "code",
   "execution_count": 54,
   "metadata": {},
   "outputs": [],
   "source": [
    "list_bach_deg_col = ['Total!!Estimate!!Percent bachelor\\'s degree or higher',\\\n",
    "                       'Percent!!Estimate!!Percent bachelor\\'s degree or higher',\\\n",
    "                       'Estimate!!Percent!!Population 25 years and over!!Bachelor\\'s degree or higher',\\\n",
    "                       'Estimate!!Percent!!Population 25 years and over!!Percent bachelor\\'s degree or higher',\\\n",
    "                       'Estimate!!Percent!!AGE BY EDUCATIONAL ATTAINMENT!!Population 25 years and over!!Bachelor\\'s degree or higher']\n"
   ]
  },
  {
   "cell_type": "code",
   "execution_count": 55,
   "metadata": {},
   "outputs": [],
   "source": [
    "# merge columns to fill in NaNs\n",
    "\n",
    "df_edu['percent_high_school_grad'] = df_edu[list_high_school_col].max(axis=1)\n",
    "\n",
    "df_edu['percent_bach_deg_grad'] = df_edu[list_bach_deg_col].max(axis=1)\n"
   ]
  },
  {
   "cell_type": "code",
   "execution_count": 56,
   "metadata": {},
   "outputs": [
    {
     "data": {
      "text/html": [
       "<div>\n",
       "<style scoped>\n",
       "    .dataframe tbody tr th:only-of-type {\n",
       "        vertical-align: middle;\n",
       "    }\n",
       "\n",
       "    .dataframe tbody tr th {\n",
       "        vertical-align: top;\n",
       "    }\n",
       "\n",
       "    .dataframe thead th {\n",
       "        text-align: right;\n",
       "    }\n",
       "</style>\n",
       "<table border=\"1\" class=\"dataframe\">\n",
       "  <thead>\n",
       "    <tr style=\"text-align: right;\">\n",
       "      <th></th>\n",
       "      <th>Total!!Estimate!!Percent high school graduate or higher</th>\n",
       "      <th>Total!!Estimate!!Percent bachelor's degree or higher</th>\n",
       "      <th>year</th>\n",
       "      <th>Percent!!Estimate!!Percent high school graduate or higher</th>\n",
       "      <th>Percent!!Estimate!!Percent bachelor's degree or higher</th>\n",
       "      <th>Estimate!!Percent!!Population 25 years and over!!High school graduate (includes equivalency)</th>\n",
       "      <th>Estimate!!Percent!!Population 25 years and over!!Bachelor's degree or higher</th>\n",
       "      <th>Estimate!!Percent!!Population 25 years and over!!Percent high school graduate or higher</th>\n",
       "      <th>Estimate!!Percent!!Population 25 years and over!!Percent bachelor's degree or higher</th>\n",
       "      <th>Estimate!!Percent!!AGE BY EDUCATIONAL ATTAINMENT!!Population 25 years and over!!High school graduate (includes equivalency)</th>\n",
       "      <th>Estimate!!Percent!!AGE BY EDUCATIONAL ATTAINMENT!!Population 25 years and over!!Bachelor's degree or higher</th>\n",
       "      <th>percent_high_school_grad</th>\n",
       "      <th>percent_bach_deg_grad</th>\n",
       "    </tr>\n",
       "    <tr>\n",
       "      <th>zip_code</th>\n",
       "      <th></th>\n",
       "      <th></th>\n",
       "      <th></th>\n",
       "      <th></th>\n",
       "      <th></th>\n",
       "      <th></th>\n",
       "      <th></th>\n",
       "      <th></th>\n",
       "      <th></th>\n",
       "      <th></th>\n",
       "      <th></th>\n",
       "      <th></th>\n",
       "      <th></th>\n",
       "    </tr>\n",
       "  </thead>\n",
       "  <tbody>\n",
       "    <tr>\n",
       "      <th>89010</th>\n",
       "      <td>61.6</td>\n",
       "      <td>13.4</td>\n",
       "      <td>2013</td>\n",
       "      <td>0.0</td>\n",
       "      <td>0.0</td>\n",
       "      <td>0.0</td>\n",
       "      <td>0.0</td>\n",
       "      <td>0.0</td>\n",
       "      <td>0.0</td>\n",
       "      <td>0.0</td>\n",
       "      <td>0.0</td>\n",
       "      <td>61.6</td>\n",
       "      <td>13.4</td>\n",
       "    </tr>\n",
       "    <tr>\n",
       "      <th>89019</th>\n",
       "      <td>80.7</td>\n",
       "      <td>13.1</td>\n",
       "      <td>2013</td>\n",
       "      <td>0.0</td>\n",
       "      <td>0.0</td>\n",
       "      <td>0.0</td>\n",
       "      <td>0.0</td>\n",
       "      <td>0.0</td>\n",
       "      <td>0.0</td>\n",
       "      <td>0.0</td>\n",
       "      <td>0.0</td>\n",
       "      <td>80.7</td>\n",
       "      <td>13.1</td>\n",
       "    </tr>\n",
       "    <tr>\n",
       "      <th>89060</th>\n",
       "      <td>81.8</td>\n",
       "      <td>10.9</td>\n",
       "      <td>2013</td>\n",
       "      <td>0.0</td>\n",
       "      <td>0.0</td>\n",
       "      <td>0.0</td>\n",
       "      <td>0.0</td>\n",
       "      <td>0.0</td>\n",
       "      <td>0.0</td>\n",
       "      <td>0.0</td>\n",
       "      <td>0.0</td>\n",
       "      <td>81.8</td>\n",
       "      <td>10.9</td>\n",
       "    </tr>\n",
       "    <tr>\n",
       "      <th>89061</th>\n",
       "      <td>87.4</td>\n",
       "      <td>22.4</td>\n",
       "      <td>2013</td>\n",
       "      <td>0.0</td>\n",
       "      <td>0.0</td>\n",
       "      <td>0.0</td>\n",
       "      <td>0.0</td>\n",
       "      <td>0.0</td>\n",
       "      <td>0.0</td>\n",
       "      <td>0.0</td>\n",
       "      <td>0.0</td>\n",
       "      <td>87.4</td>\n",
       "      <td>22.4</td>\n",
       "    </tr>\n",
       "    <tr>\n",
       "      <th>89439</th>\n",
       "      <td>94.7</td>\n",
       "      <td>34.7</td>\n",
       "      <td>2013</td>\n",
       "      <td>0.0</td>\n",
       "      <td>0.0</td>\n",
       "      <td>0.0</td>\n",
       "      <td>0.0</td>\n",
       "      <td>0.0</td>\n",
       "      <td>0.0</td>\n",
       "      <td>0.0</td>\n",
       "      <td>0.0</td>\n",
       "      <td>94.7</td>\n",
       "      <td>34.7</td>\n",
       "    </tr>\n",
       "  </tbody>\n",
       "</table>\n",
       "</div>"
      ],
      "text/plain": [
       "          Total!!Estimate!!Percent high school graduate or higher  \\\n",
       "zip_code                                                            \n",
       "89010                                                  61.6         \n",
       "89019                                                  80.7         \n",
       "89060                                                  81.8         \n",
       "89061                                                  87.4         \n",
       "89439                                                  94.7         \n",
       "\n",
       "          Total!!Estimate!!Percent bachelor's degree or higher  year  \\\n",
       "zip_code                                                               \n",
       "89010                                                  13.4     2013   \n",
       "89019                                                  13.1     2013   \n",
       "89060                                                  10.9     2013   \n",
       "89061                                                  22.4     2013   \n",
       "89439                                                  34.7     2013   \n",
       "\n",
       "          Percent!!Estimate!!Percent high school graduate or higher  \\\n",
       "zip_code                                                              \n",
       "89010                                                   0.0           \n",
       "89019                                                   0.0           \n",
       "89060                                                   0.0           \n",
       "89061                                                   0.0           \n",
       "89439                                                   0.0           \n",
       "\n",
       "          Percent!!Estimate!!Percent bachelor's degree or higher  \\\n",
       "zip_code                                                           \n",
       "89010                                                   0.0        \n",
       "89019                                                   0.0        \n",
       "89060                                                   0.0        \n",
       "89061                                                   0.0        \n",
       "89439                                                   0.0        \n",
       "\n",
       "          Estimate!!Percent!!Population 25 years and over!!High school graduate (includes equivalency)  \\\n",
       "zip_code                                                                                                 \n",
       "89010                                                   0.0                                              \n",
       "89019                                                   0.0                                              \n",
       "89060                                                   0.0                                              \n",
       "89061                                                   0.0                                              \n",
       "89439                                                   0.0                                              \n",
       "\n",
       "          Estimate!!Percent!!Population 25 years and over!!Bachelor's degree or higher  \\\n",
       "zip_code                                                                                 \n",
       "89010                                                   0.0                              \n",
       "89019                                                   0.0                              \n",
       "89060                                                   0.0                              \n",
       "89061                                                   0.0                              \n",
       "89439                                                   0.0                              \n",
       "\n",
       "          Estimate!!Percent!!Population 25 years and over!!Percent high school graduate or higher  \\\n",
       "zip_code                                                                                            \n",
       "89010                                                   0.0                                         \n",
       "89019                                                   0.0                                         \n",
       "89060                                                   0.0                                         \n",
       "89061                                                   0.0                                         \n",
       "89439                                                   0.0                                         \n",
       "\n",
       "          Estimate!!Percent!!Population 25 years and over!!Percent bachelor's degree or higher  \\\n",
       "zip_code                                                                                         \n",
       "89010                                                   0.0                                      \n",
       "89019                                                   0.0                                      \n",
       "89060                                                   0.0                                      \n",
       "89061                                                   0.0                                      \n",
       "89439                                                   0.0                                      \n",
       "\n",
       "          Estimate!!Percent!!AGE BY EDUCATIONAL ATTAINMENT!!Population 25 years and over!!High school graduate (includes equivalency)  \\\n",
       "zip_code                                                                                                                                \n",
       "89010                                                   0.0                                                                             \n",
       "89019                                                   0.0                                                                             \n",
       "89060                                                   0.0                                                                             \n",
       "89061                                                   0.0                                                                             \n",
       "89439                                                   0.0                                                                             \n",
       "\n",
       "          Estimate!!Percent!!AGE BY EDUCATIONAL ATTAINMENT!!Population 25 years and over!!Bachelor's degree or higher  \\\n",
       "zip_code                                                                                                                \n",
       "89010                                                   0.0                                                             \n",
       "89019                                                   0.0                                                             \n",
       "89060                                                   0.0                                                             \n",
       "89061                                                   0.0                                                             \n",
       "89439                                                   0.0                                                             \n",
       "\n",
       "          percent_high_school_grad  percent_bach_deg_grad  \n",
       "zip_code                                                   \n",
       "89010                         61.6                   13.4  \n",
       "89019                         80.7                   13.1  \n",
       "89060                         81.8                   10.9  \n",
       "89061                         87.4                   22.4  \n",
       "89439                         94.7                   34.7  "
      ]
     },
     "execution_count": 56,
     "metadata": {},
     "output_type": "execute_result"
    }
   ],
   "source": [
    "df_edu.head()"
   ]
  },
  {
   "cell_type": "code",
   "execution_count": 57,
   "metadata": {},
   "outputs": [
    {
     "data": {
      "text/plain": [
       "0"
      ]
     },
     "execution_count": 57,
     "metadata": {},
     "output_type": "execute_result"
    }
   ],
   "source": [
    "df_edu['percent_high_school_grad'].isna().sum()"
   ]
  },
  {
   "cell_type": "code",
   "execution_count": 58,
   "metadata": {},
   "outputs": [
    {
     "data": {
      "text/plain": [
       "0"
      ]
     },
     "execution_count": 58,
     "metadata": {},
     "output_type": "execute_result"
    }
   ],
   "source": [
    "df_edu['percent_bach_deg_grad'].isna().sum()"
   ]
  },
  {
   "cell_type": "code",
   "execution_count": 59,
   "metadata": {},
   "outputs": [
    {
     "data": {
      "text/plain": [
       "(38996, 13)"
      ]
     },
     "execution_count": 59,
     "metadata": {},
     "output_type": "execute_result"
    }
   ],
   "source": [
    "df_edu.shape"
   ]
  },
  {
   "cell_type": "code",
   "execution_count": 60,
   "metadata": {},
   "outputs": [],
   "source": [
    "# drop columns\n",
    "df_edu.drop(columns=['Total!!Estimate!!Percent high school graduate or higher','Percent!!Estimate!!Percent bachelor\\'s degree or higher',\\\n",
    "                       'Estimate!!Percent!!Population 25 years and over!!Bachelor\\'s degree or higher',\\\n",
    "                       'Estimate!!Percent!!Population 25 years and over!!Percent bachelor\\'s degree or higher',\\\n",
    "                       'Estimate!!Percent!!AGE BY EDUCATIONAL ATTAINMENT!!Population 25 years and over!!Bachelor\\'s degree or higher'], inplace=True)"
   ]
  },
  {
   "cell_type": "code",
   "execution_count": 61,
   "metadata": {},
   "outputs": [],
   "source": [
    "df_edu.drop(columns=['Total!!Estimate!!Percent bachelor\\'s degree or higher','Percent!!Estimate!!Percent high school graduate or higher',\\\n",
    "                       'Estimate!!Percent!!Population 25 years and over!!High school graduate (includes equivalency)',\\\n",
    "                       'Estimate!!Percent!!Population 25 years and over!!Percent high school graduate or higher',\\\n",
    "                       'Estimate!!Percent!!AGE BY EDUCATIONAL ATTAINMENT!!Population 25 years and over!!High school graduate (includes equivalency)',\n",
    "                        ], inplace=True)"
   ]
  },
  {
   "cell_type": "code",
   "execution_count": 62,
   "metadata": {},
   "outputs": [
    {
     "data": {
      "text/html": [
       "<div>\n",
       "<style scoped>\n",
       "    .dataframe tbody tr th:only-of-type {\n",
       "        vertical-align: middle;\n",
       "    }\n",
       "\n",
       "    .dataframe tbody tr th {\n",
       "        vertical-align: top;\n",
       "    }\n",
       "\n",
       "    .dataframe thead th {\n",
       "        text-align: right;\n",
       "    }\n",
       "</style>\n",
       "<table border=\"1\" class=\"dataframe\">\n",
       "  <thead>\n",
       "    <tr style=\"text-align: right;\">\n",
       "      <th></th>\n",
       "      <th>year</th>\n",
       "      <th>percent_high_school_grad</th>\n",
       "      <th>percent_bach_deg_grad</th>\n",
       "    </tr>\n",
       "    <tr>\n",
       "      <th>zip_code</th>\n",
       "      <th></th>\n",
       "      <th></th>\n",
       "      <th></th>\n",
       "    </tr>\n",
       "  </thead>\n",
       "  <tbody>\n",
       "    <tr>\n",
       "      <th>89010</th>\n",
       "      <td>2013</td>\n",
       "      <td>61.6</td>\n",
       "      <td>13.4</td>\n",
       "    </tr>\n",
       "    <tr>\n",
       "      <th>89019</th>\n",
       "      <td>2013</td>\n",
       "      <td>80.7</td>\n",
       "      <td>13.1</td>\n",
       "    </tr>\n",
       "    <tr>\n",
       "      <th>89060</th>\n",
       "      <td>2013</td>\n",
       "      <td>81.8</td>\n",
       "      <td>10.9</td>\n",
       "    </tr>\n",
       "    <tr>\n",
       "      <th>89061</th>\n",
       "      <td>2013</td>\n",
       "      <td>87.4</td>\n",
       "      <td>22.4</td>\n",
       "    </tr>\n",
       "    <tr>\n",
       "      <th>89439</th>\n",
       "      <td>2013</td>\n",
       "      <td>94.7</td>\n",
       "      <td>34.7</td>\n",
       "    </tr>\n",
       "  </tbody>\n",
       "</table>\n",
       "</div>"
      ],
      "text/plain": [
       "          year  percent_high_school_grad  percent_bach_deg_grad\n",
       "zip_code                                                       \n",
       "89010     2013                      61.6                   13.4\n",
       "89019     2013                      80.7                   13.1\n",
       "89060     2013                      81.8                   10.9\n",
       "89061     2013                      87.4                   22.4\n",
       "89439     2013                      94.7                   34.7"
      ]
     },
     "execution_count": 62,
     "metadata": {},
     "output_type": "execute_result"
    }
   ],
   "source": [
    "df_edu.head()"
   ]
  },
  {
   "cell_type": "code",
   "execution_count": 63,
   "metadata": {},
   "outputs": [],
   "source": [
    "# merge with income\n",
    "df_demographics = pd.merge(df_income, df_edu,  how='left', left_on=['zip_code','year'], right_on = ['zip_code','year'])\n"
   ]
  },
  {
   "cell_type": "code",
   "execution_count": 64,
   "metadata": {},
   "outputs": [
    {
     "data": {
      "text/plain": [
       "(37784, 6)"
      ]
     },
     "execution_count": 64,
     "metadata": {},
     "output_type": "execute_result"
    }
   ],
   "source": [
    "df_demographics.shape"
   ]
  },
  {
   "cell_type": "code",
   "execution_count": 65,
   "metadata": {},
   "outputs": [],
   "source": [
    "df_demographics.drop_duplicates(inplace=True)"
   ]
  },
  {
   "cell_type": "code",
   "execution_count": 66,
   "metadata": {},
   "outputs": [
    {
     "data": {
      "text/plain": [
       "(18892, 6)"
      ]
     },
     "execution_count": 66,
     "metadata": {},
     "output_type": "execute_result"
    }
   ],
   "source": [
    "df_demographics.shape"
   ]
  },
  {
   "cell_type": "code",
   "execution_count": 67,
   "metadata": {},
   "outputs": [
    {
     "name": "stdout",
     "output_type": "stream",
     "text": [
      "/Users/emnichols/capstone\n"
     ]
    }
   ],
   "source": [
    "cd .."
   ]
  },
  {
   "cell_type": "markdown",
   "metadata": {},
   "source": [
    "## Total Population"
   ]
  },
  {
   "cell_type": "code",
   "execution_count": 68,
   "metadata": {},
   "outputs": [],
   "source": [
    "#cd .."
   ]
  },
  {
   "cell_type": "code",
   "execution_count": 69,
   "metadata": {},
   "outputs": [
    {
     "name": "stdout",
     "output_type": "stream",
     "text": [
      "/Users/emnichols/capstone/total_population_ca\n"
     ]
    }
   ],
   "source": [
    "cd total_population_ca"
   ]
  },
  {
   "cell_type": "code",
   "execution_count": 70,
   "metadata": {},
   "outputs": [],
   "source": [
    "path = os.getcwd()\n",
    "files = os.listdir(path)"
   ]
  },
  {
   "cell_type": "code",
   "execution_count": 71,
   "metadata": {},
   "outputs": [
    {
     "data": {
      "text/plain": [
       "['ACSDT5Y2017.B01003-Data.csv',\n",
       " 'ACSDT5Y2018.B01003-Data.csv',\n",
       " '.DS_Store',\n",
       " 'ACSDT5Y2011.B01003-Data.csv',\n",
       " 'ACSDT5Y2016.B01003-Data.csv',\n",
       " 'ACSDT5Y2019.B01003-Data.csv',\n",
       " 'ACSDT5Y2021.B01003-Data.csv',\n",
       " 'ACSDT5Y2013.B01003-Data.csv',\n",
       " 'ACSDT5Y2014.B01003-Data.csv',\n",
       " 'ACSDT5Y2015.B01003-Data.csv',\n",
       " 'ACSDT5Y2020.B01003-Data.csv',\n",
       " 'ACSDT5Y2012.B01003-Data.csv']"
      ]
     },
     "execution_count": 71,
     "metadata": {},
     "output_type": "execute_result"
    }
   ],
   "source": [
    "files"
   ]
  },
  {
   "cell_type": "code",
   "execution_count": 72,
   "metadata": {},
   "outputs": [],
   "source": [
    "df_population = pd.DataFrame()"
   ]
  },
  {
   "cell_type": "code",
   "execution_count": 73,
   "metadata": {},
   "outputs": [],
   "source": [
    "population_columns = ['Geographic Area Name','Estimate!!Total']"
   ]
  },
  {
   "cell_type": "code",
   "execution_count": 74,
   "metadata": {},
   "outputs": [],
   "source": [
    "for f in files:\n",
    "    if f[-3:] == 'csv':\n",
    "        year = int(f[7:11])\n",
    "        data = pd.read_csv(f, skiprows=1, header=0,usecols=population_columns)\n",
    "        data['year'] = year\n",
    "        #print(f[7:11])\n",
    "        df_population = pd.concat([df_population,data])\n",
    "                "
   ]
  },
  {
   "cell_type": "code",
   "execution_count": null,
   "metadata": {},
   "outputs": [],
   "source": []
  },
  {
   "cell_type": "code",
   "execution_count": 75,
   "metadata": {},
   "outputs": [
    {
     "data": {
      "text/html": [
       "<div>\n",
       "<style scoped>\n",
       "    .dataframe tbody tr th:only-of-type {\n",
       "        vertical-align: middle;\n",
       "    }\n",
       "\n",
       "    .dataframe tbody tr th {\n",
       "        vertical-align: top;\n",
       "    }\n",
       "\n",
       "    .dataframe thead th {\n",
       "        text-align: right;\n",
       "    }\n",
       "</style>\n",
       "<table border=\"1\" class=\"dataframe\">\n",
       "  <thead>\n",
       "    <tr style=\"text-align: right;\">\n",
       "      <th></th>\n",
       "      <th>Geographic Area Name</th>\n",
       "      <th>Estimate!!Total</th>\n",
       "      <th>year</th>\n",
       "    </tr>\n",
       "  </thead>\n",
       "  <tbody>\n",
       "    <tr>\n",
       "      <th>0</th>\n",
       "      <td>ZCTA5 89010</td>\n",
       "      <td>512</td>\n",
       "      <td>2017</td>\n",
       "    </tr>\n",
       "    <tr>\n",
       "      <th>1</th>\n",
       "      <td>ZCTA5 89019</td>\n",
       "      <td>1748</td>\n",
       "      <td>2017</td>\n",
       "    </tr>\n",
       "    <tr>\n",
       "      <th>2</th>\n",
       "      <td>ZCTA5 89060</td>\n",
       "      <td>9373</td>\n",
       "      <td>2017</td>\n",
       "    </tr>\n",
       "    <tr>\n",
       "      <th>3</th>\n",
       "      <td>ZCTA5 89061</td>\n",
       "      <td>5360</td>\n",
       "      <td>2017</td>\n",
       "    </tr>\n",
       "    <tr>\n",
       "      <th>4</th>\n",
       "      <td>ZCTA5 89439</td>\n",
       "      <td>1465</td>\n",
       "      <td>2017</td>\n",
       "    </tr>\n",
       "  </tbody>\n",
       "</table>\n",
       "</div>"
      ],
      "text/plain": [
       "  Geographic Area Name  Estimate!!Total  year\n",
       "0          ZCTA5 89010              512  2017\n",
       "1          ZCTA5 89019             1748  2017\n",
       "2          ZCTA5 89060             9373  2017\n",
       "3          ZCTA5 89061             5360  2017\n",
       "4          ZCTA5 89439             1465  2017"
      ]
     },
     "execution_count": 75,
     "metadata": {},
     "output_type": "execute_result"
    }
   ],
   "source": [
    "df_population.head()"
   ]
  },
  {
   "cell_type": "code",
   "execution_count": 76,
   "metadata": {},
   "outputs": [],
   "source": [
    "df_population['zip_code'] = df_population['Geographic Area Name'].replace('ZCTA5 ','',regex=True)\n",
    "\n",
    "df_population.drop(columns=['Geographic Area Name'], inplace=True)"
   ]
  },
  {
   "cell_type": "code",
   "execution_count": 77,
   "metadata": {},
   "outputs": [],
   "source": [
    "# clean data\n",
    "df_population = df_population.fillna(0)\n",
    "df_population = df_population.replace('-',0,regex=True)\n",
    "df_population = df_population.replace(',',0,regex=True)\n",
    "df_population = df_population.replace('\\(X\\)',0,regex=True)\n",
    "df_population = df_population.replace('N',0,regex=True)\n",
    "df_population = df_population.replace('\\n','',regex=True)"
   ]
  },
  {
   "cell_type": "code",
   "execution_count": 78,
   "metadata": {},
   "outputs": [],
   "source": [
    "#typecasting\n",
    "df_population = df_population.apply(pd.to_numeric)\n",
    "df_population = df_population.apply(pd.to_numeric)\n",
    "\n",
    "df_population['year'] = df_population.year.astype('str')\n",
    "df_population['zip_code'] = df_population.zip_code.astype('str')"
   ]
  },
  {
   "cell_type": "code",
   "execution_count": 79,
   "metadata": {},
   "outputs": [],
   "source": [
    "#set index\n",
    "df_population.set_index('zip_code',inplace=True)"
   ]
  },
  {
   "cell_type": "code",
   "execution_count": 80,
   "metadata": {},
   "outputs": [],
   "source": [
    "#rename column\n",
    "df_population = df_population.rename(columns={'Estimate!!Total': 'total_population'})"
   ]
  },
  {
   "cell_type": "code",
   "execution_count": 81,
   "metadata": {},
   "outputs": [
    {
     "data": {
      "text/html": [
       "<div>\n",
       "<style scoped>\n",
       "    .dataframe tbody tr th:only-of-type {\n",
       "        vertical-align: middle;\n",
       "    }\n",
       "\n",
       "    .dataframe tbody tr th {\n",
       "        vertical-align: top;\n",
       "    }\n",
       "\n",
       "    .dataframe thead th {\n",
       "        text-align: right;\n",
       "    }\n",
       "</style>\n",
       "<table border=\"1\" class=\"dataframe\">\n",
       "  <thead>\n",
       "    <tr style=\"text-align: right;\">\n",
       "      <th></th>\n",
       "      <th>total_population</th>\n",
       "      <th>year</th>\n",
       "    </tr>\n",
       "    <tr>\n",
       "      <th>zip_code</th>\n",
       "      <th></th>\n",
       "      <th></th>\n",
       "    </tr>\n",
       "  </thead>\n",
       "  <tbody>\n",
       "    <tr>\n",
       "      <th>89010</th>\n",
       "      <td>512</td>\n",
       "      <td>2017</td>\n",
       "    </tr>\n",
       "    <tr>\n",
       "      <th>89019</th>\n",
       "      <td>1748</td>\n",
       "      <td>2017</td>\n",
       "    </tr>\n",
       "    <tr>\n",
       "      <th>89060</th>\n",
       "      <td>9373</td>\n",
       "      <td>2017</td>\n",
       "    </tr>\n",
       "    <tr>\n",
       "      <th>89061</th>\n",
       "      <td>5360</td>\n",
       "      <td>2017</td>\n",
       "    </tr>\n",
       "    <tr>\n",
       "      <th>89439</th>\n",
       "      <td>1465</td>\n",
       "      <td>2017</td>\n",
       "    </tr>\n",
       "  </tbody>\n",
       "</table>\n",
       "</div>"
      ],
      "text/plain": [
       "          total_population  year\n",
       "zip_code                        \n",
       "89010                  512  2017\n",
       "89019                 1748  2017\n",
       "89060                 9373  2017\n",
       "89061                 5360  2017\n",
       "89439                 1465  2017"
      ]
     },
     "execution_count": 81,
     "metadata": {},
     "output_type": "execute_result"
    }
   ],
   "source": [
    "df_population.head()"
   ]
  },
  {
   "cell_type": "code",
   "execution_count": null,
   "metadata": {},
   "outputs": [],
   "source": []
  },
  {
   "cell_type": "code",
   "execution_count": 82,
   "metadata": {},
   "outputs": [],
   "source": [
    "# merge\n",
    "df_demographics_2 = pd.merge(df_demographics, df_population,  how='left', left_on=['zip_code','year'], right_on = ['zip_code','year'])\n"
   ]
  },
  {
   "cell_type": "code",
   "execution_count": 83,
   "metadata": {},
   "outputs": [],
   "source": [
    "df_demo = df_demographics_2.drop_duplicates()"
   ]
  },
  {
   "cell_type": "code",
   "execution_count": 84,
   "metadata": {},
   "outputs": [
    {
     "data": {
      "text/plain": [
       "2011    1724\n",
       "2014    1721\n",
       "2012    1721\n",
       "2015    1719\n",
       "2021    1718\n",
       "2018    1717\n",
       "2016    1717\n",
       "2017    1716\n",
       "2019    1715\n",
       "2020    1713\n",
       "2013    1711\n",
       "Name: year, dtype: int64"
      ]
     },
     "execution_count": 84,
     "metadata": {},
     "output_type": "execute_result"
    }
   ],
   "source": [
    "df_demo.year.value_counts()"
   ]
  },
  {
   "cell_type": "code",
   "execution_count": 85,
   "metadata": {},
   "outputs": [],
   "source": [
    "#df_demo.to_csv('test.csv')"
   ]
  },
  {
   "cell_type": "code",
   "execution_count": null,
   "metadata": {},
   "outputs": [],
   "source": []
  },
  {
   "cell_type": "code",
   "execution_count": null,
   "metadata": {},
   "outputs": [],
   "source": []
  },
  {
   "cell_type": "markdown",
   "metadata": {},
   "source": [
    "## Age and Sex"
   ]
  },
  {
   "cell_type": "code",
   "execution_count": 86,
   "metadata": {},
   "outputs": [
    {
     "name": "stdout",
     "output_type": "stream",
     "text": [
      "/Users/emnichols/capstone\n"
     ]
    }
   ],
   "source": [
    "cd .."
   ]
  },
  {
   "cell_type": "code",
   "execution_count": 87,
   "metadata": {},
   "outputs": [
    {
     "name": "stdout",
     "output_type": "stream",
     "text": [
      "/Users/emnichols/capstone/age_sex_ca\n"
     ]
    }
   ],
   "source": [
    "cd age_sex_ca"
   ]
  },
  {
   "cell_type": "code",
   "execution_count": 88,
   "metadata": {},
   "outputs": [],
   "source": [
    "path = os.getcwd()\n",
    "files = os.listdir(path)"
   ]
  },
  {
   "cell_type": "code",
   "execution_count": 89,
   "metadata": {},
   "outputs": [
    {
     "data": {
      "text/plain": [
       "['ACSST5Y2015.S0101-Data.csv',\n",
       " 'ACSST5Y2012.S0101-Data.csv',\n",
       " 'ACSST5Y2013.S0101-Data.csv',\n",
       " '.DS_Store',\n",
       " 'ACSST5Y2014.S0101-Data.csv',\n",
       " 'ACSST5Y2016.S0101-Data.csv',\n",
       " 'ACSST5Y2011.S0101-Data.csv',\n",
       " 'ACSST5Y2019.S0101-Data.csv',\n",
       " 'ACSST5Y2018.S0101-Data.csv',\n",
       " 'ACSST5Y2017.S0101-Data.csv',\n",
       " 'ACSST5Y2020.S0101-Data.csv',\n",
       " 'ACSST5Y2021.S0101-Data.csv']"
      ]
     },
     "execution_count": 89,
     "metadata": {},
     "output_type": "execute_result"
    }
   ],
   "source": [
    "files"
   ]
  },
  {
   "cell_type": "code",
   "execution_count": 90,
   "metadata": {},
   "outputs": [],
   "source": [
    "df_age = pd.DataFrame()"
   ]
  },
  {
   "cell_type": "code",
   "execution_count": 91,
   "metadata": {},
   "outputs": [],
   "source": [
    "age_columns_2011_2016 = ['Geographic Area Name',\\\n",
    "                         'Total!!Estimate!!Total population',\n",
    "                         'Total!!Estimate!!AGE!!Under 5 years',\\\n",
    "                         'Total!!Estimate!!AGE!!5 to 9 years',\\\n",
    "                         'Total!!Estimate!!AGE!!10 to 14 years',\\\n",
    "                         'Total!!Estimate!!AGE!!15 to 19 years',\\\n",
    "                         'Male!!Estimate!!AGE!!Under 5 years',\\\n",
    "                         'Male!!Estimate!!AGE!!5 to 9 years',\\\n",
    "                         'Male!!Estimate!!AGE!!10 to 14 years',\\\n",
    "                         'Male!!Estimate!!AGE!!15 to 19 years',\\\n",
    "                         'Female!!Estimate!!AGE!!Under 5 years',\\\n",
    "                         'Female!!Estimate!!AGE!!5 to 9 years',\\\n",
    "                         'Female!!Estimate!!AGE!!10 to 14 years',\\\n",
    "                         'Female!!Estimate!!AGE!!15 to 19 years',\\\n",
    "                         'Total!!Estimate!!SUMMARY INDICATORS!!Median age (years)',\\\n",
    "                         #'Total!!Estimate!!SELECTED AGE CATEGORIES!!Under 18 years'\n",
    "                        ]\n",
    "\n",
    "\n",
    "# age_columns_2017_2021 = ['Geographic Area Name',\\\n",
    "#                          'Estimate!!Total!!Total population!!AGE!!Under 5 years',\\\n",
    "#                          'Estimate!!Total!!Total population!!AGE!!5 to 9 years',\\\n",
    "#                          'Estimate!!Total!!Total population!!AGE!!10 to 14 years',\\\n",
    "#                          'Estimate!!Total!!Total population!!AGE!!15 to 19 years',\\\n",
    "#                          'Estimate!!Male!!Total population!!AGE!!Under 5 years',\\\n",
    "#                          'Estimate!!Male!!Total population!!AGE!!5 to 9 years',\\\n",
    "#                          'Estimate!!Male!!Total population!!AGE!!10 to 14 years',\\\n",
    "#                          'Estimate!!Male!!Total population!!AGE!!15 to 19 years',\\\n",
    "#                          'Estimate!!Female!!Total population!!AGE!!Under 5 years',\\\n",
    "#                          'Estimate!!Female!!Total population!!AGE!!5 to 9 years',\\\n",
    "#                          'Estimate!!Female!!Total population!!AGE!!10 to 14 years',\\\n",
    "#                          'Estimate!!Female!!Total population!!AGE!!15 to 19 years',\\\n",
    "#                          'Estimate!!Total!!Total population!!SUMMARY INDICATORS!!Median age (years)',\\\n",
    "#                          #'Estimate!!Total!!Total population!!SELECTED AGE CATEGORIES!!Under 18 years'\n",
    "                       \n",
    "#                         ]\n",
    "\n",
    "age_columns_2017_2021 = ['Geographic Area Name',\\\n",
    "                         'Estimate!!Percent!!Total population!!AGE!!Under 5 years',\\\n",
    "                         'Estimate!!Percent!!Total population!!AGE!!5 to 9 years',\\\n",
    "                         'Estimate!!Percent!!Total population!!AGE!!10 to 14 years',\\\n",
    "                         'Estimate!!Percent!!Total population!!AGE!!15 to 19 years',\\\n",
    "                         'Estimate!!Percent Male!!Total population!!AGE!!Under 5 years',\\\n",
    "                         'Estimate!!Percent Male!!Total population!!AGE!!5 to 9 years',\\\n",
    "                         'Estimate!!Percent Male!!Total population!!AGE!!10 to 14 years',\\\n",
    "                         'Estimate!!Percent Male!!Total population!!AGE!!15 to 19 years',\\\n",
    "                         'Estimate!!Percent Female!!Total population!!AGE!!Under 5 years',\\\n",
    "                         'Estimate!!Percent Female!!Total population!!AGE!!5 to 9 years',\\\n",
    "                         'Estimate!!Percent Female!!Total population!!AGE!!10 to 14 years',\\\n",
    "                         'Estimate!!Percent Female!!Total population!!AGE!!15 to 19 years',\\\n",
    "                         'Estimate!!Total!!Total population!!SUMMARY INDICATORS!!Median age (years)',\\\n",
    "                         #'Estimate!!Total!!Total population!!SELECTED AGE CATEGORIES!!Under 18 years'\n",
    "                       \n",
    "                        ]\n",
    "\n",
    "#2017\n",
    "# Estimate!!Total!!Total population!!AGE!!Under 5 years\n",
    "# Estimate!!Percent!!Total population!!AGE!!Under 5 years\n",
    "# Estimate!!Male!!Total population!!AGE!!Under 5 years\n",
    "# Estimate!!Percent Male!!Total population!!AGE!!Under 5 years\n",
    "# Estimate!!Female!!Total population!!AGE!!Under 5 years\n",
    "# Estimate!!Percent Female!!Total population!!AGE!!Under 5 years\n",
    "\n"
   ]
  },
  {
   "cell_type": "code",
   "execution_count": 92,
   "metadata": {},
   "outputs": [],
   "source": [
    "for f in files:\n",
    "    if f[-3:] == 'csv':\n",
    "        year = int(f[7:11])\n",
    "        if year in range(2011,2017):\n",
    "            #print(f[-10])\n",
    "            data = pd.read_csv(f, skiprows=1, header=0,usecols=age_columns_2011_2016)\n",
    "            data['year'] = year\n",
    "            #print(f[7:11])\n",
    "            df_age = pd.concat([df_age,data])\n",
    "                \n",
    "        if year in range(2017,2022):\n",
    "            #print(f[-10])\n",
    "            data = pd.read_csv(f, skiprows=1,usecols=age_columns_2017_2021)\n",
    "            data['year'] = year\n",
    "            #print(f[7:11])\n",
    "            df_age = pd.concat([df_age,data])\n"
   ]
  },
  {
   "cell_type": "code",
   "execution_count": 93,
   "metadata": {},
   "outputs": [
    {
     "data": {
      "text/html": [
       "<div>\n",
       "<style scoped>\n",
       "    .dataframe tbody tr th:only-of-type {\n",
       "        vertical-align: middle;\n",
       "    }\n",
       "\n",
       "    .dataframe tbody tr th {\n",
       "        vertical-align: top;\n",
       "    }\n",
       "\n",
       "    .dataframe thead th {\n",
       "        text-align: right;\n",
       "    }\n",
       "</style>\n",
       "<table border=\"1\" class=\"dataframe\">\n",
       "  <thead>\n",
       "    <tr style=\"text-align: right;\">\n",
       "      <th></th>\n",
       "      <th>Geographic Area Name</th>\n",
       "      <th>Total!!Estimate!!Total population</th>\n",
       "      <th>Total!!Estimate!!AGE!!Under 5 years</th>\n",
       "      <th>Male!!Estimate!!AGE!!Under 5 years</th>\n",
       "      <th>Female!!Estimate!!AGE!!Under 5 years</th>\n",
       "      <th>Total!!Estimate!!AGE!!5 to 9 years</th>\n",
       "      <th>Male!!Estimate!!AGE!!5 to 9 years</th>\n",
       "      <th>Female!!Estimate!!AGE!!5 to 9 years</th>\n",
       "      <th>Total!!Estimate!!AGE!!10 to 14 years</th>\n",
       "      <th>Male!!Estimate!!AGE!!10 to 14 years</th>\n",
       "      <th>...</th>\n",
       "      <th>Estimate!!Percent!!Total population!!AGE!!10 to 14 years</th>\n",
       "      <th>Estimate!!Percent!!Total population!!AGE!!15 to 19 years</th>\n",
       "      <th>Estimate!!Percent Male!!Total population!!AGE!!Under 5 years</th>\n",
       "      <th>Estimate!!Percent Male!!Total population!!AGE!!5 to 9 years</th>\n",
       "      <th>Estimate!!Percent Male!!Total population!!AGE!!10 to 14 years</th>\n",
       "      <th>Estimate!!Percent Male!!Total population!!AGE!!15 to 19 years</th>\n",
       "      <th>Estimate!!Percent Female!!Total population!!AGE!!Under 5 years</th>\n",
       "      <th>Estimate!!Percent Female!!Total population!!AGE!!5 to 9 years</th>\n",
       "      <th>Estimate!!Percent Female!!Total population!!AGE!!10 to 14 years</th>\n",
       "      <th>Estimate!!Percent Female!!Total population!!AGE!!15 to 19 years</th>\n",
       "    </tr>\n",
       "  </thead>\n",
       "  <tbody>\n",
       "    <tr>\n",
       "      <th>0</th>\n",
       "      <td>ZCTA5 89010</td>\n",
       "      <td>549.0</td>\n",
       "      <td>1.1</td>\n",
       "      <td>0.0</td>\n",
       "      <td>1.8</td>\n",
       "      <td>6.0</td>\n",
       "      <td>7.3</td>\n",
       "      <td>5.2</td>\n",
       "      <td>4.7</td>\n",
       "      <td>2.7</td>\n",
       "      <td>...</td>\n",
       "      <td>NaN</td>\n",
       "      <td>NaN</td>\n",
       "      <td>NaN</td>\n",
       "      <td>NaN</td>\n",
       "      <td>NaN</td>\n",
       "      <td>NaN</td>\n",
       "      <td>NaN</td>\n",
       "      <td>NaN</td>\n",
       "      <td>NaN</td>\n",
       "      <td>NaN</td>\n",
       "    </tr>\n",
       "    <tr>\n",
       "      <th>1</th>\n",
       "      <td>ZCTA5 89019</td>\n",
       "      <td>1804.0</td>\n",
       "      <td>0.7</td>\n",
       "      <td>1.4</td>\n",
       "      <td>0.0</td>\n",
       "      <td>4.8</td>\n",
       "      <td>0.0</td>\n",
       "      <td>9.3</td>\n",
       "      <td>2.3</td>\n",
       "      <td>0.7</td>\n",
       "      <td>...</td>\n",
       "      <td>NaN</td>\n",
       "      <td>NaN</td>\n",
       "      <td>NaN</td>\n",
       "      <td>NaN</td>\n",
       "      <td>NaN</td>\n",
       "      <td>NaN</td>\n",
       "      <td>NaN</td>\n",
       "      <td>NaN</td>\n",
       "      <td>NaN</td>\n",
       "      <td>NaN</td>\n",
       "    </tr>\n",
       "    <tr>\n",
       "      <th>2</th>\n",
       "      <td>ZCTA5 89060</td>\n",
       "      <td>9587.0</td>\n",
       "      <td>3.9</td>\n",
       "      <td>4.0</td>\n",
       "      <td>3.8</td>\n",
       "      <td>5.7</td>\n",
       "      <td>4.2</td>\n",
       "      <td>7.2</td>\n",
       "      <td>3.8</td>\n",
       "      <td>5.2</td>\n",
       "      <td>...</td>\n",
       "      <td>NaN</td>\n",
       "      <td>NaN</td>\n",
       "      <td>NaN</td>\n",
       "      <td>NaN</td>\n",
       "      <td>NaN</td>\n",
       "      <td>NaN</td>\n",
       "      <td>NaN</td>\n",
       "      <td>NaN</td>\n",
       "      <td>NaN</td>\n",
       "      <td>NaN</td>\n",
       "    </tr>\n",
       "    <tr>\n",
       "      <th>3</th>\n",
       "      <td>ZCTA5 89061</td>\n",
       "      <td>5337.0</td>\n",
       "      <td>4.8</td>\n",
       "      <td>4.8</td>\n",
       "      <td>4.8</td>\n",
       "      <td>3.8</td>\n",
       "      <td>6.3</td>\n",
       "      <td>1.5</td>\n",
       "      <td>5.8</td>\n",
       "      <td>6.7</td>\n",
       "      <td>...</td>\n",
       "      <td>NaN</td>\n",
       "      <td>NaN</td>\n",
       "      <td>NaN</td>\n",
       "      <td>NaN</td>\n",
       "      <td>NaN</td>\n",
       "      <td>NaN</td>\n",
       "      <td>NaN</td>\n",
       "      <td>NaN</td>\n",
       "      <td>NaN</td>\n",
       "      <td>NaN</td>\n",
       "    </tr>\n",
       "    <tr>\n",
       "      <th>4</th>\n",
       "      <td>ZCTA5 89439</td>\n",
       "      <td>1609.0</td>\n",
       "      <td>3.5</td>\n",
       "      <td>4.7</td>\n",
       "      <td>2.3</td>\n",
       "      <td>3.4</td>\n",
       "      <td>2.3</td>\n",
       "      <td>4.5</td>\n",
       "      <td>2.3</td>\n",
       "      <td>2.3</td>\n",
       "      <td>...</td>\n",
       "      <td>NaN</td>\n",
       "      <td>NaN</td>\n",
       "      <td>NaN</td>\n",
       "      <td>NaN</td>\n",
       "      <td>NaN</td>\n",
       "      <td>NaN</td>\n",
       "      <td>NaN</td>\n",
       "      <td>NaN</td>\n",
       "      <td>NaN</td>\n",
       "      <td>NaN</td>\n",
       "    </tr>\n",
       "  </tbody>\n",
       "</table>\n",
       "<p>5 rows × 29 columns</p>\n",
       "</div>"
      ],
      "text/plain": [
       "  Geographic Area Name  Total!!Estimate!!Total population  \\\n",
       "0          ZCTA5 89010                              549.0   \n",
       "1          ZCTA5 89019                             1804.0   \n",
       "2          ZCTA5 89060                             9587.0   \n",
       "3          ZCTA5 89061                             5337.0   \n",
       "4          ZCTA5 89439                             1609.0   \n",
       "\n",
       "  Total!!Estimate!!AGE!!Under 5 years Male!!Estimate!!AGE!!Under 5 years  \\\n",
       "0                                 1.1                                0.0   \n",
       "1                                 0.7                                1.4   \n",
       "2                                 3.9                                4.0   \n",
       "3                                 4.8                                4.8   \n",
       "4                                 3.5                                4.7   \n",
       "\n",
       "  Female!!Estimate!!AGE!!Under 5 years Total!!Estimate!!AGE!!5 to 9 years  \\\n",
       "0                                  1.8                                6.0   \n",
       "1                                  0.0                                4.8   \n",
       "2                                  3.8                                5.7   \n",
       "3                                  4.8                                3.8   \n",
       "4                                  2.3                                3.4   \n",
       "\n",
       "  Male!!Estimate!!AGE!!5 to 9 years Female!!Estimate!!AGE!!5 to 9 years  \\\n",
       "0                               7.3                                 5.2   \n",
       "1                               0.0                                 9.3   \n",
       "2                               4.2                                 7.2   \n",
       "3                               6.3                                 1.5   \n",
       "4                               2.3                                 4.5   \n",
       "\n",
       "  Total!!Estimate!!AGE!!10 to 14 years Male!!Estimate!!AGE!!10 to 14 years  \\\n",
       "0                                  4.7                                 2.7   \n",
       "1                                  2.3                                 0.7   \n",
       "2                                  3.8                                 5.2   \n",
       "3                                  5.8                                 6.7   \n",
       "4                                  2.3                                 2.3   \n",
       "\n",
       "   ... Estimate!!Percent!!Total population!!AGE!!10 to 14 years  \\\n",
       "0  ...                                                NaN         \n",
       "1  ...                                                NaN         \n",
       "2  ...                                                NaN         \n",
       "3  ...                                                NaN         \n",
       "4  ...                                                NaN         \n",
       "\n",
       "  Estimate!!Percent!!Total population!!AGE!!15 to 19 years  \\\n",
       "0                                                NaN         \n",
       "1                                                NaN         \n",
       "2                                                NaN         \n",
       "3                                                NaN         \n",
       "4                                                NaN         \n",
       "\n",
       "  Estimate!!Percent Male!!Total population!!AGE!!Under 5 years  \\\n",
       "0                                                NaN             \n",
       "1                                                NaN             \n",
       "2                                                NaN             \n",
       "3                                                NaN             \n",
       "4                                                NaN             \n",
       "\n",
       "  Estimate!!Percent Male!!Total population!!AGE!!5 to 9 years  \\\n",
       "0                                                NaN            \n",
       "1                                                NaN            \n",
       "2                                                NaN            \n",
       "3                                                NaN            \n",
       "4                                                NaN            \n",
       "\n",
       "  Estimate!!Percent Male!!Total population!!AGE!!10 to 14 years  \\\n",
       "0                                                NaN              \n",
       "1                                                NaN              \n",
       "2                                                NaN              \n",
       "3                                                NaN              \n",
       "4                                                NaN              \n",
       "\n",
       "   Estimate!!Percent Male!!Total population!!AGE!!15 to 19 years  \\\n",
       "0                                                NaN               \n",
       "1                                                NaN               \n",
       "2                                                NaN               \n",
       "3                                                NaN               \n",
       "4                                                NaN               \n",
       "\n",
       "  Estimate!!Percent Female!!Total population!!AGE!!Under 5 years  \\\n",
       "0                                                NaN               \n",
       "1                                                NaN               \n",
       "2                                                NaN               \n",
       "3                                                NaN               \n",
       "4                                                NaN               \n",
       "\n",
       "  Estimate!!Percent Female!!Total population!!AGE!!5 to 9 years  \\\n",
       "0                                                NaN              \n",
       "1                                                NaN              \n",
       "2                                                NaN              \n",
       "3                                                NaN              \n",
       "4                                                NaN              \n",
       "\n",
       "  Estimate!!Percent Female!!Total population!!AGE!!10 to 14 years  \\\n",
       "0                                                NaN                \n",
       "1                                                NaN                \n",
       "2                                                NaN                \n",
       "3                                                NaN                \n",
       "4                                                NaN                \n",
       "\n",
       "  Estimate!!Percent Female!!Total population!!AGE!!15 to 19 years  \n",
       "0                                                NaN               \n",
       "1                                                NaN               \n",
       "2                                                NaN               \n",
       "3                                                NaN               \n",
       "4                                                NaN               \n",
       "\n",
       "[5 rows x 29 columns]"
      ]
     },
     "execution_count": 93,
     "metadata": {},
     "output_type": "execute_result"
    }
   ],
   "source": [
    "df_age.head()"
   ]
  },
  {
   "cell_type": "code",
   "execution_count": 94,
   "metadata": {},
   "outputs": [],
   "source": [
    "# clean data\n",
    "df_age = df_age.fillna(0)\n",
    "df_age = df_age.replace('-',0,regex=True)\n",
    "df_age = df_age.replace(',',0,regex=True)\n",
    "df_age = df_age.replace('\\(X\\)',0,regex=True)\n",
    "df_age = df_age.replace('N',0,regex=True)"
   ]
  },
  {
   "cell_type": "code",
   "execution_count": null,
   "metadata": {},
   "outputs": [],
   "source": []
  },
  {
   "cell_type": "code",
   "execution_count": 95,
   "metadata": {},
   "outputs": [],
   "source": [
    "df_age['zip_code'] = df_age['Geographic Area Name'].replace('ZCTA5 ','',regex=True)\n",
    "\n",
    "df_age.drop(columns=['Geographic Area Name'], inplace=True)"
   ]
  },
  {
   "cell_type": "code",
   "execution_count": 96,
   "metadata": {},
   "outputs": [],
   "source": [
    "#typecasting\n",
    "df_age = df_age.apply(pd.to_numeric)\n",
    "df_age = df_age.apply(pd.to_numeric)\n",
    "\n",
    "df_age['year'] = df_age.year.astype('str')\n",
    "df_age['zip_code'] = df_age.zip_code.astype('str')"
   ]
  },
  {
   "cell_type": "code",
   "execution_count": 97,
   "metadata": {},
   "outputs": [
    {
     "data": {
      "text/plain": [
       "42.9"
      ]
     },
     "execution_count": 97,
     "metadata": {},
     "output_type": "execute_result"
    }
   ],
   "source": [
    "df_age['Total!!Estimate!!AGE!!Under 5 years'].max()\n"
   ]
  },
  {
   "cell_type": "code",
   "execution_count": 98,
   "metadata": {},
   "outputs": [
    {
     "data": {
      "text/html": [
       "<div>\n",
       "<style scoped>\n",
       "    .dataframe tbody tr th:only-of-type {\n",
       "        vertical-align: middle;\n",
       "    }\n",
       "\n",
       "    .dataframe tbody tr th {\n",
       "        vertical-align: top;\n",
       "    }\n",
       "\n",
       "    .dataframe thead th {\n",
       "        text-align: right;\n",
       "    }\n",
       "</style>\n",
       "<table border=\"1\" class=\"dataframe\">\n",
       "  <thead>\n",
       "    <tr style=\"text-align: right;\">\n",
       "      <th></th>\n",
       "      <th>Total!!Estimate!!Total population</th>\n",
       "      <th>Total!!Estimate!!AGE!!Under 5 years</th>\n",
       "      <th>Male!!Estimate!!AGE!!Under 5 years</th>\n",
       "      <th>Female!!Estimate!!AGE!!Under 5 years</th>\n",
       "      <th>Total!!Estimate!!AGE!!5 to 9 years</th>\n",
       "      <th>Male!!Estimate!!AGE!!5 to 9 years</th>\n",
       "      <th>Female!!Estimate!!AGE!!5 to 9 years</th>\n",
       "      <th>Total!!Estimate!!AGE!!10 to 14 years</th>\n",
       "      <th>Male!!Estimate!!AGE!!10 to 14 years</th>\n",
       "      <th>Female!!Estimate!!AGE!!10 to 14 years</th>\n",
       "      <th>...</th>\n",
       "      <th>Estimate!!Percent!!Total population!!AGE!!15 to 19 years</th>\n",
       "      <th>Estimate!!Percent Male!!Total population!!AGE!!Under 5 years</th>\n",
       "      <th>Estimate!!Percent Male!!Total population!!AGE!!5 to 9 years</th>\n",
       "      <th>Estimate!!Percent Male!!Total population!!AGE!!10 to 14 years</th>\n",
       "      <th>Estimate!!Percent Male!!Total population!!AGE!!15 to 19 years</th>\n",
       "      <th>Estimate!!Percent Female!!Total population!!AGE!!Under 5 years</th>\n",
       "      <th>Estimate!!Percent Female!!Total population!!AGE!!5 to 9 years</th>\n",
       "      <th>Estimate!!Percent Female!!Total population!!AGE!!10 to 14 years</th>\n",
       "      <th>Estimate!!Percent Female!!Total population!!AGE!!15 to 19 years</th>\n",
       "      <th>zip_code</th>\n",
       "    </tr>\n",
       "  </thead>\n",
       "  <tbody>\n",
       "    <tr>\n",
       "      <th>0</th>\n",
       "      <td>549.0</td>\n",
       "      <td>1.1</td>\n",
       "      <td>0.0</td>\n",
       "      <td>1.8</td>\n",
       "      <td>6.0</td>\n",
       "      <td>7.3</td>\n",
       "      <td>5.2</td>\n",
       "      <td>4.7</td>\n",
       "      <td>2.7</td>\n",
       "      <td>6.1</td>\n",
       "      <td>...</td>\n",
       "      <td>0.0</td>\n",
       "      <td>0.0</td>\n",
       "      <td>0.0</td>\n",
       "      <td>0.0</td>\n",
       "      <td>0.0</td>\n",
       "      <td>0.0</td>\n",
       "      <td>0.0</td>\n",
       "      <td>0.0</td>\n",
       "      <td>0.0</td>\n",
       "      <td>89010</td>\n",
       "    </tr>\n",
       "    <tr>\n",
       "      <th>1</th>\n",
       "      <td>1804.0</td>\n",
       "      <td>0.7</td>\n",
       "      <td>1.4</td>\n",
       "      <td>0.0</td>\n",
       "      <td>4.8</td>\n",
       "      <td>0.0</td>\n",
       "      <td>9.3</td>\n",
       "      <td>2.3</td>\n",
       "      <td>0.7</td>\n",
       "      <td>3.8</td>\n",
       "      <td>...</td>\n",
       "      <td>0.0</td>\n",
       "      <td>0.0</td>\n",
       "      <td>0.0</td>\n",
       "      <td>0.0</td>\n",
       "      <td>0.0</td>\n",
       "      <td>0.0</td>\n",
       "      <td>0.0</td>\n",
       "      <td>0.0</td>\n",
       "      <td>0.0</td>\n",
       "      <td>89019</td>\n",
       "    </tr>\n",
       "    <tr>\n",
       "      <th>2</th>\n",
       "      <td>9587.0</td>\n",
       "      <td>3.9</td>\n",
       "      <td>4.0</td>\n",
       "      <td>3.8</td>\n",
       "      <td>5.7</td>\n",
       "      <td>4.2</td>\n",
       "      <td>7.2</td>\n",
       "      <td>3.8</td>\n",
       "      <td>5.2</td>\n",
       "      <td>2.3</td>\n",
       "      <td>...</td>\n",
       "      <td>0.0</td>\n",
       "      <td>0.0</td>\n",
       "      <td>0.0</td>\n",
       "      <td>0.0</td>\n",
       "      <td>0.0</td>\n",
       "      <td>0.0</td>\n",
       "      <td>0.0</td>\n",
       "      <td>0.0</td>\n",
       "      <td>0.0</td>\n",
       "      <td>89060</td>\n",
       "    </tr>\n",
       "    <tr>\n",
       "      <th>3</th>\n",
       "      <td>5337.0</td>\n",
       "      <td>4.8</td>\n",
       "      <td>4.8</td>\n",
       "      <td>4.8</td>\n",
       "      <td>3.8</td>\n",
       "      <td>6.3</td>\n",
       "      <td>1.5</td>\n",
       "      <td>5.8</td>\n",
       "      <td>6.7</td>\n",
       "      <td>4.9</td>\n",
       "      <td>...</td>\n",
       "      <td>0.0</td>\n",
       "      <td>0.0</td>\n",
       "      <td>0.0</td>\n",
       "      <td>0.0</td>\n",
       "      <td>0.0</td>\n",
       "      <td>0.0</td>\n",
       "      <td>0.0</td>\n",
       "      <td>0.0</td>\n",
       "      <td>0.0</td>\n",
       "      <td>89061</td>\n",
       "    </tr>\n",
       "    <tr>\n",
       "      <th>4</th>\n",
       "      <td>1609.0</td>\n",
       "      <td>3.5</td>\n",
       "      <td>4.7</td>\n",
       "      <td>2.3</td>\n",
       "      <td>3.4</td>\n",
       "      <td>2.3</td>\n",
       "      <td>4.5</td>\n",
       "      <td>2.3</td>\n",
       "      <td>2.3</td>\n",
       "      <td>2.3</td>\n",
       "      <td>...</td>\n",
       "      <td>0.0</td>\n",
       "      <td>0.0</td>\n",
       "      <td>0.0</td>\n",
       "      <td>0.0</td>\n",
       "      <td>0.0</td>\n",
       "      <td>0.0</td>\n",
       "      <td>0.0</td>\n",
       "      <td>0.0</td>\n",
       "      <td>0.0</td>\n",
       "      <td>89439</td>\n",
       "    </tr>\n",
       "  </tbody>\n",
       "</table>\n",
       "<p>5 rows × 29 columns</p>\n",
       "</div>"
      ],
      "text/plain": [
       "   Total!!Estimate!!Total population  Total!!Estimate!!AGE!!Under 5 years  \\\n",
       "0                              549.0                                  1.1   \n",
       "1                             1804.0                                  0.7   \n",
       "2                             9587.0                                  3.9   \n",
       "3                             5337.0                                  4.8   \n",
       "4                             1609.0                                  3.5   \n",
       "\n",
       "   Male!!Estimate!!AGE!!Under 5 years  Female!!Estimate!!AGE!!Under 5 years  \\\n",
       "0                                 0.0                                   1.8   \n",
       "1                                 1.4                                   0.0   \n",
       "2                                 4.0                                   3.8   \n",
       "3                                 4.8                                   4.8   \n",
       "4                                 4.7                                   2.3   \n",
       "\n",
       "   Total!!Estimate!!AGE!!5 to 9 years  Male!!Estimate!!AGE!!5 to 9 years  \\\n",
       "0                                 6.0                                7.3   \n",
       "1                                 4.8                                0.0   \n",
       "2                                 5.7                                4.2   \n",
       "3                                 3.8                                6.3   \n",
       "4                                 3.4                                2.3   \n",
       "\n",
       "   Female!!Estimate!!AGE!!5 to 9 years  Total!!Estimate!!AGE!!10 to 14 years  \\\n",
       "0                                  5.2                                   4.7   \n",
       "1                                  9.3                                   2.3   \n",
       "2                                  7.2                                   3.8   \n",
       "3                                  1.5                                   5.8   \n",
       "4                                  4.5                                   2.3   \n",
       "\n",
       "   Male!!Estimate!!AGE!!10 to 14 years  Female!!Estimate!!AGE!!10 to 14 years  \\\n",
       "0                                  2.7                                    6.1   \n",
       "1                                  0.7                                    3.8   \n",
       "2                                  5.2                                    2.3   \n",
       "3                                  6.7                                    4.9   \n",
       "4                                  2.3                                    2.3   \n",
       "\n",
       "   ...  Estimate!!Percent!!Total population!!AGE!!15 to 19 years  \\\n",
       "0  ...                                                0.0          \n",
       "1  ...                                                0.0          \n",
       "2  ...                                                0.0          \n",
       "3  ...                                                0.0          \n",
       "4  ...                                                0.0          \n",
       "\n",
       "   Estimate!!Percent Male!!Total population!!AGE!!Under 5 years  \\\n",
       "0                                                0.0              \n",
       "1                                                0.0              \n",
       "2                                                0.0              \n",
       "3                                                0.0              \n",
       "4                                                0.0              \n",
       "\n",
       "   Estimate!!Percent Male!!Total population!!AGE!!5 to 9 years  \\\n",
       "0                                                0.0             \n",
       "1                                                0.0             \n",
       "2                                                0.0             \n",
       "3                                                0.0             \n",
       "4                                                0.0             \n",
       "\n",
       "   Estimate!!Percent Male!!Total population!!AGE!!10 to 14 years  \\\n",
       "0                                                0.0               \n",
       "1                                                0.0               \n",
       "2                                                0.0               \n",
       "3                                                0.0               \n",
       "4                                                0.0               \n",
       "\n",
       "  Estimate!!Percent Male!!Total population!!AGE!!15 to 19 years  \\\n",
       "0                                                0.0              \n",
       "1                                                0.0              \n",
       "2                                                0.0              \n",
       "3                                                0.0              \n",
       "4                                                0.0              \n",
       "\n",
       "   Estimate!!Percent Female!!Total population!!AGE!!Under 5 years  \\\n",
       "0                                                0.0                \n",
       "1                                                0.0                \n",
       "2                                                0.0                \n",
       "3                                                0.0                \n",
       "4                                                0.0                \n",
       "\n",
       "   Estimate!!Percent Female!!Total population!!AGE!!5 to 9 years  \\\n",
       "0                                                0.0               \n",
       "1                                                0.0               \n",
       "2                                                0.0               \n",
       "3                                                0.0               \n",
       "4                                                0.0               \n",
       "\n",
       "   Estimate!!Percent Female!!Total population!!AGE!!10 to 14 years  \\\n",
       "0                                                0.0                 \n",
       "1                                                0.0                 \n",
       "2                                                0.0                 \n",
       "3                                                0.0                 \n",
       "4                                                0.0                 \n",
       "\n",
       "   Estimate!!Percent Female!!Total population!!AGE!!15 to 19 years  zip_code  \n",
       "0                                                0.0                   89010  \n",
       "1                                                0.0                   89019  \n",
       "2                                                0.0                   89060  \n",
       "3                                                0.0                   89061  \n",
       "4                                                0.0                   89439  \n",
       "\n",
       "[5 rows x 29 columns]"
      ]
     },
     "execution_count": 98,
     "metadata": {},
     "output_type": "execute_result"
    }
   ],
   "source": [
    "df_age.head()"
   ]
  },
  {
   "cell_type": "code",
   "execution_count": 99,
   "metadata": {},
   "outputs": [],
   "source": [
    "#set index\n",
    "df_age.set_index('zip_code',inplace=True)"
   ]
  },
  {
   "cell_type": "code",
   "execution_count": 100,
   "metadata": {},
   "outputs": [],
   "source": [
    "#list_under5 = ['Total!!Estimate!!AGE!!Under 5 years','Estimate!!Total!!Total population!!AGE!!Under 5 years']\n",
    "list_under5 = ['Total!!Estimate!!AGE!!Under 5 years','Estimate!!Percent!!Total population!!AGE!!Under 5 years']\n",
    "\n",
    "#list_5_9 = ['Total!!Estimate!!AGE!!5 to 9 years','Estimate!!Total!!Total population!!AGE!!5 to 9 years']\n",
    "list_5_9 = ['Total!!Estimate!!AGE!!5 to 9 years','Estimate!!Percent!!Total population!!AGE!!5 to 9 years']\n",
    "\n",
    "#list_10_14 = ['Total!!Estimate!!AGE!!10 to 14 years','Estimate!!Total!!Total population!!AGE!!10 to 14 years']\n",
    "list_10_14 = ['Total!!Estimate!!AGE!!10 to 14 years','Estimate!!Percent!!Total population!!AGE!!10 to 14 years']\n",
    "\n",
    "#list_15_19 = ['Total!!Estimate!!AGE!!15 to 19 years','Estimate!!Total!!Total population!!AGE!!15 to 19 years']\n",
    "list_15_19 = ['Total!!Estimate!!AGE!!15 to 19 years','Estimate!!Percent!!Total population!!AGE!!15 to 19 years']\n",
    "\n",
    "#list_male_under5 = ['Male!!Estimate!!AGE!!Under 5 years','Estimate!!Male!!Total population!!AGE!!Under 5 years']\n",
    "list_male_under5 = ['Male!!Estimate!!AGE!!Under 5 years','Estimate!!Percent Male!!Total population!!AGE!!Under 5 years']\n",
    "\n",
    "#list_male_5_9 = ['Male!!Estimate!!AGE!!5 to 9 years','Estimate!!Male!!Total population!!AGE!!5 to 9 years']\n",
    "list_male_5_9 = ['Male!!Estimate!!AGE!!5 to 9 years','Estimate!!Percent Male!!Total population!!AGE!!5 to 9 years']\n",
    "\n",
    "#list_male_10_14 = ['Male!!Estimate!!AGE!!10 to 14 years','Estimate!!Male!!Total population!!AGE!!10 to 14 years']\n",
    "list_male_10_14 = ['Male!!Estimate!!AGE!!10 to 14 years','Estimate!!Percent Male!!Total population!!AGE!!10 to 14 years']\n",
    "\n",
    "#list_male_15_19 = ['Male!!Estimate!!AGE!!15 to 19 years','Estimate!!Male!!Total population!!AGE!!15 to 19 years']\n",
    "list_male_15_19 = ['Male!!Estimate!!AGE!!15 to 19 years','Estimate!!Percent Male!!Total population!!AGE!!15 to 19 years']\n",
    "\n",
    "#list_female_under5 = ['Female!!Estimate!!AGE!!Under 5 years','Estimate!!Female!!Total population!!AGE!!Under 5 years']\n",
    "list_female_under5 = ['Female!!Estimate!!AGE!!Under 5 years','Estimate!!Percent Female!!Total population!!AGE!!Under 5 years']\n",
    "\n",
    "#list_female_5_9 = ['Female!!Estimate!!AGE!!5 to 9 years','Estimate!!Female!!Total population!!AGE!!5 to 9 years']\n",
    "list_female_5_9 = ['Female!!Estimate!!AGE!!5 to 9 years','Estimate!!Percent Female!!Total population!!AGE!!5 to 9 years']\n",
    "\n",
    "#list_female_10_14 = ['Female!!Estimate!!AGE!!10 to 14 years','Estimate!!Female!!Total population!!AGE!!10 to 14 years']\n",
    "list_female_10_14 = ['Female!!Estimate!!AGE!!10 to 14 years','Estimate!!Percent Female!!Total population!!AGE!!10 to 14 years']\n",
    "\n",
    "#list_female_15_19 = ['Female!!Estimate!!AGE!!15 to 19 years','Estimate!!Female!!Total population!!AGE!!15 to 19 years']\n",
    "list_female_15_19 = ['Female!!Estimate!!AGE!!15 to 19 years','Estimate!!Percent Female!!Total population!!AGE!!15 to 19 years']\n",
    "\n",
    "list_median_age = ['Total!!Estimate!!SUMMARY INDICATORS!!Median age (years)','Estimate!!Total!!Total population!!SUMMARY INDICATORS!!Median age (years)']\n"
   ]
  },
  {
   "cell_type": "code",
   "execution_count": 101,
   "metadata": {},
   "outputs": [],
   "source": [
    "# merge columns to fill in NaNs\n",
    "\n",
    "df_age['percent_pop_age_under_5'] = df_age[list_under5].max(axis=1)\n",
    "\n",
    "df_age['percent_pop_age_5to9'] = df_age[list_5_9].max(axis=1)\n",
    "\n",
    "df_age['percent_pop_age_10to14'] = df_age[list_10_14].max(axis=1)\n",
    "\n",
    "df_age['percent_pop_age_15to19'] = df_age[list_15_19].max(axis=1)\n",
    "\n",
    "df_age['percent_pop_male_age_under_5'] = df_age[list_male_under5].max(axis=1)\n",
    "\n",
    "df_age['percent_pop_male_age_5to9'] = df_age[list_male_5_9].max(axis=1)\n",
    "\n",
    "df_age['percent_pop_male_age_10to14'] = df_age[list_male_10_14].max(axis=1)\n",
    "\n",
    "df_age['percent_pop_male_age_15to19'] = df_age[list_male_15_19].max(axis=1)\n",
    "\n",
    "df_age['percent_pop_female_age_under_5'] = df_age[list_female_under5].max(axis=1)\n",
    "\n",
    "df_age['percent_pop_female_age_5to9'] = df_age[list_female_5_9].max(axis=1)\n",
    "\n",
    "df_age['percent_pop_female_age_10to14'] = df_age[list_female_10_14].max(axis=1)\n",
    "\n",
    "df_age['percent_pop_female_age_15to19'] = df_age[list_female_15_19].max(axis=1)\n"
   ]
  },
  {
   "cell_type": "code",
   "execution_count": 102,
   "metadata": {},
   "outputs": [
    {
     "data": {
      "text/html": [
       "<div>\n",
       "<style scoped>\n",
       "    .dataframe tbody tr th:only-of-type {\n",
       "        vertical-align: middle;\n",
       "    }\n",
       "\n",
       "    .dataframe tbody tr th {\n",
       "        vertical-align: top;\n",
       "    }\n",
       "\n",
       "    .dataframe thead th {\n",
       "        text-align: right;\n",
       "    }\n",
       "</style>\n",
       "<table border=\"1\" class=\"dataframe\">\n",
       "  <thead>\n",
       "    <tr style=\"text-align: right;\">\n",
       "      <th></th>\n",
       "      <th>Total!!Estimate!!Total population</th>\n",
       "      <th>Total!!Estimate!!AGE!!Under 5 years</th>\n",
       "      <th>Male!!Estimate!!AGE!!Under 5 years</th>\n",
       "      <th>Female!!Estimate!!AGE!!Under 5 years</th>\n",
       "      <th>Total!!Estimate!!AGE!!5 to 9 years</th>\n",
       "      <th>Male!!Estimate!!AGE!!5 to 9 years</th>\n",
       "      <th>Female!!Estimate!!AGE!!5 to 9 years</th>\n",
       "      <th>Total!!Estimate!!AGE!!10 to 14 years</th>\n",
       "      <th>Male!!Estimate!!AGE!!10 to 14 years</th>\n",
       "      <th>Female!!Estimate!!AGE!!10 to 14 years</th>\n",
       "      <th>...</th>\n",
       "      <th>percent_pop_age_10to14</th>\n",
       "      <th>percent_pop_age_15to19</th>\n",
       "      <th>percent_pop_male_age_under_5</th>\n",
       "      <th>percent_pop_male_age_5to9</th>\n",
       "      <th>percent_pop_male_age_10to14</th>\n",
       "      <th>percent_pop_male_age_15to19</th>\n",
       "      <th>percent_pop_female_age_under_5</th>\n",
       "      <th>percent_pop_female_age_5to9</th>\n",
       "      <th>percent_pop_female_age_10to14</th>\n",
       "      <th>percent_pop_female_age_15to19</th>\n",
       "    </tr>\n",
       "    <tr>\n",
       "      <th>zip_code</th>\n",
       "      <th></th>\n",
       "      <th></th>\n",
       "      <th></th>\n",
       "      <th></th>\n",
       "      <th></th>\n",
       "      <th></th>\n",
       "      <th></th>\n",
       "      <th></th>\n",
       "      <th></th>\n",
       "      <th></th>\n",
       "      <th></th>\n",
       "      <th></th>\n",
       "      <th></th>\n",
       "      <th></th>\n",
       "      <th></th>\n",
       "      <th></th>\n",
       "      <th></th>\n",
       "      <th></th>\n",
       "      <th></th>\n",
       "      <th></th>\n",
       "      <th></th>\n",
       "    </tr>\n",
       "  </thead>\n",
       "  <tbody>\n",
       "    <tr>\n",
       "      <th>89010</th>\n",
       "      <td>549.0</td>\n",
       "      <td>1.1</td>\n",
       "      <td>0.0</td>\n",
       "      <td>1.8</td>\n",
       "      <td>6.0</td>\n",
       "      <td>7.3</td>\n",
       "      <td>5.2</td>\n",
       "      <td>4.7</td>\n",
       "      <td>2.7</td>\n",
       "      <td>6.1</td>\n",
       "      <td>...</td>\n",
       "      <td>4.7</td>\n",
       "      <td>2.2</td>\n",
       "      <td>0.0</td>\n",
       "      <td>7.3</td>\n",
       "      <td>2.7</td>\n",
       "      <td>5.5</td>\n",
       "      <td>1.8</td>\n",
       "      <td>5.2</td>\n",
       "      <td>6.1</td>\n",
       "      <td>0.0</td>\n",
       "    </tr>\n",
       "    <tr>\n",
       "      <th>89019</th>\n",
       "      <td>1804.0</td>\n",
       "      <td>0.7</td>\n",
       "      <td>1.4</td>\n",
       "      <td>0.0</td>\n",
       "      <td>4.8</td>\n",
       "      <td>0.0</td>\n",
       "      <td>9.3</td>\n",
       "      <td>2.3</td>\n",
       "      <td>0.7</td>\n",
       "      <td>3.8</td>\n",
       "      <td>...</td>\n",
       "      <td>2.3</td>\n",
       "      <td>3.0</td>\n",
       "      <td>1.4</td>\n",
       "      <td>0.0</td>\n",
       "      <td>0.7</td>\n",
       "      <td>1.8</td>\n",
       "      <td>0.0</td>\n",
       "      <td>9.3</td>\n",
       "      <td>3.8</td>\n",
       "      <td>4.2</td>\n",
       "    </tr>\n",
       "    <tr>\n",
       "      <th>89060</th>\n",
       "      <td>9587.0</td>\n",
       "      <td>3.9</td>\n",
       "      <td>4.0</td>\n",
       "      <td>3.8</td>\n",
       "      <td>5.7</td>\n",
       "      <td>4.2</td>\n",
       "      <td>7.2</td>\n",
       "      <td>3.8</td>\n",
       "      <td>5.2</td>\n",
       "      <td>2.3</td>\n",
       "      <td>...</td>\n",
       "      <td>3.8</td>\n",
       "      <td>5.4</td>\n",
       "      <td>4.0</td>\n",
       "      <td>4.2</td>\n",
       "      <td>5.2</td>\n",
       "      <td>6.2</td>\n",
       "      <td>3.8</td>\n",
       "      <td>7.2</td>\n",
       "      <td>2.3</td>\n",
       "      <td>4.6</td>\n",
       "    </tr>\n",
       "    <tr>\n",
       "      <th>89061</th>\n",
       "      <td>5337.0</td>\n",
       "      <td>4.8</td>\n",
       "      <td>4.8</td>\n",
       "      <td>4.8</td>\n",
       "      <td>3.8</td>\n",
       "      <td>6.3</td>\n",
       "      <td>1.5</td>\n",
       "      <td>5.8</td>\n",
       "      <td>6.7</td>\n",
       "      <td>4.9</td>\n",
       "      <td>...</td>\n",
       "      <td>5.8</td>\n",
       "      <td>3.3</td>\n",
       "      <td>4.8</td>\n",
       "      <td>6.3</td>\n",
       "      <td>6.7</td>\n",
       "      <td>0.9</td>\n",
       "      <td>4.8</td>\n",
       "      <td>1.5</td>\n",
       "      <td>4.9</td>\n",
       "      <td>5.6</td>\n",
       "    </tr>\n",
       "    <tr>\n",
       "      <th>89439</th>\n",
       "      <td>1609.0</td>\n",
       "      <td>3.5</td>\n",
       "      <td>4.7</td>\n",
       "      <td>2.3</td>\n",
       "      <td>3.4</td>\n",
       "      <td>2.3</td>\n",
       "      <td>4.5</td>\n",
       "      <td>2.3</td>\n",
       "      <td>2.3</td>\n",
       "      <td>2.3</td>\n",
       "      <td>...</td>\n",
       "      <td>2.3</td>\n",
       "      <td>4.6</td>\n",
       "      <td>4.7</td>\n",
       "      <td>2.3</td>\n",
       "      <td>2.3</td>\n",
       "      <td>7.0</td>\n",
       "      <td>2.3</td>\n",
       "      <td>4.5</td>\n",
       "      <td>2.3</td>\n",
       "      <td>2.3</td>\n",
       "    </tr>\n",
       "  </tbody>\n",
       "</table>\n",
       "<p>5 rows × 40 columns</p>\n",
       "</div>"
      ],
      "text/plain": [
       "          Total!!Estimate!!Total population  \\\n",
       "zip_code                                      \n",
       "89010                                 549.0   \n",
       "89019                                1804.0   \n",
       "89060                                9587.0   \n",
       "89061                                5337.0   \n",
       "89439                                1609.0   \n",
       "\n",
       "          Total!!Estimate!!AGE!!Under 5 years  \\\n",
       "zip_code                                        \n",
       "89010                                     1.1   \n",
       "89019                                     0.7   \n",
       "89060                                     3.9   \n",
       "89061                                     4.8   \n",
       "89439                                     3.5   \n",
       "\n",
       "          Male!!Estimate!!AGE!!Under 5 years  \\\n",
       "zip_code                                       \n",
       "89010                                    0.0   \n",
       "89019                                    1.4   \n",
       "89060                                    4.0   \n",
       "89061                                    4.8   \n",
       "89439                                    4.7   \n",
       "\n",
       "          Female!!Estimate!!AGE!!Under 5 years  \\\n",
       "zip_code                                         \n",
       "89010                                      1.8   \n",
       "89019                                      0.0   \n",
       "89060                                      3.8   \n",
       "89061                                      4.8   \n",
       "89439                                      2.3   \n",
       "\n",
       "          Total!!Estimate!!AGE!!5 to 9 years  \\\n",
       "zip_code                                       \n",
       "89010                                    6.0   \n",
       "89019                                    4.8   \n",
       "89060                                    5.7   \n",
       "89061                                    3.8   \n",
       "89439                                    3.4   \n",
       "\n",
       "          Male!!Estimate!!AGE!!5 to 9 years  \\\n",
       "zip_code                                      \n",
       "89010                                   7.3   \n",
       "89019                                   0.0   \n",
       "89060                                   4.2   \n",
       "89061                                   6.3   \n",
       "89439                                   2.3   \n",
       "\n",
       "          Female!!Estimate!!AGE!!5 to 9 years  \\\n",
       "zip_code                                        \n",
       "89010                                     5.2   \n",
       "89019                                     9.3   \n",
       "89060                                     7.2   \n",
       "89061                                     1.5   \n",
       "89439                                     4.5   \n",
       "\n",
       "          Total!!Estimate!!AGE!!10 to 14 years  \\\n",
       "zip_code                                         \n",
       "89010                                      4.7   \n",
       "89019                                      2.3   \n",
       "89060                                      3.8   \n",
       "89061                                      5.8   \n",
       "89439                                      2.3   \n",
       "\n",
       "          Male!!Estimate!!AGE!!10 to 14 years  \\\n",
       "zip_code                                        \n",
       "89010                                     2.7   \n",
       "89019                                     0.7   \n",
       "89060                                     5.2   \n",
       "89061                                     6.7   \n",
       "89439                                     2.3   \n",
       "\n",
       "          Female!!Estimate!!AGE!!10 to 14 years  ...  percent_pop_age_10to14  \\\n",
       "zip_code                                         ...                           \n",
       "89010                                       6.1  ...                     4.7   \n",
       "89019                                       3.8  ...                     2.3   \n",
       "89060                                       2.3  ...                     3.8   \n",
       "89061                                       4.9  ...                     5.8   \n",
       "89439                                       2.3  ...                     2.3   \n",
       "\n",
       "          percent_pop_age_15to19  percent_pop_male_age_under_5  \\\n",
       "zip_code                                                         \n",
       "89010                        2.2                           0.0   \n",
       "89019                        3.0                           1.4   \n",
       "89060                        5.4                           4.0   \n",
       "89061                        3.3                           4.8   \n",
       "89439                        4.6                           4.7   \n",
       "\n",
       "          percent_pop_male_age_5to9 percent_pop_male_age_10to14  \\\n",
       "zip_code                                                          \n",
       "89010                           7.3                         2.7   \n",
       "89019                           0.0                         0.7   \n",
       "89060                           4.2                         5.2   \n",
       "89061                           6.3                         6.7   \n",
       "89439                           2.3                         2.3   \n",
       "\n",
       "          percent_pop_male_age_15to19  percent_pop_female_age_under_5  \\\n",
       "zip_code                                                                \n",
       "89010                             5.5                             1.8   \n",
       "89019                             1.8                             0.0   \n",
       "89060                             6.2                             3.8   \n",
       "89061                             0.9                             4.8   \n",
       "89439                             7.0                             2.3   \n",
       "\n",
       "          percent_pop_female_age_5to9  percent_pop_female_age_10to14  \\\n",
       "zip_code                                                               \n",
       "89010                             5.2                            6.1   \n",
       "89019                             9.3                            3.8   \n",
       "89060                             7.2                            2.3   \n",
       "89061                             1.5                            4.9   \n",
       "89439                             4.5                            2.3   \n",
       "\n",
       "          percent_pop_female_age_15to19  \n",
       "zip_code                                 \n",
       "89010                               0.0  \n",
       "89019                               4.2  \n",
       "89060                               4.6  \n",
       "89061                               5.6  \n",
       "89439                               2.3  \n",
       "\n",
       "[5 rows x 40 columns]"
      ]
     },
     "execution_count": 102,
     "metadata": {},
     "output_type": "execute_result"
    }
   ],
   "source": [
    "df_age.head()"
   ]
  },
  {
   "cell_type": "code",
   "execution_count": 103,
   "metadata": {},
   "outputs": [],
   "source": [
    "#drop columns\n",
    "df_age.drop(columns=['Total!!Estimate!!AGE!!Under 5 years',\\\n",
    "                         'Total!!Estimate!!AGE!!5 to 9 years',\\\n",
    "                         'Total!!Estimate!!AGE!!10 to 14 years',\\\n",
    "                         'Total!!Estimate!!AGE!!15 to 19 years',\\\n",
    "                         'Male!!Estimate!!AGE!!Under 5 years',\\\n",
    "                         'Male!!Estimate!!AGE!!5 to 9 years',\\\n",
    "                         'Male!!Estimate!!AGE!!10 to 14 years',\\\n",
    "                         'Male!!Estimate!!AGE!!15 to 19 years',\\\n",
    "                         'Female!!Estimate!!AGE!!Under 5 years',\\\n",
    "                         'Female!!Estimate!!AGE!!5 to 9 years',\\\n",
    "                         'Female!!Estimate!!AGE!!10 to 14 years',\\\n",
    "                         'Female!!Estimate!!AGE!!15 to 19 years',\\\n",
    "                         'Total!!Estimate!!SUMMARY INDICATORS!!Median age (years)',\\\n",
    "#                          'Estimate!!Total!!Total population!!AGE!!Under 5 years',\\\n",
    "#                          'Estimate!!Total!!Total population!!AGE!!5 to 9 years',\\\n",
    "#                          'Estimate!!Total!!Total population!!AGE!!10 to 14 years',\\\n",
    "#                          'Estimate!!Total!!Total population!!AGE!!15 to 19 years',\\\n",
    "#                          'Estimate!!Male!!Total population!!AGE!!Under 5 years',\\\n",
    "#                          'Estimate!!Male!!Total population!!AGE!!5 to 9 years',\\\n",
    "#                          'Estimate!!Male!!Total population!!AGE!!10 to 14 years',\\\n",
    "#                          'Estimate!!Male!!Total population!!AGE!!15 to 19 years',\\\n",
    "#                          'Estimate!!Female!!Total population!!AGE!!Under 5 years',\\\n",
    "#                          'Estimate!!Female!!Total population!!AGE!!5 to 9 years',\\\n",
    "#                          'Estimate!!Female!!Total population!!AGE!!10 to 14 years',\\\n",
    "#                          'Estimate!!Female!!Total population!!AGE!!15 to 19 years',\\\n",
    "                         'Estimate!!Percent!!Total population!!AGE!!Under 5 years',\\\n",
    "                         'Estimate!!Percent!!Total population!!AGE!!5 to 9 years',\\\n",
    "                         'Estimate!!Percent!!Total population!!AGE!!10 to 14 years',\\\n",
    "                         'Estimate!!Percent!!Total population!!AGE!!15 to 19 years',\\\n",
    "                         'Estimate!!Percent Male!!Total population!!AGE!!Under 5 years',\\\n",
    "                         'Estimate!!Percent Male!!Total population!!AGE!!5 to 9 years',\\\n",
    "                         'Estimate!!Percent Male!!Total population!!AGE!!10 to 14 years',\\\n",
    "                         'Estimate!!Percent Male!!Total population!!AGE!!15 to 19 years',\\\n",
    "                         'Estimate!!Percent Female!!Total population!!AGE!!Under 5 years',\\\n",
    "                         'Estimate!!Percent Female!!Total population!!AGE!!5 to 9 years',\\\n",
    "                         'Estimate!!Percent Female!!Total population!!AGE!!10 to 14 years',\\\n",
    "                         'Estimate!!Percent Female!!Total population!!AGE!!15 to 19 years',\\\n",
    "                         'Estimate!!Total!!Total population!!SUMMARY INDICATORS!!Median age (years)',\\\n",
    "                         'Total!!Estimate!!Total population'\n",
    "                    ], inplace=True)"
   ]
  },
  {
   "cell_type": "code",
   "execution_count": 104,
   "metadata": {},
   "outputs": [
    {
     "data": {
      "text/html": [
       "<div>\n",
       "<style scoped>\n",
       "    .dataframe tbody tr th:only-of-type {\n",
       "        vertical-align: middle;\n",
       "    }\n",
       "\n",
       "    .dataframe tbody tr th {\n",
       "        vertical-align: top;\n",
       "    }\n",
       "\n",
       "    .dataframe thead th {\n",
       "        text-align: right;\n",
       "    }\n",
       "</style>\n",
       "<table border=\"1\" class=\"dataframe\">\n",
       "  <thead>\n",
       "    <tr style=\"text-align: right;\">\n",
       "      <th></th>\n",
       "      <th>year</th>\n",
       "      <th>percent_pop_age_under_5</th>\n",
       "      <th>percent_pop_age_5to9</th>\n",
       "      <th>percent_pop_age_10to14</th>\n",
       "      <th>percent_pop_age_15to19</th>\n",
       "      <th>percent_pop_male_age_under_5</th>\n",
       "      <th>percent_pop_male_age_5to9</th>\n",
       "      <th>percent_pop_male_age_10to14</th>\n",
       "      <th>percent_pop_male_age_15to19</th>\n",
       "      <th>percent_pop_female_age_under_5</th>\n",
       "      <th>percent_pop_female_age_5to9</th>\n",
       "      <th>percent_pop_female_age_10to14</th>\n",
       "      <th>percent_pop_female_age_15to19</th>\n",
       "    </tr>\n",
       "    <tr>\n",
       "      <th>zip_code</th>\n",
       "      <th></th>\n",
       "      <th></th>\n",
       "      <th></th>\n",
       "      <th></th>\n",
       "      <th></th>\n",
       "      <th></th>\n",
       "      <th></th>\n",
       "      <th></th>\n",
       "      <th></th>\n",
       "      <th></th>\n",
       "      <th></th>\n",
       "      <th></th>\n",
       "      <th></th>\n",
       "    </tr>\n",
       "  </thead>\n",
       "  <tbody>\n",
       "    <tr>\n",
       "      <th>89010</th>\n",
       "      <td>2015</td>\n",
       "      <td>1.1</td>\n",
       "      <td>6.0</td>\n",
       "      <td>4.7</td>\n",
       "      <td>2.2</td>\n",
       "      <td>0.0</td>\n",
       "      <td>7.3</td>\n",
       "      <td>2.7</td>\n",
       "      <td>5.5</td>\n",
       "      <td>1.8</td>\n",
       "      <td>5.2</td>\n",
       "      <td>6.1</td>\n",
       "      <td>0.0</td>\n",
       "    </tr>\n",
       "    <tr>\n",
       "      <th>89019</th>\n",
       "      <td>2015</td>\n",
       "      <td>0.7</td>\n",
       "      <td>4.8</td>\n",
       "      <td>2.3</td>\n",
       "      <td>3.0</td>\n",
       "      <td>1.4</td>\n",
       "      <td>0.0</td>\n",
       "      <td>0.7</td>\n",
       "      <td>1.8</td>\n",
       "      <td>0.0</td>\n",
       "      <td>9.3</td>\n",
       "      <td>3.8</td>\n",
       "      <td>4.2</td>\n",
       "    </tr>\n",
       "    <tr>\n",
       "      <th>89060</th>\n",
       "      <td>2015</td>\n",
       "      <td>3.9</td>\n",
       "      <td>5.7</td>\n",
       "      <td>3.8</td>\n",
       "      <td>5.4</td>\n",
       "      <td>4.0</td>\n",
       "      <td>4.2</td>\n",
       "      <td>5.2</td>\n",
       "      <td>6.2</td>\n",
       "      <td>3.8</td>\n",
       "      <td>7.2</td>\n",
       "      <td>2.3</td>\n",
       "      <td>4.6</td>\n",
       "    </tr>\n",
       "    <tr>\n",
       "      <th>89061</th>\n",
       "      <td>2015</td>\n",
       "      <td>4.8</td>\n",
       "      <td>3.8</td>\n",
       "      <td>5.8</td>\n",
       "      <td>3.3</td>\n",
       "      <td>4.8</td>\n",
       "      <td>6.3</td>\n",
       "      <td>6.7</td>\n",
       "      <td>0.9</td>\n",
       "      <td>4.8</td>\n",
       "      <td>1.5</td>\n",
       "      <td>4.9</td>\n",
       "      <td>5.6</td>\n",
       "    </tr>\n",
       "    <tr>\n",
       "      <th>89439</th>\n",
       "      <td>2015</td>\n",
       "      <td>3.5</td>\n",
       "      <td>3.4</td>\n",
       "      <td>2.3</td>\n",
       "      <td>4.6</td>\n",
       "      <td>4.7</td>\n",
       "      <td>2.3</td>\n",
       "      <td>2.3</td>\n",
       "      <td>7.0</td>\n",
       "      <td>2.3</td>\n",
       "      <td>4.5</td>\n",
       "      <td>2.3</td>\n",
       "      <td>2.3</td>\n",
       "    </tr>\n",
       "  </tbody>\n",
       "</table>\n",
       "</div>"
      ],
      "text/plain": [
       "          year  percent_pop_age_under_5  percent_pop_age_5to9  \\\n",
       "zip_code                                                        \n",
       "89010     2015                      1.1                   6.0   \n",
       "89019     2015                      0.7                   4.8   \n",
       "89060     2015                      3.9                   5.7   \n",
       "89061     2015                      4.8                   3.8   \n",
       "89439     2015                      3.5                   3.4   \n",
       "\n",
       "          percent_pop_age_10to14  percent_pop_age_15to19  \\\n",
       "zip_code                                                   \n",
       "89010                        4.7                     2.2   \n",
       "89019                        2.3                     3.0   \n",
       "89060                        3.8                     5.4   \n",
       "89061                        5.8                     3.3   \n",
       "89439                        2.3                     4.6   \n",
       "\n",
       "          percent_pop_male_age_under_5  percent_pop_male_age_5to9  \\\n",
       "zip_code                                                            \n",
       "89010                              0.0                        7.3   \n",
       "89019                              1.4                        0.0   \n",
       "89060                              4.0                        4.2   \n",
       "89061                              4.8                        6.3   \n",
       "89439                              4.7                        2.3   \n",
       "\n",
       "          percent_pop_male_age_10to14  percent_pop_male_age_15to19  \\\n",
       "zip_code                                                             \n",
       "89010                             2.7                          5.5   \n",
       "89019                             0.7                          1.8   \n",
       "89060                             5.2                          6.2   \n",
       "89061                             6.7                          0.9   \n",
       "89439                             2.3                          7.0   \n",
       "\n",
       "          percent_pop_female_age_under_5  percent_pop_female_age_5to9  \\\n",
       "zip_code                                                                \n",
       "89010                                1.8                          5.2   \n",
       "89019                                0.0                          9.3   \n",
       "89060                                3.8                          7.2   \n",
       "89061                                4.8                          1.5   \n",
       "89439                                2.3                          4.5   \n",
       "\n",
       "          percent_pop_female_age_10to14  percent_pop_female_age_15to19  \n",
       "zip_code                                                                \n",
       "89010                               6.1                            0.0  \n",
       "89019                               3.8                            4.2  \n",
       "89060                               2.3                            4.6  \n",
       "89061                               4.9                            5.6  \n",
       "89439                               2.3                            2.3  "
      ]
     },
     "execution_count": 104,
     "metadata": {},
     "output_type": "execute_result"
    }
   ],
   "source": [
    "df_age.head()"
   ]
  },
  {
   "cell_type": "code",
   "execution_count": 105,
   "metadata": {},
   "outputs": [],
   "source": [
    "# df_age.to_csv('age.csv')"
   ]
  },
  {
   "cell_type": "code",
   "execution_count": 106,
   "metadata": {},
   "outputs": [],
   "source": [
    "# merge\n",
    "df_demographics_final = pd.merge(df_demo, df_age,  how='left', left_on=['zip_code','year'], right_on = ['zip_code','year'])\n"
   ]
  },
  {
   "cell_type": "code",
   "execution_count": 107,
   "metadata": {},
   "outputs": [],
   "source": [
    "df_demographics_final = df_demographics_final.drop_duplicates()"
   ]
  },
  {
   "cell_type": "code",
   "execution_count": 108,
   "metadata": {},
   "outputs": [
    {
     "name": "stdout",
     "output_type": "stream",
     "text": [
      "/Users/emnichols/capstone\n"
     ]
    }
   ],
   "source": [
    "cd .."
   ]
  },
  {
   "cell_type": "code",
   "execution_count": 109,
   "metadata": {},
   "outputs": [],
   "source": [
    "# export final joined demographic data before growth rates applied\n",
    "df_demographics_final.to_csv('demo.csv')"
   ]
  },
  {
   "cell_type": "markdown",
   "metadata": {},
   "source": [
    "## Growth Rate Extrapolation\n"
   ]
  },
  {
   "cell_type": "code",
   "execution_count": 110,
   "metadata": {},
   "outputs": [],
   "source": [
    "#cd .."
   ]
  },
  {
   "cell_type": "code",
   "execution_count": 111,
   "metadata": {},
   "outputs": [],
   "source": [
    "# use this for importing csv of demographic_final dataframe before growth rates\n",
    "#df_demographics_final = pd.read_csv('demo.csv')"
   ]
  },
  {
   "cell_type": "markdown",
   "metadata": {},
   "source": [
    "### This section is for total growth rate by column, NOT BY ZIP CODE\n",
    "### Scroll down for zip code level calculations"
   ]
  },
  {
   "cell_type": "code",
   "execution_count": 112,
   "metadata": {
    "scrolled": false
   },
   "outputs": [],
   "source": [
    "# df_demographics_final.columns"
   ]
  },
  {
   "cell_type": "code",
   "execution_count": 113,
   "metadata": {
    "scrolled": false
   },
   "outputs": [],
   "source": [
    "# columns = list(df_demographics_final.columns)\n",
    "# columns.remove('year') # exclude year to not calculate growth rate\n",
    "# print(columns)"
   ]
  },
  {
   "cell_type": "code",
   "execution_count": 114,
   "metadata": {},
   "outputs": [],
   "source": [
    "# # formula for total growth rate by column, NOT BY ZIP CODE\n",
    "# def growth_rate(df, col, start_year, end_year):\n",
    "#     '''Compound annual growth rate = ((end_amount)/(start_amount) ^ (1 / N)) - 1\n",
    "    \n",
    "#     Return indvidual growth rate given a column of dataframe\n",
    "#     '''\n",
    "    \n",
    "#     years = int(end_year) - int(start_year)\n",
    "#     col_max = df.loc[df['year'] == str(end_year)][col].mean()\n",
    "#     col_min = df.loc[df['year'] == str(start_year)][col].mean()\n",
    "    \n",
    "#     gr_pos = ((col_max / col_min)**(1/years)) - 1\n",
    "#     gr_neg = 1 - gr_pos\n",
    "    \n",
    "#     return gr_neg"
   ]
  },
  {
   "cell_type": "code",
   "execution_count": 115,
   "metadata": {},
   "outputs": [],
   "source": [
    "# # calculate growth rates by column, NOT BY ZIP CODE\n",
    "# growth_rates = []\n",
    "\n",
    "# for col in columns:\n",
    "#     growth_rates.append(growth_rate(df_demographics_final, col, 2011, 2021))\n",
    "\n",
    "# gr_arr = np.array(growth_rates)"
   ]
  },
  {
   "cell_type": "code",
   "execution_count": 116,
   "metadata": {},
   "outputs": [],
   "source": [
    "# # create dictionary for column name and growth rate\n",
    "# gr_dict = dict(zip(columns, growth_rates))\n",
    "# print(gr_dict)"
   ]
  },
  {
   "cell_type": "code",
   "execution_count": 117,
   "metadata": {},
   "outputs": [],
   "source": [
    "# create starting year df for growth rate\n",
    "# df_2011 = df_demographics_final.loc[df_demographics_final['year'] == '2011']\n",
    "# df_2011 = df_2011.drop(columns='year')"
   ]
  },
  {
   "cell_type": "code",
   "execution_count": 118,
   "metadata": {},
   "outputs": [],
   "source": [
    "#df_final = pd.DataFrame()"
   ]
  },
  {
   "cell_type": "code",
   "execution_count": 119,
   "metadata": {},
   "outputs": [],
   "source": [
    "# def growth_rate_apply(total_df, starting_df, num_years, _dict, starting_year):\n",
    "#     '''Apply growth rates for a given number of years to columns and extrapolate, produce final dataframe'''\n",
    "#     df_final = total_df\n",
    "#     df_start = starting_df # base year to apply growth rates to\n",
    "#     year_count = int(starting_year)\n",
    "#     gr_dict = _dict\n",
    "#     df_int = pd.DataFrame()\n",
    "#     #df_int_ = pd.DataFrame()\n",
    "    \n",
    "#     # iterate through number of years in input\n",
    "#     for i in range(num_years):\n",
    "#         # print(i)\n",
    "#         year_count -= 1\n",
    "#         #print(year_count)\n",
    "        \n",
    "#         if year_count == 2010:\n",
    "#             df_int = df_start.mul(_dict)\n",
    "#             df_int['year'] = str(year_count)\n",
    "#             #print(df_int.head())\n",
    "#             df_final = pd.concat([df_final, df_int])\n",
    "#             #print(df_final['year'].value_counts())\n",
    "#             df_final.drop_duplicates(inplace=True)\n",
    "#             df_int.drop(columns=['year'],inplace=True)\n",
    "            \n",
    "#         else:\n",
    "#             df_int = df_int.mul(_dict)\n",
    "#             df_int['year'] = str(year_count)\n",
    "#             #print(df_int.head())\n",
    "#             df_final = pd.concat([df_final, df_int])\n",
    "#             #print(df_final['year'].value_counts())\n",
    "#             df_final.drop_duplicates(inplace=True)\n",
    "#             df_int.drop(columns=['year'],inplace=True)\n",
    "\n",
    "#     return df_final.round(1)\n",
    "    "
   ]
  },
  {
   "cell_type": "code",
   "execution_count": 120,
   "metadata": {},
   "outputs": [],
   "source": [
    "## apply growth rate to project backward\n",
    "#df_final = growth_rate_apply(df_demographics_final, df_2011, 10, gr_dict, 2011)"
   ]
  },
  {
   "cell_type": "code",
   "execution_count": 121,
   "metadata": {
    "scrolled": true
   },
   "outputs": [],
   "source": [
    "#df_final.year.value_counts()"
   ]
  },
  {
   "cell_type": "code",
   "execution_count": 122,
   "metadata": {},
   "outputs": [],
   "source": [
    "#df_final.head()"
   ]
  },
  {
   "cell_type": "code",
   "execution_count": 123,
   "metadata": {},
   "outputs": [],
   "source": [
    "#df_final.to_csv('demographics_final.csv')"
   ]
  },
  {
   "cell_type": "markdown",
   "metadata": {},
   "source": [
    "## Growth rate by zip code"
   ]
  },
  {
   "cell_type": "code",
   "execution_count": 124,
   "metadata": {},
   "outputs": [
    {
     "data": {
      "text/plain": [
       "18892"
      ]
     },
     "execution_count": 124,
     "metadata": {},
     "output_type": "execute_result"
    }
   ],
   "source": [
    "# create iterable list of zipcodes\n",
    "zip_code_list = list(df_demo.index)\n",
    "len(zip_code_list)"
   ]
  },
  {
   "cell_type": "code",
   "execution_count": 125,
   "metadata": {},
   "outputs": [
    {
     "name": "stdout",
     "output_type": "stream",
     "text": [
      "18892\n",
      "1758\n"
     ]
    }
   ],
   "source": [
    "zip_code_list = zip_code_list\n",
    "print(len(zip_code_list))\n",
    "zip_code_set = [*set(zip_code_list)]\n",
    "print(len(zip_code_set))"
   ]
  },
  {
   "cell_type": "code",
   "execution_count": 126,
   "metadata": {},
   "outputs": [
    {
     "data": {
      "text/plain": [
       "['households_count',\n",
       " 'mean_income_per_household',\n",
       " 'median_income_per_household',\n",
       " 'percent_high_school_grad',\n",
       " 'percent_bach_deg_grad',\n",
       " 'total_population',\n",
       " 'percent_pop_age_under_5',\n",
       " 'percent_pop_age_5to9',\n",
       " 'percent_pop_age_10to14',\n",
       " 'percent_pop_age_15to19',\n",
       " 'percent_pop_male_age_under_5',\n",
       " 'percent_pop_male_age_5to9',\n",
       " 'percent_pop_male_age_10to14',\n",
       " 'percent_pop_male_age_15to19',\n",
       " 'percent_pop_female_age_under_5',\n",
       " 'percent_pop_female_age_5to9',\n",
       " 'percent_pop_female_age_10to14',\n",
       " 'percent_pop_female_age_15to19']"
      ]
     },
     "execution_count": 126,
     "metadata": {},
     "output_type": "execute_result"
    }
   ],
   "source": [
    "# create iterable list of columns\n",
    "columns = list(df_demographics_final.columns)\n",
    "columns.remove('year')\n",
    "columns"
   ]
  },
  {
   "cell_type": "code",
   "execution_count": 127,
   "metadata": {},
   "outputs": [],
   "source": [
    "# create starting year df for growth rate\n",
    "df_2011 = df_demographics_final.loc[df_demographics_final['year'] == '2011']\n",
    "df_2011 = df_2011.drop(columns='year')"
   ]
  },
  {
   "cell_type": "code",
   "execution_count": 148,
   "metadata": {},
   "outputs": [],
   "source": [
    "# for each zip code, calculate the column growth rate\n",
    "def growth_rate_by_zip(df, cols_list, zip_code_list, start_year, end_year):\n",
    "    '''Return nested dictionary of column growth rates by zip code such that \n",
    "    \n",
    "    gr_dict = {\n",
    "    zip code 1: {column1: growth rate, column2: growth rate, etc}, \n",
    "    zip code 2: {column1 : growth rate, column2: growth rate, etc}\n",
    "        }\n",
    "        \n",
    "    Compound annual growth rate = ((end_amount)/(start_amount) ^ (1 / N)) - 1'''\n",
    "    \n",
    "    \n",
    "    years = abs(int(end_year) - int(start_year))\n",
    "    cols_gr_list = []\n",
    "     \n",
    "    for z in zip_code_list:\n",
    "        \n",
    "            # select the zipcode only\n",
    "            df_by_zip = df.loc[z]\n",
    "            \n",
    "            cols_list_ = []\n",
    "            gr_neg_list = []\n",
    "\n",
    "            for col in cols_list:\n",
    "                # loop through each column and find the average value for start year and end year\n",
    "                # but first confirm there is a zip code record for the start and end years\n",
    "                \n",
    "                if np.logical_and((str(start_year) in list(df_by_zip['year'])),(str(end_year) in list(df_by_zip['year']))):\n",
    "    \n",
    "                    col_max = df_by_zip[df_by_zip['year'] == str(start_year)][col].max()\n",
    "                    \n",
    "                    col_min = df_by_zip[df_by_zip['year'] == str(end_year)][col].max()\n",
    "                    \n",
    "                    #print(col_max,col_min)\n",
    "                    \n",
    "                    if col_min != 0:\n",
    "                        gr_pos = ((col_max / col_min)**(1/years)) - 1\n",
    "                    else:\n",
    "                        col_min = 0.0001 #can't divide by 0\n",
    "                        gr_pos = ((col_max / col_min)**(1/years)) - 1\n",
    "\n",
    "                    gr_neg = (gr_pos / 100 + 1)**years\n",
    "                   \n",
    "                else:\n",
    "                    # if there is not a zip code record for the start or end year, just set the gr to 1\n",
    "                    gr_neg = 1\n",
    "                \n",
    "                if gr_neg == 0:\n",
    "                    gr_neg = 1\n",
    "\n",
    "               # print(z, col, gr_neg)\n",
    "\n",
    "                cols_list_.append(col)\n",
    "                gr_neg_list.append(gr_neg)\n",
    "\n",
    "            # for each zip code, create dict zipping columns and growth rates\n",
    "            cols_gr = dict(zip(cols_list, gr_neg_list))\n",
    "            cols_gr_list.append(cols_gr)\n",
    "            \n",
    "    # final dict for all zip codes\n",
    "    gr_dict = dict(zip(zip_code_list, cols_gr_list))\n",
    "    \n",
    "    return gr_dict"
   ]
  },
  {
   "cell_type": "code",
   "execution_count": 149,
   "metadata": {},
   "outputs": [
    {
     "data": {
      "text/plain": [
       "1724"
      ]
     },
     "execution_count": 149,
     "metadata": {},
     "output_type": "execute_result"
    }
   ],
   "source": [
    "# create unique list (set) of zip codes to iterate through based on what is available in earliest data, 2011\n",
    "zip_code_set_ = set(list(df_2011.index))\n",
    "len(zip_code_set_)\n",
    "# small_zip_code_set = set(list(df_2011.index[:10]))\n",
    "# len(small_zip_code_set)"
   ]
  },
  {
   "cell_type": "code",
   "execution_count": null,
   "metadata": {},
   "outputs": [],
   "source": []
  },
  {
   "cell_type": "code",
   "execution_count": 150,
   "metadata": {
    "scrolled": false
   },
   "outputs": [],
   "source": [
    "#gr_dict_final = growth_rate_by_zip(df_demographics_final, columns, zip_code_set, 2011, 2021)\n",
    "#def growth_rate_by_zip(df, cols_list, zip_code_list, start_year, end_year):\n",
    "gr_dict_2011_2021 = growth_rate_by_zip(df_demographics_final, columns, zip_code_set, 2021, 2011)"
   ]
  },
  {
   "cell_type": "code",
   "execution_count": 151,
   "metadata": {},
   "outputs": [
    {
     "data": {
      "text/plain": [
       "False"
      ]
     },
     "execution_count": 151,
     "metadata": {},
     "output_type": "execute_result"
    }
   ],
   "source": [
    "#len(gr_dict_2011_2021) == len(zip_code_set_)\n",
    "len(gr_dict_2011_2021) == len(small_zip_code_set)"
   ]
  },
  {
   "cell_type": "code",
   "execution_count": 152,
   "metadata": {},
   "outputs": [
    {
     "data": {
      "text/plain": [
       "{'households_count': 1.0022438429412166,\n",
       " 'mean_income_per_household': 0.995565961226535,\n",
       " 'median_income_per_household': 0.9977161211426084,\n",
       " 'percent_high_school_grad': 0.9911909251820716,\n",
       " 'percent_bach_deg_grad': 1.0045858080041488,\n",
       " 'total_population': 1.0036569734192333,\n",
       " 'percent_pop_age_under_5': 1.196804109807777,\n",
       " 'percent_pop_age_5to9': 1.0058427336880982,\n",
       " 'percent_pop_age_10to14': 1.0046755568220587,\n",
       " 'percent_pop_age_15to19': 0.9891238082862658,\n",
       " 'percent_pop_male_age_under_5': 1.1897861825798,\n",
       " 'percent_pop_male_age_5to9': 1.0039701707064037,\n",
       " 'percent_pop_male_age_10to14': 1.0039701707064037,\n",
       " 'percent_pop_male_age_15to19': 0.996290461407096,\n",
       " 'percent_pop_female_age_under_5': 1.2036223434575428,\n",
       " 'percent_pop_female_age_5to9': 1.0076922067018268,\n",
       " 'percent_pop_female_age_10to14': 1.0054629727350823,\n",
       " 'percent_pop_female_age_15to19': 0.9043820750088044}"
      ]
     },
     "execution_count": 152,
     "metadata": {},
     "output_type": "execute_result"
    }
   ],
   "source": [
    "gr_dict_2011_2021['89010']"
   ]
  },
  {
   "cell_type": "code",
   "execution_count": 153,
   "metadata": {},
   "outputs": [],
   "source": [
    "# years = 10\n",
    "# df_by_zip = df_demographics_final.loc['89010']\n",
    "# col = 'total_population'\n",
    "# end_year = 2021\n",
    "# start_year = 2011\n",
    "# col_max = df_by_zip[df_by_zip['year'] == str(end_year)][col].max()\n",
    "# col_min = df_by_zip[df_by_zip['year'] == str(start_year)][col].max()\n",
    "# print(col_max,col_min)\n",
    "\n",
    "# # col_max = df_demographics_final.loc['89010']['total_population'].max()\n",
    "# # col_min = df_demographics_final.loc['89010']['total_population'].min()\n",
    "\n",
    "# gr_pos = ((col_max / col_min)**(1/years)) - 1\n",
    "# gr_neg = (gr_pos / 100 + 1)**years\n",
    "\n",
    "# print(gr_pos, gr_neg)"
   ]
  },
  {
   "cell_type": "code",
   "execution_count": 154,
   "metadata": {},
   "outputs": [],
   "source": [
    "# col_max"
   ]
  },
  {
   "cell_type": "code",
   "execution_count": 155,
   "metadata": {},
   "outputs": [],
   "source": [
    "# col_min"
   ]
  },
  {
   "cell_type": "code",
   "execution_count": 156,
   "metadata": {},
   "outputs": [],
   "source": [
    "# df_by_zip"
   ]
  },
  {
   "cell_type": "code",
   "execution_count": 157,
   "metadata": {},
   "outputs": [],
   "source": [
    "#gr_dict_2011_2021['89010']"
   ]
  },
  {
   "cell_type": "code",
   "execution_count": 158,
   "metadata": {},
   "outputs": [],
   "source": [
    "# df_by_zip = df_demographics_final.loc['89010']\n",
    "\n",
    "# col_max = df_by_zip[df_by_zip['year'] == 2011]['percent_pop_female_age_15to19']\n",
    "# #col_min = df_by_zip[df_by_zip['year'] == 2021]['percent_pop_female_age_15to19']\n",
    "\n",
    "# col_max.shape"
   ]
  },
  {
   "cell_type": "code",
   "execution_count": 159,
   "metadata": {},
   "outputs": [],
   "source": [
    "# df_2011[df_2011.index == '89010']['percent_pop_female_age_15to19']"
   ]
  },
  {
   "cell_type": "code",
   "execution_count": 160,
   "metadata": {},
   "outputs": [],
   "source": [
    "# # create starting year df for growth rate\n",
    "# df_2021 = df_demographics_final.loc[df_demographics_final['year'] == '2021']\n",
    "# df_2021[df_2021.index == '89010']['percent_pop_female_age_15to19']"
   ]
  },
  {
   "cell_type": "code",
   "execution_count": 161,
   "metadata": {},
   "outputs": [],
   "source": [
    "# df_int = df_2011.mul(gr_dict_2011_2021['89010'])\n",
    "# df_int.size == df_2011.size"
   ]
  },
  {
   "cell_type": "code",
   "execution_count": 162,
   "metadata": {},
   "outputs": [],
   "source": [
    "# df_int.head()"
   ]
  },
  {
   "cell_type": "code",
   "execution_count": 163,
   "metadata": {},
   "outputs": [
    {
     "data": {
      "text/html": [
       "<div>\n",
       "<style scoped>\n",
       "    .dataframe tbody tr th:only-of-type {\n",
       "        vertical-align: middle;\n",
       "    }\n",
       "\n",
       "    .dataframe tbody tr th {\n",
       "        vertical-align: top;\n",
       "    }\n",
       "\n",
       "    .dataframe thead th {\n",
       "        text-align: right;\n",
       "    }\n",
       "</style>\n",
       "<table border=\"1\" class=\"dataframe\">\n",
       "  <thead>\n",
       "    <tr style=\"text-align: right;\">\n",
       "      <th></th>\n",
       "      <th>households_count</th>\n",
       "      <th>mean_income_per_household</th>\n",
       "      <th>median_income_per_household</th>\n",
       "      <th>percent_high_school_grad</th>\n",
       "      <th>percent_bach_deg_grad</th>\n",
       "      <th>total_population</th>\n",
       "      <th>percent_pop_age_under_5</th>\n",
       "      <th>percent_pop_age_5to9</th>\n",
       "      <th>percent_pop_age_10to14</th>\n",
       "      <th>percent_pop_age_15to19</th>\n",
       "      <th>percent_pop_male_age_under_5</th>\n",
       "      <th>percent_pop_male_age_5to9</th>\n",
       "      <th>percent_pop_male_age_10to14</th>\n",
       "      <th>percent_pop_male_age_15to19</th>\n",
       "      <th>percent_pop_female_age_under_5</th>\n",
       "      <th>percent_pop_female_age_5to9</th>\n",
       "      <th>percent_pop_female_age_10to14</th>\n",
       "      <th>percent_pop_female_age_15to19</th>\n",
       "    </tr>\n",
       "    <tr>\n",
       "      <th>zip_code</th>\n",
       "      <th></th>\n",
       "      <th></th>\n",
       "      <th></th>\n",
       "      <th></th>\n",
       "      <th></th>\n",
       "      <th></th>\n",
       "      <th></th>\n",
       "      <th></th>\n",
       "      <th></th>\n",
       "      <th></th>\n",
       "      <th></th>\n",
       "      <th></th>\n",
       "      <th></th>\n",
       "      <th></th>\n",
       "      <th></th>\n",
       "      <th></th>\n",
       "      <th></th>\n",
       "      <th></th>\n",
       "    </tr>\n",
       "  </thead>\n",
       "  <tbody>\n",
       "    <tr>\n",
       "      <th>89010</th>\n",
       "      <td>137.0</td>\n",
       "      <td>90156</td>\n",
       "      <td>45893</td>\n",
       "      <td>62.1</td>\n",
       "      <td>20.2</td>\n",
       "      <td>313</td>\n",
       "      <td>0.0</td>\n",
       "      <td>4.2</td>\n",
       "      <td>4.5</td>\n",
       "      <td>10.5</td>\n",
       "      <td>0.0</td>\n",
       "      <td>4.0</td>\n",
       "      <td>4.0</td>\n",
       "      <td>9.2</td>\n",
       "      <td>0.0</td>\n",
       "      <td>4.3</td>\n",
       "      <td>5.0</td>\n",
       "      <td>12.2</td>\n",
       "    </tr>\n",
       "    <tr>\n",
       "      <th>89019</th>\n",
       "      <td>905.0</td>\n",
       "      <td>43628</td>\n",
       "      <td>35825</td>\n",
       "      <td>84.6</td>\n",
       "      <td>14.7</td>\n",
       "      <td>2172</td>\n",
       "      <td>7.3</td>\n",
       "      <td>0.0</td>\n",
       "      <td>5.4</td>\n",
       "      <td>3.2</td>\n",
       "      <td>3.9</td>\n",
       "      <td>0.0</td>\n",
       "      <td>6.8</td>\n",
       "      <td>0.9</td>\n",
       "      <td>12.6</td>\n",
       "      <td>0.0</td>\n",
       "      <td>3.3</td>\n",
       "      <td>6.7</td>\n",
       "    </tr>\n",
       "    <tr>\n",
       "      <th>89060</th>\n",
       "      <td>4653.0</td>\n",
       "      <td>54472</td>\n",
       "      <td>39211</td>\n",
       "      <td>78.2</td>\n",
       "      <td>9.1</td>\n",
       "      <td>10691</td>\n",
       "      <td>4.1</td>\n",
       "      <td>3.7</td>\n",
       "      <td>7.4</td>\n",
       "      <td>5.8</td>\n",
       "      <td>5.2</td>\n",
       "      <td>3.3</td>\n",
       "      <td>8.6</td>\n",
       "      <td>5.8</td>\n",
       "      <td>3.0</td>\n",
       "      <td>4.1</td>\n",
       "      <td>6.1</td>\n",
       "      <td>5.8</td>\n",
       "    </tr>\n",
       "    <tr>\n",
       "      <th>89061</th>\n",
       "      <td>1870.0</td>\n",
       "      <td>56876</td>\n",
       "      <td>44722</td>\n",
       "      <td>80.3</td>\n",
       "      <td>13.8</td>\n",
       "      <td>4658</td>\n",
       "      <td>3.2</td>\n",
       "      <td>6.0</td>\n",
       "      <td>8.1</td>\n",
       "      <td>7.4</td>\n",
       "      <td>3.9</td>\n",
       "      <td>5.9</td>\n",
       "      <td>10.9</td>\n",
       "      <td>6.7</td>\n",
       "      <td>2.5</td>\n",
       "      <td>6.1</td>\n",
       "      <td>4.8</td>\n",
       "      <td>8.1</td>\n",
       "    </tr>\n",
       "    <tr>\n",
       "      <th>89439</th>\n",
       "      <td>735.0</td>\n",
       "      <td>170464</td>\n",
       "      <td>62008</td>\n",
       "      <td>92.1</td>\n",
       "      <td>30.3</td>\n",
       "      <td>1457</td>\n",
       "      <td>2.1</td>\n",
       "      <td>0.0</td>\n",
       "      <td>4.3</td>\n",
       "      <td>2.2</td>\n",
       "      <td>0.0</td>\n",
       "      <td>0.0</td>\n",
       "      <td>3.9</td>\n",
       "      <td>4.0</td>\n",
       "      <td>4.7</td>\n",
       "      <td>0.0</td>\n",
       "      <td>4.7</td>\n",
       "      <td>0.0</td>\n",
       "    </tr>\n",
       "  </tbody>\n",
       "</table>\n",
       "</div>"
      ],
      "text/plain": [
       "          households_count  mean_income_per_household  \\\n",
       "zip_code                                                \n",
       "89010                137.0                      90156   \n",
       "89019                905.0                      43628   \n",
       "89060               4653.0                      54472   \n",
       "89061               1870.0                      56876   \n",
       "89439                735.0                     170464   \n",
       "\n",
       "          median_income_per_household  percent_high_school_grad  \\\n",
       "zip_code                                                          \n",
       "89010                           45893                      62.1   \n",
       "89019                           35825                      84.6   \n",
       "89060                           39211                      78.2   \n",
       "89061                           44722                      80.3   \n",
       "89439                           62008                      92.1   \n",
       "\n",
       "          percent_bach_deg_grad  total_population  percent_pop_age_under_5  \\\n",
       "zip_code                                                                     \n",
       "89010                      20.2               313                      0.0   \n",
       "89019                      14.7              2172                      7.3   \n",
       "89060                       9.1             10691                      4.1   \n",
       "89061                      13.8              4658                      3.2   \n",
       "89439                      30.3              1457                      2.1   \n",
       "\n",
       "          percent_pop_age_5to9  percent_pop_age_10to14  \\\n",
       "zip_code                                                 \n",
       "89010                      4.2                     4.5   \n",
       "89019                      0.0                     5.4   \n",
       "89060                      3.7                     7.4   \n",
       "89061                      6.0                     8.1   \n",
       "89439                      0.0                     4.3   \n",
       "\n",
       "          percent_pop_age_15to19  percent_pop_male_age_under_5  \\\n",
       "zip_code                                                         \n",
       "89010                       10.5                           0.0   \n",
       "89019                        3.2                           3.9   \n",
       "89060                        5.8                           5.2   \n",
       "89061                        7.4                           3.9   \n",
       "89439                        2.2                           0.0   \n",
       "\n",
       "          percent_pop_male_age_5to9  percent_pop_male_age_10to14  \\\n",
       "zip_code                                                           \n",
       "89010                           4.0                          4.0   \n",
       "89019                           0.0                          6.8   \n",
       "89060                           3.3                          8.6   \n",
       "89061                           5.9                         10.9   \n",
       "89439                           0.0                          3.9   \n",
       "\n",
       "          percent_pop_male_age_15to19  percent_pop_female_age_under_5  \\\n",
       "zip_code                                                                \n",
       "89010                             9.2                             0.0   \n",
       "89019                             0.9                            12.6   \n",
       "89060                             5.8                             3.0   \n",
       "89061                             6.7                             2.5   \n",
       "89439                             4.0                             4.7   \n",
       "\n",
       "          percent_pop_female_age_5to9  percent_pop_female_age_10to14  \\\n",
       "zip_code                                                               \n",
       "89010                             4.3                            5.0   \n",
       "89019                             0.0                            3.3   \n",
       "89060                             4.1                            6.1   \n",
       "89061                             6.1                            4.8   \n",
       "89439                             0.0                            4.7   \n",
       "\n",
       "          percent_pop_female_age_15to19  \n",
       "zip_code                                 \n",
       "89010                              12.2  \n",
       "89019                               6.7  \n",
       "89060                               5.8  \n",
       "89061                               8.1  \n",
       "89439                               0.0  "
      ]
     },
     "execution_count": 163,
     "metadata": {},
     "output_type": "execute_result"
    }
   ],
   "source": [
    "df_2011.head()"
   ]
  },
  {
   "cell_type": "code",
   "execution_count": 164,
   "metadata": {},
   "outputs": [],
   "source": [
    "# for each zip code, loop through N years to populate data, then merge to final df and proceed to next zip code\n",
    "def growth_rate_apply_by_zip(starting_year, num_years, df_start, df_final, _dict,  zip_code_list):\n",
    "    \n",
    "    '''Apply growth rates by zip code for a given number of years to starting year columns and extrapolate, \n",
    "    produce final dataframe'''\n",
    "    \n",
    "    year_count_start = int(starting_year)\n",
    "    num_years = int(num_years)\n",
    "    #print(\"Starting year: \", starting_year)\n",
    "    #print(\"Num years to populate: \", num_years)\n",
    "    \n",
    "    # create intermediate df to populate extrapolated data \n",
    "    # merge this to final then clear it for next zip\n",
    "    df_int = pd.DataFrame()\n",
    "    \n",
    "    \n",
    "    for zip_code in zip_code_list:\n",
    "        # print(zip_code)\n",
    "        # reset year count to the starting year to generate num_years\n",
    "        year_count = year_count_start-1\n",
    "        # iterate through number of years in input\n",
    "        \n",
    "        for i in range(num_years+1):\n",
    "           # print(\"i count: \", i)\n",
    "           # print(\"year of data: \", year_count)\n",
    "                        \n",
    "            if year_count == (starting_year - 1):\n",
    "                    \n",
    "                # select only the current zip code from starting year df\n",
    "                # create intermediate df with yearly growth rate applied\n",
    "                \n",
    "                df = pd.DataFrame(df_start.loc[zip_code]).T\n",
    "                df_int = df.mul(_dict[zip_code])\n",
    "\n",
    "                # create new column for the year\n",
    "                df_int['year'] = str(year_count)\n",
    "\n",
    "            else:\n",
    "                # select only the current zip code from existing df_int\n",
    "                df = pd.DataFrame(df_int.loc[zip_code]).T\n",
    "    \n",
    "                # create intermediate df with yearly growth rate applied\n",
    "                df_int = df.mul(_dict[zip_code])\n",
    "                    \n",
    "                # create new column for the year\n",
    "                df_int['year'] = str(year_count)\n",
    "            \n",
    "            year_count -= 1\n",
    "\n",
    "            # append this year to final df\n",
    "            df_final = pd.concat([df_final, df_int])\n",
    "            # and drop duplicates\n",
    "            df_final.drop_duplicates(inplace=True)\n",
    "            # delete year column from df_int\n",
    "            df_int.drop(columns=['year'],inplace=True)\n",
    "\n",
    "    return df_final.round(1)"
   ]
  },
  {
   "cell_type": "code",
   "execution_count": 177,
   "metadata": {},
   "outputs": [],
   "source": [
    "# growth_rate_apply_by_zip(starting_year, num_years, df_start, df_final, _dict,  zip_code_list)\n",
    "#df_final_ = growth_rate_apply_by_zip(2011, 20, df_2011, df_demographics_final, gr_dict_final, small_zip_code_set)\n",
    "\n",
    "# create data set for 2001-2021 using growth rate calculated using 2011-2021\n",
    "df_final_0 = growth_rate_apply_by_zip(2011, 20, df_2011, df_demographics_final, gr_dict_2011_2021, zip_code_set_)"
   ]
  },
  {
   "cell_type": "code",
   "execution_count": 166,
   "metadata": {},
   "outputs": [
    {
     "data": {
      "text/plain": [
       "2010    1724\n",
       "2009    1724\n",
       "2001    1724\n",
       "2002    1724\n",
       "2003    1724\n",
       "2004    1724\n",
       "2005    1724\n",
       "2006    1724\n",
       "2007    1724\n",
       "2008    1724\n",
       "2000    1724\n",
       "2011    1724\n",
       "2014    1721\n",
       "2012    1721\n",
       "2015    1719\n",
       "2021    1718\n",
       "2016    1717\n",
       "2018    1717\n",
       "2017    1716\n",
       "2019    1715\n",
       "2020    1713\n",
       "2013    1711\n",
       "Name: year, dtype: int64"
      ]
     },
     "execution_count": 166,
     "metadata": {},
     "output_type": "execute_result"
    }
   ],
   "source": [
    "df_final_0.year.value_counts()"
   ]
  },
  {
   "cell_type": "code",
   "execution_count": 167,
   "metadata": {},
   "outputs": [
    {
     "data": {
      "text/plain": [
       "(37856, 19)"
      ]
     },
     "execution_count": 167,
     "metadata": {},
     "output_type": "execute_result"
    }
   ],
   "source": [
    "df_final_0.shape"
   ]
  },
  {
   "cell_type": "code",
   "execution_count": 168,
   "metadata": {},
   "outputs": [],
   "source": [
    "#df_2000 = df_final_0.loc[df_final_0['year'] == '2000']\n",
    "#df_2000 = df_2000.drop(columns='year')"
   ]
  },
  {
   "cell_type": "code",
   "execution_count": 169,
   "metadata": {},
   "outputs": [
    {
     "data": {
      "text/plain": [
       "Index(['95941', '92679', '90401', '92587', '93646', '94603', '93505', '92173',\n",
       "       '95663', '96064',\n",
       "       ...\n",
       "       '95677', '90249', '93906', '95684', '96092', '92007', '95385', '95391',\n",
       "       '91775', '93272'],\n",
       "      dtype='object', length=1724)"
      ]
     },
     "execution_count": 169,
     "metadata": {},
     "output_type": "execute_result"
    }
   ],
   "source": [
    "#df_2000.index"
   ]
  },
  {
   "cell_type": "code",
   "execution_count": 170,
   "metadata": {},
   "outputs": [
    {
     "data": {
      "text/plain": [
       "1724"
      ]
     },
     "execution_count": 170,
     "metadata": {},
     "output_type": "execute_result"
    }
   ],
   "source": [
    "# zip_code_set_2 = set(list(df_2000.index))\n",
    "# len(zip_code_set_2)"
   ]
  },
  {
   "cell_type": "code",
   "execution_count": 171,
   "metadata": {},
   "outputs": [],
   "source": [
    "# recalculate growth rate for 2000-2010\n",
    "# growth_rate_by_zip(df, cols_list, zip_code_list, start_year, end_year)\n",
    "#gr_dict_2000_2010 = growth_rate_by_zip(df_final_0, columns, zip_code_set_2, 2000, 2010)"
   ]
  },
  {
   "cell_type": "code",
   "execution_count": 172,
   "metadata": {},
   "outputs": [],
   "source": [
    "#df_final_1 = growth_rate_apply_by_zip(2000, 10, df_2000, df_final_0, gr_dict_2000_2010, zip_code_set_2)"
   ]
  },
  {
   "cell_type": "code",
   "execution_count": null,
   "metadata": {},
   "outputs": [],
   "source": []
  },
  {
   "cell_type": "code",
   "execution_count": 173,
   "metadata": {},
   "outputs": [
    {
     "data": {
      "text/plain": [
       "2005    1724\n",
       "2004    1724\n",
       "1990    1724\n",
       "1991    1724\n",
       "1992    1724\n",
       "1993    1724\n",
       "1994    1724\n",
       "1995    1724\n",
       "1996    1724\n",
       "1997    1724\n",
       "1998    1724\n",
       "1999    1724\n",
       "2000    1724\n",
       "2001    1724\n",
       "2002    1724\n",
       "2003    1724\n",
       "1989    1724\n",
       "2006    1724\n",
       "2007    1724\n",
       "2008    1724\n",
       "2009    1724\n",
       "2010    1724\n",
       "2011    1724\n",
       "2014    1721\n",
       "2012    1721\n",
       "2015    1719\n",
       "2021    1718\n",
       "2016    1717\n",
       "2018    1717\n",
       "2017    1716\n",
       "2019    1715\n",
       "2020    1713\n",
       "2013    1711\n",
       "Name: year, dtype: int64"
      ]
     },
     "execution_count": 173,
     "metadata": {},
     "output_type": "execute_result"
    }
   ],
   "source": [
    "#df_final_1.year.value_counts()"
   ]
  },
  {
   "cell_type": "code",
   "execution_count": 174,
   "metadata": {},
   "outputs": [
    {
     "data": {
      "text/plain": [
       "Index(['year', 'households_count', 'mean_income_per_household',\n",
       "       'median_income_per_household', 'percent_high_school_grad',\n",
       "       'percent_bach_deg_grad', 'total_population', 'percent_pop_age_under_5',\n",
       "       'percent_pop_age_5to9', 'percent_pop_age_10to14',\n",
       "       'percent_pop_age_15to19', 'percent_pop_male_age_under_5',\n",
       "       'percent_pop_male_age_5to9', 'percent_pop_male_age_10to14',\n",
       "       'percent_pop_male_age_15to19', 'percent_pop_female_age_under_5',\n",
       "       'percent_pop_female_age_5to9', 'percent_pop_female_age_10to14',\n",
       "       'percent_pop_female_age_15to19'],\n",
       "      dtype='object')"
      ]
     },
     "execution_count": 174,
     "metadata": {},
     "output_type": "execute_result"
    }
   ],
   "source": [
    "#df_final_1.columns"
   ]
  },
  {
   "cell_type": "code",
   "execution_count": 175,
   "metadata": {},
   "outputs": [],
   "source": [
    "# replace values for percent bach and percent high school over 100 with 100\n",
    "# df_final_1['percent_bach_deg_grad'] = np.where(df_final_1['percent_bach_deg_grad'] > 100, 100, df_final_1['percent_bach_deg_grad'])\n",
    "\n",
    "# df_final_1['percent_high_school_grad'] = np.where(df_final_1['percent_high_school_grad'] > 100, 100, df_final_1['percent_high_school_grad'])\n",
    "\n",
    "df_final_0['percent_bach_deg_grad'] = np.where(df_final_1['percent_bach_deg_grad'] > 100, 100, df_final_1['percent_bach_deg_grad'])\n",
    "\n",
    "df_final_0['percent_high_school_grad'] = np.where(df_final_1['percent_high_school_grad'] > 100, 100, df_final_1['percent_high_school_grad'])\n",
    "\n"
   ]
  },
  {
   "cell_type": "code",
   "execution_count": 178,
   "metadata": {},
   "outputs": [],
   "source": [
    "df_final_0.to_csv('1989-2021_demographics_v2.csv')\n",
    "#df_final_1.to_csv('1989-2021_demographics.csv')"
   ]
  },
  {
   "cell_type": "code",
   "execution_count": 179,
   "metadata": {},
   "outputs": [
    {
     "data": {
      "text/plain": [
       "2005    1724\n",
       "2004    1724\n",
       "1991    1724\n",
       "1992    1724\n",
       "1993    1724\n",
       "1994    1724\n",
       "1995    1724\n",
       "1996    1724\n",
       "1997    1724\n",
       "1998    1724\n",
       "1999    1724\n",
       "2000    1724\n",
       "2001    1724\n",
       "2002    1724\n",
       "2003    1724\n",
       "1990    1724\n",
       "2006    1724\n",
       "2007    1724\n",
       "2008    1724\n",
       "2009    1724\n",
       "2010    1724\n",
       "2011    1724\n",
       "2014    1721\n",
       "2012    1721\n",
       "2015    1719\n",
       "2021    1718\n",
       "2016    1717\n",
       "2018    1717\n",
       "2017    1716\n",
       "2019    1715\n",
       "2020    1713\n",
       "2013    1711\n",
       "Name: year, dtype: int64"
      ]
     },
     "execution_count": 179,
     "metadata": {},
     "output_type": "execute_result"
    }
   ],
   "source": [
    "df_final_0.year.value_counts()"
   ]
  },
  {
   "cell_type": "code",
   "execution_count": null,
   "metadata": {},
   "outputs": [],
   "source": []
  },
  {
   "cell_type": "code",
   "execution_count": null,
   "metadata": {},
   "outputs": [],
   "source": []
  },
  {
   "cell_type": "code",
   "execution_count": null,
   "metadata": {},
   "outputs": [],
   "source": []
  },
  {
   "cell_type": "code",
   "execution_count": null,
   "metadata": {},
   "outputs": [],
   "source": []
  },
  {
   "cell_type": "code",
   "execution_count": null,
   "metadata": {},
   "outputs": [],
   "source": []
  },
  {
   "cell_type": "code",
   "execution_count": null,
   "metadata": {},
   "outputs": [],
   "source": []
  },
  {
   "cell_type": "code",
   "execution_count": null,
   "metadata": {},
   "outputs": [],
   "source": []
  },
  {
   "cell_type": "code",
   "execution_count": null,
   "metadata": {},
   "outputs": [],
   "source": []
  },
  {
   "cell_type": "code",
   "execution_count": null,
   "metadata": {},
   "outputs": [],
   "source": []
  }
 ],
 "metadata": {
  "kernelspec": {
   "display_name": "Python 3 (ipykernel)",
   "language": "python",
   "name": "python3"
  },
  "language_info": {
   "codemirror_mode": {
    "name": "ipython",
    "version": 3
   },
   "file_extension": ".py",
   "mimetype": "text/x-python",
   "name": "python",
   "nbconvert_exporter": "python",
   "pygments_lexer": "ipython3",
   "version": "3.9.13"
  }
 },
 "nbformat": 4,
 "nbformat_minor": 4
}
